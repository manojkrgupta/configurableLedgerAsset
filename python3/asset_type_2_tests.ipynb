{
 "cells": [
  {
   "attachments": {},
   "cell_type": "markdown",
   "id": "0f70dbaf",
   "metadata": {},
   "source": [
    "# Asset Type 2\n",
    "\n",
    "## Examples, Samples, Use cases:\n",
    "\n",
    "* Unique artifacts on Ledger, e.g. art pieces\n",
    "* Fiat currency with unique number in digital form.\n",
    "* ...\n",
    "\n",
    "## Attributes:\n",
    "\n",
    "* Transferable ✅\n",
    "* Quantifiable ❌\n"
   ]
  },
  {
   "cell_type": "markdown",
   "id": "6ae840c8",
   "metadata": {},
   "source": [
    "## Tests:"
   ]
  },
  {
   "cell_type": "markdown",
   "id": "68f638d0",
   "metadata": {},
   "source": [
    "### Initialisation:\n",
    "\n",
    "The initialisation is for initialise the python scripts in the notebook get it connected to CorDapp. \\\n",
    "Expected to see a _base directory_ path."
   ]
  },
  {
   "cell_type": "code",
   "execution_count": 1,
   "id": "ac731f45",
   "metadata": {
    "scrolled": false
   },
   "outputs": [
    {
     "data": {
      "text/html": [
       "<style>.container { width:98% !important; }</style>"
      ],
      "text/plain": [
       "<IPython.core.display.HTML object>"
      ]
     },
     "metadata": {},
     "output_type": "display_data"
    },
    {
     "name": "stderr",
     "output_type": "stream",
     "text": [
      " 19-05 10:02:20 | \u001b[32mI\u001b[0m | \u001b[32mBase directory /Users/Weicong.Su/Downloads/0519/configurableLedgerAsset/python3\u001b[0m\n"
     ]
    }
   ],
   "source": [
    "import os\n",
    "import sys\n",
    "import math\n",
    "import time\n",
    "import IPython\n",
    "import logging\n",
    "import warnings\n",
    "import datetime\n",
    "import pandas as pd\n",
    "import numpy  as np\n",
    "import webbrowser\n",
    "import pprint as pp\n",
    "from random   import randrange\n",
    "from notebook import notebookapp\n",
    "from IPython.display import display\n",
    "from IPython.core.display import HTML\n",
    "\n",
    "# Initialise the notebook settings\n",
    "def init_notebook():\n",
    "    sys.path.insert(1, os.path.join(sys.path[0], '{}/lib/'.format(os.environ['BaseDir'])))\n",
    "    display(HTML(\"<style>.container { width:98% !important; }</style>\"))\n",
    "    %matplotlib inline\n",
    "    \n",
    "    pd.set_option('display.max_rows', None)\n",
    "    pd.set_option('display.max_columns', None)\n",
    "    pd.set_option('display.max_colwidth', None)\n",
    "\n",
    "# Initialise the Corda nodes\n",
    "def init_cordaNodes():\n",
    "    from corda5Interface import Corda5\n",
    "    apiServer='https://localhost:8888/api/v1/flow'\n",
    "    apiServerAuth=('admin', 'admin')\n",
    "    package = 'com.r3.developers.configurableInstrument'\n",
    "    replace_maters_list = { 'API_SERVER': apiServer, 'PACKAGE': package}\n",
    "\n",
    "    nodes = {\n",
    "            'Authority' : {'x500': 'CN=Authority, OU=Test Dept, O=R3, L=London, C=GB' ,'hash': 'F93770F20D7A' },\n",
    "            'Bob'       : {'x500': 'CN=Bob, OU=Test Dept, O=R3, L=London, C=GB'       ,'hash': '53B3F5FCD707' },\n",
    "            'Charlie'   : {'x500': 'CN=Charlie, OU=Test Dept, O=R3, L=London, C=GB'   ,'hash': '597B2CEE8DB5' },\n",
    "            'Alice'     : {'x500': 'CN=Alice, OU=Test Dept, O=R3, L=London, C=GB'     ,'hash': '49717D1246AF' },\n",
    "            }\n",
    "\n",
    "    h = Corda5(level=logging.INFO, nodes=nodes, apiServer=apiServer, apiServerAuth=apiServerAuth, version=2)\n",
    "\n",
    "    log = h.log\n",
    "    log.info(\"Base directory {}\".format(os.environ['BaseDir']))\n",
    "    \n",
    "    return h\n",
    "\n",
    "init_notebook()\n",
    "h = init_cordaNodes()"
   ]
  },
  {
   "cell_type": "markdown",
   "id": "095c7098",
   "metadata": {},
   "source": [
    "### Issue:\n",
    "\n",
    "* Issuer gets to decide the name, transferable or not, expiry or not, redeemable or not, and can add multiple/additional attributes (HashMap) on the same State/Asset.\n",
    "* Applications like art pieces and Fiat currency with unique number, will be transferable, and redeemable (cash the principal on maturity) but not quantifiable\n",
    "\n",
    "In Asset type 2, all the issuing should be succeed, with **Transferable** and **Non-Quantifiable** assets."
   ]
  },
  {
   "cell_type": "code",
   "execution_count": 2,
   "id": "61aee1f1",
   "metadata": {
    "scrolled": false
   },
   "outputs": [
    {
     "name": "stderr",
     "output_type": "stream",
     "text": [
      " 19-05 10:06:09 | \u001b[32mI\u001b[0m | \u001b[32mIssuing instrument='Unique artifact. The Mona Lisa' to 'Alice'\u001b[0m\n",
      " 19-05 10:06:09 | \u001b[32mI\u001b[0m | \u001b[32mRunning action 'Issue' on 'Authority/F93770F20D7A/CN=Authority, OU=Test Dept, O=R3, L=London, C=GB'\u001b[0m\n",
      " 19-05 10:06:58 | \u001b[32mI\u001b[0m | \u001b[32mad3ebdb1-60a5-4d5c-956f-63cb5473ad47\u001b[0m\n",
      " 19-05 10:06:58 | \u001b[32mI\u001b[0m | \u001b[32mTime taken = 0:00:48.494439\u001b[0m\n"
     ]
    },
    {
     "name": "stdout",
     "output_type": "stream",
     "text": [
      "7221.1684461969.663759<Response [200]>ad3ebdb1-60a5-4d5c-956f-63cb5473ad47"
     ]
    }
   ],
   "source": [
    "# Issue Example 1 -- Unique artifacts on Ledger -- Transferable, Non-Quantifiable Instrument\n",
    "# Expected -- succeed\n",
    "\n",
    "(req_id, response, return_val_uuid) = h.issue('Authority', 'Alice', 'Unique artifact. The Mona Lisa', \n",
    "                                              quantity=None, transferable=True, expiry=None, verifiable=True, \n",
    "                                              attributes={'holding authority': 'The Louvre Museum, Paris'})\n",
    "\n",
    "h.message([req_id, response, return_val_uuid])"
   ]
  },
  {
   "cell_type": "code",
   "execution_count": 4,
   "id": "7ecb0080",
   "metadata": {
    "scrolled": true
   },
   "outputs": [
    {
     "name": "stderr",
     "output_type": "stream",
     "text": [
      " 19-05 10:07:26 | \u001b[32mI\u001b[0m | \u001b[32mIssuing instrument='Digital Currency INR 500 Note' to 'Alice'\u001b[0m\n",
      " 19-05 10:07:26 | \u001b[32mI\u001b[0m | \u001b[32mRunning action 'Issue' on 'Authority/F93770F20D7A/CN=Authority, OU=Test Dept, O=R3, L=London, C=GB'\u001b[0m\n",
      " 19-05 10:08:10 | \u001b[32mI\u001b[0m | \u001b[32mb367c236-10cb-4f76-836a-74e997c48971\u001b[0m\n",
      " 19-05 10:08:10 | \u001b[32mI\u001b[0m | \u001b[32mTime taken = 0:00:44.275260\u001b[0m\n"
     ]
    },
    {
     "name": "stdout",
     "output_type": "stream",
     "text": [
      "7221.1684462046.497303<Response [200]>b367c236-10cb-4f76-836a-74e997c48971"
     ]
    }
   ],
   "source": [
    "# Issue Example 2 -- Fiat currency with unique number in digital form. -- Transferable, Non-Quantifiable Instrument\n",
    "# Expected -- succeed\n",
    "\n",
    "(req_id, response, return_val_uuid) = h.issue('Authority', 'Alice', 'Digital Currency INR 500 Note',\n",
    "                                              quantity=None, transferable=True, expiry=None, verifiable=True, \n",
    "                                              attributes={'number': 'OMV 336048', 'year': '1981'})\n",
    "\n",
    "h.message([req_id, response, return_val_uuid])"
   ]
  },
  {
   "cell_type": "markdown",
   "id": "73160573",
   "metadata": {},
   "source": [
    "### Query:\n",
    "\n",
    "Query is used for query the instruments that one/all held."
   ]
  },
  {
   "cell_type": "code",
   "execution_count": 5,
   "id": "30c45050",
   "metadata": {
    "scrolled": true
   },
   "outputs": [
    {
     "name": "stderr",
     "output_type": "stream",
     "text": [
      " 19-05 10:08:17 | \u001b[32mI\u001b[0m | \u001b[32mResult for query=ListInstrument from 'Authority/F93770F20D7A/CN=Authority, OU=Test Dept, O=R3, L=London, C=GB'. (Time taken=0:00:04.072169)\u001b[0m\n"
     ]
    },
    {
     "data": {
      "text/html": [
       "<div>\n",
       "<style scoped>\n",
       "    .dataframe tbody tr th:only-of-type {\n",
       "        vertical-align: middle;\n",
       "    }\n",
       "\n",
       "    .dataframe tbody tr th {\n",
       "        vertical-align: top;\n",
       "    }\n",
       "\n",
       "    .dataframe thead th {\n",
       "        text-align: right;\n",
       "    }\n",
       "</style>\n",
       "<table border=\"1\" class=\"dataframe\">\n",
       "  <thead>\n",
       "    <tr style=\"text-align: right;\">\n",
       "      <th></th>\n",
       "      <th>id</th>\n",
       "      <th>name</th>\n",
       "      <th>owner</th>\n",
       "      <th>issuer</th>\n",
       "      <th>quantity</th>\n",
       "      <th>transferable</th>\n",
       "      <th>expiry</th>\n",
       "      <th>verifiable</th>\n",
       "      <th>attributes</th>\n",
       "    </tr>\n",
       "  </thead>\n",
       "  <tbody>\n",
       "    <tr>\n",
       "      <th>0</th>\n",
       "      <td>ad3ebdb1-60a5-4d5c-956f-63cb5473ad47</td>\n",
       "      <td>Unique artifact. The Mona Lisa</td>\n",
       "      <td>CN=Alice, OU=Test Dept, O=R3, L=London, C=GB</td>\n",
       "      <td>CN=Authority, OU=Test Dept, O=R3, L=London, C=GB</td>\n",
       "      <td>None</td>\n",
       "      <td>True</td>\n",
       "      <td>None</td>\n",
       "      <td>True</td>\n",
       "      <td>{'holding authority': 'The Louvre Museum, Paris'}</td>\n",
       "    </tr>\n",
       "    <tr>\n",
       "      <th>1</th>\n",
       "      <td>b367c236-10cb-4f76-836a-74e997c48971</td>\n",
       "      <td>Digital Currency INR 500 Note</td>\n",
       "      <td>CN=Alice, OU=Test Dept, O=R3, L=London, C=GB</td>\n",
       "      <td>CN=Authority, OU=Test Dept, O=R3, L=London, C=GB</td>\n",
       "      <td>None</td>\n",
       "      <td>True</td>\n",
       "      <td>None</td>\n",
       "      <td>True</td>\n",
       "      <td>{'number': 'OMV 336048', 'year': '1981'}</td>\n",
       "    </tr>\n",
       "  </tbody>\n",
       "</table>\n",
       "</div>"
      ],
      "text/plain": [
       "                                     id                            name  \\\n",
       "0  ad3ebdb1-60a5-4d5c-956f-63cb5473ad47  Unique artifact. The Mona Lisa   \n",
       "1  b367c236-10cb-4f76-836a-74e997c48971   Digital Currency INR 500 Note   \n",
       "\n",
       "                                          owner  \\\n",
       "0  CN=Alice, OU=Test Dept, O=R3, L=London, C=GB   \n",
       "1  CN=Alice, OU=Test Dept, O=R3, L=London, C=GB   \n",
       "\n",
       "                                             issuer quantity  transferable  \\\n",
       "0  CN=Authority, OU=Test Dept, O=R3, L=London, C=GB     None          True   \n",
       "1  CN=Authority, OU=Test Dept, O=R3, L=London, C=GB     None          True   \n",
       "\n",
       "  expiry  verifiable                                         attributes  \n",
       "0   None        True  {'holding authority': 'The Louvre Museum, Paris'}  \n",
       "1   None        True           {'number': 'OMV 336048', 'year': '1981'}  "
      ]
     },
     "metadata": {},
     "output_type": "display_data"
    },
    {
     "name": "stderr",
     "output_type": "stream",
     "text": [
      " 19-05 10:08:22 | \u001b[32mI\u001b[0m | \u001b[32mResult for query=ListInstrument from 'Bob/53B3F5FCD707/CN=Bob, OU=Test Dept, O=R3, L=London, C=GB'. (Time taken=0:00:04.069403)\u001b[0m\n"
     ]
    },
    {
     "data": {
      "text/html": [
       "<div>\n",
       "<style scoped>\n",
       "    .dataframe tbody tr th:only-of-type {\n",
       "        vertical-align: middle;\n",
       "    }\n",
       "\n",
       "    .dataframe tbody tr th {\n",
       "        vertical-align: top;\n",
       "    }\n",
       "\n",
       "    .dataframe thead th {\n",
       "        text-align: right;\n",
       "    }\n",
       "</style>\n",
       "<table border=\"1\" class=\"dataframe\">\n",
       "  <thead>\n",
       "    <tr style=\"text-align: right;\">\n",
       "      <th></th>\n",
       "    </tr>\n",
       "  </thead>\n",
       "  <tbody>\n",
       "  </tbody>\n",
       "</table>\n",
       "</div>"
      ],
      "text/plain": [
       "Empty DataFrame\n",
       "Columns: []\n",
       "Index: []"
      ]
     },
     "metadata": {},
     "output_type": "display_data"
    },
    {
     "name": "stderr",
     "output_type": "stream",
     "text": [
      " 19-05 10:08:26 | \u001b[32mI\u001b[0m | \u001b[32mResult for query=ListInstrument from 'Charlie/597B2CEE8DB5/CN=Charlie, OU=Test Dept, O=R3, L=London, C=GB'. (Time taken=0:00:04.068104)\u001b[0m\n"
     ]
    },
    {
     "data": {
      "text/html": [
       "<div>\n",
       "<style scoped>\n",
       "    .dataframe tbody tr th:only-of-type {\n",
       "        vertical-align: middle;\n",
       "    }\n",
       "\n",
       "    .dataframe tbody tr th {\n",
       "        vertical-align: top;\n",
       "    }\n",
       "\n",
       "    .dataframe thead th {\n",
       "        text-align: right;\n",
       "    }\n",
       "</style>\n",
       "<table border=\"1\" class=\"dataframe\">\n",
       "  <thead>\n",
       "    <tr style=\"text-align: right;\">\n",
       "      <th></th>\n",
       "    </tr>\n",
       "  </thead>\n",
       "  <tbody>\n",
       "  </tbody>\n",
       "</table>\n",
       "</div>"
      ],
      "text/plain": [
       "Empty DataFrame\n",
       "Columns: []\n",
       "Index: []"
      ]
     },
     "metadata": {},
     "output_type": "display_data"
    },
    {
     "name": "stderr",
     "output_type": "stream",
     "text": [
      " 19-05 10:08:30 | \u001b[32mI\u001b[0m | \u001b[32mResult for query=ListInstrument from 'Alice/49717D1246AF/CN=Alice, OU=Test Dept, O=R3, L=London, C=GB'. (Time taken=0:00:04.070433)\u001b[0m\n"
     ]
    },
    {
     "data": {
      "text/html": [
       "<div>\n",
       "<style scoped>\n",
       "    .dataframe tbody tr th:only-of-type {\n",
       "        vertical-align: middle;\n",
       "    }\n",
       "\n",
       "    .dataframe tbody tr th {\n",
       "        vertical-align: top;\n",
       "    }\n",
       "\n",
       "    .dataframe thead th {\n",
       "        text-align: right;\n",
       "    }\n",
       "</style>\n",
       "<table border=\"1\" class=\"dataframe\">\n",
       "  <thead>\n",
       "    <tr style=\"text-align: right;\">\n",
       "      <th></th>\n",
       "      <th>id</th>\n",
       "      <th>name</th>\n",
       "      <th>owner</th>\n",
       "      <th>issuer</th>\n",
       "      <th>quantity</th>\n",
       "      <th>transferable</th>\n",
       "      <th>expiry</th>\n",
       "      <th>verifiable</th>\n",
       "      <th>attributes</th>\n",
       "    </tr>\n",
       "  </thead>\n",
       "  <tbody>\n",
       "    <tr>\n",
       "      <th>0</th>\n",
       "      <td>ad3ebdb1-60a5-4d5c-956f-63cb5473ad47</td>\n",
       "      <td>Unique artifact. The Mona Lisa</td>\n",
       "      <td>CN=Alice, OU=Test Dept, O=R3, L=London, C=GB</td>\n",
       "      <td>CN=Authority, OU=Test Dept, O=R3, L=London, C=GB</td>\n",
       "      <td>None</td>\n",
       "      <td>True</td>\n",
       "      <td>None</td>\n",
       "      <td>True</td>\n",
       "      <td>{'holding authority': 'The Louvre Museum, Paris'}</td>\n",
       "    </tr>\n",
       "    <tr>\n",
       "      <th>1</th>\n",
       "      <td>b367c236-10cb-4f76-836a-74e997c48971</td>\n",
       "      <td>Digital Currency INR 500 Note</td>\n",
       "      <td>CN=Alice, OU=Test Dept, O=R3, L=London, C=GB</td>\n",
       "      <td>CN=Authority, OU=Test Dept, O=R3, L=London, C=GB</td>\n",
       "      <td>None</td>\n",
       "      <td>True</td>\n",
       "      <td>None</td>\n",
       "      <td>True</td>\n",
       "      <td>{'number': 'OMV 336048', 'year': '1981'}</td>\n",
       "    </tr>\n",
       "  </tbody>\n",
       "</table>\n",
       "</div>"
      ],
      "text/plain": [
       "                                     id                            name  \\\n",
       "0  ad3ebdb1-60a5-4d5c-956f-63cb5473ad47  Unique artifact. The Mona Lisa   \n",
       "1  b367c236-10cb-4f76-836a-74e997c48971   Digital Currency INR 500 Note   \n",
       "\n",
       "                                          owner  \\\n",
       "0  CN=Alice, OU=Test Dept, O=R3, L=London, C=GB   \n",
       "1  CN=Alice, OU=Test Dept, O=R3, L=London, C=GB   \n",
       "\n",
       "                                             issuer quantity  transferable  \\\n",
       "0  CN=Authority, OU=Test Dept, O=R3, L=London, C=GB     None          True   \n",
       "1  CN=Authority, OU=Test Dept, O=R3, L=London, C=GB     None          True   \n",
       "\n",
       "  expiry  verifiable                                         attributes  \n",
       "0   None        True  {'holding authority': 'The Louvre Museum, Paris'}  \n",
       "1   None        True           {'number': 'OMV 336048', 'year': '1981'}  "
      ]
     },
     "metadata": {},
     "output_type": "display_data"
    }
   ],
   "source": [
    "# Query Exmaple 1 -- Query all the instruments\n",
    "\n",
    "h.query_all_nodes()"
   ]
  },
  {
   "cell_type": "code",
   "execution_count": 6,
   "id": "209a2004",
   "metadata": {
    "scrolled": false
   },
   "outputs": [
    {
     "data": {
      "text/html": [
       "<div>\n",
       "<style scoped>\n",
       "    .dataframe tbody tr th:only-of-type {\n",
       "        vertical-align: middle;\n",
       "    }\n",
       "\n",
       "    .dataframe tbody tr th {\n",
       "        vertical-align: top;\n",
       "    }\n",
       "\n",
       "    .dataframe thead th {\n",
       "        text-align: right;\n",
       "    }\n",
       "</style>\n",
       "<table border=\"1\" class=\"dataframe\">\n",
       "  <thead>\n",
       "    <tr style=\"text-align: right;\">\n",
       "      <th></th>\n",
       "      <th>id</th>\n",
       "      <th>name</th>\n",
       "      <th>owner</th>\n",
       "      <th>issuer</th>\n",
       "      <th>quantity</th>\n",
       "      <th>transferable</th>\n",
       "      <th>expiry</th>\n",
       "      <th>verifiable</th>\n",
       "      <th>attributes</th>\n",
       "    </tr>\n",
       "  </thead>\n",
       "  <tbody>\n",
       "    <tr>\n",
       "      <th>0</th>\n",
       "      <td>ad3ebdb1-60a5-4d5c-956f-63cb5473ad47</td>\n",
       "      <td>Unique artifact. The Mona Lisa</td>\n",
       "      <td>CN=Alice, OU=Test Dept, O=R3, L=London, C=GB</td>\n",
       "      <td>CN=Authority, OU=Test Dept, O=R3, L=London, C=GB</td>\n",
       "      <td>None</td>\n",
       "      <td>True</td>\n",
       "      <td>None</td>\n",
       "      <td>True</td>\n",
       "      <td>{'holding authority': 'The Louvre Museum, Paris'}</td>\n",
       "    </tr>\n",
       "    <tr>\n",
       "      <th>1</th>\n",
       "      <td>b367c236-10cb-4f76-836a-74e997c48971</td>\n",
       "      <td>Digital Currency INR 500 Note</td>\n",
       "      <td>CN=Alice, OU=Test Dept, O=R3, L=London, C=GB</td>\n",
       "      <td>CN=Authority, OU=Test Dept, O=R3, L=London, C=GB</td>\n",
       "      <td>None</td>\n",
       "      <td>True</td>\n",
       "      <td>None</td>\n",
       "      <td>True</td>\n",
       "      <td>{'number': 'OMV 336048', 'year': '1981'}</td>\n",
       "    </tr>\n",
       "  </tbody>\n",
       "</table>\n",
       "</div>"
      ],
      "text/plain": [
       "                                     id                            name  \\\n",
       "0  ad3ebdb1-60a5-4d5c-956f-63cb5473ad47  Unique artifact. The Mona Lisa   \n",
       "1  b367c236-10cb-4f76-836a-74e997c48971   Digital Currency INR 500 Note   \n",
       "\n",
       "                                          owner  \\\n",
       "0  CN=Alice, OU=Test Dept, O=R3, L=London, C=GB   \n",
       "1  CN=Alice, OU=Test Dept, O=R3, L=London, C=GB   \n",
       "\n",
       "                                             issuer quantity  transferable  \\\n",
       "0  CN=Authority, OU=Test Dept, O=R3, L=London, C=GB     None          True   \n",
       "1  CN=Authority, OU=Test Dept, O=R3, L=London, C=GB     None          True   \n",
       "\n",
       "  expiry  verifiable                                         attributes  \n",
       "0   None        True  {'holding authority': 'The Louvre Museum, Paris'}  \n",
       "1   None        True           {'number': 'OMV 336048', 'year': '1981'}  "
      ]
     },
     "execution_count": 6,
     "metadata": {},
     "output_type": "execute_result"
    }
   ],
   "source": [
    "# Query Exmaple 2 -- Query Alice's instruments\n",
    "\n",
    "h.query('Alice')"
   ]
  },
  {
   "cell_type": "markdown",
   "id": "e924b11b",
   "metadata": {},
   "source": [
    "### Transfer:\n",
    "\n",
    "* Not all instruments are transferable.\n",
    "* If transferable -- will work on the basic nature of the instrument decided right from the issue point(by the issuer).\n",
    "* Check = not expired apart from being owned. \n",
    "\n",
    "In Asset type 2 (Transferable, Non-Quantifiable Instrument):\n",
    "* **Full** transfer from a **holder** to a holder should be **succeed**.\n",
    "* **Partial** transfer from a **holder** to a holder should be **failed**.\n",
    "* Any transfer from a **issuer** to a holder should be **failed**.\n",
    "* Any transfer from a **non holder** to a holder should be **failed**."
   ]
  },
  {
   "cell_type": "code",
   "execution_count": 7,
   "id": "d7cf4753",
   "metadata": {
    "scrolled": true
   },
   "outputs": [
    {
     "name": "stderr",
     "output_type": "stream",
     "text": [
      " 19-05 10:10:15 | \u001b[32mI\u001b[0m | \u001b[32mTranfering instrument id 'b367c236-10cb-4f76-836a-74e997c48971' to 'Bob'\u001b[0m\n",
      " 19-05 10:10:15 | \u001b[32mI\u001b[0m | \u001b[32mRunning action 'Transfer' on 'Alice/49717D1246AF/CN=Alice, OU=Test Dept, O=R3, L=London, C=GB'\u001b[0m\n",
      " 19-05 10:11:11 | \u001b[32mI\u001b[0m | \u001b[32mnet.corda.ledger.utxo.flow.impl.FinalizationResultImpl@233cf089\u001b[0m\n",
      " 19-05 10:11:11 | \u001b[32mI\u001b[0m | \u001b[32mTime taken = 0:00:56.324007\u001b[0m\n"
     ]
    },
    {
     "name": "stdout",
     "output_type": "stream",
     "text": [
      "7221.1684462215.640028<Response [200]>net.corda.ledger.utxo.flow.impl.FinalizationResultImpl@233cf089"
     ]
    }
   ],
   "source": [
    "# Transfer Example 1 -- Partial transfer from Alice to Bob\n",
    "# Expected -- succeed\n",
    "\n",
    "(req_id, response, return_val) = h.transfer(return_val_uuid, 'Alice', 'Bob')\n",
    "\n",
    "h.message([req_id, response, return_val])"
   ]
  },
  {
   "cell_type": "code",
   "execution_count": 8,
   "id": "614f8607",
   "metadata": {
    "scrolled": true
   },
   "outputs": [
    {
     "name": "stderr",
     "output_type": "stream",
     "text": [
      " 19-05 10:11:21 | \u001b[32mI\u001b[0m | \u001b[32mTranfering instrument id 'ad3ebdb1-60a5-4d5c-956f-63cb5473ad47' to 'Charlie'\u001b[0m\n",
      " 19-05 10:11:21 | \u001b[32mI\u001b[0m | \u001b[32mRunning action 'Transfer' on 'Alice/49717D1246AF/CN=Alice, OU=Test Dept, O=R3, L=London, C=GB'\u001b[0m\n",
      " 19-05 10:12:21 | \u001b[32mI\u001b[0m | \u001b[32mnet.corda.ledger.utxo.flow.impl.FinalizationResultImpl@b1ef49d\u001b[0m\n",
      " 19-05 10:12:21 | \u001b[32mI\u001b[0m | \u001b[32mTime taken = 0:01:00.355565\u001b[0m\n"
     ]
    },
    {
     "name": "stdout",
     "output_type": "stream",
     "text": [
      "7221.1684462281.114143<Response [200]>net.corda.ledger.utxo.flow.impl.FinalizationResultImpl@b1ef49d"
     ]
    }
   ],
   "source": [
    "# Transfer Example 2 -- Full transfer from Alice to Charlie\n",
    "# Expected -- succeed\n",
    "\n",
    "(req_id, response, return_val) = h.transfer('ad3ebdb1-60a5-4d5c-956f-63cb5473ad47', 'Alice', 'Charlie')\n",
    "\n",
    "h.message([req_id, response, return_val])"
   ]
  },
  {
   "cell_type": "code",
   "execution_count": 9,
   "id": "761c0f04",
   "metadata": {
    "scrolled": true
   },
   "outputs": [
    {
     "name": "stderr",
     "output_type": "stream",
     "text": [
      " 19-05 10:13:20 | \u001b[32mI\u001b[0m | \u001b[32mResult for query=ListInstrument from 'Authority/F93770F20D7A/CN=Authority, OU=Test Dept, O=R3, L=London, C=GB'. (Time taken=0:00:04.066062)\u001b[0m\n"
     ]
    },
    {
     "data": {
      "text/html": [
       "<div>\n",
       "<style scoped>\n",
       "    .dataframe tbody tr th:only-of-type {\n",
       "        vertical-align: middle;\n",
       "    }\n",
       "\n",
       "    .dataframe tbody tr th {\n",
       "        vertical-align: top;\n",
       "    }\n",
       "\n",
       "    .dataframe thead th {\n",
       "        text-align: right;\n",
       "    }\n",
       "</style>\n",
       "<table border=\"1\" class=\"dataframe\">\n",
       "  <thead>\n",
       "    <tr style=\"text-align: right;\">\n",
       "      <th></th>\n",
       "      <th>id</th>\n",
       "      <th>name</th>\n",
       "      <th>owner</th>\n",
       "      <th>issuer</th>\n",
       "      <th>quantity</th>\n",
       "      <th>transferable</th>\n",
       "      <th>expiry</th>\n",
       "      <th>verifiable</th>\n",
       "      <th>attributes</th>\n",
       "    </tr>\n",
       "  </thead>\n",
       "  <tbody>\n",
       "    <tr>\n",
       "      <th>0</th>\n",
       "      <td>b367c236-10cb-4f76-836a-74e997c48971</td>\n",
       "      <td>Digital Currency INR 500 Note</td>\n",
       "      <td>CN=Bob, OU=Test Dept, O=R3, L=London, C=GB</td>\n",
       "      <td>CN=Authority, OU=Test Dept, O=R3, L=London, C=GB</td>\n",
       "      <td>None</td>\n",
       "      <td>True</td>\n",
       "      <td>None</td>\n",
       "      <td>True</td>\n",
       "      <td>{'number': 'OMV 336048', 'year': '1981'}</td>\n",
       "    </tr>\n",
       "    <tr>\n",
       "      <th>1</th>\n",
       "      <td>ad3ebdb1-60a5-4d5c-956f-63cb5473ad47</td>\n",
       "      <td>Unique artifact. The Mona Lisa</td>\n",
       "      <td>CN=Charlie, OU=Test Dept, O=R3, L=London, C=GB</td>\n",
       "      <td>CN=Authority, OU=Test Dept, O=R3, L=London, C=GB</td>\n",
       "      <td>None</td>\n",
       "      <td>True</td>\n",
       "      <td>None</td>\n",
       "      <td>True</td>\n",
       "      <td>{'holding authority': 'The Louvre Museum, Paris'}</td>\n",
       "    </tr>\n",
       "  </tbody>\n",
       "</table>\n",
       "</div>"
      ],
      "text/plain": [
       "                                     id                            name  \\\n",
       "0  b367c236-10cb-4f76-836a-74e997c48971   Digital Currency INR 500 Note   \n",
       "1  ad3ebdb1-60a5-4d5c-956f-63cb5473ad47  Unique artifact. The Mona Lisa   \n",
       "\n",
       "                                            owner  \\\n",
       "0      CN=Bob, OU=Test Dept, O=R3, L=London, C=GB   \n",
       "1  CN=Charlie, OU=Test Dept, O=R3, L=London, C=GB   \n",
       "\n",
       "                                             issuer quantity  transferable  \\\n",
       "0  CN=Authority, OU=Test Dept, O=R3, L=London, C=GB     None          True   \n",
       "1  CN=Authority, OU=Test Dept, O=R3, L=London, C=GB     None          True   \n",
       "\n",
       "  expiry  verifiable                                         attributes  \n",
       "0   None        True           {'number': 'OMV 336048', 'year': '1981'}  \n",
       "1   None        True  {'holding authority': 'The Louvre Museum, Paris'}  "
      ]
     },
     "metadata": {},
     "output_type": "display_data"
    },
    {
     "name": "stderr",
     "output_type": "stream",
     "text": [
      " 19-05 10:13:24 | \u001b[32mI\u001b[0m | \u001b[32mResult for query=ListInstrument from 'Bob/53B3F5FCD707/CN=Bob, OU=Test Dept, O=R3, L=London, C=GB'. (Time taken=0:00:04.072423)\u001b[0m\n"
     ]
    },
    {
     "data": {
      "text/html": [
       "<div>\n",
       "<style scoped>\n",
       "    .dataframe tbody tr th:only-of-type {\n",
       "        vertical-align: middle;\n",
       "    }\n",
       "\n",
       "    .dataframe tbody tr th {\n",
       "        vertical-align: top;\n",
       "    }\n",
       "\n",
       "    .dataframe thead th {\n",
       "        text-align: right;\n",
       "    }\n",
       "</style>\n",
       "<table border=\"1\" class=\"dataframe\">\n",
       "  <thead>\n",
       "    <tr style=\"text-align: right;\">\n",
       "      <th></th>\n",
       "      <th>id</th>\n",
       "      <th>name</th>\n",
       "      <th>owner</th>\n",
       "      <th>issuer</th>\n",
       "      <th>quantity</th>\n",
       "      <th>transferable</th>\n",
       "      <th>expiry</th>\n",
       "      <th>verifiable</th>\n",
       "      <th>attributes</th>\n",
       "    </tr>\n",
       "  </thead>\n",
       "  <tbody>\n",
       "    <tr>\n",
       "      <th>0</th>\n",
       "      <td>b367c236-10cb-4f76-836a-74e997c48971</td>\n",
       "      <td>Digital Currency INR 500 Note</td>\n",
       "      <td>CN=Bob, OU=Test Dept, O=R3, L=London, C=GB</td>\n",
       "      <td>CN=Authority, OU=Test Dept, O=R3, L=London, C=GB</td>\n",
       "      <td>None</td>\n",
       "      <td>True</td>\n",
       "      <td>None</td>\n",
       "      <td>True</td>\n",
       "      <td>{'number': 'OMV 336048', 'year': '1981'}</td>\n",
       "    </tr>\n",
       "  </tbody>\n",
       "</table>\n",
       "</div>"
      ],
      "text/plain": [
       "                                     id                           name  \\\n",
       "0  b367c236-10cb-4f76-836a-74e997c48971  Digital Currency INR 500 Note   \n",
       "\n",
       "                                        owner  \\\n",
       "0  CN=Bob, OU=Test Dept, O=R3, L=London, C=GB   \n",
       "\n",
       "                                             issuer quantity  transferable  \\\n",
       "0  CN=Authority, OU=Test Dept, O=R3, L=London, C=GB     None          True   \n",
       "\n",
       "  expiry  verifiable                                attributes  \n",
       "0   None        True  {'number': 'OMV 336048', 'year': '1981'}  "
      ]
     },
     "metadata": {},
     "output_type": "display_data"
    },
    {
     "name": "stderr",
     "output_type": "stream",
     "text": [
      " 19-05 10:13:28 | \u001b[32mI\u001b[0m | \u001b[32mResult for query=ListInstrument from 'Charlie/597B2CEE8DB5/CN=Charlie, OU=Test Dept, O=R3, L=London, C=GB'. (Time taken=0:00:04.068591)\u001b[0m\n"
     ]
    },
    {
     "data": {
      "text/html": [
       "<div>\n",
       "<style scoped>\n",
       "    .dataframe tbody tr th:only-of-type {\n",
       "        vertical-align: middle;\n",
       "    }\n",
       "\n",
       "    .dataframe tbody tr th {\n",
       "        vertical-align: top;\n",
       "    }\n",
       "\n",
       "    .dataframe thead th {\n",
       "        text-align: right;\n",
       "    }\n",
       "</style>\n",
       "<table border=\"1\" class=\"dataframe\">\n",
       "  <thead>\n",
       "    <tr style=\"text-align: right;\">\n",
       "      <th></th>\n",
       "      <th>id</th>\n",
       "      <th>name</th>\n",
       "      <th>owner</th>\n",
       "      <th>issuer</th>\n",
       "      <th>quantity</th>\n",
       "      <th>transferable</th>\n",
       "      <th>expiry</th>\n",
       "      <th>verifiable</th>\n",
       "      <th>attributes</th>\n",
       "    </tr>\n",
       "  </thead>\n",
       "  <tbody>\n",
       "    <tr>\n",
       "      <th>0</th>\n",
       "      <td>ad3ebdb1-60a5-4d5c-956f-63cb5473ad47</td>\n",
       "      <td>Unique artifact. The Mona Lisa</td>\n",
       "      <td>CN=Charlie, OU=Test Dept, O=R3, L=London, C=GB</td>\n",
       "      <td>CN=Authority, OU=Test Dept, O=R3, L=London, C=GB</td>\n",
       "      <td>None</td>\n",
       "      <td>True</td>\n",
       "      <td>None</td>\n",
       "      <td>True</td>\n",
       "      <td>{'holding authority': 'The Louvre Museum, Paris'}</td>\n",
       "    </tr>\n",
       "  </tbody>\n",
       "</table>\n",
       "</div>"
      ],
      "text/plain": [
       "                                     id                            name  \\\n",
       "0  ad3ebdb1-60a5-4d5c-956f-63cb5473ad47  Unique artifact. The Mona Lisa   \n",
       "\n",
       "                                            owner  \\\n",
       "0  CN=Charlie, OU=Test Dept, O=R3, L=London, C=GB   \n",
       "\n",
       "                                             issuer quantity  transferable  \\\n",
       "0  CN=Authority, OU=Test Dept, O=R3, L=London, C=GB     None          True   \n",
       "\n",
       "  expiry  verifiable                                         attributes  \n",
       "0   None        True  {'holding authority': 'The Louvre Museum, Paris'}  "
      ]
     },
     "metadata": {},
     "output_type": "display_data"
    },
    {
     "name": "stderr",
     "output_type": "stream",
     "text": [
      " 19-05 10:13:33 | \u001b[32mI\u001b[0m | \u001b[32mResult for query=ListInstrument from 'Alice/49717D1246AF/CN=Alice, OU=Test Dept, O=R3, L=London, C=GB'. (Time taken=0:00:04.073264)\u001b[0m\n"
     ]
    },
    {
     "data": {
      "text/html": [
       "<div>\n",
       "<style scoped>\n",
       "    .dataframe tbody tr th:only-of-type {\n",
       "        vertical-align: middle;\n",
       "    }\n",
       "\n",
       "    .dataframe tbody tr th {\n",
       "        vertical-align: top;\n",
       "    }\n",
       "\n",
       "    .dataframe thead th {\n",
       "        text-align: right;\n",
       "    }\n",
       "</style>\n",
       "<table border=\"1\" class=\"dataframe\">\n",
       "  <thead>\n",
       "    <tr style=\"text-align: right;\">\n",
       "      <th></th>\n",
       "    </tr>\n",
       "  </thead>\n",
       "  <tbody>\n",
       "  </tbody>\n",
       "</table>\n",
       "</div>"
      ],
      "text/plain": [
       "Empty DataFrame\n",
       "Columns: []\n",
       "Index: []"
      ]
     },
     "metadata": {},
     "output_type": "display_data"
    }
   ],
   "source": [
    "# Now, if we query all nodes\n",
    "\n",
    "h.query_all_nodes()"
   ]
  },
  {
   "cell_type": "code",
   "execution_count": 10,
   "id": "c9e637a1",
   "metadata": {
    "scrolled": true
   },
   "outputs": [
    {
     "name": "stderr",
     "output_type": "stream",
     "text": [
      " 19-05 10:13:46 | \u001b[32mI\u001b[0m | \u001b[32mTranfering instrument id 'b367c236-10cb-4f76-836a-74e997c48971' to 'Charlie'\u001b[0m\n",
      " 19-05 10:13:46 | \u001b[32mI\u001b[0m | \u001b[32mRunning action 'Transfer' on 'Authority/F93770F20D7A/CN=Authority, OU=Test Dept, O=R3, L=London, C=GB'\u001b[0m\n",
      " 19-05 10:13:50 | \u001b[32mI\u001b[0m | \u001b[32m{'type': 'FLOW_FAILED', 'message': 'Not able to find a owning state with id b367c236-10cb-4f76-836a-74e997c48971'}\u001b[0m\n",
      " 19-05 10:13:50 | \u001b[32mI\u001b[0m | \u001b[32mTime taken = 0:00:04.056619\u001b[0m\n"
     ]
    },
    {
     "name": "stdout",
     "output_type": "stream",
     "text": [
      "7221.1684462426.219317<Response [200]>{'type': 'FLOW_FAILED', 'message': 'Not able to find a owning state with id b367c236-10cb-4f76-836a-74e997c48971'}"
     ]
    }
   ],
   "source": [
    "# Transfer Example 3 -- Transfer attempt from the Issuer\n",
    "# Expected -- failed\n",
    "\n",
    "(req_id, response, return_val) = h.transfer(return_val_uuid, 'Authority', 'Charlie')\n",
    "\n",
    "h.message([req_id, response, return_val])"
   ]
  },
  {
   "cell_type": "code",
   "execution_count": 11,
   "id": "5d81dca0",
   "metadata": {
    "scrolled": true
   },
   "outputs": [
    {
     "name": "stderr",
     "output_type": "stream",
     "text": [
      " 19-05 10:14:22 | \u001b[32mI\u001b[0m | \u001b[32mTranfering instrument id 'b367c236-10cb-4f76-836a-74e997c48971' to 'Bob'\u001b[0m\n",
      " 19-05 10:14:22 | \u001b[32mI\u001b[0m | \u001b[32mRunning action 'Transfer' on 'Alice/49717D1246AF/CN=Alice, OU=Test Dept, O=R3, L=London, C=GB'\u001b[0m\n",
      " 19-05 10:14:26 | \u001b[32mI\u001b[0m | \u001b[32m{'type': 'FLOW_FAILED', 'message': 'Not able to find a owning state with id b367c236-10cb-4f76-836a-74e997c48971'}\u001b[0m\n",
      " 19-05 10:14:26 | \u001b[32mI\u001b[0m | \u001b[32mTime taken = 0:00:04.058164\u001b[0m\n"
     ]
    },
    {
     "name": "stdout",
     "output_type": "stream",
     "text": [
      "7221.1684462462.309547<Response [200]>{'type': 'FLOW_FAILED', 'message': 'Not able to find a owning state with id b367c236-10cb-4f76-836a-74e997c48971'}"
     ]
    }
   ],
   "source": [
    "# Transfer Example 4 -- Transfer attempt from a non-holder Alice\n",
    "# Expected -- failed\n",
    "\n",
    "(req_id, response, return_val) = h.transfer(return_val_uuid, 'Alice', 'Bob')\n",
    "\n",
    "h.message([req_id, response, return_val])"
   ]
  },
  {
   "cell_type": "markdown",
   "id": "9789fb91",
   "metadata": {},
   "source": [
    "### Redeem:\n",
    "\n",
    "* Not all instruments will have expiry/maturity.\n",
    "* Redeem can be executed by either the owner (holder of the asset) or also by the issuer of the asset (present design, can be controlled)\n",
    "* If permitted, it will work on the basic nature of the instrument decided right from the issue point(by the issuer).\n",
    "\n",
    "In Asset type 2, all the redeems apart from non holders should be **succeed**"
   ]
  },
  {
   "cell_type": "code",
   "execution_count": 13,
   "id": "af56bfb0",
   "metadata": {
    "scrolled": true
   },
   "outputs": [
    {
     "name": "stderr",
     "output_type": "stream",
     "text": [
      " 19-05 10:15:47 | \u001b[32mI\u001b[0m | \u001b[32mRedeeming instrument id 'b367c236-10cb-4f76-836a-74e997c48971' quantity 'None'\u001b[0m\n",
      " 19-05 10:15:47 | \u001b[32mI\u001b[0m | \u001b[32mRunning action 'Redeem' on 'Bob/53B3F5FCD707/CN=Bob, OU=Test Dept, O=R3, L=London, C=GB'\u001b[0m\n",
      " 19-05 10:16:31 | \u001b[32mI\u001b[0m | \u001b[32mnet.corda.ledger.utxo.flow.impl.FinalizationResultImpl@2c8b87b5\u001b[0m\n",
      " 19-05 10:16:31 | \u001b[32mI\u001b[0m | \u001b[32mTime taken = 0:00:44.311025\u001b[0m\n"
     ]
    },
    {
     "data": {
      "text/plain": [
       "('7221.1684462547.44781',\n",
       " <Response [200]>,\n",
       " 'net.corda.ledger.utxo.flow.impl.FinalizationResultImpl@2c8b87b5')"
      ]
     },
     "execution_count": 13,
     "metadata": {},
     "output_type": "execute_result"
    }
   ],
   "source": [
    "# Redeem Example 1 -- Redeem by the holder\n",
    "# Expected -- succeed\n",
    "\n",
    "h.redeem(return_val_uuid, 'Bob')"
   ]
  },
  {
   "cell_type": "code",
   "execution_count": 14,
   "id": "241c941f",
   "metadata": {
    "scrolled": true
   },
   "outputs": [
    {
     "data": {
      "text/html": [
       "<div>\n",
       "<style scoped>\n",
       "    .dataframe tbody tr th:only-of-type {\n",
       "        vertical-align: middle;\n",
       "    }\n",
       "\n",
       "    .dataframe tbody tr th {\n",
       "        vertical-align: top;\n",
       "    }\n",
       "\n",
       "    .dataframe thead th {\n",
       "        text-align: right;\n",
       "    }\n",
       "</style>\n",
       "<table border=\"1\" class=\"dataframe\">\n",
       "  <thead>\n",
       "    <tr style=\"text-align: right;\">\n",
       "      <th></th>\n",
       "    </tr>\n",
       "  </thead>\n",
       "  <tbody>\n",
       "  </tbody>\n",
       "</table>\n",
       "</div>"
      ],
      "text/plain": [
       "Empty DataFrame\n",
       "Columns: []\n",
       "Index: []"
      ]
     },
     "execution_count": 14,
     "metadata": {},
     "output_type": "execute_result"
    }
   ],
   "source": [
    "# Now, if we query Bob again\n",
    "\n",
    "h.query('Bob')"
   ]
  },
  {
   "cell_type": "code",
   "execution_count": 14,
   "id": "7a38d311",
   "metadata": {
    "scrolled": false
   },
   "outputs": [
    {
     "name": "stderr",
     "output_type": "stream",
     "text": [
      " 18-05 23:36:59 | \u001b[32mI\u001b[0m | \u001b[32mRedeeming instrument id 'bf9260e7-98d7-4d97-a298-dc4777e35110' quantity '500'\u001b[0m\n",
      " 18-05 23:36:59 | \u001b[32mI\u001b[0m | \u001b[32mRunning action 'Redeem' on 'Authority/A9C9500BE2EA/CN=Authority, OU=Test Dept, O=R3, L=London, C=GB'\u001b[0m\n",
      " 18-05 23:37:43 | \u001b[32mI\u001b[0m | \u001b[32mnet.corda.ledger.utxo.flow.impl.FinalizationResultImpl@6183909a\u001b[0m\n",
      " 18-05 23:37:43 | \u001b[32mI\u001b[0m | \u001b[32mTime taken = 0:00:44.320398\u001b[0m\n"
     ]
    },
    {
     "data": {
      "text/plain": [
       "('16934.1684449419.211481',\n",
       " <Response [200]>,\n",
       " 'net.corda.ledger.utxo.flow.impl.FinalizationResultImpl@6183909a')"
      ]
     },
     "execution_count": 14,
     "metadata": {},
     "output_type": "execute_result"
    }
   ],
   "source": [
    "# Redeem Example 3 -- Partial redeem from Charlie by the Issuer\n",
    "# Expected -- succeed\n",
    "\n",
    "h.redeem('ad3ebdb1-60a5-4d5c-956f-63cb5473ad47', 'Authority')"
   ]
  },
  {
   "cell_type": "code",
   "execution_count": 15,
   "id": "c71ef80d",
   "metadata": {},
   "outputs": [
    {
     "data": {
      "text/html": [
       "<div>\n",
       "<style scoped>\n",
       "    .dataframe tbody tr th:only-of-type {\n",
       "        vertical-align: middle;\n",
       "    }\n",
       "\n",
       "    .dataframe tbody tr th {\n",
       "        vertical-align: top;\n",
       "    }\n",
       "\n",
       "    .dataframe thead th {\n",
       "        text-align: right;\n",
       "    }\n",
       "</style>\n",
       "<table border=\"1\" class=\"dataframe\">\n",
       "  <thead>\n",
       "    <tr style=\"text-align: right;\">\n",
       "      <th></th>\n",
       "      <th>id</th>\n",
       "      <th>name</th>\n",
       "      <th>owner</th>\n",
       "      <th>issuer</th>\n",
       "      <th>quantity</th>\n",
       "      <th>transferable</th>\n",
       "      <th>expiry</th>\n",
       "      <th>verifiable</th>\n",
       "      <th>attributes</th>\n",
       "    </tr>\n",
       "  </thead>\n",
       "  <tbody>\n",
       "    <tr>\n",
       "      <th>0</th>\n",
       "      <td>bf9260e7-98d7-4d97-a298-dc4777e35110</td>\n",
       "      <td>eRupee</td>\n",
       "      <td>CN=Bob, OU=Test Dept, O=R3, L=London, C=GB</td>\n",
       "      <td>CN=Authority, OU=Test Dept, O=R3, L=London, C=GB</td>\n",
       "      <td>500</td>\n",
       "      <td>True</td>\n",
       "      <td>None</td>\n",
       "      <td>True</td>\n",
       "      <td>{}</td>\n",
       "    </tr>\n",
       "  </tbody>\n",
       "</table>\n",
       "</div>"
      ],
      "text/plain": [
       "                                     id    name   \n",
       "0  bf9260e7-98d7-4d97-a298-dc4777e35110  eRupee  \\\n",
       "\n",
       "                                        owner   \n",
       "0  CN=Bob, OU=Test Dept, O=R3, L=London, C=GB  \\\n",
       "\n",
       "                                             issuer  quantity  transferable   \n",
       "0  CN=Authority, OU=Test Dept, O=R3, L=London, C=GB       500          True  \\\n",
       "\n",
       "  expiry  verifiable attributes  \n",
       "0   None        True         {}  "
      ]
     },
     "execution_count": 15,
     "metadata": {},
     "output_type": "execute_result"
    }
   ],
   "source": [
    "# Now, if we query Bob\n",
    "\n",
    "h.query('Bob')"
   ]
  },
  {
   "cell_type": "code",
   "execution_count": 15,
   "id": "bc59b976",
   "metadata": {},
   "outputs": [
    {
     "name": "stderr",
     "output_type": "stream",
     "text": [
      " 19-05 10:17:12 | \u001b[32mI\u001b[0m | \u001b[32mRedeeming instrument id 'ad3ebdb1-60a5-4d5c-956f-63cb5473ad47' quantity 'None'\u001b[0m\n",
      " 19-05 10:17:12 | \u001b[32mI\u001b[0m | \u001b[32mRunning action 'Redeem' on 'Authority/F93770F20D7A/CN=Authority, OU=Test Dept, O=R3, L=London, C=GB'\u001b[0m\n",
      " 19-05 10:18:00 | \u001b[32mI\u001b[0m | \u001b[32mnet.corda.ledger.utxo.flow.impl.FinalizationResultImpl@2bc800d0\u001b[0m\n",
      " 19-05 10:18:00 | \u001b[32mI\u001b[0m | \u001b[32mTime taken = 0:00:48.273520\u001b[0m\n"
     ]
    },
    {
     "data": {
      "text/plain": [
       "('7221.1684462632.609104',\n",
       " <Response [200]>,\n",
       " 'net.corda.ledger.utxo.flow.impl.FinalizationResultImpl@2bc800d0')"
      ]
     },
     "execution_count": 15,
     "metadata": {},
     "output_type": "execute_result"
    }
   ],
   "source": [
    "# Redeem Example 4 -- Full redeem from Bob by the Issuer\n",
    "# Expected -- succeed\n",
    "\n",
    "h.redeem('ad3ebdb1-60a5-4d5c-956f-63cb5473ad47', 'Authority')"
   ]
  },
  {
   "cell_type": "code",
   "execution_count": 16,
   "id": "0c57801e",
   "metadata": {},
   "outputs": [
    {
     "data": {
      "text/html": [
       "<div>\n",
       "<style scoped>\n",
       "    .dataframe tbody tr th:only-of-type {\n",
       "        vertical-align: middle;\n",
       "    }\n",
       "\n",
       "    .dataframe tbody tr th {\n",
       "        vertical-align: top;\n",
       "    }\n",
       "\n",
       "    .dataframe thead th {\n",
       "        text-align: right;\n",
       "    }\n",
       "</style>\n",
       "<table border=\"1\" class=\"dataframe\">\n",
       "  <thead>\n",
       "    <tr style=\"text-align: right;\">\n",
       "      <th></th>\n",
       "    </tr>\n",
       "  </thead>\n",
       "  <tbody>\n",
       "  </tbody>\n",
       "</table>\n",
       "</div>"
      ],
      "text/plain": [
       "Empty DataFrame\n",
       "Columns: []\n",
       "Index: []"
      ]
     },
     "execution_count": 16,
     "metadata": {},
     "output_type": "execute_result"
    }
   ],
   "source": [
    "# Now, if we query Bob again\n",
    "\n",
    "h.query('Charlie')"
   ]
  },
  {
   "cell_type": "code",
   "execution_count": 17,
   "id": "fd81545d",
   "metadata": {
    "scrolled": true
   },
   "outputs": [
    {
     "name": "stderr",
     "output_type": "stream",
     "text": [
      " 19-05 10:18:18 | \u001b[32mI\u001b[0m | \u001b[32mResult for query=ListInstrument from 'Authority/F93770F20D7A/CN=Authority, OU=Test Dept, O=R3, L=London, C=GB'. (Time taken=0:00:04.093583)\u001b[0m\n"
     ]
    },
    {
     "data": {
      "text/html": [
       "<div>\n",
       "<style scoped>\n",
       "    .dataframe tbody tr th:only-of-type {\n",
       "        vertical-align: middle;\n",
       "    }\n",
       "\n",
       "    .dataframe tbody tr th {\n",
       "        vertical-align: top;\n",
       "    }\n",
       "\n",
       "    .dataframe thead th {\n",
       "        text-align: right;\n",
       "    }\n",
       "</style>\n",
       "<table border=\"1\" class=\"dataframe\">\n",
       "  <thead>\n",
       "    <tr style=\"text-align: right;\">\n",
       "      <th></th>\n",
       "    </tr>\n",
       "  </thead>\n",
       "  <tbody>\n",
       "  </tbody>\n",
       "</table>\n",
       "</div>"
      ],
      "text/plain": [
       "Empty DataFrame\n",
       "Columns: []\n",
       "Index: []"
      ]
     },
     "metadata": {},
     "output_type": "display_data"
    },
    {
     "name": "stderr",
     "output_type": "stream",
     "text": [
      " 19-05 10:18:22 | \u001b[32mI\u001b[0m | \u001b[32mResult for query=ListInstrument from 'Bob/53B3F5FCD707/CN=Bob, OU=Test Dept, O=R3, L=London, C=GB'. (Time taken=0:00:04.070018)\u001b[0m\n"
     ]
    },
    {
     "data": {
      "text/html": [
       "<div>\n",
       "<style scoped>\n",
       "    .dataframe tbody tr th:only-of-type {\n",
       "        vertical-align: middle;\n",
       "    }\n",
       "\n",
       "    .dataframe tbody tr th {\n",
       "        vertical-align: top;\n",
       "    }\n",
       "\n",
       "    .dataframe thead th {\n",
       "        text-align: right;\n",
       "    }\n",
       "</style>\n",
       "<table border=\"1\" class=\"dataframe\">\n",
       "  <thead>\n",
       "    <tr style=\"text-align: right;\">\n",
       "      <th></th>\n",
       "    </tr>\n",
       "  </thead>\n",
       "  <tbody>\n",
       "  </tbody>\n",
       "</table>\n",
       "</div>"
      ],
      "text/plain": [
       "Empty DataFrame\n",
       "Columns: []\n",
       "Index: []"
      ]
     },
     "metadata": {},
     "output_type": "display_data"
    },
    {
     "name": "stderr",
     "output_type": "stream",
     "text": [
      " 19-05 10:18:26 | \u001b[32mI\u001b[0m | \u001b[32mResult for query=ListInstrument from 'Charlie/597B2CEE8DB5/CN=Charlie, OU=Test Dept, O=R3, L=London, C=GB'. (Time taken=0:00:04.073827)\u001b[0m\n"
     ]
    },
    {
     "data": {
      "text/html": [
       "<div>\n",
       "<style scoped>\n",
       "    .dataframe tbody tr th:only-of-type {\n",
       "        vertical-align: middle;\n",
       "    }\n",
       "\n",
       "    .dataframe tbody tr th {\n",
       "        vertical-align: top;\n",
       "    }\n",
       "\n",
       "    .dataframe thead th {\n",
       "        text-align: right;\n",
       "    }\n",
       "</style>\n",
       "<table border=\"1\" class=\"dataframe\">\n",
       "  <thead>\n",
       "    <tr style=\"text-align: right;\">\n",
       "      <th></th>\n",
       "    </tr>\n",
       "  </thead>\n",
       "  <tbody>\n",
       "  </tbody>\n",
       "</table>\n",
       "</div>"
      ],
      "text/plain": [
       "Empty DataFrame\n",
       "Columns: []\n",
       "Index: []"
      ]
     },
     "metadata": {},
     "output_type": "display_data"
    },
    {
     "name": "stderr",
     "output_type": "stream",
     "text": [
      " 19-05 10:18:30 | \u001b[32mI\u001b[0m | \u001b[32mResult for query=ListInstrument from 'Alice/49717D1246AF/CN=Alice, OU=Test Dept, O=R3, L=London, C=GB'. (Time taken=0:00:04.072198)\u001b[0m\n"
     ]
    },
    {
     "data": {
      "text/html": [
       "<div>\n",
       "<style scoped>\n",
       "    .dataframe tbody tr th:only-of-type {\n",
       "        vertical-align: middle;\n",
       "    }\n",
       "\n",
       "    .dataframe tbody tr th {\n",
       "        vertical-align: top;\n",
       "    }\n",
       "\n",
       "    .dataframe thead th {\n",
       "        text-align: right;\n",
       "    }\n",
       "</style>\n",
       "<table border=\"1\" class=\"dataframe\">\n",
       "  <thead>\n",
       "    <tr style=\"text-align: right;\">\n",
       "      <th></th>\n",
       "    </tr>\n",
       "  </thead>\n",
       "  <tbody>\n",
       "  </tbody>\n",
       "</table>\n",
       "</div>"
      ],
      "text/plain": [
       "Empty DataFrame\n",
       "Columns: []\n",
       "Index: []"
      ]
     },
     "metadata": {},
     "output_type": "display_data"
    }
   ],
   "source": [
    "# Now, if we query all nodes\n",
    "\n",
    "h.query_all_nodes()"
   ]
  },
  {
   "cell_type": "markdown",
   "id": "1230224c",
   "metadata": {},
   "source": [
    "### Print to PDF:\n",
    "\n",
    "\"Print to PDF\" is used for printing any instrument with a specific format."
   ]
  },
  {
   "cell_type": "code",
   "execution_count": 18,
   "id": "e2991d13",
   "metadata": {},
   "outputs": [
    {
     "name": "stderr",
     "output_type": "stream",
     "text": [
      " 19-05 10:20:28 | \u001b[32mI\u001b[0m | \u001b[32mIssuing instrument='Unique artifact. The Mona Lisa' to 'Alice'\u001b[0m\n",
      " 19-05 10:20:28 | \u001b[32mI\u001b[0m | \u001b[32mRunning action 'Issue' on 'Authority/F93770F20D7A/CN=Authority, OU=Test Dept, O=R3, L=London, C=GB'\u001b[0m\n",
      " 19-05 10:21:12 | \u001b[32mI\u001b[0m | \u001b[32m857652d5-a8de-4848-99db-8964536367dc\u001b[0m\n",
      " 19-05 10:21:12 | \u001b[32mI\u001b[0m | \u001b[32mTime taken = 0:00:44.252983\u001b[0m\n",
      " 19-05 10:21:16 | \u001b[32mI\u001b[0m | \u001b[32mhttp://localhost:9009?data={\"name\": \"Unique artifact. The Mona Lisa\", \"owner\": \"CN=Alice, OU=Test Dept, O=R3, L=London, C=GB\", \"issuer\": \"CN=Authority, OU=Test Dept, O=R3, L=London, C=GB\", \"quantity\": null, \"transferable\": true, \"expiry\": null, \"verifiable\": true, \"attributes\": {\"holding authority\": \"The Louvre Museum, Paris\"}}\u001b[0m\n",
      "[WDM] - Downloading: 100%|██████████████████████████████████████████████████████████████████████████████████████████████████████████████████████████████████████████████████| 8.81M/8.81M [00:00<00:00, 23.1MB/s]\n",
      " 19-05 10:21:21 | \u001b[32mI\u001b[0m | \u001b[32mTime taken = 0:00:08.616605\u001b[0m\n"
     ]
    },
    {
     "data": {
      "text/plain": [
       "True"
      ]
     },
     "execution_count": 18,
     "metadata": {},
     "output_type": "execute_result"
    }
   ],
   "source": [
    "# Print to PDF Example 1 -- Print the Unique artifacts on Ledger. holding by Alice\n",
    "## Expected -- succeed\n",
    "\n",
    "## issue another type-2 asset to Alice for demo purpose\n",
    "(req_id, response, return_val_uuid) = h.issue('Authority', 'Alice', 'Unique artifact. The Mona Lisa', \n",
    "                                              quantity=None, transferable=True, expiry=None, verifiable=True, \n",
    "                                              attributes={'holding authority': 'The Louvre Museum, Paris'})\n",
    "\n",
    "pdf_report = h.print_to_pdf('Alice', return_val_uuid, show=False)\n",
    "webbrowser.open(\"file:///{}\".format(pdf_report))"
   ]
  },
  {
   "cell_type": "code",
   "execution_count": 19,
   "id": "67ead975",
   "metadata": {},
   "outputs": [
    {
     "name": "stderr",
     "output_type": "stream",
     "text": [
      " 19-05 10:21:49 | \u001b[32mI\u001b[0m | \u001b[32mhttp://localhost:9009?data={\"name\": \"Unique artifact. The Mona Lisa\", \"owner\": \"CN=Alice, OU=Test Dept, O=R3, L=London, C=GB\", \"issuer\": \"CN=Authority, OU=Test Dept, O=R3, L=London, C=GB\", \"quantity\": null, \"transferable\": true, \"expiry\": null, \"verifiable\": true, \"attributes\": {\"holding authority\": \"The Louvre Museum, Paris\"}}\u001b[0m\n",
      " 19-05 10:21:52 | \u001b[32mI\u001b[0m | \u001b[32mTime taken = 0:00:07.639856\u001b[0m\n"
     ]
    },
    {
     "data": {
      "text/plain": [
       "True"
      ]
     },
     "execution_count": 19,
     "metadata": {},
     "output_type": "execute_result"
    }
   ],
   "source": [
    "# Print to PDF Example 2 -- Print the Government Bond holding by Issuer\n",
    "## Expected -- succeed\n",
    "\n",
    "pdf_report = h.print_to_pdf('Authority', return_val_uuid, show=False)\n",
    "webbrowser.open(\"file:///{}\".format(pdf_report))"
   ]
  },
  {
   "cell_type": "code",
   "execution_count": 20,
   "id": "90654d78",
   "metadata": {},
   "outputs": [
    {
     "name": "stderr",
     "output_type": "stream",
     "text": [
      " 19-05 10:22:00 | \u001b[31mE\u001b[0m | \u001b[31mNo data matching id='857652d5-a8de-4848-99db-8964536367dc' in 'Charlie'\u001b[0m\n",
      "0:28: execution error: File some object wasn’t found. (-43)\n"
     ]
    },
    {
     "data": {
      "text/plain": [
       "True"
      ]
     },
     "execution_count": 20,
     "metadata": {},
     "output_type": "execute_result"
    }
   ],
   "source": [
    "# Print to PDF Example 3 -- Print the Government Bond holding by non holder\n",
    "## Expected -- failed\n",
    "\n",
    "pdf_report = h.print_to_pdf('Charlie',return_val_uuid, show=False)\n",
    "#webbrowser.open(\"file:///{}\".format(pdf_report))"
   ]
  }
 ],
 "metadata": {
  "kernelspec": {
   "display_name": "Python 3 (ipykernel)",
   "language": "python",
   "name": "python3"
  },
  "language_info": {
   "codemirror_mode": {
    "name": "ipython",
    "version": 3
   },
   "file_extension": ".py",
   "mimetype": "text/x-python",
   "name": "python",
   "nbconvert_exporter": "python",
   "pygments_lexer": "ipython3",
   "version": "3.9.12"
  }
 },
 "nbformat": 4,
 "nbformat_minor": 5
}
