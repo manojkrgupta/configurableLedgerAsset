{
 "cells": [
  {
   "cell_type": "markdown",
   "id": "2536df68",
   "metadata": {},
   "source": [
    "## Asset Type 3\n",
    "* Use Case Matrix:\n",
    "\n",
    "| Type     | Transferable    | Quantifiable     | Examples, Samples, Use Cases                  |\n",
    "|----------|-----------------|------------------|-----------------------------------------------|\n",
    "| 3        | N               | Y                | Travel points, Redeemable Tokens              |\n",
    "|          |                 |                  | Amazon Vouchers                               |"
   ]
  },
  {
   "cell_type": "markdown",
   "id": "446287fc",
   "metadata": {},
   "source": [
    "### Initialisation:\n",
    "* The initialisation is for initialise the python scripts in the notebook get it connected to CorDapp.\n",
    "* Expected to see a base directory path."
   ]
  },
  {
   "cell_type": "code",
   "execution_count": 1,
   "id": "770ad544",
   "metadata": {
    "extensions": {
     "jupyter_dashboards": {
      "version": 1,
      "views": {
       "grid_default": {},
       "report_default": {
        "hidden": false
       }
      }
     }
    }
   },
   "outputs": [
    {
     "data": {
      "text/html": [
       "<style>.container { width:98% !important; }</style>"
      ],
      "text/plain": [
       "<IPython.core.display.HTML object>"
      ]
     },
     "metadata": {},
     "output_type": "display_data"
    },
    {
     "name": "stderr",
     "output_type": "stream",
     "text": [
      " 19-05 09:35:51 | \u001b[32mI\u001b[0m | \u001b[32mBase directory /Users/bo.yang/Documents/github/configurableLedgerAsset/python3\u001b[0m\n"
     ]
    }
   ],
   "source": [
    "import os\n",
    "import sys\n",
    "import math\n",
    "import time\n",
    "import IPython\n",
    "import logging\n",
    "import warnings\n",
    "import datetime\n",
    "import pandas as pd\n",
    "import numpy  as np\n",
    "import webbrowser\n",
    "import pprint as pp\n",
    "from random   import randrange\n",
    "from notebook import notebookapp\n",
    "from IPython.display import display\n",
    "from IPython.core.display import HTML\n",
    "\n",
    "# Initialise the notebook settings\n",
    "def init_notebook():\n",
    "    sys.path.insert(1, os.path.join(sys.path[0], '{}/lib/'.format(os.environ['BaseDir'])))\n",
    "    display(HTML(\"<style>.container { width:98% !important; }</style>\"))\n",
    "    %matplotlib inline\n",
    "    \n",
    "    pd.set_option('display.max_rows', None)\n",
    "    pd.set_option('display.max_columns', None)\n",
    "    pd.set_option('display.max_colwidth', None)\n",
    "\n",
    "# Initialise the Corda nodes\n",
    "def init_cordaNodes():\n",
    "    from corda5Interface import Corda5\n",
    "    apiServer='https://localhost:8888/api/v1/flow'\n",
    "    apiServerAuth=('admin', 'admin')\n",
    "    package = 'com.r3.developers.configurableInstrument'\n",
    "    replace_maters_list = { 'API_SERVER': apiServer, 'PACKAGE': package}\n",
    "\n",
    "    nodes = {\n",
    "            'Authority' : {'x500': 'CN=Authority, OU=Test Dept, O=R3, L=London, C=GB' ,'hash': 'F0E569C4765C' },\n",
    "            'Bob'       : {'x500': 'CN=Bob, OU=Test Dept, O=R3, L=London, C=GB'       ,'hash': '972B13CEE093' },\n",
    "            'Charlie'   : {'x500': 'CN=Charlie, OU=Test Dept, O=R3, L=London, C=GB'   ,'hash': 'AD4AA4F0D9B1' },\n",
    "            'Alice'     : {'x500': 'CN=Alice, OU=Test Dept, O=R3, L=London, C=GB'     ,'hash': 'F07CC621F1DF' },\n",
    "            }\n",
    "\n",
    "    h = Corda5(level=logging.INFO, nodes=nodes, apiServer=apiServer, apiServerAuth=apiServerAuth, version=2)\n",
    "\n",
    "    log = h.log\n",
    "    log.info(\"Base directory {}\".format(os.environ['BaseDir']))\n",
    "    \n",
    "    return h\n",
    "\n",
    "init_notebook()\n",
    "h = init_cordaNodes()"
   ]
  },
  {
   "cell_type": "markdown",
   "id": "435aaa30",
   "metadata": {},
   "source": [
    "### Issue -- Type 3, Transferable = N, Quantifiable = Y\n",
    "* Issuer gets to decide the name, transferable or not, expiry or not, redeemable or not, and can add multiple/additional attributes (HashMap) on the same State/Asset.\n",
    "* Applications like Government Bond, will be transferable, with maturity(some expiry), and redeemable (cash the principal on maturity), with additional attribute of coupon payment dates.\n",
    "* Applications like College University Degree, will not be transferable, no expiry, and not redeemable. Will have additional attributes like Collage Name, University Name, Education Stream etc etc along with Issuer and Owner(Holder).\n",
    "* Applications like Limited Edition Sovereign, will be transferable, no expiry but will be redeemable directly with Issuer.\n",
    "\n",
    "In Asset type 3, all the issuing should be **succeed**, with **Non-Transferable** and **Quantifiable** assets."
   ]
  },
  {
   "cell_type": "code",
   "execution_count": 21,
   "id": "91c37f78",
   "metadata": {},
   "outputs": [
    {
     "name": "stderr",
     "output_type": "stream",
     "text": [
      " 19-05 10:15:07 | \u001b[32mI\u001b[0m | \u001b[32mIssuing instrument='Star Alliance Travel Points' to 'Alice'\u001b[0m\n",
      " 19-05 10:15:07 | \u001b[32mI\u001b[0m | \u001b[32mRunning action 'Issue' on 'Authority/F0E569C4765C/CN=Authority, OU=Test Dept, O=R3, L=London, C=GB'\u001b[0m\n",
      " 19-05 10:15:56 | \u001b[32mI\u001b[0m | \u001b[32md4ea67e0-9945-4fe5-b0da-c3ef0d457e32\u001b[0m\n",
      " 19-05 10:15:56 | \u001b[32mI\u001b[0m | \u001b[32mTime taken = 0:00:48.491483\u001b[0m\n"
     ]
    },
    {
     "name": "stdout",
     "output_type": "stream",
     "text": [
      "44156.1684462507.613406<Response [200]>d4ea67e0-9945-4fe5-b0da-c3ef0d457e32"
     ]
    }
   ],
   "source": [
    "# Issue Test 1 -- Issue Travel Points / Redeemable Tokens \n",
    "# Expected -- Succeed\n",
    "(req_id, response, return_val_uuid) = h.issue('Authority', 'Alice', 'Star Alliance Travel Points', \n",
    "        quantity=10,\n",
    "        transferable=False,\n",
    "        expiry=None,\n",
    "        verifiable=True)\n",
    "h.message([req_id, response, return_val_uuid])"
   ]
  },
  {
   "cell_type": "code",
   "execution_count": 24,
   "id": "48156f05",
   "metadata": {},
   "outputs": [
    {
     "name": "stderr",
     "output_type": "stream",
     "text": [
      " 19-05 10:17:21 | \u001b[32mI\u001b[0m | \u001b[32mIssuing instrument='Amazon Voucher' to 'Alice'\u001b[0m\n",
      " 19-05 10:17:21 | \u001b[32mI\u001b[0m | \u001b[32mRunning action 'Issue' on 'Authority/F0E569C4765C/CN=Authority, OU=Test Dept, O=R3, L=London, C=GB'\u001b[0m\n",
      " 19-05 10:18:13 | \u001b[32mI\u001b[0m | \u001b[32mc7a34000-ac8d-4d63-a0cf-ccb7b09435b2\u001b[0m\n",
      " 19-05 10:18:13 | \u001b[32mI\u001b[0m | \u001b[32mTime taken = 0:00:52.511726\u001b[0m\n"
     ]
    },
    {
     "name": "stdout",
     "output_type": "stream",
     "text": [
      "44156.1684462641.125758<Response [200]>c7a34000-ac8d-4d63-a0cf-ccb7b09435b2"
     ]
    }
   ],
   "source": [
    "# Issue Test 2 -- Issue Amazon Vouchers\n",
    "# Expected -- Succeed\n",
    "(req_id, response, return_val_uuid) = h.issue('Authority', 'Alice', 'Amazon Voucher', \n",
    "        quantity=200,\n",
    "        transferable=False,\n",
    "        expiry=None,\n",
    "        verifiable=True,\n",
    "        attributes={'currency': 'INR'})\n",
    "h.message([req_id, response, return_val_uuid])"
   ]
  },
  {
   "cell_type": "markdown",
   "id": "fd4e9369",
   "metadata": {},
   "source": [
    "### Query:\n",
    "* Query is used for query the instruments that one/all held."
   ]
  },
  {
   "cell_type": "code",
   "execution_count": 25,
   "id": "6a26e511",
   "metadata": {},
   "outputs": [
    {
     "name": "stderr",
     "output_type": "stream",
     "text": [
      " 19-05 10:18:34 | \u001b[32mI\u001b[0m | \u001b[32mResult for query=ListInstrument from 'Authority/F0E569C4765C/CN=Authority, OU=Test Dept, O=R3, L=London, C=GB'. (Time taken=0:00:04.190050)\u001b[0m\n"
     ]
    },
    {
     "data": {
      "text/html": [
       "<div>\n",
       "<style scoped>\n",
       "    .dataframe tbody tr th:only-of-type {\n",
       "        vertical-align: middle;\n",
       "    }\n",
       "\n",
       "    .dataframe tbody tr th {\n",
       "        vertical-align: top;\n",
       "    }\n",
       "\n",
       "    .dataframe thead th {\n",
       "        text-align: right;\n",
       "    }\n",
       "</style>\n",
       "<table border=\"1\" class=\"dataframe\">\n",
       "  <thead>\n",
       "    <tr style=\"text-align: right;\">\n",
       "      <th></th>\n",
       "      <th>id</th>\n",
       "      <th>name</th>\n",
       "      <th>owner</th>\n",
       "      <th>issuer</th>\n",
       "      <th>quantity</th>\n",
       "      <th>transferable</th>\n",
       "      <th>expiry</th>\n",
       "      <th>verifiable</th>\n",
       "      <th>attributes</th>\n",
       "    </tr>\n",
       "  </thead>\n",
       "  <tbody>\n",
       "    <tr>\n",
       "      <th>0</th>\n",
       "      <td>d4ea67e0-9945-4fe5-b0da-c3ef0d457e32</td>\n",
       "      <td>Star Alliance Travel Points</td>\n",
       "      <td>CN=Alice, OU=Test Dept, O=R3, L=London, C=GB</td>\n",
       "      <td>CN=Authority, OU=Test Dept, O=R3, L=London, C=GB</td>\n",
       "      <td>10</td>\n",
       "      <td>False</td>\n",
       "      <td>None</td>\n",
       "      <td>True</td>\n",
       "      <td>{}</td>\n",
       "    </tr>\n",
       "    <tr>\n",
       "      <th>1</th>\n",
       "      <td>c7a34000-ac8d-4d63-a0cf-ccb7b09435b2</td>\n",
       "      <td>Amazon Voucher</td>\n",
       "      <td>CN=Alice, OU=Test Dept, O=R3, L=London, C=GB</td>\n",
       "      <td>CN=Authority, OU=Test Dept, O=R3, L=London, C=GB</td>\n",
       "      <td>200</td>\n",
       "      <td>False</td>\n",
       "      <td>None</td>\n",
       "      <td>True</td>\n",
       "      <td>{'currency': 'INR'}</td>\n",
       "    </tr>\n",
       "  </tbody>\n",
       "</table>\n",
       "</div>"
      ],
      "text/plain": [
       "                                     id                         name   \n",
       "0  d4ea67e0-9945-4fe5-b0da-c3ef0d457e32  Star Alliance Travel Points  \\\n",
       "1  c7a34000-ac8d-4d63-a0cf-ccb7b09435b2               Amazon Voucher   \n",
       "\n",
       "                                          owner   \n",
       "0  CN=Alice, OU=Test Dept, O=R3, L=London, C=GB  \\\n",
       "1  CN=Alice, OU=Test Dept, O=R3, L=London, C=GB   \n",
       "\n",
       "                                             issuer  quantity  transferable   \n",
       "0  CN=Authority, OU=Test Dept, O=R3, L=London, C=GB        10         False  \\\n",
       "1  CN=Authority, OU=Test Dept, O=R3, L=London, C=GB       200         False   \n",
       "\n",
       "  expiry  verifiable           attributes  \n",
       "0   None        True                   {}  \n",
       "1   None        True  {'currency': 'INR'}  "
      ]
     },
     "metadata": {},
     "output_type": "display_data"
    },
    {
     "name": "stderr",
     "output_type": "stream",
     "text": [
      " 19-05 10:18:39 | \u001b[32mI\u001b[0m | \u001b[32mResult for query=ListInstrument from 'Bob/972B13CEE093/CN=Bob, OU=Test Dept, O=R3, L=London, C=GB'. (Time taken=0:00:04.085144)\u001b[0m\n"
     ]
    },
    {
     "data": {
      "text/html": [
       "<div>\n",
       "<style scoped>\n",
       "    .dataframe tbody tr th:only-of-type {\n",
       "        vertical-align: middle;\n",
       "    }\n",
       "\n",
       "    .dataframe tbody tr th {\n",
       "        vertical-align: top;\n",
       "    }\n",
       "\n",
       "    .dataframe thead th {\n",
       "        text-align: right;\n",
       "    }\n",
       "</style>\n",
       "<table border=\"1\" class=\"dataframe\">\n",
       "  <thead>\n",
       "    <tr style=\"text-align: right;\">\n",
       "      <th></th>\n",
       "    </tr>\n",
       "  </thead>\n",
       "  <tbody>\n",
       "  </tbody>\n",
       "</table>\n",
       "</div>"
      ],
      "text/plain": [
       "Empty DataFrame\n",
       "Columns: []\n",
       "Index: []"
      ]
     },
     "metadata": {},
     "output_type": "display_data"
    },
    {
     "name": "stderr",
     "output_type": "stream",
     "text": [
      " 19-05 10:18:43 | \u001b[32mI\u001b[0m | \u001b[32mResult for query=ListInstrument from 'Charlie/AD4AA4F0D9B1/CN=Charlie, OU=Test Dept, O=R3, L=London, C=GB'. (Time taken=0:00:04.087414)\u001b[0m\n"
     ]
    },
    {
     "data": {
      "text/html": [
       "<div>\n",
       "<style scoped>\n",
       "    .dataframe tbody tr th:only-of-type {\n",
       "        vertical-align: middle;\n",
       "    }\n",
       "\n",
       "    .dataframe tbody tr th {\n",
       "        vertical-align: top;\n",
       "    }\n",
       "\n",
       "    .dataframe thead th {\n",
       "        text-align: right;\n",
       "    }\n",
       "</style>\n",
       "<table border=\"1\" class=\"dataframe\">\n",
       "  <thead>\n",
       "    <tr style=\"text-align: right;\">\n",
       "      <th></th>\n",
       "    </tr>\n",
       "  </thead>\n",
       "  <tbody>\n",
       "  </tbody>\n",
       "</table>\n",
       "</div>"
      ],
      "text/plain": [
       "Empty DataFrame\n",
       "Columns: []\n",
       "Index: []"
      ]
     },
     "metadata": {},
     "output_type": "display_data"
    },
    {
     "name": "stderr",
     "output_type": "stream",
     "text": [
      " 19-05 10:18:47 | \u001b[32mI\u001b[0m | \u001b[32mResult for query=ListInstrument from 'Alice/F07CC621F1DF/CN=Alice, OU=Test Dept, O=R3, L=London, C=GB'. (Time taken=0:00:04.086007)\u001b[0m\n"
     ]
    },
    {
     "data": {
      "text/html": [
       "<div>\n",
       "<style scoped>\n",
       "    .dataframe tbody tr th:only-of-type {\n",
       "        vertical-align: middle;\n",
       "    }\n",
       "\n",
       "    .dataframe tbody tr th {\n",
       "        vertical-align: top;\n",
       "    }\n",
       "\n",
       "    .dataframe thead th {\n",
       "        text-align: right;\n",
       "    }\n",
       "</style>\n",
       "<table border=\"1\" class=\"dataframe\">\n",
       "  <thead>\n",
       "    <tr style=\"text-align: right;\">\n",
       "      <th></th>\n",
       "      <th>id</th>\n",
       "      <th>name</th>\n",
       "      <th>owner</th>\n",
       "      <th>issuer</th>\n",
       "      <th>quantity</th>\n",
       "      <th>transferable</th>\n",
       "      <th>expiry</th>\n",
       "      <th>verifiable</th>\n",
       "      <th>attributes</th>\n",
       "    </tr>\n",
       "  </thead>\n",
       "  <tbody>\n",
       "    <tr>\n",
       "      <th>0</th>\n",
       "      <td>d4ea67e0-9945-4fe5-b0da-c3ef0d457e32</td>\n",
       "      <td>Star Alliance Travel Points</td>\n",
       "      <td>CN=Alice, OU=Test Dept, O=R3, L=London, C=GB</td>\n",
       "      <td>CN=Authority, OU=Test Dept, O=R3, L=London, C=GB</td>\n",
       "      <td>10</td>\n",
       "      <td>False</td>\n",
       "      <td>None</td>\n",
       "      <td>True</td>\n",
       "      <td>{}</td>\n",
       "    </tr>\n",
       "    <tr>\n",
       "      <th>1</th>\n",
       "      <td>c7a34000-ac8d-4d63-a0cf-ccb7b09435b2</td>\n",
       "      <td>Amazon Voucher</td>\n",
       "      <td>CN=Alice, OU=Test Dept, O=R3, L=London, C=GB</td>\n",
       "      <td>CN=Authority, OU=Test Dept, O=R3, L=London, C=GB</td>\n",
       "      <td>200</td>\n",
       "      <td>False</td>\n",
       "      <td>None</td>\n",
       "      <td>True</td>\n",
       "      <td>{'currency': 'INR'}</td>\n",
       "    </tr>\n",
       "  </tbody>\n",
       "</table>\n",
       "</div>"
      ],
      "text/plain": [
       "                                     id                         name   \n",
       "0  d4ea67e0-9945-4fe5-b0da-c3ef0d457e32  Star Alliance Travel Points  \\\n",
       "1  c7a34000-ac8d-4d63-a0cf-ccb7b09435b2               Amazon Voucher   \n",
       "\n",
       "                                          owner   \n",
       "0  CN=Alice, OU=Test Dept, O=R3, L=London, C=GB  \\\n",
       "1  CN=Alice, OU=Test Dept, O=R3, L=London, C=GB   \n",
       "\n",
       "                                             issuer  quantity  transferable   \n",
       "0  CN=Authority, OU=Test Dept, O=R3, L=London, C=GB        10         False  \\\n",
       "1  CN=Authority, OU=Test Dept, O=R3, L=London, C=GB       200         False   \n",
       "\n",
       "  expiry  verifiable           attributes  \n",
       "0   None        True                   {}  \n",
       "1   None        True  {'currency': 'INR'}  "
      ]
     },
     "metadata": {},
     "output_type": "display_data"
    }
   ],
   "source": [
    "# Query Test 1 -- Query all the instruments\n",
    "h.query_all_nodes()"
   ]
  },
  {
   "cell_type": "code",
   "execution_count": 26,
   "id": "ab4388c3",
   "metadata": {
    "scrolled": false
   },
   "outputs": [
    {
     "data": {
      "text/html": [
       "<div>\n",
       "<style scoped>\n",
       "    .dataframe tbody tr th:only-of-type {\n",
       "        vertical-align: middle;\n",
       "    }\n",
       "\n",
       "    .dataframe tbody tr th {\n",
       "        vertical-align: top;\n",
       "    }\n",
       "\n",
       "    .dataframe thead th {\n",
       "        text-align: right;\n",
       "    }\n",
       "</style>\n",
       "<table border=\"1\" class=\"dataframe\">\n",
       "  <thead>\n",
       "    <tr style=\"text-align: right;\">\n",
       "      <th></th>\n",
       "      <th>id</th>\n",
       "      <th>name</th>\n",
       "      <th>owner</th>\n",
       "      <th>issuer</th>\n",
       "      <th>quantity</th>\n",
       "      <th>transferable</th>\n",
       "      <th>expiry</th>\n",
       "      <th>verifiable</th>\n",
       "      <th>attributes</th>\n",
       "    </tr>\n",
       "  </thead>\n",
       "  <tbody>\n",
       "    <tr>\n",
       "      <th>0</th>\n",
       "      <td>d4ea67e0-9945-4fe5-b0da-c3ef0d457e32</td>\n",
       "      <td>Star Alliance Travel Points</td>\n",
       "      <td>CN=Alice, OU=Test Dept, O=R3, L=London, C=GB</td>\n",
       "      <td>CN=Authority, OU=Test Dept, O=R3, L=London, C=GB</td>\n",
       "      <td>10</td>\n",
       "      <td>False</td>\n",
       "      <td>None</td>\n",
       "      <td>True</td>\n",
       "      <td>{}</td>\n",
       "    </tr>\n",
       "    <tr>\n",
       "      <th>1</th>\n",
       "      <td>c7a34000-ac8d-4d63-a0cf-ccb7b09435b2</td>\n",
       "      <td>Amazon Voucher</td>\n",
       "      <td>CN=Alice, OU=Test Dept, O=R3, L=London, C=GB</td>\n",
       "      <td>CN=Authority, OU=Test Dept, O=R3, L=London, C=GB</td>\n",
       "      <td>200</td>\n",
       "      <td>False</td>\n",
       "      <td>None</td>\n",
       "      <td>True</td>\n",
       "      <td>{'currency': 'INR'}</td>\n",
       "    </tr>\n",
       "  </tbody>\n",
       "</table>\n",
       "</div>"
      ],
      "text/plain": [
       "                                     id                         name   \n",
       "0  d4ea67e0-9945-4fe5-b0da-c3ef0d457e32  Star Alliance Travel Points  \\\n",
       "1  c7a34000-ac8d-4d63-a0cf-ccb7b09435b2               Amazon Voucher   \n",
       "\n",
       "                                          owner   \n",
       "0  CN=Alice, OU=Test Dept, O=R3, L=London, C=GB  \\\n",
       "1  CN=Alice, OU=Test Dept, O=R3, L=London, C=GB   \n",
       "\n",
       "                                             issuer  quantity  transferable   \n",
       "0  CN=Authority, OU=Test Dept, O=R3, L=London, C=GB        10         False  \\\n",
       "1  CN=Authority, OU=Test Dept, O=R3, L=London, C=GB       200         False   \n",
       "\n",
       "  expiry  verifiable           attributes  \n",
       "0   None        True                   {}  \n",
       "1   None        True  {'currency': 'INR'}  "
      ]
     },
     "execution_count": 26,
     "metadata": {},
     "output_type": "execute_result"
    }
   ],
   "source": [
    "# Query Test 2 -- Query Alice's instruments\n",
    "h.query('Alice')"
   ]
  },
  {
   "cell_type": "markdown",
   "id": "5ae9a044",
   "metadata": {},
   "source": [
    "### Transfer:\n",
    "* Not all instruments are transferable.\n",
    "* If transferable -- will work on the basic nature of the instrument decided right from the issue point(by the issuer).\n",
    "* Check = not expired apart from being owned.\n",
    "\n",
    "In Asset Type 3, as it's non tranferable, all the transfers should be **failure**."
   ]
  },
  {
   "cell_type": "code",
   "execution_count": 27,
   "id": "0ae67e61",
   "metadata": {},
   "outputs": [
    {
     "name": "stderr",
     "output_type": "stream",
     "text": [
      " 19-05 10:38:04 | \u001b[32mI\u001b[0m | \u001b[32mTranfering instrument id 'c7a34000-ac8d-4d63-a0cf-ccb7b09435b2' to 'Charlie'\u001b[0m\n",
      " 19-05 10:38:04 | \u001b[32mI\u001b[0m | \u001b[32mRunning action 'Transfer' on 'Alice/F07CC621F1DF/CN=Alice, OU=Test Dept, O=R3, L=London, C=GB'\u001b[0m\n",
      " 19-05 10:38:08 | \u001b[32mI\u001b[0m | \u001b[32m{'type': 'FLOW_FAILED', 'message': 'net.corda.v5.ledger.utxo.ContractVerificationException: Verification of ledger transaction with ID SHA-256D:11A2F0F6AE340877D3D973F3EA44551561E99CACB294A84E78C885C125A06ED5 failed: net.corda.v5.ledger.utxo.ContractVerificationException: Ledger transaction contract verification failed for the specified transaction: SHA-256D:11A2F0F6AE340877D3D973F3EA44551561E99CACB294A84E78C885C125A06ED5.\\nThe following contract verification requirements were not met:\\ncom.r3.developers.configurableInstrument.contracts.InstrumentContract: Failed requirement: Instrument is not transferable.\\n'}\u001b[0m\n",
      " 19-05 10:38:08 | \u001b[32mI\u001b[0m | \u001b[32mTime taken = 0:00:04.163592\u001b[0m\n"
     ]
    },
    {
     "name": "stdout",
     "output_type": "stream",
     "text": [
      "44156.1684463884.192985<Response [200]>{'type': 'FLOW_FAILED', 'message': 'net.corda.v5.ledger.utxo.ContractVerificationException: Verification of ledger transaction with ID SHA-256D:11A2F0F6AE340877D3D973F3EA44551561E99CACB294A84E78C885C125A06ED5 failed: net.corda.v5.ledger.utxo.ContractVerificationException: Ledger transaction contract verification failed for the specified transaction: SHA-256D:11A2F0F6AE340877D3D973F3EA44551561E99CACB294A84E78C885C125A06ED5.\\nThe following contract verification requirements were not met:\\ncom.r3.developers.configurableInstrument.contracts.InstrumentContract: Failed requirement: Instrument is not transferable.\\n'}"
     ]
    }
   ],
   "source": [
    "# Transfer Test 1 -- Partial transfer from Holder for instrument Type 3, Transferable = N, Quantifiable = Y\n",
    "# Expected -- Failure\n",
    "(req_id, response, return_val) = h.transfer(return_val_uuid, 'Alice', 'Charlie', quantity=1)\n",
    "h.message([req_id, response, return_val])"
   ]
  },
  {
   "cell_type": "code",
   "execution_count": 29,
   "id": "c636fd2c",
   "metadata": {},
   "outputs": [
    {
     "name": "stderr",
     "output_type": "stream",
     "text": [
      " 19-05 10:40:23 | \u001b[32mI\u001b[0m | \u001b[32mTranfering instrument id 'c7a34000-ac8d-4d63-a0cf-ccb7b09435b2' to 'Charlie'\u001b[0m\n",
      " 19-05 10:40:23 | \u001b[32mI\u001b[0m | \u001b[32mRunning action 'Transfer' on 'Alice/F07CC621F1DF/CN=Alice, OU=Test Dept, O=R3, L=London, C=GB'\u001b[0m\n",
      " 19-05 10:40:27 | \u001b[32mI\u001b[0m | \u001b[32m{'type': 'FLOW_FAILED', 'message': 'net.corda.v5.ledger.utxo.ContractVerificationException: Verification of ledger transaction with ID SHA-256D:6A67FEA0148F3D0A9FA71E6A19AE63B72ED74555B42A9314EB1BD84A5DB7D2FA failed: net.corda.v5.ledger.utxo.ContractVerificationException: Ledger transaction contract verification failed for the specified transaction: SHA-256D:6A67FEA0148F3D0A9FA71E6A19AE63B72ED74555B42A9314EB1BD84A5DB7D2FA.\\nThe following contract verification requirements were not met:\\ncom.r3.developers.configurableInstrument.contracts.InstrumentContract: Failed requirement: Instrument is not transferable.\\n'}\u001b[0m\n",
      " 19-05 10:40:27 | \u001b[32mI\u001b[0m | \u001b[32mTime taken = 0:00:04.069765\u001b[0m\n"
     ]
    },
    {
     "name": "stdout",
     "output_type": "stream",
     "text": [
      "44156.1684464023.852549<Response [200]>{'type': 'FLOW_FAILED', 'message': 'net.corda.v5.ledger.utxo.ContractVerificationException: Verification of ledger transaction with ID SHA-256D:6A67FEA0148F3D0A9FA71E6A19AE63B72ED74555B42A9314EB1BD84A5DB7D2FA failed: net.corda.v5.ledger.utxo.ContractVerificationException: Ledger transaction contract verification failed for the specified transaction: SHA-256D:6A67FEA0148F3D0A9FA71E6A19AE63B72ED74555B42A9314EB1BD84A5DB7D2FA.\\nThe following contract verification requirements were not met:\\ncom.r3.developers.configurableInstrument.contracts.InstrumentContract: Failed requirement: Instrument is not transferable.\\n'}"
     ]
    }
   ],
   "source": [
    "# Transfer Test 2 -- Full transfer from Holder \n",
    "# Expected -- Failure\n",
    "(req_id, response, return_val) = h.transfer(return_val_uuid, 'Alice', 'Charlie', quantity=200)\n",
    "h.message([req_id, response, return_val])"
   ]
  },
  {
   "cell_type": "code",
   "execution_count": 30,
   "id": "ee0afdb7",
   "metadata": {},
   "outputs": [
    {
     "name": "stderr",
     "output_type": "stream",
     "text": [
      " 19-05 10:40:47 | \u001b[32mI\u001b[0m | \u001b[32mTranfering instrument id 'c7a34000-ac8d-4d63-a0cf-ccb7b09435b2' to 'Charlie'\u001b[0m\n",
      " 19-05 10:40:47 | \u001b[32mI\u001b[0m | \u001b[32mRunning action 'Transfer' on 'Authority/F0E569C4765C/CN=Authority, OU=Test Dept, O=R3, L=London, C=GB'\u001b[0m\n",
      " 19-05 10:40:51 | \u001b[32mI\u001b[0m | \u001b[32m{'type': 'FLOW_FAILED', 'message': 'Not able to find a owning state with id c7a34000-ac8d-4d63-a0cf-ccb7b09435b2'}\u001b[0m\n",
      " 19-05 10:40:51 | \u001b[32mI\u001b[0m | \u001b[32mTime taken = 0:00:04.073150\u001b[0m\n"
     ]
    },
    {
     "name": "stdout",
     "output_type": "stream",
     "text": [
      "44156.1684464047.251246<Response [200]>{'type': 'FLOW_FAILED', 'message': 'Not able to find a owning state with id c7a34000-ac8d-4d63-a0cf-ccb7b09435b2'}"
     ]
    }
   ],
   "source": [
    "# Transfer Test 3 -- Transfer from Issuer \n",
    "# Expected -- Failure\n",
    "(req_id, response, return_val) = h.transfer(return_val_uuid, 'Authority', 'Charlie', quantity=100)\n",
    "h.message([req_id, response, return_val])"
   ]
  },
  {
   "cell_type": "code",
   "execution_count": 31,
   "id": "2d20141c",
   "metadata": {},
   "outputs": [
    {
     "name": "stderr",
     "output_type": "stream",
     "text": [
      " 19-05 10:41:14 | \u001b[32mI\u001b[0m | \u001b[32mTranfering instrument id 'c7a34000-ac8d-4d63-a0cf-ccb7b09435b2' to 'Bob'\u001b[0m\n",
      " 19-05 10:41:14 | \u001b[32mI\u001b[0m | \u001b[32mRunning action 'Transfer' on 'Charlie/AD4AA4F0D9B1/CN=Charlie, OU=Test Dept, O=R3, L=London, C=GB'\u001b[0m\n",
      " 19-05 10:41:18 | \u001b[32mI\u001b[0m | \u001b[32m{'type': 'FLOW_FAILED', 'message': 'Not able to find a owning state with id c7a34000-ac8d-4d63-a0cf-ccb7b09435b2'}\u001b[0m\n",
      " 19-05 10:41:18 | \u001b[32mI\u001b[0m | \u001b[32mTime taken = 0:00:04.071231\u001b[0m\n"
     ]
    },
    {
     "name": "stdout",
     "output_type": "stream",
     "text": [
      "44156.1684464074.372929<Response [200]>{'type': 'FLOW_FAILED', 'message': 'Not able to find a owning state with id c7a34000-ac8d-4d63-a0cf-ccb7b09435b2'}"
     ]
    }
   ],
   "source": [
    "# Transfer Test 4 -- Transfer from Non Holder \n",
    "# Expected -- Failure\n",
    "(req_id, response, return_val) = h.transfer(return_val_uuid, 'Charlie', 'Bob', quantity=1)\n",
    "h.message([req_id, response, return_val])"
   ]
  },
  {
   "cell_type": "code",
   "execution_count": 34,
   "id": "4418f59c",
   "metadata": {
    "scrolled": false
   },
   "outputs": [
    {
     "name": "stderr",
     "output_type": "stream",
     "text": [
      " 19-05 10:43:57 | \u001b[32mI\u001b[0m | \u001b[32mResult for query=ListInstrument from 'Authority/F0E569C4765C/CN=Authority, OU=Test Dept, O=R3, L=London, C=GB'. (Time taken=0:00:04.104439)\u001b[0m\n"
     ]
    },
    {
     "data": {
      "text/html": [
       "<div>\n",
       "<style scoped>\n",
       "    .dataframe tbody tr th:only-of-type {\n",
       "        vertical-align: middle;\n",
       "    }\n",
       "\n",
       "    .dataframe tbody tr th {\n",
       "        vertical-align: top;\n",
       "    }\n",
       "\n",
       "    .dataframe thead th {\n",
       "        text-align: right;\n",
       "    }\n",
       "</style>\n",
       "<table border=\"1\" class=\"dataframe\">\n",
       "  <thead>\n",
       "    <tr style=\"text-align: right;\">\n",
       "      <th></th>\n",
       "      <th>id</th>\n",
       "      <th>name</th>\n",
       "      <th>owner</th>\n",
       "      <th>issuer</th>\n",
       "      <th>quantity</th>\n",
       "      <th>transferable</th>\n",
       "      <th>expiry</th>\n",
       "      <th>verifiable</th>\n",
       "      <th>attributes</th>\n",
       "    </tr>\n",
       "  </thead>\n",
       "  <tbody>\n",
       "    <tr>\n",
       "      <th>0</th>\n",
       "      <td>d4ea67e0-9945-4fe5-b0da-c3ef0d457e32</td>\n",
       "      <td>Star Alliance Travel Points</td>\n",
       "      <td>CN=Alice, OU=Test Dept, O=R3, L=London, C=GB</td>\n",
       "      <td>CN=Authority, OU=Test Dept, O=R3, L=London, C=GB</td>\n",
       "      <td>10</td>\n",
       "      <td>False</td>\n",
       "      <td>None</td>\n",
       "      <td>True</td>\n",
       "      <td>{}</td>\n",
       "    </tr>\n",
       "    <tr>\n",
       "      <th>1</th>\n",
       "      <td>c7a34000-ac8d-4d63-a0cf-ccb7b09435b2</td>\n",
       "      <td>Amazon Voucher</td>\n",
       "      <td>CN=Alice, OU=Test Dept, O=R3, L=London, C=GB</td>\n",
       "      <td>CN=Authority, OU=Test Dept, O=R3, L=London, C=GB</td>\n",
       "      <td>200</td>\n",
       "      <td>False</td>\n",
       "      <td>None</td>\n",
       "      <td>True</td>\n",
       "      <td>{'currency': 'INR'}</td>\n",
       "    </tr>\n",
       "  </tbody>\n",
       "</table>\n",
       "</div>"
      ],
      "text/plain": [
       "                                     id                         name   \n",
       "0  d4ea67e0-9945-4fe5-b0da-c3ef0d457e32  Star Alliance Travel Points  \\\n",
       "1  c7a34000-ac8d-4d63-a0cf-ccb7b09435b2               Amazon Voucher   \n",
       "\n",
       "                                          owner   \n",
       "0  CN=Alice, OU=Test Dept, O=R3, L=London, C=GB  \\\n",
       "1  CN=Alice, OU=Test Dept, O=R3, L=London, C=GB   \n",
       "\n",
       "                                             issuer  quantity  transferable   \n",
       "0  CN=Authority, OU=Test Dept, O=R3, L=London, C=GB        10         False  \\\n",
       "1  CN=Authority, OU=Test Dept, O=R3, L=London, C=GB       200         False   \n",
       "\n",
       "  expiry  verifiable           attributes  \n",
       "0   None        True                   {}  \n",
       "1   None        True  {'currency': 'INR'}  "
      ]
     },
     "metadata": {},
     "output_type": "display_data"
    },
    {
     "name": "stderr",
     "output_type": "stream",
     "text": [
      " 19-05 10:44:01 | \u001b[32mI\u001b[0m | \u001b[32mResult for query=ListInstrument from 'Bob/972B13CEE093/CN=Bob, OU=Test Dept, O=R3, L=London, C=GB'. (Time taken=0:00:04.082594)\u001b[0m\n"
     ]
    },
    {
     "data": {
      "text/html": [
       "<div>\n",
       "<style scoped>\n",
       "    .dataframe tbody tr th:only-of-type {\n",
       "        vertical-align: middle;\n",
       "    }\n",
       "\n",
       "    .dataframe tbody tr th {\n",
       "        vertical-align: top;\n",
       "    }\n",
       "\n",
       "    .dataframe thead th {\n",
       "        text-align: right;\n",
       "    }\n",
       "</style>\n",
       "<table border=\"1\" class=\"dataframe\">\n",
       "  <thead>\n",
       "    <tr style=\"text-align: right;\">\n",
       "      <th></th>\n",
       "    </tr>\n",
       "  </thead>\n",
       "  <tbody>\n",
       "  </tbody>\n",
       "</table>\n",
       "</div>"
      ],
      "text/plain": [
       "Empty DataFrame\n",
       "Columns: []\n",
       "Index: []"
      ]
     },
     "metadata": {},
     "output_type": "display_data"
    },
    {
     "name": "stderr",
     "output_type": "stream",
     "text": [
      " 19-05 10:44:05 | \u001b[32mI\u001b[0m | \u001b[32mResult for query=ListInstrument from 'Charlie/AD4AA4F0D9B1/CN=Charlie, OU=Test Dept, O=R3, L=London, C=GB'. (Time taken=0:00:04.081740)\u001b[0m\n"
     ]
    },
    {
     "data": {
      "text/html": [
       "<div>\n",
       "<style scoped>\n",
       "    .dataframe tbody tr th:only-of-type {\n",
       "        vertical-align: middle;\n",
       "    }\n",
       "\n",
       "    .dataframe tbody tr th {\n",
       "        vertical-align: top;\n",
       "    }\n",
       "\n",
       "    .dataframe thead th {\n",
       "        text-align: right;\n",
       "    }\n",
       "</style>\n",
       "<table border=\"1\" class=\"dataframe\">\n",
       "  <thead>\n",
       "    <tr style=\"text-align: right;\">\n",
       "      <th></th>\n",
       "    </tr>\n",
       "  </thead>\n",
       "  <tbody>\n",
       "  </tbody>\n",
       "</table>\n",
       "</div>"
      ],
      "text/plain": [
       "Empty DataFrame\n",
       "Columns: []\n",
       "Index: []"
      ]
     },
     "metadata": {},
     "output_type": "display_data"
    },
    {
     "name": "stderr",
     "output_type": "stream",
     "text": [
      " 19-05 10:44:09 | \u001b[32mI\u001b[0m | \u001b[32mResult for query=ListInstrument from 'Alice/F07CC621F1DF/CN=Alice, OU=Test Dept, O=R3, L=London, C=GB'. (Time taken=0:00:04.085795)\u001b[0m\n"
     ]
    },
    {
     "data": {
      "text/html": [
       "<div>\n",
       "<style scoped>\n",
       "    .dataframe tbody tr th:only-of-type {\n",
       "        vertical-align: middle;\n",
       "    }\n",
       "\n",
       "    .dataframe tbody tr th {\n",
       "        vertical-align: top;\n",
       "    }\n",
       "\n",
       "    .dataframe thead th {\n",
       "        text-align: right;\n",
       "    }\n",
       "</style>\n",
       "<table border=\"1\" class=\"dataframe\">\n",
       "  <thead>\n",
       "    <tr style=\"text-align: right;\">\n",
       "      <th></th>\n",
       "      <th>id</th>\n",
       "      <th>name</th>\n",
       "      <th>owner</th>\n",
       "      <th>issuer</th>\n",
       "      <th>quantity</th>\n",
       "      <th>transferable</th>\n",
       "      <th>expiry</th>\n",
       "      <th>verifiable</th>\n",
       "      <th>attributes</th>\n",
       "    </tr>\n",
       "  </thead>\n",
       "  <tbody>\n",
       "    <tr>\n",
       "      <th>0</th>\n",
       "      <td>d4ea67e0-9945-4fe5-b0da-c3ef0d457e32</td>\n",
       "      <td>Star Alliance Travel Points</td>\n",
       "      <td>CN=Alice, OU=Test Dept, O=R3, L=London, C=GB</td>\n",
       "      <td>CN=Authority, OU=Test Dept, O=R3, L=London, C=GB</td>\n",
       "      <td>10</td>\n",
       "      <td>False</td>\n",
       "      <td>None</td>\n",
       "      <td>True</td>\n",
       "      <td>{}</td>\n",
       "    </tr>\n",
       "    <tr>\n",
       "      <th>1</th>\n",
       "      <td>c7a34000-ac8d-4d63-a0cf-ccb7b09435b2</td>\n",
       "      <td>Amazon Voucher</td>\n",
       "      <td>CN=Alice, OU=Test Dept, O=R3, L=London, C=GB</td>\n",
       "      <td>CN=Authority, OU=Test Dept, O=R3, L=London, C=GB</td>\n",
       "      <td>200</td>\n",
       "      <td>False</td>\n",
       "      <td>None</td>\n",
       "      <td>True</td>\n",
       "      <td>{'currency': 'INR'}</td>\n",
       "    </tr>\n",
       "  </tbody>\n",
       "</table>\n",
       "</div>"
      ],
      "text/plain": [
       "                                     id                         name   \n",
       "0  d4ea67e0-9945-4fe5-b0da-c3ef0d457e32  Star Alliance Travel Points  \\\n",
       "1  c7a34000-ac8d-4d63-a0cf-ccb7b09435b2               Amazon Voucher   \n",
       "\n",
       "                                          owner   \n",
       "0  CN=Alice, OU=Test Dept, O=R3, L=London, C=GB  \\\n",
       "1  CN=Alice, OU=Test Dept, O=R3, L=London, C=GB   \n",
       "\n",
       "                                             issuer  quantity  transferable   \n",
       "0  CN=Authority, OU=Test Dept, O=R3, L=London, C=GB        10         False  \\\n",
       "1  CN=Authority, OU=Test Dept, O=R3, L=London, C=GB       200         False   \n",
       "\n",
       "  expiry  verifiable           attributes  \n",
       "0   None        True                   {}  \n",
       "1   None        True  {'currency': 'INR'}  "
      ]
     },
     "metadata": {},
     "output_type": "display_data"
    }
   ],
   "source": [
    "# Query all nodes\n",
    "h.query_all_nodes()"
   ]
  },
  {
   "cell_type": "markdown",
   "id": "88845b5a",
   "metadata": {},
   "source": [
    "### Redeem:\n",
    "* Not all instruments will have expiry/maturity.\n",
    "* Redeem can be executed by either the owner (holder of the asset) or also by the issuer of the asset (present design, can be controlled)\n",
    "* If permitted, it will work on the basic nature of the instrument decided right from the issue point(by the issuer).\n",
    "* In Asset type 1, all the redeems apart from non holders should be succeed\n",
    "\n",
    "In Asset type 3, all the redeems apart from non holders should be **succeed**."
   ]
  },
  {
   "cell_type": "code",
   "execution_count": 35,
   "id": "d64fe7db",
   "metadata": {},
   "outputs": [
    {
     "name": "stderr",
     "output_type": "stream",
     "text": [
      " 19-05 10:51:29 | \u001b[32mI\u001b[0m | \u001b[32mRedeeming instrument id 'c7a34000-ac8d-4d63-a0cf-ccb7b09435b2' quantity '10'\u001b[0m\n",
      " 19-05 10:51:29 | \u001b[32mI\u001b[0m | \u001b[32mRunning action 'Redeem' on 'Alice/F07CC621F1DF/CN=Alice, OU=Test Dept, O=R3, L=London, C=GB'\u001b[0m\n",
      " 19-05 10:52:14 | \u001b[32mI\u001b[0m | \u001b[32mnet.corda.ledger.utxo.flow.impl.FinalizationResultImpl@be1e6e\u001b[0m\n",
      " 19-05 10:52:14 | \u001b[32mI\u001b[0m | \u001b[32mTime taken = 0:00:44.543687\u001b[0m\n"
     ]
    },
    {
     "name": "stdout",
     "output_type": "stream",
     "text": [
      "44156.1684464689.793643<Response [200]>net.corda.ledger.utxo.flow.impl.FinalizationResultImpl@be1e6e"
     ]
    }
   ],
   "source": [
    "# Redeem Test1 -- Partial redeem by Holder (10 Amazon Voucher by Alice)\n",
    "# Exepected -- Succeed\n",
    "\n",
    "(req_id, response, return_val) = h.redeem('c7a34000-ac8d-4d63-a0cf-ccb7b09435b2', 'Alice', quantity=10)\n",
    "h.message([req_id, response, return_val])"
   ]
  },
  {
   "cell_type": "code",
   "execution_count": 36,
   "id": "59f2d405",
   "metadata": {},
   "outputs": [
    {
     "data": {
      "text/html": [
       "<div>\n",
       "<style scoped>\n",
       "    .dataframe tbody tr th:only-of-type {\n",
       "        vertical-align: middle;\n",
       "    }\n",
       "\n",
       "    .dataframe tbody tr th {\n",
       "        vertical-align: top;\n",
       "    }\n",
       "\n",
       "    .dataframe thead th {\n",
       "        text-align: right;\n",
       "    }\n",
       "</style>\n",
       "<table border=\"1\" class=\"dataframe\">\n",
       "  <thead>\n",
       "    <tr style=\"text-align: right;\">\n",
       "      <th></th>\n",
       "      <th>id</th>\n",
       "      <th>name</th>\n",
       "      <th>owner</th>\n",
       "      <th>issuer</th>\n",
       "      <th>quantity</th>\n",
       "      <th>transferable</th>\n",
       "      <th>expiry</th>\n",
       "      <th>verifiable</th>\n",
       "      <th>attributes</th>\n",
       "    </tr>\n",
       "  </thead>\n",
       "  <tbody>\n",
       "    <tr>\n",
       "      <th>0</th>\n",
       "      <td>d4ea67e0-9945-4fe5-b0da-c3ef0d457e32</td>\n",
       "      <td>Star Alliance Travel Points</td>\n",
       "      <td>CN=Alice, OU=Test Dept, O=R3, L=London, C=GB</td>\n",
       "      <td>CN=Authority, OU=Test Dept, O=R3, L=London, C=GB</td>\n",
       "      <td>10</td>\n",
       "      <td>False</td>\n",
       "      <td>None</td>\n",
       "      <td>True</td>\n",
       "      <td>{}</td>\n",
       "    </tr>\n",
       "    <tr>\n",
       "      <th>1</th>\n",
       "      <td>c7a34000-ac8d-4d63-a0cf-ccb7b09435b2</td>\n",
       "      <td>Amazon Voucher</td>\n",
       "      <td>CN=Alice, OU=Test Dept, O=R3, L=London, C=GB</td>\n",
       "      <td>CN=Authority, OU=Test Dept, O=R3, L=London, C=GB</td>\n",
       "      <td>190</td>\n",
       "      <td>False</td>\n",
       "      <td>None</td>\n",
       "      <td>True</td>\n",
       "      <td>{'currency': 'INR'}</td>\n",
       "    </tr>\n",
       "  </tbody>\n",
       "</table>\n",
       "</div>"
      ],
      "text/plain": [
       "                                     id                         name   \n",
       "0  d4ea67e0-9945-4fe5-b0da-c3ef0d457e32  Star Alliance Travel Points  \\\n",
       "1  c7a34000-ac8d-4d63-a0cf-ccb7b09435b2               Amazon Voucher   \n",
       "\n",
       "                                          owner   \n",
       "0  CN=Alice, OU=Test Dept, O=R3, L=London, C=GB  \\\n",
       "1  CN=Alice, OU=Test Dept, O=R3, L=London, C=GB   \n",
       "\n",
       "                                             issuer  quantity  transferable   \n",
       "0  CN=Authority, OU=Test Dept, O=R3, L=London, C=GB        10         False  \\\n",
       "1  CN=Authority, OU=Test Dept, O=R3, L=London, C=GB       190         False   \n",
       "\n",
       "  expiry  verifiable           attributes  \n",
       "0   None        True                   {}  \n",
       "1   None        True  {'currency': 'INR'}  "
      ]
     },
     "execution_count": 36,
     "metadata": {},
     "output_type": "execute_result"
    }
   ],
   "source": [
    "# Now, query Alice, quantity of Amazon Voucher reduced to 190\n",
    "h.query('Alice')"
   ]
  },
  {
   "cell_type": "code",
   "execution_count": 38,
   "id": "a686d151",
   "metadata": {
    "scrolled": false
   },
   "outputs": [
    {
     "name": "stderr",
     "output_type": "stream",
     "text": [
      " 19-05 10:58:07 | \u001b[32mI\u001b[0m | \u001b[32mRedeeming instrument id 'd4ea67e0-9945-4fe5-b0da-c3ef0d457e32' quantity '15'\u001b[0m\n",
      " 19-05 10:58:07 | \u001b[32mI\u001b[0m | \u001b[32mRunning action 'Redeem' on 'Alice/F07CC621F1DF/CN=Alice, OU=Test Dept, O=R3, L=London, C=GB'\u001b[0m\n",
      " 19-05 10:58:11 | \u001b[32mI\u001b[0m | \u001b[32m{'type': 'FLOW_FAILED', 'message': 'Redeem quantity requested is 15, whereas quantity in instrument id d4ea67e0-9945-4fe5-b0da-c3ef0d457e32 is 10 (less quantity)'}\u001b[0m\n",
      " 19-05 10:58:11 | \u001b[32mI\u001b[0m | \u001b[32mTime taken = 0:00:04.081071\u001b[0m\n"
     ]
    },
    {
     "name": "stdout",
     "output_type": "stream",
     "text": [
      "44156.1684465087.178814<Response [200]>{'type': 'FLOW_FAILED', 'message': 'Redeem quantity requested is 15, whereas quantity in instrument id d4ea67e0-9945-4fe5-b0da-c3ef0d457e32 is 10 (less quantity)'}"
     ]
    }
   ],
   "source": [
    "# Redeem Test 2 -- Redemption exceeded the maximum quantity by Holder \n",
    "# Exepected -- Failure\n",
    "(req_id, response, return_val) = h.redeem('d4ea67e0-9945-4fe5-b0da-c3ef0d457e32', 'Alice', quantity=15)\n",
    "h.message([req_id, response, return_val])"
   ]
  },
  {
   "cell_type": "code",
   "execution_count": 39,
   "id": "78fdd703",
   "metadata": {},
   "outputs": [
    {
     "name": "stderr",
     "output_type": "stream",
     "text": [
      " 19-05 11:01:19 | \u001b[32mI\u001b[0m | \u001b[32mRedeeming instrument id 'd4ea67e0-9945-4fe5-b0da-c3ef0d457e32' quantity '2'\u001b[0m\n",
      " 19-05 11:01:19 | \u001b[32mI\u001b[0m | \u001b[32mRunning action 'Redeem' on 'Authority/F0E569C4765C/CN=Authority, OU=Test Dept, O=R3, L=London, C=GB'\u001b[0m\n",
      " 19-05 11:02:08 | \u001b[32mI\u001b[0m | \u001b[32mnet.corda.ledger.utxo.flow.impl.FinalizationResultImpl@48da0cd1\u001b[0m\n",
      " 19-05 11:02:08 | \u001b[32mI\u001b[0m | \u001b[32mTime taken = 0:00:48.573322\u001b[0m\n"
     ]
    },
    {
     "name": "stdout",
     "output_type": "stream",
     "text": [
      "44156.1684465279.698095<Response [200]>net.corda.ledger.utxo.flow.impl.FinalizationResultImpl@48da0cd1"
     ]
    }
   ],
   "source": [
    "# Redeem Test 3 -- Partial redeem by Issuer (2 Star Alliance Travel Points by Authority)\n",
    "# Exepected -- Succeed\n",
    "(req_id, response, return_val) = h.redeem('d4ea67e0-9945-4fe5-b0da-c3ef0d457e32', 'Authority', quantity=2)\n",
    "h.message([req_id, response, return_val])"
   ]
  },
  {
   "cell_type": "code",
   "execution_count": 41,
   "id": "f062005a",
   "metadata": {},
   "outputs": [
    {
     "data": {
      "text/html": [
       "<div>\n",
       "<style scoped>\n",
       "    .dataframe tbody tr th:only-of-type {\n",
       "        vertical-align: middle;\n",
       "    }\n",
       "\n",
       "    .dataframe tbody tr th {\n",
       "        vertical-align: top;\n",
       "    }\n",
       "\n",
       "    .dataframe thead th {\n",
       "        text-align: right;\n",
       "    }\n",
       "</style>\n",
       "<table border=\"1\" class=\"dataframe\">\n",
       "  <thead>\n",
       "    <tr style=\"text-align: right;\">\n",
       "      <th></th>\n",
       "      <th>id</th>\n",
       "      <th>name</th>\n",
       "      <th>owner</th>\n",
       "      <th>issuer</th>\n",
       "      <th>quantity</th>\n",
       "      <th>transferable</th>\n",
       "      <th>expiry</th>\n",
       "      <th>verifiable</th>\n",
       "      <th>attributes</th>\n",
       "    </tr>\n",
       "  </thead>\n",
       "  <tbody>\n",
       "    <tr>\n",
       "      <th>0</th>\n",
       "      <td>c7a34000-ac8d-4d63-a0cf-ccb7b09435b2</td>\n",
       "      <td>Amazon Voucher</td>\n",
       "      <td>CN=Alice, OU=Test Dept, O=R3, L=London, C=GB</td>\n",
       "      <td>CN=Authority, OU=Test Dept, O=R3, L=London, C=GB</td>\n",
       "      <td>190</td>\n",
       "      <td>False</td>\n",
       "      <td>None</td>\n",
       "      <td>True</td>\n",
       "      <td>{'currency': 'INR'}</td>\n",
       "    </tr>\n",
       "    <tr>\n",
       "      <th>1</th>\n",
       "      <td>d4ea67e0-9945-4fe5-b0da-c3ef0d457e32</td>\n",
       "      <td>Star Alliance Travel Points</td>\n",
       "      <td>CN=Alice, OU=Test Dept, O=R3, L=London, C=GB</td>\n",
       "      <td>CN=Authority, OU=Test Dept, O=R3, L=London, C=GB</td>\n",
       "      <td>8</td>\n",
       "      <td>False</td>\n",
       "      <td>None</td>\n",
       "      <td>True</td>\n",
       "      <td>{}</td>\n",
       "    </tr>\n",
       "  </tbody>\n",
       "</table>\n",
       "</div>"
      ],
      "text/plain": [
       "                                     id                         name   \n",
       "0  c7a34000-ac8d-4d63-a0cf-ccb7b09435b2               Amazon Voucher  \\\n",
       "1  d4ea67e0-9945-4fe5-b0da-c3ef0d457e32  Star Alliance Travel Points   \n",
       "\n",
       "                                          owner   \n",
       "0  CN=Alice, OU=Test Dept, O=R3, L=London, C=GB  \\\n",
       "1  CN=Alice, OU=Test Dept, O=R3, L=London, C=GB   \n",
       "\n",
       "                                             issuer  quantity  transferable   \n",
       "0  CN=Authority, OU=Test Dept, O=R3, L=London, C=GB       190         False  \\\n",
       "1  CN=Authority, OU=Test Dept, O=R3, L=London, C=GB         8         False   \n",
       "\n",
       "  expiry  verifiable           attributes  \n",
       "0   None        True  {'currency': 'INR'}  \n",
       "1   None        True                   {}  "
      ]
     },
     "execution_count": 41,
     "metadata": {},
     "output_type": "execute_result"
    }
   ],
   "source": [
    "# Now, query Alice again, quantity of Star Alliance Travel Points reduced to 8\n",
    "h.query('Alice')"
   ]
  },
  {
   "cell_type": "code",
   "execution_count": 43,
   "id": "693221f9",
   "metadata": {},
   "outputs": [
    {
     "name": "stderr",
     "output_type": "stream",
     "text": [
      " 19-05 11:07:29 | \u001b[32mI\u001b[0m | \u001b[32mRedeeming instrument id 'c7a34000-ac8d-4d63-a0cf-ccb7b09435b2' quantity '190'\u001b[0m\n",
      " 19-05 11:07:29 | \u001b[32mI\u001b[0m | \u001b[32mRunning action 'Redeem' on 'Alice/F07CC621F1DF/CN=Alice, OU=Test Dept, O=R3, L=London, C=GB'\u001b[0m\n",
      " 19-05 11:08:06 | \u001b[32mI\u001b[0m | \u001b[32mnet.corda.ledger.utxo.flow.impl.FinalizationResultImpl@4aeea55\u001b[0m\n",
      " 19-05 11:08:06 | \u001b[32mI\u001b[0m | \u001b[32mTime taken = 0:00:36.366574\u001b[0m\n"
     ]
    },
    {
     "name": "stdout",
     "output_type": "stream",
     "text": [
      "44156.1684465649.76219<Response [200]>net.corda.ledger.utxo.flow.impl.FinalizationResultImpl@4aeea55"
     ]
    }
   ],
   "source": [
    "# Redeem Test 4 -- Full redeem by Holder (190 Amazon Voucher by Alice)\n",
    "# Exepected -- Succeed\n",
    "(req_id, response, return_val) = h.redeem('c7a34000-ac8d-4d63-a0cf-ccb7b09435b2', 'Alice', quantity=190)\n",
    "h.message([req_id, response, return_val])"
   ]
  },
  {
   "cell_type": "code",
   "execution_count": 44,
   "id": "20609cf2",
   "metadata": {},
   "outputs": [
    {
     "data": {
      "text/html": [
       "<div>\n",
       "<style scoped>\n",
       "    .dataframe tbody tr th:only-of-type {\n",
       "        vertical-align: middle;\n",
       "    }\n",
       "\n",
       "    .dataframe tbody tr th {\n",
       "        vertical-align: top;\n",
       "    }\n",
       "\n",
       "    .dataframe thead th {\n",
       "        text-align: right;\n",
       "    }\n",
       "</style>\n",
       "<table border=\"1\" class=\"dataframe\">\n",
       "  <thead>\n",
       "    <tr style=\"text-align: right;\">\n",
       "      <th></th>\n",
       "      <th>id</th>\n",
       "      <th>name</th>\n",
       "      <th>owner</th>\n",
       "      <th>issuer</th>\n",
       "      <th>quantity</th>\n",
       "      <th>transferable</th>\n",
       "      <th>expiry</th>\n",
       "      <th>verifiable</th>\n",
       "      <th>attributes</th>\n",
       "    </tr>\n",
       "  </thead>\n",
       "  <tbody>\n",
       "    <tr>\n",
       "      <th>0</th>\n",
       "      <td>d4ea67e0-9945-4fe5-b0da-c3ef0d457e32</td>\n",
       "      <td>Star Alliance Travel Points</td>\n",
       "      <td>CN=Alice, OU=Test Dept, O=R3, L=London, C=GB</td>\n",
       "      <td>CN=Authority, OU=Test Dept, O=R3, L=London, C=GB</td>\n",
       "      <td>8</td>\n",
       "      <td>False</td>\n",
       "      <td>None</td>\n",
       "      <td>True</td>\n",
       "      <td>{}</td>\n",
       "    </tr>\n",
       "  </tbody>\n",
       "</table>\n",
       "</div>"
      ],
      "text/plain": [
       "                                     id                         name   \n",
       "0  d4ea67e0-9945-4fe5-b0da-c3ef0d457e32  Star Alliance Travel Points  \\\n",
       "\n",
       "                                          owner   \n",
       "0  CN=Alice, OU=Test Dept, O=R3, L=London, C=GB  \\\n",
       "\n",
       "                                             issuer  quantity  transferable   \n",
       "0  CN=Authority, OU=Test Dept, O=R3, L=London, C=GB         8         False  \\\n",
       "\n",
       "  expiry  verifiable attributes  \n",
       "0   None        True         {}  "
      ]
     },
     "execution_count": 44,
     "metadata": {},
     "output_type": "execute_result"
    }
   ],
   "source": [
    "# Now, query Alice again, Amazon Voucher was fully redeemed\n",
    "h.query('Alice')"
   ]
  },
  {
   "cell_type": "code",
   "execution_count": 46,
   "id": "6b7f4782",
   "metadata": {},
   "outputs": [
    {
     "name": "stderr",
     "output_type": "stream",
     "text": [
      " 19-05 11:12:02 | \u001b[32mI\u001b[0m | \u001b[32mResult for query=ListInstrument from 'Authority/F0E569C4765C/CN=Authority, OU=Test Dept, O=R3, L=London, C=GB'. (Time taken=0:00:04.200173)\u001b[0m\n"
     ]
    },
    {
     "data": {
      "text/html": [
       "<div>\n",
       "<style scoped>\n",
       "    .dataframe tbody tr th:only-of-type {\n",
       "        vertical-align: middle;\n",
       "    }\n",
       "\n",
       "    .dataframe tbody tr th {\n",
       "        vertical-align: top;\n",
       "    }\n",
       "\n",
       "    .dataframe thead th {\n",
       "        text-align: right;\n",
       "    }\n",
       "</style>\n",
       "<table border=\"1\" class=\"dataframe\">\n",
       "  <thead>\n",
       "    <tr style=\"text-align: right;\">\n",
       "      <th></th>\n",
       "      <th>id</th>\n",
       "      <th>name</th>\n",
       "      <th>owner</th>\n",
       "      <th>issuer</th>\n",
       "      <th>quantity</th>\n",
       "      <th>transferable</th>\n",
       "      <th>expiry</th>\n",
       "      <th>verifiable</th>\n",
       "      <th>attributes</th>\n",
       "    </tr>\n",
       "  </thead>\n",
       "  <tbody>\n",
       "    <tr>\n",
       "      <th>0</th>\n",
       "      <td>d4ea67e0-9945-4fe5-b0da-c3ef0d457e32</td>\n",
       "      <td>Star Alliance Travel Points</td>\n",
       "      <td>CN=Alice, OU=Test Dept, O=R3, L=London, C=GB</td>\n",
       "      <td>CN=Authority, OU=Test Dept, O=R3, L=London, C=GB</td>\n",
       "      <td>8</td>\n",
       "      <td>False</td>\n",
       "      <td>None</td>\n",
       "      <td>True</td>\n",
       "      <td>{}</td>\n",
       "    </tr>\n",
       "  </tbody>\n",
       "</table>\n",
       "</div>"
      ],
      "text/plain": [
       "                                     id                         name   \n",
       "0  d4ea67e0-9945-4fe5-b0da-c3ef0d457e32  Star Alliance Travel Points  \\\n",
       "\n",
       "                                          owner   \n",
       "0  CN=Alice, OU=Test Dept, O=R3, L=London, C=GB  \\\n",
       "\n",
       "                                             issuer  quantity  transferable   \n",
       "0  CN=Authority, OU=Test Dept, O=R3, L=London, C=GB         8         False  \\\n",
       "\n",
       "  expiry  verifiable attributes  \n",
       "0   None        True         {}  "
      ]
     },
     "metadata": {},
     "output_type": "display_data"
    },
    {
     "name": "stderr",
     "output_type": "stream",
     "text": [
      " 19-05 11:12:07 | \u001b[32mI\u001b[0m | \u001b[32mResult for query=ListInstrument from 'Bob/972B13CEE093/CN=Bob, OU=Test Dept, O=R3, L=London, C=GB'. (Time taken=0:00:04.084810)\u001b[0m\n"
     ]
    },
    {
     "data": {
      "text/html": [
       "<div>\n",
       "<style scoped>\n",
       "    .dataframe tbody tr th:only-of-type {\n",
       "        vertical-align: middle;\n",
       "    }\n",
       "\n",
       "    .dataframe tbody tr th {\n",
       "        vertical-align: top;\n",
       "    }\n",
       "\n",
       "    .dataframe thead th {\n",
       "        text-align: right;\n",
       "    }\n",
       "</style>\n",
       "<table border=\"1\" class=\"dataframe\">\n",
       "  <thead>\n",
       "    <tr style=\"text-align: right;\">\n",
       "      <th></th>\n",
       "    </tr>\n",
       "  </thead>\n",
       "  <tbody>\n",
       "  </tbody>\n",
       "</table>\n",
       "</div>"
      ],
      "text/plain": [
       "Empty DataFrame\n",
       "Columns: []\n",
       "Index: []"
      ]
     },
     "metadata": {},
     "output_type": "display_data"
    },
    {
     "name": "stderr",
     "output_type": "stream",
     "text": [
      " 19-05 11:12:11 | \u001b[32mI\u001b[0m | \u001b[32mResult for query=ListInstrument from 'Charlie/AD4AA4F0D9B1/CN=Charlie, OU=Test Dept, O=R3, L=London, C=GB'. (Time taken=0:00:04.085468)\u001b[0m\n"
     ]
    },
    {
     "data": {
      "text/html": [
       "<div>\n",
       "<style scoped>\n",
       "    .dataframe tbody tr th:only-of-type {\n",
       "        vertical-align: middle;\n",
       "    }\n",
       "\n",
       "    .dataframe tbody tr th {\n",
       "        vertical-align: top;\n",
       "    }\n",
       "\n",
       "    .dataframe thead th {\n",
       "        text-align: right;\n",
       "    }\n",
       "</style>\n",
       "<table border=\"1\" class=\"dataframe\">\n",
       "  <thead>\n",
       "    <tr style=\"text-align: right;\">\n",
       "      <th></th>\n",
       "    </tr>\n",
       "  </thead>\n",
       "  <tbody>\n",
       "  </tbody>\n",
       "</table>\n",
       "</div>"
      ],
      "text/plain": [
       "Empty DataFrame\n",
       "Columns: []\n",
       "Index: []"
      ]
     },
     "metadata": {},
     "output_type": "display_data"
    },
    {
     "name": "stderr",
     "output_type": "stream",
     "text": [
      " 19-05 11:12:15 | \u001b[32mI\u001b[0m | \u001b[32mResult for query=ListInstrument from 'Alice/F07CC621F1DF/CN=Alice, OU=Test Dept, O=R3, L=London, C=GB'. (Time taken=0:00:04.079961)\u001b[0m\n"
     ]
    },
    {
     "data": {
      "text/html": [
       "<div>\n",
       "<style scoped>\n",
       "    .dataframe tbody tr th:only-of-type {\n",
       "        vertical-align: middle;\n",
       "    }\n",
       "\n",
       "    .dataframe tbody tr th {\n",
       "        vertical-align: top;\n",
       "    }\n",
       "\n",
       "    .dataframe thead th {\n",
       "        text-align: right;\n",
       "    }\n",
       "</style>\n",
       "<table border=\"1\" class=\"dataframe\">\n",
       "  <thead>\n",
       "    <tr style=\"text-align: right;\">\n",
       "      <th></th>\n",
       "      <th>id</th>\n",
       "      <th>name</th>\n",
       "      <th>owner</th>\n",
       "      <th>issuer</th>\n",
       "      <th>quantity</th>\n",
       "      <th>transferable</th>\n",
       "      <th>expiry</th>\n",
       "      <th>verifiable</th>\n",
       "      <th>attributes</th>\n",
       "    </tr>\n",
       "  </thead>\n",
       "  <tbody>\n",
       "    <tr>\n",
       "      <th>0</th>\n",
       "      <td>d4ea67e0-9945-4fe5-b0da-c3ef0d457e32</td>\n",
       "      <td>Star Alliance Travel Points</td>\n",
       "      <td>CN=Alice, OU=Test Dept, O=R3, L=London, C=GB</td>\n",
       "      <td>CN=Authority, OU=Test Dept, O=R3, L=London, C=GB</td>\n",
       "      <td>8</td>\n",
       "      <td>False</td>\n",
       "      <td>None</td>\n",
       "      <td>True</td>\n",
       "      <td>{}</td>\n",
       "    </tr>\n",
       "  </tbody>\n",
       "</table>\n",
       "</div>"
      ],
      "text/plain": [
       "                                     id                         name   \n",
       "0  d4ea67e0-9945-4fe5-b0da-c3ef0d457e32  Star Alliance Travel Points  \\\n",
       "\n",
       "                                          owner   \n",
       "0  CN=Alice, OU=Test Dept, O=R3, L=London, C=GB  \\\n",
       "\n",
       "                                             issuer  quantity  transferable   \n",
       "0  CN=Authority, OU=Test Dept, O=R3, L=London, C=GB         8         False  \\\n",
       "\n",
       "  expiry  verifiable attributes  \n",
       "0   None        True         {}  "
      ]
     },
     "metadata": {},
     "output_type": "display_data"
    }
   ],
   "source": [
    "# Now, query all\n",
    "h.query_all_nodes(0)"
   ]
  },
  {
   "cell_type": "code",
   "execution_count": 45,
   "id": "1d1ed755",
   "metadata": {},
   "outputs": [
    {
     "name": "stderr",
     "output_type": "stream",
     "text": [
      " 19-05 11:10:08 | \u001b[32mI\u001b[0m | \u001b[32mRedeeming instrument id 'd4ea67e0-9945-4fe5-b0da-c3ef0d457e32' quantity '2'\u001b[0m\n",
      " 19-05 11:10:08 | \u001b[32mI\u001b[0m | \u001b[32mRunning action 'Redeem' on 'Bob/972B13CEE093/CN=Bob, OU=Test Dept, O=R3, L=London, C=GB'\u001b[0m\n",
      " 19-05 11:10:12 | \u001b[32mI\u001b[0m | \u001b[32m{'type': 'FLOW_FAILED', 'message': 'Not able to find a owning state with id d4ea67e0-9945-4fe5-b0da-c3ef0d457e32'}\u001b[0m\n",
      " 19-05 11:10:12 | \u001b[32mI\u001b[0m | \u001b[32mTime taken = 0:00:04.078159\u001b[0m\n"
     ]
    },
    {
     "name": "stdout",
     "output_type": "stream",
     "text": [
      "44156.1684465808.0447118<Response [200]>{'type': 'FLOW_FAILED', 'message': 'Not able to find a owning state with id d4ea67e0-9945-4fe5-b0da-c3ef0d457e32'}"
     ]
    }
   ],
   "source": [
    "# Redeem Test 5 -- Redeem by Non-holder (2 Star Alliance Travel Points by Bob)\n",
    "# Exepected -- Failure\n",
    "(req_id, response, return_val) = h.redeem('d4ea67e0-9945-4fe5-b0da-c3ef0d457e32', 'Bob', quantity=2)\n",
    "h.message([req_id, response, return_val])"
   ]
  },
  {
   "cell_type": "markdown",
   "id": "c3777bce",
   "metadata": {},
   "source": [
    "### Print to PDF:\n",
    "* \"Print to PDF\" is used for printing any instrument with a specific format."
   ]
  },
  {
   "cell_type": "code",
   "execution_count": 47,
   "id": "3f111b04",
   "metadata": {},
   "outputs": [
    {
     "name": "stderr",
     "output_type": "stream",
     "text": [
      " 19-05 11:15:14 | \u001b[32mI\u001b[0m | \u001b[32mhttp://localhost:9009?data={\"name\": \"Star Alliance Travel Points\", \"owner\": \"CN=Alice, OU=Test Dept, O=R3, L=London, C=GB\", \"issuer\": \"CN=Authority, OU=Test Dept, O=R3, L=London, C=GB\", \"quantity\": 8, \"transferable\": false, \"expiry\": null, \"verifiable\": true, \"attributes\": {}}\u001b[0m\n",
      "[WDM] - Downloading: 100%|██████████████████████████████████████████████████████████████████████████████████████████████████████████████████████| 8.06M/8.06M [00:00<00:00, 9.30MB/s]\n",
      " 19-05 11:15:19 | \u001b[32mI\u001b[0m | \u001b[32mTime taken = 0:00:09.006183\u001b[0m\n"
     ]
    },
    {
     "data": {
      "text/plain": [
       "'/tmp/report_d4ea67e0-9945-4fe5-b0da-c3ef0d457e32.pdf'"
      ]
     },
     "execution_count": 47,
     "metadata": {},
     "output_type": "execute_result"
    }
   ],
   "source": [
    "# Print to PDF Test 1 -- Print by Holder\n",
    "# Expected -- Succeed\n",
    "h.print_to_pdf('Alice', 'd4ea67e0-9945-4fe5-b0da-c3ef0d457e32', query=None, show=False)"
   ]
  },
  {
   "cell_type": "code",
   "execution_count": 48,
   "id": "f7b372b1",
   "metadata": {},
   "outputs": [
    {
     "name": "stderr",
     "output_type": "stream",
     "text": [
      " 19-05 11:16:13 | \u001b[32mI\u001b[0m | \u001b[32mhttp://localhost:9009?data={\"name\": \"Star Alliance Travel Points\", \"owner\": \"CN=Alice, OU=Test Dept, O=R3, L=London, C=GB\", \"issuer\": \"CN=Authority, OU=Test Dept, O=R3, L=London, C=GB\", \"quantity\": 8, \"transferable\": false, \"expiry\": null, \"verifiable\": true, \"attributes\": {}}\u001b[0m\n",
      " 19-05 11:16:16 | \u001b[32mI\u001b[0m | \u001b[32mTime taken = 0:00:07.286476\u001b[0m\n"
     ]
    },
    {
     "data": {
      "text/plain": [
       "'/tmp/report_d4ea67e0-9945-4fe5-b0da-c3ef0d457e32.pdf'"
      ]
     },
     "execution_count": 48,
     "metadata": {},
     "output_type": "execute_result"
    }
   ],
   "source": [
    "# Print to PDF Test 2 -- Print by Issuer\n",
    "# Expected -- Succeed\n",
    "h.print_to_pdf('Authority', 'd4ea67e0-9945-4fe5-b0da-c3ef0d457e32', query=None, show=False)"
   ]
  },
  {
   "cell_type": "code",
   "execution_count": 49,
   "id": "9cee1201",
   "metadata": {},
   "outputs": [
    {
     "name": "stderr",
     "output_type": "stream",
     "text": [
      " 19-05 11:16:53 | \u001b[31mE\u001b[0m | \u001b[31mNo data matching id='d4ea67e0-9945-4fe5-b0da-c3ef0d457e32' in 'Bob'\u001b[0m\n"
     ]
    }
   ],
   "source": [
    "# Print to PDF Test 3 -- Print by Non Holder\n",
    "# Expected -- Failure\n",
    "h.print_to_pdf('Bob', 'd4ea67e0-9945-4fe5-b0da-c3ef0d457e32', query=None, show=False)"
   ]
  }
 ],
 "metadata": {
  "celltoolbar": "Edit Metadata",
  "extensions": {
   "jupyter_dashboards": {
    "activeView": "grid_default",
    "version": 1,
    "views": {
     "grid_default": {
      "cellMargin": 10,
      "defaultCellHeight": 20,
      "maxColumns": 12,
      "name": "grid",
      "type": "grid"
     },
     "report_default": {
      "name": "report",
      "type": "report"
     }
    }
   }
  },
  "kernelspec": {
   "display_name": "Python 3 (ipykernel)",
   "language": "python",
   "name": "python3"
  },
  "language_info": {
   "codemirror_mode": {
    "name": "ipython",
    "version": 3
   },
   "file_extension": ".py",
   "mimetype": "text/x-python",
   "name": "python",
   "nbconvert_exporter": "python",
   "pygments_lexer": "ipython3",
   "version": "3.10.9"
  }
 },
 "nbformat": 4,
 "nbformat_minor": 5
}
