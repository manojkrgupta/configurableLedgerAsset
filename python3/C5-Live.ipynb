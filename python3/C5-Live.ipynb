{
 "cells": [
  {
   "cell_type": "code",
   "execution_count": 2,
   "id": "770ad544",
   "metadata": {
    "extensions": {
     "jupyter_dashboards": {
      "version": 1,
      "views": {
       "grid_default": {},
       "report_default": {
        "hidden": false
       }
      }
     }
    }
   },
   "outputs": [
    {
     "data": {
      "text/html": [
       "<style>.container { width:98% !important; }</style>"
      ],
      "text/plain": [
       "<IPython.core.display.HTML object>"
      ]
     },
     "metadata": {},
     "output_type": "display_data"
    },
    {
     "name": "stderr",
     "output_type": "stream",
     "text": [
      " 22-05 16:36:27 | \u001b[32mI\u001b[0m | \u001b[32mBase directory /Users/Manoj.Gupta/git/c5_hackathon_beta3/python3\u001b[0m\n"
     ]
    },
    {
     "name": "stdout",
     "output_type": "stream",
     "text": [
      "{'CN=Alice, OU=Test Dept, O=R3, L=London, C=GB': '415E407297AA',\n",
      " 'CN=Authority, OU=Test Dept, O=R3, L=London, C=GB': '8175C6EA55DE',\n",
      " 'CN=Bob, OU=Test Dept, O=R3, L=London, C=GB': 'B31CAD5945F1',\n",
      " 'CN=Charlie, OU=Test Dept, O=R3, L=London, C=GB': 'AB7643993711',\n",
      " 'CN=Dave, OU=Test Dept, O=R3, L=London, C=GB': 'FB9F8A560956',\n",
      " 'CN=NotaryRep1, OU=Test Dept, O=R3, L=London, C=GB': '2F9FE806D09A'}\n"
     ]
    }
   ],
   "source": [
    "import os\n",
    "import sys\n",
    "import math\n",
    "import time\n",
    "import IPython\n",
    "import logging\n",
    "import warnings\n",
    "import datetime\n",
    "import pandas as pd\n",
    "import numpy  as np\n",
    "import webbrowser\n",
    "# import scipy  as sp\n",
    "import pprint as pp\n",
    "from random   import randrange\n",
    "from notebook import notebookapp\n",
    "from IPython.display import display\n",
    "from IPython.core.display import HTML\n",
    "display(HTML(\"<style>.container { width:98% !important; }</style>\"))\n",
    "sys.path.insert(1, os.path.join(sys.path[0], '{}/lib/'.format(os.environ['BaseDir'])))\n",
    "from corda5Interface import Corda5\n",
    "%matplotlib inline\n",
    "pd.set_option('display.max_rows', None)\n",
    "pd.set_option('display.max_columns', None)\n",
    "pd.set_option('display.max_colwidth', None)\n",
    "\n",
    "# def set_in_master_list(k, v): replace_maters_list[k] = v\n",
    "# https://localhost:8888/api/v1/flow/{{Dave Hash}}/30020\n",
    "\n",
    "apiServer='https://localhost:8888/api/v1'\n",
    "apiServerAuth=('admin', 'admin')\n",
    "package = 'com.r3.developers.configurableInstrument'\n",
    "replace_maters_list = { 'API_SERVER': apiServer, 'PACKAGE': package}\n",
    "\n",
    "nodes = {\n",
    "        'Authority' : 'CN=Authority, OU=Test Dept, O=R3, L=London, C=GB',\n",
    "        'Bob'       : 'CN=Bob, OU=Test Dept, O=R3, L=London, C=GB',\n",
    "        'Charlie'   : 'CN=Charlie, OU=Test Dept, O=R3, L=London, C=GB',\n",
    "        'Alice'     : 'CN=Alice, OU=Test Dept, O=R3, L=London, C=GB',\n",
    "#         'NotaryRep1': 'CN=NotaryRep1, OU=Test Dept, O=R3, L=London, C=GB',\n",
    "        'Dave'      : 'CN=Dave, OU=Test Dept, O=R3, L=London, C=GB',\n",
    "        }\n",
    "\n",
    "\n",
    "# h = Corda5(level=logging.DEBUG, nodes=nodes, apiServer=apiServer, apiServerAuth=apiServerAuth, version=2)\n",
    "h = Corda5(level=logging.INFO, nodes=nodes, apiServer=apiServer, apiServerAuth=apiServerAuth, version=2)\n",
    "\n",
    "log = h.log\n",
    "log.info(\"Base directory {}\".format(os.environ['BaseDir']))\n",
    "pp.pprint(h.x500)"
   ]
  },
  {
   "cell_type": "code",
   "execution_count": 3,
   "id": "6dceef1b",
   "metadata": {
    "scrolled": false
   },
   "outputs": [
    {
     "data": {
      "text/html": [
       "<h4 style=\"color:blue; font-family: monospace\">Government Bond with defined coupon payments</h4>"
      ],
      "text/plain": [
       "<IPython.core.display.HTML object>"
      ]
     },
     "metadata": {},
     "output_type": "display_data"
    },
    {
     "name": "stderr",
     "output_type": "stream",
     "text": [
      " 22-05 16:37:02 | \u001b[32mI\u001b[0m | \u001b[32mIssuing instrument='Government Bond 2024' to 'Alice'\u001b[0m\n",
      " 22-05 16:37:02 | \u001b[32mI\u001b[0m | \u001b[32mRunning action 'Issue' on 'Authority/8175C6EA55DE/CN=Authority, OU=Test Dept, O=R3, L=London, C=GB'\u001b[0m\n",
      " 22-05 16:37:10 | \u001b[32mI\u001b[0m | \u001b[32mc208213e-0dad-4a43-a010-c40f809a2285\u001b[0m\n",
      " 22-05 16:37:10 | \u001b[32mI\u001b[0m | \u001b[32mTime taken = 0:00:08.379949\u001b[0m\n"
     ]
    },
    {
     "name": "stdout",
     "output_type": "stream",
     "text": [
      "67514.1684753622.1256151<Response [200]>c208213e-0dad-4a43-a010-c40f809a2285"
     ]
    },
    {
     "data": {
      "text/html": [
       "<h4 style=\"color:blue; font-family: monospace\">Fiat currency with unique number in digital form.</h4>"
      ],
      "text/plain": [
       "<IPython.core.display.HTML object>"
      ]
     },
     "metadata": {},
     "output_type": "display_data"
    },
    {
     "name": "stderr",
     "output_type": "stream",
     "text": [
      " 22-05 16:37:10 | \u001b[32mI\u001b[0m | \u001b[32mIssuing instrument='Digital Currency INR 500 Note' to 'Alice'\u001b[0m\n",
      " 22-05 16:37:10 | \u001b[32mI\u001b[0m | \u001b[32mRunning action 'Issue' on 'Authority/8175C6EA55DE/CN=Authority, OU=Test Dept, O=R3, L=London, C=GB'\u001b[0m\n",
      " 22-05 16:37:18 | \u001b[32mI\u001b[0m | \u001b[32maed42af6-52d6-44ac-a524-ccd2dc31d65e\u001b[0m\n",
      " 22-05 16:37:18 | \u001b[32mI\u001b[0m | \u001b[32mTime taken = 0:00:08.233005\u001b[0m\n"
     ]
    },
    {
     "name": "stdout",
     "output_type": "stream",
     "text": [
      "67514.1684753630.5169249<Response [200]>aed42af6-52d6-44ac-a524-ccd2dc31d65e"
     ]
    },
    {
     "data": {
      "text/html": [
       "<h4 style=\"color:blue; font-family: monospace\">Amazon Vouchers</h4>"
      ],
      "text/plain": [
       "<IPython.core.display.HTML object>"
      ]
     },
     "metadata": {},
     "output_type": "display_data"
    },
    {
     "name": "stderr",
     "output_type": "stream",
     "text": [
      " 22-05 16:37:18 | \u001b[32mI\u001b[0m | \u001b[32mIssuing instrument='Amazon Voucher' to 'Alice'\u001b[0m\n",
      " 22-05 16:37:18 | \u001b[32mI\u001b[0m | \u001b[32mRunning action 'Issue' on 'Authority/8175C6EA55DE/CN=Authority, OU=Test Dept, O=R3, L=London, C=GB'\u001b[0m\n",
      " 22-05 16:37:27 | \u001b[32mI\u001b[0m | \u001b[32m599e8749-adc5-43a3-b516-e2a90db8dece\u001b[0m\n",
      " 22-05 16:37:27 | \u001b[32mI\u001b[0m | \u001b[32mTime taken = 0:00:08.250070\u001b[0m\n"
     ]
    },
    {
     "name": "stdout",
     "output_type": "stream",
     "text": [
      "67514.1684753638.7517319<Response [200]>599e8749-adc5-43a3-b516-e2a90db8dece"
     ]
    },
    {
     "data": {
      "text/html": [
       "<h4 style=\"color:blue; font-family: monospace\">Graduation certificate</h4>"
      ],
      "text/plain": [
       "<IPython.core.display.HTML object>"
      ]
     },
     "metadata": {},
     "output_type": "display_data"
    },
    {
     "name": "stderr",
     "output_type": "stream",
     "text": [
      " 22-05 16:37:27 | \u001b[32mI\u001b[0m | \u001b[32mIssuing instrument='BE Computer Engineering' to 'Charlie'\u001b[0m\n",
      " 22-05 16:37:27 | \u001b[32mI\u001b[0m | \u001b[32mRunning action 'Issue' on 'Authority/8175C6EA55DE/CN=Authority, OU=Test Dept, O=R3, L=London, C=GB'\u001b[0m\n",
      " 22-05 16:37:35 | \u001b[32mI\u001b[0m | \u001b[32mf1e0230e-5a5e-4558-b13f-f185d3f4112b\u001b[0m\n",
      " 22-05 16:37:35 | \u001b[32mI\u001b[0m | \u001b[32mTime taken = 0:00:08.245196\u001b[0m\n"
     ]
    },
    {
     "name": "stdout",
     "output_type": "stream",
     "text": [
      "67514.1684753647.017665<Response [200]>f1e0230e-5a5e-4558-b13f-f185d3f4112b"
     ]
    }
   ],
   "source": [
    "# ===================================================================================================\n",
    "# Government Bond with defined coupon payments\n",
    "# ===================================================================================================\n",
    "h.message(\"Government Bond with defined coupon payments\")\n",
    "\n",
    "(req_id, response, uuid_bond) = h.issue('Authority', 'Alice', 'Government Bond 2024', \n",
    "        quantity=10,\n",
    "        transferable=True,\n",
    "        expiry=None,\n",
    "        verifiable=True,\n",
    "        attributes={'payments': \"['10Jun2023', '10Sep2023', '10Dec2023', '10Mar2024']\"})\n",
    "\n",
    "h.message([req_id, response, uuid_bond])\n",
    "\n",
    "\n",
    "# # ===================================================================================================\n",
    "# # Digital currency (eRupee)\n",
    "# # ===================================================================================================\n",
    "# h.message(\"Digital currency (eRupee)\", h=4)\n",
    "# (req_id, response, uuid_erupee) = h.issue('Authority', 'Alice', 'eRupee',\n",
    "#         quantity=100001,\n",
    "#         transferable=True,\n",
    "#         expiry=None,\n",
    "#         verifiable=True\n",
    "#        )\n",
    "\n",
    "# h.message([req_id, response, uuid_erupee])\n",
    "\n",
    "# ===================================================================================================\n",
    "# Fiat currency with unique number in digital form.\n",
    "# ===================================================================================================\n",
    "h.message(\"Fiat currency with unique number in digital form.\")\n",
    "(req_id, response, uuid_fiat) = h.issue('Authority', 'Alice', 'Digital Currency INR 500 Note',\n",
    "        quantity=None, \n",
    "        transferable=True, \n",
    "        expiry=None, \n",
    "        verifiable=True, \n",
    "        attributes={'number': 'OMV 336048', 'year': '1981'})\n",
    "\n",
    "h.message([req_id, response, uuid_fiat])\n",
    "\n",
    "# ===================================================================================================\n",
    "# Amazon Vouchers\n",
    "# ===================================================================================================\n",
    "h.message(\"Amazon Vouchers\")\n",
    "(req_id, response, uuid_amazon) = h.issue('Authority', 'Alice', 'Amazon Voucher', \n",
    "        quantity=200,\n",
    "        transferable=False,\n",
    "        expiry=None,\n",
    "        verifiable=True,\n",
    "        attributes={'currency': 'INR'})\n",
    "h.message([req_id, response, uuid_amazon])\n",
    "\n",
    "# ===================================================================================================\n",
    "# Graduation certificate\n",
    "# ===================================================================================================\n",
    "h.message(\"Graduation certificate\")\n",
    "(req_id, response, uuid_cert) = h.issue('Authority', 'Charlie', 'BE Computer Engineering', quantity=None, transferable=False, expiry=None, verifiable=True,\n",
    "        attributes={\n",
    "            'university': 'University of Mumbai', \n",
    "            'year': '2023',\n",
    "            'score': '450/500',\n",
    "            'major subject': \"['Robotics', 'AI', 'DSP']\"})\n",
    "h.message([req_id, response, uuid_cert])"
   ]
  },
  {
   "cell_type": "code",
   "execution_count": 4,
   "id": "196766e2",
   "metadata": {},
   "outputs": [
    {
     "data": {
      "text/html": [
       "<h4 style=\"color:blue; font-family: monospace\">Transfer of Bond (expected success)</h4>"
      ],
      "text/plain": [
       "<IPython.core.display.HTML object>"
      ]
     },
     "metadata": {},
     "output_type": "display_data"
    },
    {
     "name": "stderr",
     "output_type": "stream",
     "text": [
      " 22-05 16:39:09 | \u001b[32mI\u001b[0m | \u001b[32mTranfering instrument id 'c208213e-0dad-4a43-a010-c40f809a2285' to 'Charlie'\u001b[0m\n",
      " 22-05 16:39:09 | \u001b[32mI\u001b[0m | \u001b[32mRunning action 'Transfer' on 'Alice/415E407297AA/CN=Alice, OU=Test Dept, O=R3, L=London, C=GB'\u001b[0m\n",
      " 22-05 16:39:21 | \u001b[32mI\u001b[0m | \u001b[32m622ea58c-1043-4445-a3b5-7f3e1fe24306\u001b[0m\n",
      " 22-05 16:39:21 | \u001b[32mI\u001b[0m | \u001b[32mTime taken = 0:00:12.341397\u001b[0m\n"
     ]
    },
    {
     "data": {
      "text/html": [
       "<h4 style=\"color:blue; font-family: monospace\">Transfer of Fiat Currency (expected success)</h4>"
      ],
      "text/plain": [
       "<IPython.core.display.HTML object>"
      ]
     },
     "metadata": {},
     "output_type": "display_data"
    },
    {
     "name": "stderr",
     "output_type": "stream",
     "text": [
      " 22-05 16:39:21 | \u001b[32mI\u001b[0m | \u001b[32mTranfering instrument id 'aed42af6-52d6-44ac-a524-ccd2dc31d65e' to 'Charlie'\u001b[0m\n",
      " 22-05 16:39:21 | \u001b[32mI\u001b[0m | \u001b[32mRunning action 'Transfer' on 'Alice/415E407297AA/CN=Alice, OU=Test Dept, O=R3, L=London, C=GB'\u001b[0m\n",
      " 22-05 16:39:34 | \u001b[32mI\u001b[0m | \u001b[32maed42af6-52d6-44ac-a524-ccd2dc31d65e\u001b[0m\n",
      " 22-05 16:39:34 | \u001b[32mI\u001b[0m | \u001b[32mTime taken = 0:00:12.341096\u001b[0m\n"
     ]
    },
    {
     "data": {
      "text/html": [
       "<h4 style=\"color:blue; font-family: monospace\">Transfer of Amazon Voucher (expected failure)</h4>"
      ],
      "text/plain": [
       "<IPython.core.display.HTML object>"
      ]
     },
     "metadata": {},
     "output_type": "display_data"
    },
    {
     "name": "stderr",
     "output_type": "stream",
     "text": [
      " 22-05 16:39:34 | \u001b[32mI\u001b[0m | \u001b[32mTranfering instrument id '599e8749-adc5-43a3-b516-e2a90db8dece' to 'Charlie'\u001b[0m\n",
      " 22-05 16:39:34 | \u001b[32mI\u001b[0m | \u001b[32mRunning action 'Transfer' on 'Alice/415E407297AA/CN=Alice, OU=Test Dept, O=R3, L=London, C=GB'\u001b[0m\n",
      " 22-05 16:39:38 | \u001b[32mI\u001b[0m | \u001b[32m{'type': 'FLOW_FAILED', 'message': 'net.corda.v5.ledger.utxo.ContractVerificationException: Verification of ledger transaction with ID SHA-256D:36B76197AA5295CC972C471B32A16DC2520EC11DA08BFA5FFB591CEC6B0CA0E4 failed: net.corda.v5.ledger.utxo.ContractVerificationException: Ledger transaction contract verification failed for the specified transaction: SHA-256D:36B76197AA5295CC972C471B32A16DC2520EC11DA08BFA5FFB591CEC6B0CA0E4.\\nThe following contract verification requirements were not met:\\ncom.r3.developers.configurableInstrument.contracts.InstrumentContract: Failed requirement: Instrument is not transferable.\\n'}\u001b[0m\n",
      " 22-05 16:39:38 | \u001b[32mI\u001b[0m | \u001b[32mTime taken = 0:00:04.168688\u001b[0m\n"
     ]
    },
    {
     "data": {
      "text/html": [
       "<h4 style=\"color:blue; font-family: monospace\">Transfer of Graduation certificate (expected failure)</h4>"
      ],
      "text/plain": [
       "<IPython.core.display.HTML object>"
      ]
     },
     "metadata": {},
     "output_type": "display_data"
    },
    {
     "name": "stderr",
     "output_type": "stream",
     "text": [
      " 22-05 16:39:38 | \u001b[32mI\u001b[0m | \u001b[32mTranfering instrument id 'f1e0230e-5a5e-4558-b13f-f185d3f4112b' to 'Alice'\u001b[0m\n",
      " 22-05 16:39:38 | \u001b[32mI\u001b[0m | \u001b[32mRunning action 'Transfer' on 'Charlie/AB7643993711/CN=Charlie, OU=Test Dept, O=R3, L=London, C=GB'\u001b[0m\n",
      " 22-05 16:39:42 | \u001b[32mI\u001b[0m | \u001b[32m{'type': 'FLOW_FAILED', 'message': 'net.corda.v5.ledger.utxo.ContractVerificationException: Verification of ledger transaction with ID SHA-256D:94AF09F3C0AAD0BEAB96C88CCFE24E51038247B4011867E53A5809A9F59EAD8E failed: net.corda.v5.ledger.utxo.ContractVerificationException: Ledger transaction contract verification failed for the specified transaction: SHA-256D:94AF09F3C0AAD0BEAB96C88CCFE24E51038247B4011867E53A5809A9F59EAD8E.\\nThe following contract verification requirements were not met:\\ncom.r3.developers.configurableInstrument.contracts.InstrumentContract: Failed requirement: Instrument is not transferable.\\n'}\u001b[0m\n",
      " 22-05 16:39:42 | \u001b[32mI\u001b[0m | \u001b[32mTime taken = 0:00:04.163609\u001b[0m\n"
     ]
    }
   ],
   "source": [
    "h.message(\"Transfer of Bond (expected success)\")\n",
    "(req_id, response, uuid_new_bond) = h.transfer(uuid_bond, 'Alice', 'Charlie', quantity=4)\n",
    "\n",
    "\n",
    "h.message(\"Transfer of Fiat Currency (expected success)\")\n",
    "(req_id, response, uuid_new) = h.transfer(uuid_fiat, 'Alice', 'Charlie')\n",
    "\n",
    "\n",
    "h.message(\"Transfer of Amazon Voucher (expected failure)\")\n",
    "(req_id, response, uuid_new) = h.transfer(uuid_amazon, 'Alice', 'Charlie', quantity=4)\n",
    "\n",
    "\n",
    "h.message(\"Transfer of Graduation certificate (expected failure)\")\n",
    "(req_id, response, uuid_new) = h.transfer(uuid_cert, 'Charlie', 'Alice')\n"
   ]
  },
  {
   "cell_type": "code",
   "execution_count": 10,
   "id": "4e9e820f",
   "metadata": {},
   "outputs": [],
   "source": [
    "# (uuid_bond, uuid_new_bond, uuid_fiat, uuid_amazon, uuid_cert)"
   ]
  },
  {
   "cell_type": "code",
   "execution_count": 5,
   "id": "ee791f44",
   "metadata": {
    "scrolled": false
   },
   "outputs": [
    {
     "data": {
      "text/html": [
       "<h4 style=\"color:blue; font-family: monospace\">Query from Alice</h4>"
      ],
      "text/plain": [
       "<IPython.core.display.HTML object>"
      ]
     },
     "metadata": {},
     "output_type": "display_data"
    },
    {
     "data": {
      "text/html": [
       "<div>\n",
       "<style scoped>\n",
       "    .dataframe tbody tr th:only-of-type {\n",
       "        vertical-align: middle;\n",
       "    }\n",
       "\n",
       "    .dataframe tbody tr th {\n",
       "        vertical-align: top;\n",
       "    }\n",
       "\n",
       "    .dataframe thead th {\n",
       "        text-align: right;\n",
       "    }\n",
       "</style>\n",
       "<table border=\"1\" class=\"dataframe\">\n",
       "  <thead>\n",
       "    <tr style=\"text-align: right;\">\n",
       "      <th></th>\n",
       "      <th>id</th>\n",
       "      <th>name</th>\n",
       "      <th>owner</th>\n",
       "      <th>issuer</th>\n",
       "      <th>quantity</th>\n",
       "      <th>transferable</th>\n",
       "      <th>expiry</th>\n",
       "      <th>verifiable</th>\n",
       "      <th>attributes</th>\n",
       "    </tr>\n",
       "  </thead>\n",
       "  <tbody>\n",
       "    <tr>\n",
       "      <th>4</th>\n",
       "      <td>599e8749-adc5-43a3-b516-e2a90db8dece</td>\n",
       "      <td>Amazon Voucher</td>\n",
       "      <td>CN=Alice, OU=Test Dept, O=R3, L=London, C=GB</td>\n",
       "      <td>CN=Authority, OU=Test Dept, O=R3, L=London, C=GB</td>\n",
       "      <td>200.0</td>\n",
       "      <td>False</td>\n",
       "      <td>None</td>\n",
       "      <td>True</td>\n",
       "      <td>{'currency': 'INR'}</td>\n",
       "    </tr>\n",
       "    <tr>\n",
       "      <th>8</th>\n",
       "      <td>c208213e-0dad-4a43-a010-c40f809a2285</td>\n",
       "      <td>Government Bond 2024</td>\n",
       "      <td>CN=Alice, OU=Test Dept, O=R3, L=London, C=GB</td>\n",
       "      <td>CN=Authority, OU=Test Dept, O=R3, L=London, C=GB</td>\n",
       "      <td>6.0</td>\n",
       "      <td>True</td>\n",
       "      <td>None</td>\n",
       "      <td>True</td>\n",
       "      <td>{'payments': '['10Jun2023', '10Sep2023', '10Dec2023', '10Mar2024']'}</td>\n",
       "    </tr>\n",
       "  </tbody>\n",
       "</table>\n",
       "</div>"
      ],
      "text/plain": [
       "                                     id                  name   \n",
       "4  599e8749-adc5-43a3-b516-e2a90db8dece        Amazon Voucher  \\\n",
       "8  c208213e-0dad-4a43-a010-c40f809a2285  Government Bond 2024   \n",
       "\n",
       "                                          owner   \n",
       "4  CN=Alice, OU=Test Dept, O=R3, L=London, C=GB  \\\n",
       "8  CN=Alice, OU=Test Dept, O=R3, L=London, C=GB   \n",
       "\n",
       "                                             issuer  quantity  transferable   \n",
       "4  CN=Authority, OU=Test Dept, O=R3, L=London, C=GB     200.0         False  \\\n",
       "8  CN=Authority, OU=Test Dept, O=R3, L=London, C=GB       6.0          True   \n",
       "\n",
       "  expiry  verifiable   \n",
       "4   None        True  \\\n",
       "8   None        True   \n",
       "\n",
       "                                                             attributes  \n",
       "4                                                   {'currency': 'INR'}  \n",
       "8  {'payments': '['10Jun2023', '10Sep2023', '10Dec2023', '10Mar2024']'}  "
      ]
     },
     "metadata": {},
     "output_type": "display_data"
    },
    {
     "data": {
      "text/html": [
       "<h4 style=\"color:blue; font-family: monospace\">Query from Charlie</h4>"
      ],
      "text/plain": [
       "<IPython.core.display.HTML object>"
      ]
     },
     "metadata": {},
     "output_type": "display_data"
    },
    {
     "data": {
      "text/html": [
       "<div>\n",
       "<style scoped>\n",
       "    .dataframe tbody tr th:only-of-type {\n",
       "        vertical-align: middle;\n",
       "    }\n",
       "\n",
       "    .dataframe tbody tr th {\n",
       "        vertical-align: top;\n",
       "    }\n",
       "\n",
       "    .dataframe thead th {\n",
       "        text-align: right;\n",
       "    }\n",
       "</style>\n",
       "<table border=\"1\" class=\"dataframe\">\n",
       "  <thead>\n",
       "    <tr style=\"text-align: right;\">\n",
       "      <th></th>\n",
       "      <th>id</th>\n",
       "      <th>name</th>\n",
       "      <th>owner</th>\n",
       "      <th>issuer</th>\n",
       "      <th>quantity</th>\n",
       "      <th>transferable</th>\n",
       "      <th>expiry</th>\n",
       "      <th>verifiable</th>\n",
       "      <th>attributes</th>\n",
       "    </tr>\n",
       "  </thead>\n",
       "  <tbody>\n",
       "    <tr>\n",
       "      <th>0</th>\n",
       "      <td>aed42af6-52d6-44ac-a524-ccd2dc31d65e</td>\n",
       "      <td>Digital Currency INR 500 Note</td>\n",
       "      <td>CN=Charlie, OU=Test Dept, O=R3, L=London, C=GB</td>\n",
       "      <td>CN=Authority, OU=Test Dept, O=R3, L=London, C=GB</td>\n",
       "      <td>NaN</td>\n",
       "      <td>True</td>\n",
       "      <td>None</td>\n",
       "      <td>True</td>\n",
       "      <td>{'number': 'OMV 336048', 'year': '1981'}</td>\n",
       "    </tr>\n",
       "    <tr>\n",
       "      <th>6</th>\n",
       "      <td>f1e0230e-5a5e-4558-b13f-f185d3f4112b</td>\n",
       "      <td>BE Computer Engineering</td>\n",
       "      <td>CN=Charlie, OU=Test Dept, O=R3, L=London, C=GB</td>\n",
       "      <td>CN=Authority, OU=Test Dept, O=R3, L=London, C=GB</td>\n",
       "      <td>NaN</td>\n",
       "      <td>False</td>\n",
       "      <td>None</td>\n",
       "      <td>True</td>\n",
       "      <td>{'university': 'University of Mumbai', 'year': '2023', 'score': '450/500', 'major subject': '['Robotics', 'AI', 'DSP']'}</td>\n",
       "    </tr>\n",
       "    <tr>\n",
       "      <th>8</th>\n",
       "      <td>622ea58c-1043-4445-a3b5-7f3e1fe24306</td>\n",
       "      <td>Government Bond 2024</td>\n",
       "      <td>CN=Charlie, OU=Test Dept, O=R3, L=London, C=GB</td>\n",
       "      <td>CN=Authority, OU=Test Dept, O=R3, L=London, C=GB</td>\n",
       "      <td>4.0</td>\n",
       "      <td>True</td>\n",
       "      <td>None</td>\n",
       "      <td>True</td>\n",
       "      <td>{'payments': '['10Jun2023', '10Sep2023', '10Dec2023', '10Mar2024']'}</td>\n",
       "    </tr>\n",
       "  </tbody>\n",
       "</table>\n",
       "</div>"
      ],
      "text/plain": [
       "                                     id                           name   \n",
       "0  aed42af6-52d6-44ac-a524-ccd2dc31d65e  Digital Currency INR 500 Note  \\\n",
       "6  f1e0230e-5a5e-4558-b13f-f185d3f4112b        BE Computer Engineering   \n",
       "8  622ea58c-1043-4445-a3b5-7f3e1fe24306           Government Bond 2024   \n",
       "\n",
       "                                            owner   \n",
       "0  CN=Charlie, OU=Test Dept, O=R3, L=London, C=GB  \\\n",
       "6  CN=Charlie, OU=Test Dept, O=R3, L=London, C=GB   \n",
       "8  CN=Charlie, OU=Test Dept, O=R3, L=London, C=GB   \n",
       "\n",
       "                                             issuer  quantity  transferable   \n",
       "0  CN=Authority, OU=Test Dept, O=R3, L=London, C=GB       NaN          True  \\\n",
       "6  CN=Authority, OU=Test Dept, O=R3, L=London, C=GB       NaN         False   \n",
       "8  CN=Authority, OU=Test Dept, O=R3, L=London, C=GB       4.0          True   \n",
       "\n",
       "  expiry  verifiable   \n",
       "0   None        True  \\\n",
       "6   None        True   \n",
       "8   None        True   \n",
       "\n",
       "                                                                                                                 attributes  \n",
       "0                                                                                  {'number': 'OMV 336048', 'year': '1981'}  \n",
       "6  {'university': 'University of Mumbai', 'year': '2023', 'score': '450/500', 'major subject': '['Robotics', 'AI', 'DSP']'}  \n",
       "8                                                      {'payments': '['10Jun2023', '10Sep2023', '10Dec2023', '10Mar2024']'}  "
      ]
     },
     "metadata": {},
     "output_type": "display_data"
    },
    {
     "data": {
      "text/html": [
       "<h4 style=\"color:blue; font-family: monospace\">Query from Authority</h4>"
      ],
      "text/plain": [
       "<IPython.core.display.HTML object>"
      ]
     },
     "metadata": {},
     "output_type": "display_data"
    },
    {
     "data": {
      "text/html": [
       "<div>\n",
       "<style scoped>\n",
       "    .dataframe tbody tr th:only-of-type {\n",
       "        vertical-align: middle;\n",
       "    }\n",
       "\n",
       "    .dataframe tbody tr th {\n",
       "        vertical-align: top;\n",
       "    }\n",
       "\n",
       "    .dataframe thead th {\n",
       "        text-align: right;\n",
       "    }\n",
       "</style>\n",
       "<table border=\"1\" class=\"dataframe\">\n",
       "  <thead>\n",
       "    <tr style=\"text-align: right;\">\n",
       "      <th></th>\n",
       "      <th>id</th>\n",
       "      <th>name</th>\n",
       "      <th>owner</th>\n",
       "      <th>issuer</th>\n",
       "      <th>quantity</th>\n",
       "      <th>transferable</th>\n",
       "      <th>expiry</th>\n",
       "      <th>verifiable</th>\n",
       "      <th>attributes</th>\n",
       "    </tr>\n",
       "  </thead>\n",
       "  <tbody>\n",
       "    <tr>\n",
       "      <th>3</th>\n",
       "      <td>599e8749-adc5-43a3-b516-e2a90db8dece</td>\n",
       "      <td>Amazon Voucher</td>\n",
       "      <td>CN=Alice, OU=Test Dept, O=R3, L=London, C=GB</td>\n",
       "      <td>CN=Authority, OU=Test Dept, O=R3, L=London, C=GB</td>\n",
       "      <td>200.0</td>\n",
       "      <td>False</td>\n",
       "      <td>None</td>\n",
       "      <td>True</td>\n",
       "      <td>{'currency': 'INR'}</td>\n",
       "    </tr>\n",
       "    <tr>\n",
       "      <th>4</th>\n",
       "      <td>c208213e-0dad-4a43-a010-c40f809a2285</td>\n",
       "      <td>Government Bond 2024</td>\n",
       "      <td>CN=Alice, OU=Test Dept, O=R3, L=London, C=GB</td>\n",
       "      <td>CN=Authority, OU=Test Dept, O=R3, L=London, C=GB</td>\n",
       "      <td>6.0</td>\n",
       "      <td>True</td>\n",
       "      <td>None</td>\n",
       "      <td>True</td>\n",
       "      <td>{'payments': '['10Jun2023', '10Sep2023', '10Dec2023', '10Mar2024']'}</td>\n",
       "    </tr>\n",
       "    <tr>\n",
       "      <th>12</th>\n",
       "      <td>aed42af6-52d6-44ac-a524-ccd2dc31d65e</td>\n",
       "      <td>Digital Currency INR 500 Note</td>\n",
       "      <td>CN=Charlie, OU=Test Dept, O=R3, L=London, C=GB</td>\n",
       "      <td>CN=Authority, OU=Test Dept, O=R3, L=London, C=GB</td>\n",
       "      <td>NaN</td>\n",
       "      <td>True</td>\n",
       "      <td>None</td>\n",
       "      <td>True</td>\n",
       "      <td>{'number': 'OMV 336048', 'year': '1981'}</td>\n",
       "    </tr>\n",
       "    <tr>\n",
       "      <th>15</th>\n",
       "      <td>f1e0230e-5a5e-4558-b13f-f185d3f4112b</td>\n",
       "      <td>BE Computer Engineering</td>\n",
       "      <td>CN=Charlie, OU=Test Dept, O=R3, L=London, C=GB</td>\n",
       "      <td>CN=Authority, OU=Test Dept, O=R3, L=London, C=GB</td>\n",
       "      <td>NaN</td>\n",
       "      <td>False</td>\n",
       "      <td>None</td>\n",
       "      <td>True</td>\n",
       "      <td>{'university': 'University of Mumbai', 'year': '2023', 'score': '450/500', 'major subject': '['Robotics', 'AI', 'DSP']'}</td>\n",
       "    </tr>\n",
       "    <tr>\n",
       "      <th>22</th>\n",
       "      <td>622ea58c-1043-4445-a3b5-7f3e1fe24306</td>\n",
       "      <td>Government Bond 2024</td>\n",
       "      <td>CN=Charlie, OU=Test Dept, O=R3, L=London, C=GB</td>\n",
       "      <td>CN=Authority, OU=Test Dept, O=R3, L=London, C=GB</td>\n",
       "      <td>4.0</td>\n",
       "      <td>True</td>\n",
       "      <td>None</td>\n",
       "      <td>True</td>\n",
       "      <td>{'payments': '['10Jun2023', '10Sep2023', '10Dec2023', '10Mar2024']'}</td>\n",
       "    </tr>\n",
       "  </tbody>\n",
       "</table>\n",
       "</div>"
      ],
      "text/plain": [
       "                                      id                           name   \n",
       "3   599e8749-adc5-43a3-b516-e2a90db8dece                 Amazon Voucher  \\\n",
       "4   c208213e-0dad-4a43-a010-c40f809a2285           Government Bond 2024   \n",
       "12  aed42af6-52d6-44ac-a524-ccd2dc31d65e  Digital Currency INR 500 Note   \n",
       "15  f1e0230e-5a5e-4558-b13f-f185d3f4112b        BE Computer Engineering   \n",
       "22  622ea58c-1043-4445-a3b5-7f3e1fe24306           Government Bond 2024   \n",
       "\n",
       "                                             owner   \n",
       "3     CN=Alice, OU=Test Dept, O=R3, L=London, C=GB  \\\n",
       "4     CN=Alice, OU=Test Dept, O=R3, L=London, C=GB   \n",
       "12  CN=Charlie, OU=Test Dept, O=R3, L=London, C=GB   \n",
       "15  CN=Charlie, OU=Test Dept, O=R3, L=London, C=GB   \n",
       "22  CN=Charlie, OU=Test Dept, O=R3, L=London, C=GB   \n",
       "\n",
       "                                              issuer  quantity  transferable   \n",
       "3   CN=Authority, OU=Test Dept, O=R3, L=London, C=GB     200.0         False  \\\n",
       "4   CN=Authority, OU=Test Dept, O=R3, L=London, C=GB       6.0          True   \n",
       "12  CN=Authority, OU=Test Dept, O=R3, L=London, C=GB       NaN          True   \n",
       "15  CN=Authority, OU=Test Dept, O=R3, L=London, C=GB       NaN         False   \n",
       "22  CN=Authority, OU=Test Dept, O=R3, L=London, C=GB       4.0          True   \n",
       "\n",
       "   expiry  verifiable   \n",
       "3    None        True  \\\n",
       "4    None        True   \n",
       "12   None        True   \n",
       "15   None        True   \n",
       "22   None        True   \n",
       "\n",
       "                                                                                                                  attributes  \n",
       "3                                                                                                        {'currency': 'INR'}  \n",
       "4                                                       {'payments': '['10Jun2023', '10Sep2023', '10Dec2023', '10Mar2024']'}  \n",
       "12                                                                                  {'number': 'OMV 336048', 'year': '1981'}  \n",
       "15  {'university': 'University of Mumbai', 'year': '2023', 'score': '450/500', 'major subject': '['Robotics', 'AI', 'DSP']'}  \n",
       "22                                                      {'payments': '['10Jun2023', '10Sep2023', '10Dec2023', '10Mar2024']'}  "
      ]
     },
     "metadata": {},
     "output_type": "display_data"
    }
   ],
   "source": [
    "h.message(\"Query from Alice\")\n",
    "df  = h.query('Alice')\n",
    "tdf = df[(df.id == uuid_bond) | (df.id == uuid_new_bond) | (df.id == uuid_fiat) | ( df.id == uuid_amazon ) | (df.id == uuid_cert)]\n",
    "display(tdf)\n",
    "\n",
    "\n",
    "h.message(\"Query from Charlie\")\n",
    "df  = h.query('Charlie')\n",
    "tdf = df[(df.id == uuid_bond) | (df.id == uuid_new_bond) | (df.id == uuid_fiat) | ( df.id == uuid_amazon ) | (df.id == uuid_cert)]\n",
    "display(tdf)\n",
    "\n",
    "\n",
    "h.message(\"Query from Authority\")\n",
    "df  = h.query('Authority')\n",
    "tdf = df[(df.id == uuid_bond) | (df.id == uuid_new_bond) | (df.id == uuid_fiat) | ( df.id == uuid_amazon ) | (df.id == uuid_cert)]\n",
    "display(tdf)"
   ]
  },
  {
   "cell_type": "code",
   "execution_count": 6,
   "id": "12144ce5",
   "metadata": {},
   "outputs": [
    {
     "name": "stderr",
     "output_type": "stream",
     "text": [
      " 22-05 16:42:20 | \u001b[32mI\u001b[0m | \u001b[32mhttp://20.204.221.225:8880/?data={\"name\": \"Government Bond 2024\", \"owner\": \"CN=Alice, OU=Test Dept, O=R3, L=London, C=GB\", \"issuer\": \"CN=Authority, OU=Test Dept, O=R3, L=London, C=GB\", \"quantity\": 6.0, \"transferable\": true, \"expiry\": null, \"verifiable\": true, \"attributes\": {\"payments\": \"['10Jun2023', '10Sep2023', '10Dec2023', '10Mar2024']\"}}\u001b[0m\n",
      " 22-05 16:42:23 | \u001b[32mI\u001b[0m | \u001b[32mTime taken = 0:00:07.937600\u001b[0m\n"
     ]
    },
    {
     "data": {
      "text/plain": [
       "True"
      ]
     },
     "execution_count": 6,
     "metadata": {},
     "output_type": "execute_result"
    }
   ],
   "source": [
    "h.verifier_url='http://20.204.221.225:8880/'\n",
    "pdf_report = h.print_to_pdf('Alice', uuid_bond, show=False)\n",
    "webbrowser.open(\"file:///{}\".format(pdf_report))"
   ]
  },
  {
   "cell_type": "code",
   "execution_count": 12,
   "id": "556b6b64",
   "metadata": {},
   "outputs": [
    {
     "data": {
      "text/html": [
       "<h4 style=\"color:blue; font-family: monospace\">Redeem of Bond (expected success)</h4>"
      ],
      "text/plain": [
       "<IPython.core.display.HTML object>"
      ]
     },
     "metadata": {},
     "output_type": "display_data"
    },
    {
     "name": "stderr",
     "output_type": "stream",
     "text": [
      " 22-05 15:36:09 | \u001b[32mI\u001b[0m | \u001b[32mRedeeming instrument id '25d687c3-8628-4287-bffd-b95ee9505753' quantity '1'\u001b[0m\n",
      " 22-05 15:36:09 | \u001b[32mI\u001b[0m | \u001b[32mRunning action 'Redeem' on 'Alice/415E407297AA/CN=Alice, OU=Test Dept, O=R3, L=London, C=GB'\u001b[0m\n",
      " 22-05 15:36:18 | \u001b[32mI\u001b[0m | \u001b[32mnet.corda.ledger.utxo.flow.impl.FinalizationResultImpl@73db9db8\u001b[0m\n",
      " 22-05 15:36:18 | \u001b[32mI\u001b[0m | \u001b[32mTime taken = 0:00:08.373236\u001b[0m\n"
     ]
    },
    {
     "data": {
      "text/html": [
       "<h4 style=\"color:blue; font-family: monospace\">Redeem of Fiat Currency (expected success)</h4>"
      ],
      "text/plain": [
       "<IPython.core.display.HTML object>"
      ]
     },
     "metadata": {},
     "output_type": "display_data"
    },
    {
     "name": "stderr",
     "output_type": "stream",
     "text": [
      " 22-05 15:36:18 | \u001b[32mI\u001b[0m | \u001b[32mRedeeming instrument id '5125c3c5-6a88-49c1-8fa0-5388575cf443' quantity 'None'\u001b[0m\n",
      " 22-05 15:36:18 | \u001b[32mI\u001b[0m | \u001b[32mRunning action 'Redeem' on 'Charlie/AB7643993711/CN=Charlie, OU=Test Dept, O=R3, L=London, C=GB'\u001b[0m\n",
      " 22-05 15:36:26 | \u001b[32mI\u001b[0m | \u001b[32mnet.corda.ledger.utxo.flow.impl.FinalizationResultImpl@73963448\u001b[0m\n",
      " 22-05 15:36:26 | \u001b[32mI\u001b[0m | \u001b[32mTime taken = 0:00:08.322205\u001b[0m\n"
     ]
    },
    {
     "data": {
      "text/html": [
       "<h4 style=\"color:blue; font-family: monospace\">Redeem of Amazon Voucher (expected success)</h4>"
      ],
      "text/plain": [
       "<IPython.core.display.HTML object>"
      ]
     },
     "metadata": {},
     "output_type": "display_data"
    },
    {
     "name": "stderr",
     "output_type": "stream",
     "text": [
      " 22-05 15:36:26 | \u001b[32mI\u001b[0m | \u001b[32mRedeeming instrument id 'a600abe1-39b4-4859-93da-848fc9de982e' quantity '1'\u001b[0m\n",
      " 22-05 15:36:26 | \u001b[32mI\u001b[0m | \u001b[32mRunning action 'Redeem' on 'Alice/415E407297AA/CN=Alice, OU=Test Dept, O=R3, L=London, C=GB'\u001b[0m\n",
      " 22-05 15:36:34 | \u001b[32mI\u001b[0m | \u001b[32mnet.corda.ledger.utxo.flow.impl.FinalizationResultImpl@637dfa82\u001b[0m\n",
      " 22-05 15:36:34 | \u001b[32mI\u001b[0m | \u001b[32mTime taken = 0:00:08.285912\u001b[0m\n"
     ]
    },
    {
     "data": {
      "text/plain": [
       "('40150.1684749986.401535',\n",
       " <Response [200]>,\n",
       " 'net.corda.ledger.utxo.flow.impl.FinalizationResultImpl@637dfa82')"
      ]
     },
     "execution_count": 12,
     "metadata": {},
     "output_type": "execute_result"
    }
   ],
   "source": [
    "h.message(\"Redeem of Bond (expected success)\")\n",
    "h.redeem(uuid_bond, 'Alice', quantity=1)\n",
    "\n",
    "h.message(\"Redeem of Fiat Currency (expected success)\")\n",
    "h.redeem(uuid_fiat, 'Charlie')\n",
    "\n",
    "h.message(\"Redeem of Amazon Voucher (expected success)\")\n",
    "h.redeem(uuid_amazon, 'Alice', quantity=1)"
   ]
  },
  {
   "cell_type": "code",
   "execution_count": null,
   "id": "af5f4600",
   "metadata": {},
   "outputs": [],
   "source": []
  },
  {
   "cell_type": "code",
   "execution_count": 2,
   "id": "976cd526",
   "metadata": {},
   "outputs": [],
   "source": [
    "df = h.query('Alice')"
   ]
  },
  {
   "cell_type": "code",
   "execution_count": 2,
   "id": "0f0b205f",
   "metadata": {
    "scrolled": false
   },
   "outputs": [
    {
     "name": "stderr",
     "output_type": "stream",
     "text": [
      " 21-05 13:53:02 | \u001b[32mI\u001b[0m | \u001b[32mResult for query=ListInstrument from 'Authority/8175C6EA55DE/CN=Authority, OU=Test Dept, O=R3, L=London, C=GB'. (Time taken=0:00:04.312654)\u001b[0m\n"
     ]
    },
    {
     "data": {
      "text/html": [
       "<div>\n",
       "<style scoped>\n",
       "    .dataframe tbody tr th:only-of-type {\n",
       "        vertical-align: middle;\n",
       "    }\n",
       "\n",
       "    .dataframe tbody tr th {\n",
       "        vertical-align: top;\n",
       "    }\n",
       "\n",
       "    .dataframe thead th {\n",
       "        text-align: right;\n",
       "    }\n",
       "</style>\n",
       "<table border=\"1\" class=\"dataframe\">\n",
       "  <thead>\n",
       "    <tr style=\"text-align: right;\">\n",
       "      <th></th>\n",
       "      <th>id</th>\n",
       "      <th>name</th>\n",
       "      <th>owner</th>\n",
       "      <th>issuer</th>\n",
       "      <th>quantity</th>\n",
       "      <th>transferable</th>\n",
       "      <th>expiry</th>\n",
       "      <th>verifiable</th>\n",
       "      <th>attributes</th>\n",
       "    </tr>\n",
       "  </thead>\n",
       "  <tbody>\n",
       "    <tr>\n",
       "      <th>0</th>\n",
       "      <td>3d4c026b-7721-4f1d-97e4-5b823c61c568</td>\n",
       "      <td>Government Bond 2024</td>\n",
       "      <td>CN=Charlie, OU=Test Dept, O=R3, L=London, C=GB</td>\n",
       "      <td>CN=Authority, OU=Test Dept, O=R3, L=London, C=GB</td>\n",
       "      <td>4</td>\n",
       "      <td>True</td>\n",
       "      <td>None</td>\n",
       "      <td>True</td>\n",
       "      <td>{'payments': '['10Jun2023', '10Sep2023', '10Dec2023', '10Mar2024']'}</td>\n",
       "    </tr>\n",
       "    <tr>\n",
       "      <th>1</th>\n",
       "      <td>c93b9892-7416-4ae2-9ced-681e326e241d</td>\n",
       "      <td>Government Bond 2024</td>\n",
       "      <td>CN=Alice, OU=Test Dept, O=R3, L=London, C=GB</td>\n",
       "      <td>CN=Authority, OU=Test Dept, O=R3, L=London, C=GB</td>\n",
       "      <td>10</td>\n",
       "      <td>True</td>\n",
       "      <td>None</td>\n",
       "      <td>True</td>\n",
       "      <td>{'payments': '['10Jun2023', '10Sep2023', '10Dec2023', '10Mar2024']'}</td>\n",
       "    </tr>\n",
       "    <tr>\n",
       "      <th>2</th>\n",
       "      <td>a39b03d2-f27b-4e22-a1a6-6ffba27c40c9</td>\n",
       "      <td>Government Bond 2024</td>\n",
       "      <td>CN=Alice, OU=Test Dept, O=R3, L=London, C=GB</td>\n",
       "      <td>CN=Authority, OU=Test Dept, O=R3, L=London, C=GB</td>\n",
       "      <td>4</td>\n",
       "      <td>True</td>\n",
       "      <td>None</td>\n",
       "      <td>True</td>\n",
       "      <td>{'payments': '['10Jun2023', '10Sep2023', '10Dec2023', '10Mar2024']'}</td>\n",
       "    </tr>\n",
       "    <tr>\n",
       "      <th>3</th>\n",
       "      <td>b1a7a507-2c93-4153-a3de-22fbebac153e</td>\n",
       "      <td>Government Bond 2024</td>\n",
       "      <td>CN=Bob, OU=Test Dept, O=R3, L=London, C=GB</td>\n",
       "      <td>CN=Authority, OU=Test Dept, O=R3, L=London, C=GB</td>\n",
       "      <td>6</td>\n",
       "      <td>True</td>\n",
       "      <td>None</td>\n",
       "      <td>True</td>\n",
       "      <td>{'payments': '['10Jun2023', '10Sep2023', '10Dec2023', '10Mar2024']'}</td>\n",
       "    </tr>\n",
       "    <tr>\n",
       "      <th>4</th>\n",
       "      <td>0184710b-57d9-4e7e-afa6-7ad7373f9e58</td>\n",
       "      <td>Government Bond 2024</td>\n",
       "      <td>CN=Bob, OU=Test Dept, O=R3, L=London, C=GB</td>\n",
       "      <td>CN=Authority, OU=Test Dept, O=R3, L=London, C=GB</td>\n",
       "      <td>6</td>\n",
       "      <td>True</td>\n",
       "      <td>None</td>\n",
       "      <td>True</td>\n",
       "      <td>{'payments': '['10Jun2023', '10Sep2023', '10Dec2023', '10Mar2024']'}</td>\n",
       "    </tr>\n",
       "  </tbody>\n",
       "</table>\n",
       "</div>"
      ],
      "text/plain": [
       "                                     id                  name   \n",
       "0  3d4c026b-7721-4f1d-97e4-5b823c61c568  Government Bond 2024  \\\n",
       "1  c93b9892-7416-4ae2-9ced-681e326e241d  Government Bond 2024   \n",
       "2  a39b03d2-f27b-4e22-a1a6-6ffba27c40c9  Government Bond 2024   \n",
       "3  b1a7a507-2c93-4153-a3de-22fbebac153e  Government Bond 2024   \n",
       "4  0184710b-57d9-4e7e-afa6-7ad7373f9e58  Government Bond 2024   \n",
       "\n",
       "                                            owner   \n",
       "0  CN=Charlie, OU=Test Dept, O=R3, L=London, C=GB  \\\n",
       "1    CN=Alice, OU=Test Dept, O=R3, L=London, C=GB   \n",
       "2    CN=Alice, OU=Test Dept, O=R3, L=London, C=GB   \n",
       "3      CN=Bob, OU=Test Dept, O=R3, L=London, C=GB   \n",
       "4      CN=Bob, OU=Test Dept, O=R3, L=London, C=GB   \n",
       "\n",
       "                                             issuer  quantity  transferable   \n",
       "0  CN=Authority, OU=Test Dept, O=R3, L=London, C=GB         4          True  \\\n",
       "1  CN=Authority, OU=Test Dept, O=R3, L=London, C=GB        10          True   \n",
       "2  CN=Authority, OU=Test Dept, O=R3, L=London, C=GB         4          True   \n",
       "3  CN=Authority, OU=Test Dept, O=R3, L=London, C=GB         6          True   \n",
       "4  CN=Authority, OU=Test Dept, O=R3, L=London, C=GB         6          True   \n",
       "\n",
       "  expiry  verifiable   \n",
       "0   None        True  \\\n",
       "1   None        True   \n",
       "2   None        True   \n",
       "3   None        True   \n",
       "4   None        True   \n",
       "\n",
       "                                                             attributes  \n",
       "0  {'payments': '['10Jun2023', '10Sep2023', '10Dec2023', '10Mar2024']'}  \n",
       "1  {'payments': '['10Jun2023', '10Sep2023', '10Dec2023', '10Mar2024']'}  \n",
       "2  {'payments': '['10Jun2023', '10Sep2023', '10Dec2023', '10Mar2024']'}  \n",
       "3  {'payments': '['10Jun2023', '10Sep2023', '10Dec2023', '10Mar2024']'}  \n",
       "4  {'payments': '['10Jun2023', '10Sep2023', '10Dec2023', '10Mar2024']'}  "
      ]
     },
     "metadata": {},
     "output_type": "display_data"
    },
    {
     "name": "stderr",
     "output_type": "stream",
     "text": [
      " 21-05 13:53:06 | \u001b[32mI\u001b[0m | \u001b[32mResult for query=ListInstrument from 'Bob/B31CAD5945F1/CN=Bob, OU=Test Dept, O=R3, L=London, C=GB'. (Time taken=0:00:04.246007)\u001b[0m\n"
     ]
    },
    {
     "data": {
      "text/html": [
       "<div>\n",
       "<style scoped>\n",
       "    .dataframe tbody tr th:only-of-type {\n",
       "        vertical-align: middle;\n",
       "    }\n",
       "\n",
       "    .dataframe tbody tr th {\n",
       "        vertical-align: top;\n",
       "    }\n",
       "\n",
       "    .dataframe thead th {\n",
       "        text-align: right;\n",
       "    }\n",
       "</style>\n",
       "<table border=\"1\" class=\"dataframe\">\n",
       "  <thead>\n",
       "    <tr style=\"text-align: right;\">\n",
       "      <th></th>\n",
       "      <th>id</th>\n",
       "      <th>name</th>\n",
       "      <th>owner</th>\n",
       "      <th>issuer</th>\n",
       "      <th>quantity</th>\n",
       "      <th>transferable</th>\n",
       "      <th>expiry</th>\n",
       "      <th>verifiable</th>\n",
       "      <th>attributes</th>\n",
       "    </tr>\n",
       "  </thead>\n",
       "  <tbody>\n",
       "    <tr>\n",
       "      <th>0</th>\n",
       "      <td>0184710b-57d9-4e7e-afa6-7ad7373f9e58</td>\n",
       "      <td>Government Bond 2024</td>\n",
       "      <td>CN=Bob, OU=Test Dept, O=R3, L=London, C=GB</td>\n",
       "      <td>CN=Authority, OU=Test Dept, O=R3, L=London, C=GB</td>\n",
       "      <td>6</td>\n",
       "      <td>True</td>\n",
       "      <td>None</td>\n",
       "      <td>True</td>\n",
       "      <td>{'payments': '['10Jun2023', '10Sep2023', '10Dec2023', '10Mar2024']'}</td>\n",
       "    </tr>\n",
       "    <tr>\n",
       "      <th>1</th>\n",
       "      <td>b1a7a507-2c93-4153-a3de-22fbebac153e</td>\n",
       "      <td>Government Bond 2024</td>\n",
       "      <td>CN=Bob, OU=Test Dept, O=R3, L=London, C=GB</td>\n",
       "      <td>CN=Authority, OU=Test Dept, O=R3, L=London, C=GB</td>\n",
       "      <td>6</td>\n",
       "      <td>True</td>\n",
       "      <td>None</td>\n",
       "      <td>True</td>\n",
       "      <td>{'payments': '['10Jun2023', '10Sep2023', '10Dec2023', '10Mar2024']'}</td>\n",
       "    </tr>\n",
       "  </tbody>\n",
       "</table>\n",
       "</div>"
      ],
      "text/plain": [
       "                                     id                  name   \n",
       "0  0184710b-57d9-4e7e-afa6-7ad7373f9e58  Government Bond 2024  \\\n",
       "1  b1a7a507-2c93-4153-a3de-22fbebac153e  Government Bond 2024   \n",
       "\n",
       "                                        owner   \n",
       "0  CN=Bob, OU=Test Dept, O=R3, L=London, C=GB  \\\n",
       "1  CN=Bob, OU=Test Dept, O=R3, L=London, C=GB   \n",
       "\n",
       "                                             issuer  quantity  transferable   \n",
       "0  CN=Authority, OU=Test Dept, O=R3, L=London, C=GB         6          True  \\\n",
       "1  CN=Authority, OU=Test Dept, O=R3, L=London, C=GB         6          True   \n",
       "\n",
       "  expiry  verifiable   \n",
       "0   None        True  \\\n",
       "1   None        True   \n",
       "\n",
       "                                                             attributes  \n",
       "0  {'payments': '['10Jun2023', '10Sep2023', '10Dec2023', '10Mar2024']'}  \n",
       "1  {'payments': '['10Jun2023', '10Sep2023', '10Dec2023', '10Mar2024']'}  "
      ]
     },
     "metadata": {},
     "output_type": "display_data"
    },
    {
     "name": "stderr",
     "output_type": "stream",
     "text": [
      " 21-05 13:53:10 | \u001b[32mI\u001b[0m | \u001b[32mResult for query=ListInstrument from 'Charlie/AB7643993711/CN=Charlie, OU=Test Dept, O=R3, L=London, C=GB'. (Time taken=0:00:04.248719)\u001b[0m\n"
     ]
    },
    {
     "data": {
      "text/html": [
       "<div>\n",
       "<style scoped>\n",
       "    .dataframe tbody tr th:only-of-type {\n",
       "        vertical-align: middle;\n",
       "    }\n",
       "\n",
       "    .dataframe tbody tr th {\n",
       "        vertical-align: top;\n",
       "    }\n",
       "\n",
       "    .dataframe thead th {\n",
       "        text-align: right;\n",
       "    }\n",
       "</style>\n",
       "<table border=\"1\" class=\"dataframe\">\n",
       "  <thead>\n",
       "    <tr style=\"text-align: right;\">\n",
       "      <th></th>\n",
       "      <th>id</th>\n",
       "      <th>name</th>\n",
       "      <th>owner</th>\n",
       "      <th>issuer</th>\n",
       "      <th>quantity</th>\n",
       "      <th>transferable</th>\n",
       "      <th>expiry</th>\n",
       "      <th>verifiable</th>\n",
       "      <th>attributes</th>\n",
       "    </tr>\n",
       "  </thead>\n",
       "  <tbody>\n",
       "    <tr>\n",
       "      <th>0</th>\n",
       "      <td>3d4c026b-7721-4f1d-97e4-5b823c61c568</td>\n",
       "      <td>Government Bond 2024</td>\n",
       "      <td>CN=Charlie, OU=Test Dept, O=R3, L=London, C=GB</td>\n",
       "      <td>CN=Authority, OU=Test Dept, O=R3, L=London, C=GB</td>\n",
       "      <td>4</td>\n",
       "      <td>True</td>\n",
       "      <td>None</td>\n",
       "      <td>True</td>\n",
       "      <td>{'payments': '['10Jun2023', '10Sep2023', '10Dec2023', '10Mar2024']'}</td>\n",
       "    </tr>\n",
       "  </tbody>\n",
       "</table>\n",
       "</div>"
      ],
      "text/plain": [
       "                                     id                  name   \n",
       "0  3d4c026b-7721-4f1d-97e4-5b823c61c568  Government Bond 2024  \\\n",
       "\n",
       "                                            owner   \n",
       "0  CN=Charlie, OU=Test Dept, O=R3, L=London, C=GB  \\\n",
       "\n",
       "                                             issuer  quantity  transferable   \n",
       "0  CN=Authority, OU=Test Dept, O=R3, L=London, C=GB         4          True  \\\n",
       "\n",
       "  expiry  verifiable   \n",
       "0   None        True  \\\n",
       "\n",
       "                                                             attributes  \n",
       "0  {'payments': '['10Jun2023', '10Sep2023', '10Dec2023', '10Mar2024']'}  "
      ]
     },
     "metadata": {},
     "output_type": "display_data"
    },
    {
     "name": "stderr",
     "output_type": "stream",
     "text": [
      " 21-05 13:53:14 | \u001b[32mI\u001b[0m | \u001b[32mResult for query=ListInstrument from 'Alice/415E407297AA/CN=Alice, OU=Test Dept, O=R3, L=London, C=GB'. (Time taken=0:00:04.315236)\u001b[0m\n"
     ]
    },
    {
     "data": {
      "text/html": [
       "<div>\n",
       "<style scoped>\n",
       "    .dataframe tbody tr th:only-of-type {\n",
       "        vertical-align: middle;\n",
       "    }\n",
       "\n",
       "    .dataframe tbody tr th {\n",
       "        vertical-align: top;\n",
       "    }\n",
       "\n",
       "    .dataframe thead th {\n",
       "        text-align: right;\n",
       "    }\n",
       "</style>\n",
       "<table border=\"1\" class=\"dataframe\">\n",
       "  <thead>\n",
       "    <tr style=\"text-align: right;\">\n",
       "      <th></th>\n",
       "      <th>id</th>\n",
       "      <th>name</th>\n",
       "      <th>owner</th>\n",
       "      <th>issuer</th>\n",
       "      <th>quantity</th>\n",
       "      <th>transferable</th>\n",
       "      <th>expiry</th>\n",
       "      <th>verifiable</th>\n",
       "      <th>attributes</th>\n",
       "    </tr>\n",
       "  </thead>\n",
       "  <tbody>\n",
       "    <tr>\n",
       "      <th>0</th>\n",
       "      <td>c93b9892-7416-4ae2-9ced-681e326e241d</td>\n",
       "      <td>Government Bond 2024</td>\n",
       "      <td>CN=Alice, OU=Test Dept, O=R3, L=London, C=GB</td>\n",
       "      <td>CN=Authority, OU=Test Dept, O=R3, L=London, C=GB</td>\n",
       "      <td>10</td>\n",
       "      <td>True</td>\n",
       "      <td>None</td>\n",
       "      <td>True</td>\n",
       "      <td>{'payments': '['10Jun2023', '10Sep2023', '10Dec2023', '10Mar2024']'}</td>\n",
       "    </tr>\n",
       "    <tr>\n",
       "      <th>1</th>\n",
       "      <td>a39b03d2-f27b-4e22-a1a6-6ffba27c40c9</td>\n",
       "      <td>Government Bond 2024</td>\n",
       "      <td>CN=Alice, OU=Test Dept, O=R3, L=London, C=GB</td>\n",
       "      <td>CN=Authority, OU=Test Dept, O=R3, L=London, C=GB</td>\n",
       "      <td>4</td>\n",
       "      <td>True</td>\n",
       "      <td>None</td>\n",
       "      <td>True</td>\n",
       "      <td>{'payments': '['10Jun2023', '10Sep2023', '10Dec2023', '10Mar2024']'}</td>\n",
       "    </tr>\n",
       "  </tbody>\n",
       "</table>\n",
       "</div>"
      ],
      "text/plain": [
       "                                     id                  name   \n",
       "0  c93b9892-7416-4ae2-9ced-681e326e241d  Government Bond 2024  \\\n",
       "1  a39b03d2-f27b-4e22-a1a6-6ffba27c40c9  Government Bond 2024   \n",
       "\n",
       "                                          owner   \n",
       "0  CN=Alice, OU=Test Dept, O=R3, L=London, C=GB  \\\n",
       "1  CN=Alice, OU=Test Dept, O=R3, L=London, C=GB   \n",
       "\n",
       "                                             issuer  quantity  transferable   \n",
       "0  CN=Authority, OU=Test Dept, O=R3, L=London, C=GB        10          True  \\\n",
       "1  CN=Authority, OU=Test Dept, O=R3, L=London, C=GB         4          True   \n",
       "\n",
       "  expiry  verifiable   \n",
       "0   None        True  \\\n",
       "1   None        True   \n",
       "\n",
       "                                                             attributes  \n",
       "0  {'payments': '['10Jun2023', '10Sep2023', '10Dec2023', '10Mar2024']'}  \n",
       "1  {'payments': '['10Jun2023', '10Sep2023', '10Dec2023', '10Mar2024']'}  "
      ]
     },
     "metadata": {},
     "output_type": "display_data"
    },
    {
     "name": "stderr",
     "output_type": "stream",
     "text": [
      " 21-05 13:53:19 | \u001b[32mI\u001b[0m | \u001b[32mResult for query=ListInstrument from 'Dave/FB9F8A560956/CN=Dave, OU=Test Dept, O=R3, L=London, C=GB'. (Time taken=0:00:04.284337)\u001b[0m\n"
     ]
    },
    {
     "data": {
      "text/html": [
       "<div>\n",
       "<style scoped>\n",
       "    .dataframe tbody tr th:only-of-type {\n",
       "        vertical-align: middle;\n",
       "    }\n",
       "\n",
       "    .dataframe tbody tr th {\n",
       "        vertical-align: top;\n",
       "    }\n",
       "\n",
       "    .dataframe thead th {\n",
       "        text-align: right;\n",
       "    }\n",
       "</style>\n",
       "<table border=\"1\" class=\"dataframe\">\n",
       "  <thead>\n",
       "    <tr style=\"text-align: right;\">\n",
       "      <th></th>\n",
       "    </tr>\n",
       "  </thead>\n",
       "  <tbody>\n",
       "  </tbody>\n",
       "</table>\n",
       "</div>"
      ],
      "text/plain": [
       "Empty DataFrame\n",
       "Columns: []\n",
       "Index: []"
      ]
     },
     "metadata": {},
     "output_type": "display_data"
    }
   ],
   "source": [
    "h.query_all_nodes()"
   ]
  },
  {
   "cell_type": "code",
   "execution_count": 5,
   "id": "e3b5e774",
   "metadata": {},
   "outputs": [
    {
     "data": {
      "text/html": [
       "<h4 style=\"background-color:cyan;color:blue; font-family: monospace\">Type 1, Transferable = Y, Quantifiable = Y -- Example 1 -- Government Bond with defined coupon payments</h4>"
      ],
      "text/plain": [
       "<IPython.core.display.HTML object>"
      ]
     },
     "metadata": {},
     "output_type": "display_data"
    },
    {
     "data": {
      "text/html": [
       "<h4 style=\"color:blue; font-family: monospace\">Issue -- expected=success</h4>"
      ],
      "text/plain": [
       "<IPython.core.display.HTML object>"
      ]
     },
     "metadata": {},
     "output_type": "display_data"
    },
    {
     "name": "stderr",
     "output_type": "stream",
     "text": [
      " 21-05 21:17:16 | \u001b[32mI\u001b[0m | \u001b[32mIssuing instrument='Government Bond 2024' to 'Alice'\u001b[0m\n",
      " 21-05 21:17:16 | \u001b[32mI\u001b[0m | \u001b[32mRunning action 'Issue' on 'Authority/8175C6EA55DE/CN=Authority, OU=Test Dept, O=R3, L=London, C=GB'\u001b[0m\n",
      " 21-05 21:17:24 | \u001b[32mI\u001b[0m | \u001b[32ma2e4f105-4f79-4425-98d6-bfeed72d68c5\u001b[0m\n",
      " 21-05 21:17:24 | \u001b[32mI\u001b[0m | \u001b[32mTime taken = 0:00:08.376892\u001b[0m\n"
     ]
    },
    {
     "name": "stdout",
     "output_type": "stream",
     "text": [
      "5837.1684684036.282727<Response [200]>a2e4f105-4f79-4425-98d6-bfeed72d68c5"
     ]
    }
   ],
   "source": [
    "# Issue -- Type 1, Transferable = Y, Quantifiable = Y\n",
    "# Example 1 -- Government Bond with defined coupon payments -- Type 1 / Test 1 -- Transferable, Quantifiable Instrument\n",
    "h.message(\"Type 1, Transferable = Y, Quantifiable = Y -- Example 1 -- Government Bond with defined coupon payments\", h=3)\n",
    "h.message(\"Issue -- expected=success\", h=4)\n",
    "\n",
    "(req_id, response, return_val_uuid) = h.issue('Authority', 'Alice', 'Government Bond 2024', \n",
    "        quantity=10,\n",
    "        transferable=True,\n",
    "        expiry=None,\n",
    "        verifiable=True,\n",
    "        attributes={'payments': \"['10Jun2023', '10Sep2023', '10Dec2023', '10Mar2024']\"})\n",
    "\n",
    "h.message([req_id, response, return_val_uuid])"
   ]
  },
  {
   "cell_type": "code",
   "execution_count": 3,
   "id": "3c21b0d2",
   "metadata": {},
   "outputs": [
    {
     "name": "stdout",
     "output_type": "stream",
     "text": [
      "Help on method transfer in module corda5Interface:\n",
      "\n",
      "transfer(inst_id, from_node, to_node, quantity=None) method of corda5Interface.Corda5 instance\n",
      "\n"
     ]
    }
   ],
   "source": [
    "help(h.transfer)"
   ]
  },
  {
   "cell_type": "code",
   "execution_count": 6,
   "id": "9217de72",
   "metadata": {},
   "outputs": [
    {
     "data": {
      "text/html": [
       "<h4 style=\"color:blue; font-family: monospace\">Transfer from issuer -- for instrument Type 1, Transferable = Y, Quantifiable = Y -- expected=failure</h4>"
      ],
      "text/plain": [
       "<IPython.core.display.HTML object>"
      ]
     },
     "metadata": {},
     "output_type": "display_data"
    },
    {
     "name": "stderr",
     "output_type": "stream",
     "text": [
      " 21-05 21:17:36 | \u001b[32mI\u001b[0m | \u001b[32mTranfering instrument id 'a2e4f105-4f79-4425-98d6-bfeed72d68c5' to 'Charlie'\u001b[0m\n",
      " 21-05 21:17:36 | \u001b[32mI\u001b[0m | \u001b[32mRunning action 'Transfer' on 'Authority/8175C6EA55DE/CN=Authority, OU=Test Dept, O=R3, L=London, C=GB'\u001b[0m\n",
      " 21-05 21:17:40 | \u001b[32mI\u001b[0m | \u001b[32m{'type': 'FLOW_FAILED', 'message': 'Not able to find a owning state with id a2e4f105-4f79-4425-98d6-bfeed72d68c5'}\u001b[0m\n",
      " 21-05 21:17:40 | \u001b[32mI\u001b[0m | \u001b[32mTime taken = 0:00:04.191121\u001b[0m\n"
     ]
    },
    {
     "name": "stdout",
     "output_type": "stream",
     "text": [
      "5837.1684684056.2325<Response [200]>{'type': 'FLOW_FAILED', 'message': 'Not able to find a owning state with id a2e4f105-4f79-4425-98d6-bfeed72d68c5'}"
     ]
    }
   ],
   "source": [
    "# Transfer from issuer -- expected=failure\n",
    "h.message(\"Transfer from issuer -- for instrument Type 1, Transferable = Y, Quantifiable = Y -- expected=failure\", h=4)\n",
    "(req_id, response, return_val) = h.transfer(return_val_uuid, 'Authority', 'Charlie', quantity=4)\n",
    "h.message([req_id, response, return_val])"
   ]
  },
  {
   "cell_type": "code",
   "execution_count": 7,
   "id": "59231ea1",
   "metadata": {},
   "outputs": [
    {
     "data": {
      "text/html": [
       "<h4 style=\"color:blue; font-family: monospace\">Partial transfer from owner -- for instrument Type 1, Transferable = Y, Quantifiable = Y -- expected=success</h4>"
      ],
      "text/plain": [
       "<IPython.core.display.HTML object>"
      ]
     },
     "metadata": {},
     "output_type": "display_data"
    },
    {
     "name": "stderr",
     "output_type": "stream",
     "text": [
      " 21-05 21:17:49 | \u001b[32mI\u001b[0m | \u001b[32mTranfering instrument id 'a2e4f105-4f79-4425-98d6-bfeed72d68c5' to 'Bob'\u001b[0m\n",
      " 21-05 21:17:49 | \u001b[32mI\u001b[0m | \u001b[32mRunning action 'Transfer' on 'Alice/415E407297AA/CN=Alice, OU=Test Dept, O=R3, L=London, C=GB'\u001b[0m\n",
      " 21-05 21:18:06 | \u001b[32mI\u001b[0m | \u001b[32mnet.corda.ledger.utxo.flow.impl.FinalizationResultImpl@23e7b70\u001b[0m\n",
      " 21-05 21:18:06 | \u001b[32mI\u001b[0m | \u001b[32mTime taken = 0:00:16.496626\u001b[0m\n"
     ]
    },
    {
     "name": "stdout",
     "output_type": "stream",
     "text": [
      "5837.1684684069.8207748<Response [200]>net.corda.ledger.utxo.flow.impl.FinalizationResultImpl@23e7b70"
     ]
    }
   ],
   "source": [
    "# Partial transfer from owner\n",
    "h.message(\"Partial transfer from owner -- for instrument Type 1, Transferable = Y, Quantifiable = Y -- expected=success\", 4)\n",
    "(req_id, response, return_val) = h.transfer(return_val_uuid, 'Alice', 'Bob', quantity=6)\n",
    "h.message([req_id, response, return_val], 4)"
   ]
  },
  {
   "cell_type": "code",
   "execution_count": null,
   "id": "f6d377ab",
   "metadata": {},
   "outputs": [
    {
     "name": "stderr",
     "output_type": "stream",
     "text": [
      " 21-05 13:52:33 | \u001b[32mI\u001b[0m | \u001b[32mResult for query=ListInstrument from 'Authority/8175C6EA55DE/CN=Authority, OU=Test Dept, O=R3, L=London, C=GB'. (Time taken=0:00:04.303915)\u001b[0m\n"
     ]
    },
    {
     "data": {
      "text/html": [
       "<div>\n",
       "<style scoped>\n",
       "    .dataframe tbody tr th:only-of-type {\n",
       "        vertical-align: middle;\n",
       "    }\n",
       "\n",
       "    .dataframe tbody tr th {\n",
       "        vertical-align: top;\n",
       "    }\n",
       "\n",
       "    .dataframe thead th {\n",
       "        text-align: right;\n",
       "    }\n",
       "</style>\n",
       "<table border=\"1\" class=\"dataframe\">\n",
       "  <thead>\n",
       "    <tr style=\"text-align: right;\">\n",
       "      <th></th>\n",
       "      <th>id</th>\n",
       "      <th>name</th>\n",
       "      <th>owner</th>\n",
       "      <th>issuer</th>\n",
       "      <th>quantity</th>\n",
       "      <th>transferable</th>\n",
       "      <th>expiry</th>\n",
       "      <th>verifiable</th>\n",
       "      <th>attributes</th>\n",
       "    </tr>\n",
       "  </thead>\n",
       "  <tbody>\n",
       "    <tr>\n",
       "      <th>0</th>\n",
       "      <td>3d4c026b-7721-4f1d-97e4-5b823c61c568</td>\n",
       "      <td>Government Bond 2024</td>\n",
       "      <td>CN=Charlie, OU=Test Dept, O=R3, L=London, C=GB</td>\n",
       "      <td>CN=Authority, OU=Test Dept, O=R3, L=London, C=GB</td>\n",
       "      <td>4</td>\n",
       "      <td>True</td>\n",
       "      <td>None</td>\n",
       "      <td>True</td>\n",
       "      <td>{'payments': '['10Jun2023', '10Sep2023', '10Dec2023', '10Mar2024']'}</td>\n",
       "    </tr>\n",
       "    <tr>\n",
       "      <th>1</th>\n",
       "      <td>c93b9892-7416-4ae2-9ced-681e326e241d</td>\n",
       "      <td>Government Bond 2024</td>\n",
       "      <td>CN=Alice, OU=Test Dept, O=R3, L=London, C=GB</td>\n",
       "      <td>CN=Authority, OU=Test Dept, O=R3, L=London, C=GB</td>\n",
       "      <td>10</td>\n",
       "      <td>True</td>\n",
       "      <td>None</td>\n",
       "      <td>True</td>\n",
       "      <td>{'payments': '['10Jun2023', '10Sep2023', '10Dec2023', '10Mar2024']'}</td>\n",
       "    </tr>\n",
       "    <tr>\n",
       "      <th>2</th>\n",
       "      <td>a39b03d2-f27b-4e22-a1a6-6ffba27c40c9</td>\n",
       "      <td>Government Bond 2024</td>\n",
       "      <td>CN=Alice, OU=Test Dept, O=R3, L=London, C=GB</td>\n",
       "      <td>CN=Authority, OU=Test Dept, O=R3, L=London, C=GB</td>\n",
       "      <td>4</td>\n",
       "      <td>True</td>\n",
       "      <td>None</td>\n",
       "      <td>True</td>\n",
       "      <td>{'payments': '['10Jun2023', '10Sep2023', '10Dec2023', '10Mar2024']'}</td>\n",
       "    </tr>\n",
       "    <tr>\n",
       "      <th>3</th>\n",
       "      <td>b1a7a507-2c93-4153-a3de-22fbebac153e</td>\n",
       "      <td>Government Bond 2024</td>\n",
       "      <td>CN=Bob, OU=Test Dept, O=R3, L=London, C=GB</td>\n",
       "      <td>CN=Authority, OU=Test Dept, O=R3, L=London, C=GB</td>\n",
       "      <td>6</td>\n",
       "      <td>True</td>\n",
       "      <td>None</td>\n",
       "      <td>True</td>\n",
       "      <td>{'payments': '['10Jun2023', '10Sep2023', '10Dec2023', '10Mar2024']'}</td>\n",
       "    </tr>\n",
       "    <tr>\n",
       "      <th>4</th>\n",
       "      <td>0184710b-57d9-4e7e-afa6-7ad7373f9e58</td>\n",
       "      <td>Government Bond 2024</td>\n",
       "      <td>CN=Bob, OU=Test Dept, O=R3, L=London, C=GB</td>\n",
       "      <td>CN=Authority, OU=Test Dept, O=R3, L=London, C=GB</td>\n",
       "      <td>6</td>\n",
       "      <td>True</td>\n",
       "      <td>None</td>\n",
       "      <td>True</td>\n",
       "      <td>{'payments': '['10Jun2023', '10Sep2023', '10Dec2023', '10Mar2024']'}</td>\n",
       "    </tr>\n",
       "  </tbody>\n",
       "</table>\n",
       "</div>"
      ],
      "text/plain": [
       "                                     id                  name   \n",
       "0  3d4c026b-7721-4f1d-97e4-5b823c61c568  Government Bond 2024  \\\n",
       "1  c93b9892-7416-4ae2-9ced-681e326e241d  Government Bond 2024   \n",
       "2  a39b03d2-f27b-4e22-a1a6-6ffba27c40c9  Government Bond 2024   \n",
       "3  b1a7a507-2c93-4153-a3de-22fbebac153e  Government Bond 2024   \n",
       "4  0184710b-57d9-4e7e-afa6-7ad7373f9e58  Government Bond 2024   \n",
       "\n",
       "                                            owner   \n",
       "0  CN=Charlie, OU=Test Dept, O=R3, L=London, C=GB  \\\n",
       "1    CN=Alice, OU=Test Dept, O=R3, L=London, C=GB   \n",
       "2    CN=Alice, OU=Test Dept, O=R3, L=London, C=GB   \n",
       "3      CN=Bob, OU=Test Dept, O=R3, L=London, C=GB   \n",
       "4      CN=Bob, OU=Test Dept, O=R3, L=London, C=GB   \n",
       "\n",
       "                                             issuer  quantity  transferable   \n",
       "0  CN=Authority, OU=Test Dept, O=R3, L=London, C=GB         4          True  \\\n",
       "1  CN=Authority, OU=Test Dept, O=R3, L=London, C=GB        10          True   \n",
       "2  CN=Authority, OU=Test Dept, O=R3, L=London, C=GB         4          True   \n",
       "3  CN=Authority, OU=Test Dept, O=R3, L=London, C=GB         6          True   \n",
       "4  CN=Authority, OU=Test Dept, O=R3, L=London, C=GB         6          True   \n",
       "\n",
       "  expiry  verifiable   \n",
       "0   None        True  \\\n",
       "1   None        True   \n",
       "2   None        True   \n",
       "3   None        True   \n",
       "4   None        True   \n",
       "\n",
       "                                                             attributes  \n",
       "0  {'payments': '['10Jun2023', '10Sep2023', '10Dec2023', '10Mar2024']'}  \n",
       "1  {'payments': '['10Jun2023', '10Sep2023', '10Dec2023', '10Mar2024']'}  \n",
       "2  {'payments': '['10Jun2023', '10Sep2023', '10Dec2023', '10Mar2024']'}  \n",
       "3  {'payments': '['10Jun2023', '10Sep2023', '10Dec2023', '10Mar2024']'}  \n",
       "4  {'payments': '['10Jun2023', '10Sep2023', '10Dec2023', '10Mar2024']'}  "
      ]
     },
     "metadata": {},
     "output_type": "display_data"
    },
    {
     "name": "stderr",
     "output_type": "stream",
     "text": [
      " 21-05 13:52:37 | \u001b[32mI\u001b[0m | \u001b[32mResult for query=ListInstrument from 'Bob/B31CAD5945F1/CN=Bob, OU=Test Dept, O=R3, L=London, C=GB'. (Time taken=0:00:04.251358)\u001b[0m\n"
     ]
    },
    {
     "data": {
      "text/html": [
       "<div>\n",
       "<style scoped>\n",
       "    .dataframe tbody tr th:only-of-type {\n",
       "        vertical-align: middle;\n",
       "    }\n",
       "\n",
       "    .dataframe tbody tr th {\n",
       "        vertical-align: top;\n",
       "    }\n",
       "\n",
       "    .dataframe thead th {\n",
       "        text-align: right;\n",
       "    }\n",
       "</style>\n",
       "<table border=\"1\" class=\"dataframe\">\n",
       "  <thead>\n",
       "    <tr style=\"text-align: right;\">\n",
       "      <th></th>\n",
       "      <th>id</th>\n",
       "      <th>name</th>\n",
       "      <th>owner</th>\n",
       "      <th>issuer</th>\n",
       "      <th>quantity</th>\n",
       "      <th>transferable</th>\n",
       "      <th>expiry</th>\n",
       "      <th>verifiable</th>\n",
       "      <th>attributes</th>\n",
       "    </tr>\n",
       "  </thead>\n",
       "  <tbody>\n",
       "    <tr>\n",
       "      <th>0</th>\n",
       "      <td>0184710b-57d9-4e7e-afa6-7ad7373f9e58</td>\n",
       "      <td>Government Bond 2024</td>\n",
       "      <td>CN=Bob, OU=Test Dept, O=R3, L=London, C=GB</td>\n",
       "      <td>CN=Authority, OU=Test Dept, O=R3, L=London, C=GB</td>\n",
       "      <td>6</td>\n",
       "      <td>True</td>\n",
       "      <td>None</td>\n",
       "      <td>True</td>\n",
       "      <td>{'payments': '['10Jun2023', '10Sep2023', '10Dec2023', '10Mar2024']'}</td>\n",
       "    </tr>\n",
       "    <tr>\n",
       "      <th>1</th>\n",
       "      <td>b1a7a507-2c93-4153-a3de-22fbebac153e</td>\n",
       "      <td>Government Bond 2024</td>\n",
       "      <td>CN=Bob, OU=Test Dept, O=R3, L=London, C=GB</td>\n",
       "      <td>CN=Authority, OU=Test Dept, O=R3, L=London, C=GB</td>\n",
       "      <td>6</td>\n",
       "      <td>True</td>\n",
       "      <td>None</td>\n",
       "      <td>True</td>\n",
       "      <td>{'payments': '['10Jun2023', '10Sep2023', '10Dec2023', '10Mar2024']'}</td>\n",
       "    </tr>\n",
       "  </tbody>\n",
       "</table>\n",
       "</div>"
      ],
      "text/plain": [
       "                                     id                  name   \n",
       "0  0184710b-57d9-4e7e-afa6-7ad7373f9e58  Government Bond 2024  \\\n",
       "1  b1a7a507-2c93-4153-a3de-22fbebac153e  Government Bond 2024   \n",
       "\n",
       "                                        owner   \n",
       "0  CN=Bob, OU=Test Dept, O=R3, L=London, C=GB  \\\n",
       "1  CN=Bob, OU=Test Dept, O=R3, L=London, C=GB   \n",
       "\n",
       "                                             issuer  quantity  transferable   \n",
       "0  CN=Authority, OU=Test Dept, O=R3, L=London, C=GB         6          True  \\\n",
       "1  CN=Authority, OU=Test Dept, O=R3, L=London, C=GB         6          True   \n",
       "\n",
       "  expiry  verifiable   \n",
       "0   None        True  \\\n",
       "1   None        True   \n",
       "\n",
       "                                                             attributes  \n",
       "0  {'payments': '['10Jun2023', '10Sep2023', '10Dec2023', '10Mar2024']'}  \n",
       "1  {'payments': '['10Jun2023', '10Sep2023', '10Dec2023', '10Mar2024']'}  "
      ]
     },
     "metadata": {},
     "output_type": "display_data"
    }
   ],
   "source": [
    "# print(return_val_uuid)\n",
    "h.query_all_nodes()"
   ]
  },
  {
   "cell_type": "code",
   "execution_count": 13,
   "id": "74dfb20c",
   "metadata": {},
   "outputs": [
    {
     "data": {
      "text/html": [
       "<div>\n",
       "<style scoped>\n",
       "    .dataframe tbody tr th:only-of-type {\n",
       "        vertical-align: middle;\n",
       "    }\n",
       "\n",
       "    .dataframe tbody tr th {\n",
       "        vertical-align: top;\n",
       "    }\n",
       "\n",
       "    .dataframe thead th {\n",
       "        text-align: right;\n",
       "    }\n",
       "</style>\n",
       "<table border=\"1\" class=\"dataframe\">\n",
       "  <thead>\n",
       "    <tr style=\"text-align: right;\">\n",
       "      <th></th>\n",
       "      <th>id</th>\n",
       "      <th>name</th>\n",
       "      <th>owner</th>\n",
       "      <th>issuer</th>\n",
       "      <th>quantity</th>\n",
       "      <th>transferable</th>\n",
       "      <th>expiry</th>\n",
       "      <th>verifiable</th>\n",
       "      <th>attributes</th>\n",
       "    </tr>\n",
       "  </thead>\n",
       "  <tbody>\n",
       "    <tr>\n",
       "      <th>0</th>\n",
       "      <td>c93b9892-7416-4ae2-9ced-681e326e241d</td>\n",
       "      <td>Government Bond 2024</td>\n",
       "      <td>CN=Alice, OU=Test Dept, O=R3, L=London, C=GB</td>\n",
       "      <td>CN=Authority, OU=Test Dept, O=R3, L=London, C=GB</td>\n",
       "      <td>10</td>\n",
       "      <td>True</td>\n",
       "      <td>None</td>\n",
       "      <td>True</td>\n",
       "      <td>{'payments': '['10Jun2023', '10Sep2023', '10Dec2023', '10Mar2024']'}</td>\n",
       "    </tr>\n",
       "  </tbody>\n",
       "</table>\n",
       "</div>"
      ],
      "text/plain": [
       "                                     id                  name   \n",
       "0  c93b9892-7416-4ae2-9ced-681e326e241d  Government Bond 2024  \\\n",
       "\n",
       "                                          owner   \n",
       "0  CN=Alice, OU=Test Dept, O=R3, L=London, C=GB  \\\n",
       "\n",
       "                                             issuer  quantity  transferable   \n",
       "0  CN=Authority, OU=Test Dept, O=R3, L=London, C=GB        10          True  \\\n",
       "\n",
       "  expiry  verifiable   \n",
       "0   None        True  \\\n",
       "\n",
       "                                                             attributes  \n",
       "0  {'payments': '['10Jun2023', '10Sep2023', '10Dec2023', '10Mar2024']'}  "
      ]
     },
     "execution_count": 13,
     "metadata": {},
     "output_type": "execute_result"
    }
   ],
   "source": [
    "h.query('Alice')"
   ]
  },
  {
   "cell_type": "code",
   "execution_count": 13,
   "id": "0975a635",
   "metadata": {},
   "outputs": [
    {
     "data": {
      "text/plain": [
       "True"
      ]
     },
     "execution_count": 13,
     "metadata": {},
     "output_type": "execute_result"
    }
   ],
   "source": [
    "# pdf_report = h.print_to_pdf('Alice', 'return_val_uuid', show=False)\n",
    "# webbrowser.open(\"file:///{}\".format(pdf_report))"
   ]
  },
  {
   "cell_type": "code",
   "execution_count": 12,
   "id": "4a689673",
   "metadata": {},
   "outputs": [
    {
     "data": {
      "text/html": [
       "<h4 style=\"color:blue; font-family: monospace\">Full Transfer from owner/holder -- for instrument Type 1, Transferable = Y, Quantifiable = Y -- expected=success</h4>"
      ],
      "text/plain": [
       "<IPython.core.display.HTML object>"
      ]
     },
     "metadata": {},
     "output_type": "display_data"
    },
    {
     "name": "stderr",
     "output_type": "stream",
     "text": [
      " 17-05 16:16:48 | \u001b[32mI\u001b[0m | \u001b[32mTranfering instrument id '3d4c026b-7721-4f1d-97e4-5b823c61c568' to 'Charlie'\u001b[0m\n",
      " 17-05 16:16:48 | \u001b[32mI\u001b[0m | \u001b[32mRunning action 'Transfer' on 'Alice/415E407297AA/CN=Alice, OU=Test Dept, O=R3, L=London, C=GB'\u001b[0m\n",
      " 17-05 16:17:05 | \u001b[32mI\u001b[0m | \u001b[32mnet.corda.ledger.utxo.flow.impl.FinalizationResultImpl@7feee57e\u001b[0m\n",
      " 17-05 16:17:05 | \u001b[32mI\u001b[0m | \u001b[32mTime taken = 0:00:16.414052\u001b[0m\n"
     ]
    },
    {
     "name": "stdout",
     "output_type": "stream",
     "text": [
      "55970.1684320408.736785<Response [200]>net.corda.ledger.utxo.flow.impl.FinalizationResultImpl@7feee57e"
     ]
    }
   ],
   "source": [
    "# Full Transfer from owner/holder -- expected=success\n",
    "h.message(\"Full Transfer from owner/holder -- for instrument Type 1, Transferable = Y, Quantifiable = Y -- expected=success\", 4)\n",
    "\n",
    "# (req_id, response, return_val) = h.transfer(return_val_uuid, 'Alice', 'Charlie', quantity=4)\n",
    "(req_id, response, return_val) = h.transfer(return_val_uuid, 'Alice', 'Charlie')\n",
    "h.message([req_id, response, return_val])"
   ]
  },
  {
   "cell_type": "code",
   "execution_count": 14,
   "id": "4e0cbb43",
   "metadata": {},
   "outputs": [
    {
     "data": {
      "text/html": [
       "<h4 style=\"color:blue; font-family: monospace\">Transfer from non-holder -- for instrument Type 1, Transferable = Y, Quantifiable = Y -- expected=failure</h4>"
      ],
      "text/plain": [
       "<IPython.core.display.HTML object>"
      ]
     },
     "metadata": {},
     "output_type": "display_data"
    },
    {
     "name": "stderr",
     "output_type": "stream",
     "text": [
      " 17-05 16:18:55 | \u001b[32mI\u001b[0m | \u001b[32mTranfering instrument id '3d4c026b-7721-4f1d-97e4-5b823c61c568' to 'Charlie'\u001b[0m\n",
      " 17-05 16:18:55 | \u001b[32mI\u001b[0m | \u001b[32mRunning action 'Transfer' on 'Alice/415E407297AA/CN=Alice, OU=Test Dept, O=R3, L=London, C=GB'\u001b[0m\n",
      " 17-05 16:18:59 | \u001b[32mI\u001b[0m | \u001b[32m{'type': 'FLOW_FAILED', 'message': 'Not able to find a owning state with id 3d4c026b-7721-4f1d-97e4-5b823c61c568'}\u001b[0m\n",
      " 17-05 16:18:59 | \u001b[32mI\u001b[0m | \u001b[32mTime taken = 0:00:04.180356\u001b[0m\n"
     ]
    },
    {
     "name": "stdout",
     "output_type": "stream",
     "text": [
      "55970.1684320535.016062<Response [200]>{'type': 'FLOW_FAILED', 'message': 'Not able to find a owning state with id 3d4c026b-7721-4f1d-97e4-5b823c61c568'}"
     ]
    }
   ],
   "source": [
    "# Transfer attempt from non-holder -- expected=failure\n",
    "h.message(\"Transfer from non-holder -- for instrument Type 1, Transferable = Y, Quantifiable = Y -- expected=failure\", 4)\n",
    "(req_id, response, return_val) = h.transfer(return_val_uuid, 'Alice', 'Charlie', quantity=4)\n",
    "h.message([req_id, response, return_val])"
   ]
  },
  {
   "cell_type": "code",
   "execution_count": 10,
   "id": "f937f1d5",
   "metadata": {},
   "outputs": [
    {
     "data": {
      "text/html": [
       "<div>\n",
       "<style scoped>\n",
       "    .dataframe tbody tr th:only-of-type {\n",
       "        vertical-align: middle;\n",
       "    }\n",
       "\n",
       "    .dataframe tbody tr th {\n",
       "        vertical-align: top;\n",
       "    }\n",
       "\n",
       "    .dataframe thead th {\n",
       "        text-align: right;\n",
       "    }\n",
       "</style>\n",
       "<table border=\"1\" class=\"dataframe\">\n",
       "  <thead>\n",
       "    <tr style=\"text-align: right;\">\n",
       "      <th></th>\n",
       "      <th>id</th>\n",
       "      <th>name</th>\n",
       "      <th>owner</th>\n",
       "      <th>issuer</th>\n",
       "      <th>quantity</th>\n",
       "      <th>transferable</th>\n",
       "      <th>expiry</th>\n",
       "      <th>verifiable</th>\n",
       "      <th>attributes</th>\n",
       "    </tr>\n",
       "  </thead>\n",
       "  <tbody>\n",
       "    <tr>\n",
       "      <th>0</th>\n",
       "      <td>18bf1dee-6f7f-4585-8058-6dea40af6c28</td>\n",
       "      <td>Government Bond 2024</td>\n",
       "      <td>CN=Charlie, OU=Test Dept, O=R3, L=London, C=GB</td>\n",
       "      <td>CN=Authority, OU=Test Dept, O=R3, L=London, C=GB</td>\n",
       "      <td>4</td>\n",
       "      <td>True</td>\n",
       "      <td>None</td>\n",
       "      <td>True</td>\n",
       "      <td>{'payments': '['10Jun2023', '10Sep2023', '10Dec2023', '10Mar2024']'}</td>\n",
       "    </tr>\n",
       "    <tr>\n",
       "      <th>1</th>\n",
       "      <td>09fbf9fc-d1d4-42bd-9019-06b892d97757</td>\n",
       "      <td>Government Bond 2024</td>\n",
       "      <td>CN=Charlie, OU=Test Dept, O=R3, L=London, C=GB</td>\n",
       "      <td>CN=Authority, OU=Test Dept, O=R3, L=London, C=GB</td>\n",
       "      <td>4</td>\n",
       "      <td>True</td>\n",
       "      <td>None</td>\n",
       "      <td>True</td>\n",
       "      <td>{'payments': '['10Jun2023', '10Sep2023', '10Dec2023', '10Mar2024']'}</td>\n",
       "    </tr>\n",
       "  </tbody>\n",
       "</table>\n",
       "</div>"
      ],
      "text/plain": [
       "                                     id                  name   \n",
       "0  18bf1dee-6f7f-4585-8058-6dea40af6c28  Government Bond 2024  \\\n",
       "1  09fbf9fc-d1d4-42bd-9019-06b892d97757  Government Bond 2024   \n",
       "\n",
       "                                            owner   \n",
       "0  CN=Charlie, OU=Test Dept, O=R3, L=London, C=GB  \\\n",
       "1  CN=Charlie, OU=Test Dept, O=R3, L=London, C=GB   \n",
       "\n",
       "                                             issuer  quantity  transferable   \n",
       "0  CN=Authority, OU=Test Dept, O=R3, L=London, C=GB         4          True  \\\n",
       "1  CN=Authority, OU=Test Dept, O=R3, L=London, C=GB         4          True   \n",
       "\n",
       "  expiry  verifiable   \n",
       "0   None        True  \\\n",
       "1   None        True   \n",
       "\n",
       "                                                             attributes  \n",
       "0  {'payments': '['10Jun2023', '10Sep2023', '10Dec2023', '10Mar2024']'}  \n",
       "1  {'payments': '['10Jun2023', '10Sep2023', '10Dec2023', '10Mar2024']'}  "
      ]
     },
     "execution_count": 10,
     "metadata": {},
     "output_type": "execute_result"
    }
   ],
   "source": [
    "h.query('Charlie')"
   ]
  },
  {
   "cell_type": "code",
   "execution_count": 11,
   "id": "163c258b",
   "metadata": {},
   "outputs": [
    {
     "data": {
      "text/html": [
       "<div>\n",
       "<style scoped>\n",
       "    .dataframe tbody tr th:only-of-type {\n",
       "        vertical-align: middle;\n",
       "    }\n",
       "\n",
       "    .dataframe tbody tr th {\n",
       "        vertical-align: top;\n",
       "    }\n",
       "\n",
       "    .dataframe thead th {\n",
       "        text-align: right;\n",
       "    }\n",
       "</style>\n",
       "<table border=\"1\" class=\"dataframe\">\n",
       "  <thead>\n",
       "    <tr style=\"text-align: right;\">\n",
       "      <th></th>\n",
       "      <th>id</th>\n",
       "      <th>name</th>\n",
       "      <th>owner</th>\n",
       "      <th>issuer</th>\n",
       "      <th>quantity</th>\n",
       "      <th>transferable</th>\n",
       "      <th>expiry</th>\n",
       "      <th>verifiable</th>\n",
       "      <th>attributes</th>\n",
       "    </tr>\n",
       "  </thead>\n",
       "  <tbody>\n",
       "    <tr>\n",
       "      <th>0</th>\n",
       "      <td>e8794d36-64b8-41f4-a758-41a907fa8e8d</td>\n",
       "      <td>Government Bond 2024</td>\n",
       "      <td>CN=Bob, OU=Test Dept, O=R3, L=London, C=GB</td>\n",
       "      <td>CN=Authority, OU=Test Dept, O=R3, L=London, C=GB</td>\n",
       "      <td>6</td>\n",
       "      <td>True</td>\n",
       "      <td>None</td>\n",
       "      <td>True</td>\n",
       "      <td>{'payments': '['10Jun2023', '10Sep2023', '10Dec2023', '10Mar2024']'}</td>\n",
       "    </tr>\n",
       "    <tr>\n",
       "      <th>1</th>\n",
       "      <td>8a1a72ab-959c-4dcc-ab81-94b822eaafe7</td>\n",
       "      <td>Government Bond 2024</td>\n",
       "      <td>CN=Bob, OU=Test Dept, O=R3, L=London, C=GB</td>\n",
       "      <td>CN=Authority, OU=Test Dept, O=R3, L=London, C=GB</td>\n",
       "      <td>6</td>\n",
       "      <td>True</td>\n",
       "      <td>None</td>\n",
       "      <td>True</td>\n",
       "      <td>{'payments': '['10Jun2023', '10Sep2023', '10Dec2023', '10Mar2024']'}</td>\n",
       "    </tr>\n",
       "  </tbody>\n",
       "</table>\n",
       "</div>"
      ],
      "text/plain": [
       "                                     id                  name   \n",
       "0  e8794d36-64b8-41f4-a758-41a907fa8e8d  Government Bond 2024  \\\n",
       "1  8a1a72ab-959c-4dcc-ab81-94b822eaafe7  Government Bond 2024   \n",
       "\n",
       "                                        owner   \n",
       "0  CN=Bob, OU=Test Dept, O=R3, L=London, C=GB  \\\n",
       "1  CN=Bob, OU=Test Dept, O=R3, L=London, C=GB   \n",
       "\n",
       "                                             issuer  quantity  transferable   \n",
       "0  CN=Authority, OU=Test Dept, O=R3, L=London, C=GB         6          True  \\\n",
       "1  CN=Authority, OU=Test Dept, O=R3, L=London, C=GB         6          True   \n",
       "\n",
       "  expiry  verifiable   \n",
       "0   None        True  \\\n",
       "1   None        True   \n",
       "\n",
       "                                                             attributes  \n",
       "0  {'payments': '['10Jun2023', '10Sep2023', '10Dec2023', '10Mar2024']'}  \n",
       "1  {'payments': '['10Jun2023', '10Sep2023', '10Dec2023', '10Mar2024']'}  "
      ]
     },
     "execution_count": 11,
     "metadata": {},
     "output_type": "execute_result"
    }
   ],
   "source": [
    "h.query('Bob')"
   ]
  },
  {
   "cell_type": "code",
   "execution_count": 21,
   "id": "82955110",
   "metadata": {},
   "outputs": [
    {
     "name": "stdout",
     "output_type": "stream",
     "text": [
      "Help on method redeem in module json_on_jupyter:\n",
      "\n",
      "redeem(inst_id, from_node, quantity=None) method of json_on_jupyter.JSON_ON_Jupyter instance\n",
      "\n"
     ]
    }
   ],
   "source": [
    "# Redeem\n",
    "help(h.redeem)"
   ]
  },
  {
   "cell_type": "code",
   "execution_count": 2,
   "id": "3f29eac3",
   "metadata": {},
   "outputs": [
    {
     "data": {
      "text/html": [
       "<div>\n",
       "<style scoped>\n",
       "    .dataframe tbody tr th:only-of-type {\n",
       "        vertical-align: middle;\n",
       "    }\n",
       "\n",
       "    .dataframe tbody tr th {\n",
       "        vertical-align: top;\n",
       "    }\n",
       "\n",
       "    .dataframe thead th {\n",
       "        text-align: right;\n",
       "    }\n",
       "</style>\n",
       "<table border=\"1\" class=\"dataframe\">\n",
       "  <thead>\n",
       "    <tr style=\"text-align: right;\">\n",
       "      <th></th>\n",
       "    </tr>\n",
       "  </thead>\n",
       "  <tbody>\n",
       "  </tbody>\n",
       "</table>\n",
       "</div>"
      ],
      "text/plain": [
       "Empty DataFrame\n",
       "Columns: []\n",
       "Index: []"
      ]
     },
     "execution_count": 2,
     "metadata": {},
     "output_type": "execute_result"
    }
   ],
   "source": [
    "h.query('Alice')"
   ]
  },
  {
   "cell_type": "code",
   "execution_count": 24,
   "id": "d31ef23f",
   "metadata": {},
   "outputs": [
    {
     "name": "stderr",
     "output_type": "stream",
     "text": [
      " 11-05 18:02:48 | \u001b[32mI\u001b[0m | \u001b[32mRedeeming instrument id '8f90d61f-5380-417a-a647-1194f4033b01' quantity '1'\u001b[0m\n",
      " 11-05 18:02:48 | \u001b[32mI\u001b[0m | \u001b[32mRunning action 'Redeem' on 'Bob/83214F5048CD/CN=Bob, OU=Test Dept, O=R3, L=London, C=GB'\u001b[0m\n",
      " 11-05 18:03:41 | \u001b[32mI\u001b[0m | \u001b[32mUtxoSignedTransactionImpl(id=SHA-256D:39AEE0AB718BFA57EB45ED5EAFC6B7310BE8E52E4B1B8CA22D18FE7D31E5E7E8, signatures=[DigitalSignatureAndMetadata[signature=[3044022068E89A43D1E511F269CF9DAF9F4A20304CADB533842605D5D6A87BBA8F50A2F40220374D78E5B8BACFF4F423A6498F9B9C328630E35188D9A8E85A4AA7D2746171B5], metadata=DigitalSignatureMetadata[timestamp=2023-05-11T12:32:54.621327Z, signatureSpec=SHA256withECDSA, properties={platformVersion=5000, cpiName=CPI name, cpiVersion=CPI version, cpiSignerSummaryHash=46616B652D76616C7565}], proof=null], DigitalSignatureAndMetadata[signature=[3044022066F92D6E13224E1D9F923C1C6570CA26E8A706843315777BB9DA96E356FC5B8802203D0AF3C7EF13D47F55F90599A1B28BF855124FB286921BC4EF0C6B1ECB1BBD7E], metadata=DigitalSignatureMetadata[timestamp=2023-05-11T12:33:10.806098Z, signatureSpec=SHA256withECDSA, properties={platformVersion=5000, cpiName=CPI name, cpiVersion=CPI version, cpiSignerSummaryHash=46616B652D76616C7565}], proof=null], DigitalSignatureAndMetadata[signature=[304402206CA18ADE6192D43C94B9600F8D1A61DD69220D40B1989737FC123E25E7521B6502205143FC562C20288B18DED43B2700ED43BCCDB05ECC81ECAE0533EE277043FF67], metadata=DigitalSignatureMetadata[timestamp=2023-05-11T12:33:23.561467Z, signatureSpec=SHA256withECDSA, properties={platformVersion=5000, cpiName=CPI name, cpiVersion=CPI version, cpiSignerSummaryHash=46616B652D76616C7565, batchMerkleTreeDigestProviderName=TweakableHashDigestProvider, batchMerkleTreeDigestAlgorithmName=SHA-256D, batchMerkleTreeDigestOptionsLeafPrefixB64=YmF0Y2hMZWFm, batchMerkleTreeDigestOptionsNodePrefixB64=YmF0Y2hOb2Rl}], proof=net.corda.crypto.merkle.impl.MerkleProofImpl@eb457b24]], wireTransaction=WireTransaction(id=SHA-256D:39AEE0AB718BFA57EB45ED5EAFC6B7310BE8E52E4B1B8CA22D18FE7D31E5E7E8, privacySalt=[365CDC2A1B4784AEAB85F5108F2F564E3235C350209755D2E75E377BC10D7969], metadata=net.corda.ledger.common.data.transaction.TransactionMetadataImpl@65c41269, componentGroupLists=[[(size=1278, sum=108978)], [(size=1210, sum=62549), (size=868, sum=55282)], [(size=295, sum=10343), (size=295, sum=10987)], [(size=2082, sum=122958)], [(size=556, sum=34280)], [], [(size=774, sum=39636)], [], [(size=3356, sum=195316)], [(size=790, sum=52841)]]))\u001b[0m\n"
     ]
    },
    {
     "data": {
      "text/plain": [
       "('13652.1683808368.2703528',\n",
       " <Response [200]>,\n",
       " 'UtxoSignedTransactionImpl(id=SHA-256D:39AEE0AB718BFA57EB45ED5EAFC6B7310BE8E52E4B1B8CA22D18FE7D31E5E7E8, signatures=[DigitalSignatureAndMetadata[signature=[3044022068E89A43D1E511F269CF9DAF9F4A20304CADB533842605D5D6A87BBA8F50A2F40220374D78E5B8BACFF4F423A6498F9B9C328630E35188D9A8E85A4AA7D2746171B5], metadata=DigitalSignatureMetadata[timestamp=2023-05-11T12:32:54.621327Z, signatureSpec=SHA256withECDSA, properties={platformVersion=5000, cpiName=CPI name, cpiVersion=CPI version, cpiSignerSummaryHash=46616B652D76616C7565}], proof=null], DigitalSignatureAndMetadata[signature=[3044022066F92D6E13224E1D9F923C1C6570CA26E8A706843315777BB9DA96E356FC5B8802203D0AF3C7EF13D47F55F90599A1B28BF855124FB286921BC4EF0C6B1ECB1BBD7E], metadata=DigitalSignatureMetadata[timestamp=2023-05-11T12:33:10.806098Z, signatureSpec=SHA256withECDSA, properties={platformVersion=5000, cpiName=CPI name, cpiVersion=CPI version, cpiSignerSummaryHash=46616B652D76616C7565}], proof=null], DigitalSignatureAndMetadata[signature=[304402206CA18ADE6192D43C94B9600F8D1A61DD69220D40B1989737FC123E25E7521B6502205143FC562C20288B18DED43B2700ED43BCCDB05ECC81ECAE0533EE277043FF67], metadata=DigitalSignatureMetadata[timestamp=2023-05-11T12:33:23.561467Z, signatureSpec=SHA256withECDSA, properties={platformVersion=5000, cpiName=CPI name, cpiVersion=CPI version, cpiSignerSummaryHash=46616B652D76616C7565, batchMerkleTreeDigestProviderName=TweakableHashDigestProvider, batchMerkleTreeDigestAlgorithmName=SHA-256D, batchMerkleTreeDigestOptionsLeafPrefixB64=YmF0Y2hMZWFm, batchMerkleTreeDigestOptionsNodePrefixB64=YmF0Y2hOb2Rl}], proof=net.corda.crypto.merkle.impl.MerkleProofImpl@eb457b24]], wireTransaction=WireTransaction(id=SHA-256D:39AEE0AB718BFA57EB45ED5EAFC6B7310BE8E52E4B1B8CA22D18FE7D31E5E7E8, privacySalt=[365CDC2A1B4784AEAB85F5108F2F564E3235C350209755D2E75E377BC10D7969], metadata=net.corda.ledger.common.data.transaction.TransactionMetadataImpl@65c41269, componentGroupLists=[[(size=1278, sum=108978)], [(size=1210, sum=62549), (size=868, sum=55282)], [(size=295, sum=10343), (size=295, sum=10987)], [(size=2082, sum=122958)], [(size=556, sum=34280)], [], [(size=774, sum=39636)], [], [(size=3356, sum=195316)], [(size=790, sum=52841)]]))')"
      ]
     },
     "execution_count": 24,
     "metadata": {},
     "output_type": "execute_result"
    }
   ],
   "source": [
    "# Redeem - Partial by holder -- exepected=success\n",
    "h.redeem('8f90d61f-5380-417a-a647-1194f4033b01', 'Bob', quantity=1)"
   ]
  },
  {
   "cell_type": "code",
   "execution_count": 36,
   "id": "f63c8a8f",
   "metadata": {},
   "outputs": [
    {
     "name": "stderr",
     "output_type": "stream",
     "text": [
      " 11-05 18:54:15 | \u001b[32mI\u001b[0m | \u001b[32mRedeeming instrument id 'be8f210d-b376-418c-9c0f-b051ce125a33' quantity '1'\u001b[0m\n",
      " 11-05 18:54:15 | \u001b[32mI\u001b[0m | \u001b[32mRunning action 'Redeem' on 'Authority/069C8B8CD60D/CN=Authority, OU=Test Dept, O=R3, L=London, C=GB'\u001b[0m\n",
      " 11-05 18:55:16 | \u001b[32mI\u001b[0m | \u001b[32mUtxoSignedTransactionImpl(id=SHA-256D:FEE9545D50015115BEA3B7C13001FCC9CEB7BA45A73F9F2CB9C2823D709BF403, signatures=[DigitalSignatureAndMetadata[signature=[30460221009182B3F47C0D9F58547590BE425184CEB7D5978A6DC5C981B036EBE32D4D99B0022100D6B40D5C3AD082F3D3562DA9E77898078F82DDD4837E52818E7E5B146BB86616], metadata=DigitalSignatureMetadata[timestamp=2023-05-11T13:24:25.326126Z, signatureSpec=SHA256withECDSA, properties={platformVersion=5000, cpiName=CPI name, cpiVersion=CPI version, cpiSignerSummaryHash=46616B652D76616C7565}], proof=null], DigitalSignatureAndMetadata[signature=[30450220689F998A3E8E3E2EEC5198FB3AEB94E6C0E49E7F2E2E63B1811B105C80D7F221022100B3A0CE17172717BB290CE8543ED24D21012FC2F741AEC3A809D3A016B9835FBE], metadata=DigitalSignatureMetadata[timestamp=2023-05-11T13:24:46.185261Z, signatureSpec=SHA256withECDSA, properties={platformVersion=5000, cpiName=CPI name, cpiVersion=CPI version, cpiSignerSummaryHash=46616B652D76616C7565}], proof=null], DigitalSignatureAndMetadata[signature=[3044022033CB21729A7AF757B183315F81615A19851A751BBA7EF2C51C8E3A7E96F56C5902202B8DA2C3F8CC4225E68FEC67111D977ABDC5B3253EC3A750F6A293326FB08EB3], metadata=DigitalSignatureMetadata[timestamp=2023-05-11T13:24:58.148029Z, signatureSpec=SHA256withECDSA, properties={platformVersion=5000, cpiName=CPI name, cpiVersion=CPI version, cpiSignerSummaryHash=46616B652D76616C7565, batchMerkleTreeDigestProviderName=TweakableHashDigestProvider, batchMerkleTreeDigestAlgorithmName=SHA-256D, batchMerkleTreeDigestOptionsLeafPrefixB64=YmF0Y2hMZWFm, batchMerkleTreeDigestOptionsNodePrefixB64=YmF0Y2hOb2Rl}], proof=net.corda.crypto.merkle.impl.MerkleProofImpl@151961d5]], wireTransaction=WireTransaction(id=SHA-256D:FEE9545D50015115BEA3B7C13001FCC9CEB7BA45A73F9F2CB9C2823D709BF403, privacySalt=[E64237E76EE682C71CF27CC8692D560B0089E070D93AA3A1CC96972EAE639D60], metadata=net.corda.ledger.common.data.transaction.TransactionMetadataImpl@65c41269, componentGroupLists=[[(size=1278, sum=108978)], [(size=1210, sum=62549), (size=868, sum=55358)], [(size=295, sum=10987), (size=295, sum=10343)], [(size=2082, sum=122958)], [(size=556, sum=34280)], [], [(size=774, sum=40436)], [], [(size=3356, sum=195349)], [(size=790, sum=52841)]]))\u001b[0m\n"
     ]
    },
    {
     "data": {
      "text/plain": [
       "('13652.1683811455.264299',\n",
       " <Response [200]>,\n",
       " 'UtxoSignedTransactionImpl(id=SHA-256D:FEE9545D50015115BEA3B7C13001FCC9CEB7BA45A73F9F2CB9C2823D709BF403, signatures=[DigitalSignatureAndMetadata[signature=[30460221009182B3F47C0D9F58547590BE425184CEB7D5978A6DC5C981B036EBE32D4D99B0022100D6B40D5C3AD082F3D3562DA9E77898078F82DDD4837E52818E7E5B146BB86616], metadata=DigitalSignatureMetadata[timestamp=2023-05-11T13:24:25.326126Z, signatureSpec=SHA256withECDSA, properties={platformVersion=5000, cpiName=CPI name, cpiVersion=CPI version, cpiSignerSummaryHash=46616B652D76616C7565}], proof=null], DigitalSignatureAndMetadata[signature=[30450220689F998A3E8E3E2EEC5198FB3AEB94E6C0E49E7F2E2E63B1811B105C80D7F221022100B3A0CE17172717BB290CE8543ED24D21012FC2F741AEC3A809D3A016B9835FBE], metadata=DigitalSignatureMetadata[timestamp=2023-05-11T13:24:46.185261Z, signatureSpec=SHA256withECDSA, properties={platformVersion=5000, cpiName=CPI name, cpiVersion=CPI version, cpiSignerSummaryHash=46616B652D76616C7565}], proof=null], DigitalSignatureAndMetadata[signature=[3044022033CB21729A7AF757B183315F81615A19851A751BBA7EF2C51C8E3A7E96F56C5902202B8DA2C3F8CC4225E68FEC67111D977ABDC5B3253EC3A750F6A293326FB08EB3], metadata=DigitalSignatureMetadata[timestamp=2023-05-11T13:24:58.148029Z, signatureSpec=SHA256withECDSA, properties={platformVersion=5000, cpiName=CPI name, cpiVersion=CPI version, cpiSignerSummaryHash=46616B652D76616C7565, batchMerkleTreeDigestProviderName=TweakableHashDigestProvider, batchMerkleTreeDigestAlgorithmName=SHA-256D, batchMerkleTreeDigestOptionsLeafPrefixB64=YmF0Y2hMZWFm, batchMerkleTreeDigestOptionsNodePrefixB64=YmF0Y2hOb2Rl}], proof=net.corda.crypto.merkle.impl.MerkleProofImpl@151961d5]], wireTransaction=WireTransaction(id=SHA-256D:FEE9545D50015115BEA3B7C13001FCC9CEB7BA45A73F9F2CB9C2823D709BF403, privacySalt=[E64237E76EE682C71CF27CC8692D560B0089E070D93AA3A1CC96972EAE639D60], metadata=net.corda.ledger.common.data.transaction.TransactionMetadataImpl@65c41269, componentGroupLists=[[(size=1278, sum=108978)], [(size=1210, sum=62549), (size=868, sum=55358)], [(size=295, sum=10987), (size=295, sum=10343)], [(size=2082, sum=122958)], [(size=556, sum=34280)], [], [(size=774, sum=40436)], [], [(size=3356, sum=195349)], [(size=790, sum=52841)]]))')"
      ]
     },
     "execution_count": 36,
     "metadata": {},
     "output_type": "execute_result"
    }
   ],
   "source": [
    "# Redeem - Partial by Issuer -- exepected=success\n",
    "h.redeem('be8f210d-b376-418c-9c0f-b051ce125a33', 'Authority', quantity=1)"
   ]
  },
  {
   "cell_type": "code",
   "execution_count": 37,
   "id": "2f228777",
   "metadata": {},
   "outputs": [
    {
     "data": {
      "text/html": [
       "<div>\n",
       "<style scoped>\n",
       "    .dataframe tbody tr th:only-of-type {\n",
       "        vertical-align: middle;\n",
       "    }\n",
       "\n",
       "    .dataframe tbody tr th {\n",
       "        vertical-align: top;\n",
       "    }\n",
       "\n",
       "    .dataframe thead th {\n",
       "        text-align: right;\n",
       "    }\n",
       "</style>\n",
       "<table border=\"1\" class=\"dataframe\">\n",
       "  <thead>\n",
       "    <tr style=\"text-align: right;\">\n",
       "      <th></th>\n",
       "      <th>id</th>\n",
       "      <th>name</th>\n",
       "      <th>owner</th>\n",
       "      <th>issuer</th>\n",
       "      <th>quantity</th>\n",
       "      <th>transferable</th>\n",
       "      <th>expiry</th>\n",
       "      <th>verifiable</th>\n",
       "      <th>attributes</th>\n",
       "    </tr>\n",
       "  </thead>\n",
       "  <tbody>\n",
       "    <tr>\n",
       "      <th>0</th>\n",
       "      <td>8f90d61f-5380-417a-a647-1194f4033b01</td>\n",
       "      <td>Government Bond 2024</td>\n",
       "      <td>CN=Bob, OU=Test Dept, O=R3, L=London, C=GB</td>\n",
       "      <td>CN=Authority, OU=Test Dept, O=R3, L=London, C=GB</td>\n",
       "      <td>1</td>\n",
       "      <td>True</td>\n",
       "      <td>None</td>\n",
       "      <td>True</td>\n",
       "      <td>{'payments': '['10Jun2023', '10Sep2023', '10Dec2023', '10Mar2024']'}</td>\n",
       "    </tr>\n",
       "    <tr>\n",
       "      <th>1</th>\n",
       "      <td>be8f210d-b376-418c-9c0f-b051ce125a33</td>\n",
       "      <td>Government Bond 2024</td>\n",
       "      <td>CN=Bob, OU=Test Dept, O=R3, L=London, C=GB</td>\n",
       "      <td>CN=Authority, OU=Test Dept, O=R3, L=London, C=GB</td>\n",
       "      <td>3</td>\n",
       "      <td>True</td>\n",
       "      <td>None</td>\n",
       "      <td>True</td>\n",
       "      <td>{'payments': '['10Jun2023', '10Sep2023', '10Dec2023', '10Mar2024']'}</td>\n",
       "    </tr>\n",
       "  </tbody>\n",
       "</table>\n",
       "</div>"
      ],
      "text/plain": [
       "                                     id                  name  \\\n",
       "0  8f90d61f-5380-417a-a647-1194f4033b01  Government Bond 2024   \n",
       "1  be8f210d-b376-418c-9c0f-b051ce125a33  Government Bond 2024   \n",
       "\n",
       "                                        owner  \\\n",
       "0  CN=Bob, OU=Test Dept, O=R3, L=London, C=GB   \n",
       "1  CN=Bob, OU=Test Dept, O=R3, L=London, C=GB   \n",
       "\n",
       "                                             issuer  quantity  transferable  \\\n",
       "0  CN=Authority, OU=Test Dept, O=R3, L=London, C=GB         1          True   \n",
       "1  CN=Authority, OU=Test Dept, O=R3, L=London, C=GB         3          True   \n",
       "\n",
       "  expiry  verifiable  \\\n",
       "0   None        True   \n",
       "1   None        True   \n",
       "\n",
       "                                                             attributes  \n",
       "0  {'payments': '['10Jun2023', '10Sep2023', '10Dec2023', '10Mar2024']'}  \n",
       "1  {'payments': '['10Jun2023', '10Sep2023', '10Dec2023', '10Mar2024']'}  "
      ]
     },
     "execution_count": 37,
     "metadata": {},
     "output_type": "execute_result"
    }
   ],
   "source": [
    "h.query('Authority')"
   ]
  },
  {
   "cell_type": "code",
   "execution_count": 40,
   "id": "dec3d599",
   "metadata": {},
   "outputs": [
    {
     "name": "stderr",
     "output_type": "stream",
     "text": [
      " 11-05 19:22:05 | \u001b[32mI\u001b[0m | \u001b[32mRedeeming instrument id 'be8f210d-b376-418c-9c0f-b051ce125a33' quantity '3'\u001b[0m\n",
      " 11-05 19:22:05 | \u001b[32mI\u001b[0m | \u001b[32mRunning action 'Redeem' on 'Bob/83214F5048CD/CN=Bob, OU=Test Dept, O=R3, L=London, C=GB'\u001b[0m\n",
      " 11-05 19:23:02 | \u001b[32mI\u001b[0m | \u001b[32mUtxoSignedTransactionImpl(id=SHA-256D:D4DC0A91F99E0973C770A4E9B1B422AEE6BA4B1C9F1AB2BEBE29C2B909D99FF9, signatures=[DigitalSignatureAndMetadata[signature=[3046022100A76E7F8134BF4707BE2460E00C9B05E023EBDADF01F5D8304060F22158E9FE57022100FE0527B885912D31D6888DBF90C5BC8A0A228D034E1B19080483C2DB6A799B2D], metadata=DigitalSignatureMetadata[timestamp=2023-05-11T13:52:12.853107Z, signatureSpec=SHA256withECDSA, properties={platformVersion=5000, cpiName=CPI name, cpiVersion=CPI version, cpiSignerSummaryHash=46616B652D76616C7565}], proof=null], DigitalSignatureAndMetadata[signature=[30450220632BF51560B3AA562EFF980B6423D07F517C67B8D065D608D5150A20552FAA89022100E3BAF15335A8B8C2159695048865B588A62D111D051C696EA8BD9078DCD51336], metadata=DigitalSignatureMetadata[timestamp=2023-05-11T13:52:31.371126Z, signatureSpec=SHA256withECDSA, properties={platformVersion=5000, cpiName=CPI name, cpiVersion=CPI version, cpiSignerSummaryHash=46616B652D76616C7565}], proof=null], DigitalSignatureAndMetadata[signature=[304502201F92DEE5F3A3204D4C6DC0D0CD85E5FF0CF630EA32534EDABF7B0513F42CEE75022100D5A34EE0E2B6C22F1689147F40C9B7516CF352BA0ED99ED2E98AA34D69555AEA], metadata=DigitalSignatureMetadata[timestamp=2023-05-11T13:52:42.734914Z, signatureSpec=SHA256withECDSA, properties={platformVersion=5000, cpiName=CPI name, cpiVersion=CPI version, cpiSignerSummaryHash=46616B652D76616C7565, batchMerkleTreeDigestProviderName=TweakableHashDigestProvider, batchMerkleTreeDigestAlgorithmName=SHA-256D, batchMerkleTreeDigestOptionsLeafPrefixB64=YmF0Y2hMZWFm, batchMerkleTreeDigestOptionsNodePrefixB64=YmF0Y2hOb2Rl}], proof=net.corda.crypto.merkle.impl.MerkleProofImpl@a09aeaef]], wireTransaction=WireTransaction(id=SHA-256D:D4DC0A91F99E0973C770A4E9B1B422AEE6BA4B1C9F1AB2BEBE29C2B909D99FF9, privacySalt=[FD5C8D2121157CD4DB751DC006E7023DF867A525FE7CC281A71858CD3D8AB8E6], metadata=net.corda.ledger.common.data.transaction.TransactionMetadataImpl@3159a956, componentGroupLists=[[(size=1278, sum=109143)], [(size=1210, sum=62549), (size=868, sum=55111)], [(size=295, sum=10343), (size=295, sum=10987)], [], [(size=556, sum=34280)], [], [(size=774, sum=39822)], [], [], [(size=790, sum=52841)]]))\u001b[0m\n"
     ]
    },
    {
     "data": {
      "text/plain": [
       "('13652.1683813125.7133381',\n",
       " <Response [200]>,\n",
       " 'UtxoSignedTransactionImpl(id=SHA-256D:D4DC0A91F99E0973C770A4E9B1B422AEE6BA4B1C9F1AB2BEBE29C2B909D99FF9, signatures=[DigitalSignatureAndMetadata[signature=[3046022100A76E7F8134BF4707BE2460E00C9B05E023EBDADF01F5D8304060F22158E9FE57022100FE0527B885912D31D6888DBF90C5BC8A0A228D034E1B19080483C2DB6A799B2D], metadata=DigitalSignatureMetadata[timestamp=2023-05-11T13:52:12.853107Z, signatureSpec=SHA256withECDSA, properties={platformVersion=5000, cpiName=CPI name, cpiVersion=CPI version, cpiSignerSummaryHash=46616B652D76616C7565}], proof=null], DigitalSignatureAndMetadata[signature=[30450220632BF51560B3AA562EFF980B6423D07F517C67B8D065D608D5150A20552FAA89022100E3BAF15335A8B8C2159695048865B588A62D111D051C696EA8BD9078DCD51336], metadata=DigitalSignatureMetadata[timestamp=2023-05-11T13:52:31.371126Z, signatureSpec=SHA256withECDSA, properties={platformVersion=5000, cpiName=CPI name, cpiVersion=CPI version, cpiSignerSummaryHash=46616B652D76616C7565}], proof=null], DigitalSignatureAndMetadata[signature=[304502201F92DEE5F3A3204D4C6DC0D0CD85E5FF0CF630EA32534EDABF7B0513F42CEE75022100D5A34EE0E2B6C22F1689147F40C9B7516CF352BA0ED99ED2E98AA34D69555AEA], metadata=DigitalSignatureMetadata[timestamp=2023-05-11T13:52:42.734914Z, signatureSpec=SHA256withECDSA, properties={platformVersion=5000, cpiName=CPI name, cpiVersion=CPI version, cpiSignerSummaryHash=46616B652D76616C7565, batchMerkleTreeDigestProviderName=TweakableHashDigestProvider, batchMerkleTreeDigestAlgorithmName=SHA-256D, batchMerkleTreeDigestOptionsLeafPrefixB64=YmF0Y2hMZWFm, batchMerkleTreeDigestOptionsNodePrefixB64=YmF0Y2hOb2Rl}], proof=net.corda.crypto.merkle.impl.MerkleProofImpl@a09aeaef]], wireTransaction=WireTransaction(id=SHA-256D:D4DC0A91F99E0973C770A4E9B1B422AEE6BA4B1C9F1AB2BEBE29C2B909D99FF9, privacySalt=[FD5C8D2121157CD4DB751DC006E7023DF867A525FE7CC281A71858CD3D8AB8E6], metadata=net.corda.ledger.common.data.transaction.TransactionMetadataImpl@3159a956, componentGroupLists=[[(size=1278, sum=109143)], [(size=1210, sum=62549), (size=868, sum=55111)], [(size=295, sum=10343), (size=295, sum=10987)], [], [(size=556, sum=34280)], [], [(size=774, sum=39822)], [], [], [(size=790, sum=52841)]]))')"
      ]
     },
     "execution_count": 40,
     "metadata": {},
     "output_type": "execute_result"
    }
   ],
   "source": [
    "# Redeem - Full by holder -- exepected=success\n",
    "h.redeem('be8f210d-b376-418c-9c0f-b051ce125a33', 'Bob', quantity=3)"
   ]
  },
  {
   "cell_type": "code",
   "execution_count": 38,
   "id": "e5dbb393",
   "metadata": {},
   "outputs": [
    {
     "data": {
      "text/html": [
       "<div>\n",
       "<style scoped>\n",
       "    .dataframe tbody tr th:only-of-type {\n",
       "        vertical-align: middle;\n",
       "    }\n",
       "\n",
       "    .dataframe tbody tr th {\n",
       "        vertical-align: top;\n",
       "    }\n",
       "\n",
       "    .dataframe thead th {\n",
       "        text-align: right;\n",
       "    }\n",
       "</style>\n",
       "<table border=\"1\" class=\"dataframe\">\n",
       "  <thead>\n",
       "    <tr style=\"text-align: right;\">\n",
       "      <th></th>\n",
       "      <th>id</th>\n",
       "      <th>name</th>\n",
       "      <th>owner</th>\n",
       "      <th>issuer</th>\n",
       "      <th>quantity</th>\n",
       "      <th>transferable</th>\n",
       "      <th>expiry</th>\n",
       "      <th>verifiable</th>\n",
       "      <th>attributes</th>\n",
       "    </tr>\n",
       "  </thead>\n",
       "  <tbody>\n",
       "    <tr>\n",
       "      <th>0</th>\n",
       "      <td>8f90d61f-5380-417a-a647-1194f4033b01</td>\n",
       "      <td>Government Bond 2024</td>\n",
       "      <td>CN=Bob, OU=Test Dept, O=R3, L=London, C=GB</td>\n",
       "      <td>CN=Authority, OU=Test Dept, O=R3, L=London, C=GB</td>\n",
       "      <td>5</td>\n",
       "      <td>True</td>\n",
       "      <td>None</td>\n",
       "      <td>True</td>\n",
       "      <td>{'payments': '['10Jun2023', '10Sep2023', '10Dec2023', '10Mar2024']'}</td>\n",
       "    </tr>\n",
       "    <tr>\n",
       "      <th>1</th>\n",
       "      <td>be8f210d-b376-418c-9c0f-b051ce125a33</td>\n",
       "      <td>Government Bond 2024</td>\n",
       "      <td>CN=Bob, OU=Test Dept, O=R3, L=London, C=GB</td>\n",
       "      <td>CN=Authority, OU=Test Dept, O=R3, L=London, C=GB</td>\n",
       "      <td>3</td>\n",
       "      <td>True</td>\n",
       "      <td>None</td>\n",
       "      <td>True</td>\n",
       "      <td>{'payments': '['10Jun2023', '10Sep2023', '10Dec2023', '10Mar2024']'}</td>\n",
       "    </tr>\n",
       "  </tbody>\n",
       "</table>\n",
       "</div>"
      ],
      "text/plain": [
       "                                     id                  name  \\\n",
       "0  8f90d61f-5380-417a-a647-1194f4033b01  Government Bond 2024   \n",
       "1  be8f210d-b376-418c-9c0f-b051ce125a33  Government Bond 2024   \n",
       "\n",
       "                                        owner  \\\n",
       "0  CN=Bob, OU=Test Dept, O=R3, L=London, C=GB   \n",
       "1  CN=Bob, OU=Test Dept, O=R3, L=London, C=GB   \n",
       "\n",
       "                                             issuer  quantity  transferable  \\\n",
       "0  CN=Authority, OU=Test Dept, O=R3, L=London, C=GB         5          True   \n",
       "1  CN=Authority, OU=Test Dept, O=R3, L=London, C=GB         3          True   \n",
       "\n",
       "  expiry  verifiable  \\\n",
       "0   None        True   \n",
       "1   None        True   \n",
       "\n",
       "                                                             attributes  \n",
       "0  {'payments': '['10Jun2023', '10Sep2023', '10Dec2023', '10Mar2024']'}  \n",
       "1  {'payments': '['10Jun2023', '10Sep2023', '10Dec2023', '10Mar2024']'}  "
      ]
     },
     "execution_count": 38,
     "metadata": {},
     "output_type": "execute_result"
    }
   ],
   "source": [
    "h.query('Bob')"
   ]
  },
  {
   "cell_type": "code",
   "execution_count": 30,
   "id": "3c1c1554",
   "metadata": {
    "extensions": {
     "jupyter_dashboards": {
      "version": 1,
      "views": {
       "grid_default": {},
       "report_default": {
        "hidden": false
       }
      }
     }
    }
   },
   "outputs": [
    {
     "name": "stderr",
     "output_type": "stream",
     "text": [
      " 10-05 11:18:38 | \u001b[30mD\u001b[0m | \u001b[30mRunning query=ListInstrument on 'Authority/069C8B8CD60D/CN=Authority, OU=Test Dept, O=R3, L=London, C=GB'\u001b[0m\n",
      " 10-05 11:18:38 | \u001b[30mD\u001b[0m | \u001b[30mRequest type=post to url='https://localhost:8888/api/v1/flow/069C8B8CD60D'\u001b[0m\n",
      " 10-05 11:18:38 | \u001b[30mD\u001b[0m | \u001b[30mOriginal Request = {'clientRequestId': '__REQUEST_NUMBER__', 'flowClassName': '__PACKAGE__.query.__QUERY__', 'requestBody': {}}\u001b[0m\n",
      " 10-05 11:18:38 | \u001b[30mD\u001b[0m | \u001b[30m{'clientRequestId': '76808.1683697718.418418', 'flowClassName': 'com.r3.developers.configurableInstrument.query.ListInstrument', 'requestBody': {}}\u001b[0m\n",
      " 10-05 11:18:38 | \u001b[30mD\u001b[0m | \u001b[30mAfter filling values = {'clientRequestId': '76808.1683697718.418418', 'flowClassName': 'com.r3.developers.configurableInstrument.query.ListInstrument', 'requestBody': {}}\u001b[0m\n",
      " 10-05 11:18:38 | \u001b[30mD\u001b[0m | \u001b[30m202\u001b[0m\n",
      " 10-05 11:18:38 | \u001b[30mD\u001b[0m | \u001b[30m{'holdingIdentityShortHash': '069C8B8CD60D', 'clientRequestId': '76808.1683697718.418418', 'flowId': None, 'flowStatus': 'START_REQUESTED', 'flowResult': None, 'flowError': None, 'timestamp': '2023-05-10T05:48:38.474Z'}\u001b[0m\n",
      " 10-05 11:18:42 | \u001b[30mD\u001b[0m | \u001b[30mRequest type=get to url='https://localhost:8888/api/v1/flow/069C8B8CD60D/76808.1683697718.418418'\u001b[0m\n",
      " 10-05 11:18:42 | \u001b[30mD\u001b[0m | \u001b[30m200\u001b[0m\n",
      " 10-05 11:18:42 | \u001b[30mD\u001b[0m | \u001b[30m{'holdingIdentityShortHash': '069C8B8CD60D', 'clientRequestId': '76808.1683697718.418418', 'flowId': 'c167a9a0-a1be-4c47-ab3c-e3cf3b23b1be', 'flowStatus': 'COMPLETED', 'flowResult': '[{\"id\":\"9339350b-d16e-4a94-91ac-e363902172a8\",\"name\":\"Government Bond 2024\",\"owner\":\"CN=Alice, OU=Test Dept, O=R3, L=London, C=GB\",\"issuer\":\"CN=Authority, OU=Test Dept, O=R3, L=London, C=GB\",\"quantity\":0,\"transferable\":true,\"expiry\":null,\"verifiable\":true,\"attributes\":{\"payments\":\"[\\'10Jun2023\\', \\'10Sep2023\\', \\'10Dec2023\\', \\'10Mar2024\\']\"}},{\"id\":\"104ae922-d085-4b29-8e24-6014057f1a50\",\"name\":\"eRupee\",\"owner\":\"CN=Alice, OU=Test Dept, O=R3, L=London, C=GB\",\"issuer\":\"CN=Authority, OU=Test Dept, O=R3, L=London, C=GB\",\"quantity\":100001,\"transferable\":true,\"expiry\":null,\"verifiable\":true,\"attributes\":{}}]', 'flowError': None, 'timestamp': '2023-05-10T05:48:40.816Z'}\u001b[0m\n",
      " 10-05 11:18:42 | \u001b[30mD\u001b[0m | \u001b[30mRequest type=get to url='https://localhost:8888/api/v1/flow/069C8B8CD60D/76808.1683697718.418418'\u001b[0m\n",
      " 10-05 11:18:42 | \u001b[30mD\u001b[0m | \u001b[30m200\u001b[0m\n",
      " 10-05 11:18:42 | \u001b[30mD\u001b[0m | \u001b[30m{'holdingIdentityShortHash': '069C8B8CD60D', 'clientRequestId': '76808.1683697718.418418', 'flowId': 'c167a9a0-a1be-4c47-ab3c-e3cf3b23b1be', 'flowStatus': 'COMPLETED', 'flowResult': '[{\"id\":\"9339350b-d16e-4a94-91ac-e363902172a8\",\"name\":\"Government Bond 2024\",\"owner\":\"CN=Alice, OU=Test Dept, O=R3, L=London, C=GB\",\"issuer\":\"CN=Authority, OU=Test Dept, O=R3, L=London, C=GB\",\"quantity\":0,\"transferable\":true,\"expiry\":null,\"verifiable\":true,\"attributes\":{\"payments\":\"[\\'10Jun2023\\', \\'10Sep2023\\', \\'10Dec2023\\', \\'10Mar2024\\']\"}},{\"id\":\"104ae922-d085-4b29-8e24-6014057f1a50\",\"name\":\"eRupee\",\"owner\":\"CN=Alice, OU=Test Dept, O=R3, L=London, C=GB\",\"issuer\":\"CN=Authority, OU=Test Dept, O=R3, L=London, C=GB\",\"quantity\":100001,\"transferable\":true,\"expiry\":null,\"verifiable\":true,\"attributes\":{}}]', 'flowError': None, 'timestamp': '2023-05-10T05:48:40.816Z'}\u001b[0m\n",
      " 10-05 11:18:42 | \u001b[32mI\u001b[0m | \u001b[32mResult for query=ListInstrument from 'Authority/069C8B8CD60D/CN=Authority, OU=Test Dept, O=R3, L=London, C=GB'\u001b[0m\n"
     ]
    },
    {
     "data": {
      "text/html": [
       "<div>\n",
       "<style scoped>\n",
       "    .dataframe tbody tr th:only-of-type {\n",
       "        vertical-align: middle;\n",
       "    }\n",
       "\n",
       "    .dataframe tbody tr th {\n",
       "        vertical-align: top;\n",
       "    }\n",
       "\n",
       "    .dataframe thead th {\n",
       "        text-align: right;\n",
       "    }\n",
       "</style>\n",
       "<table border=\"1\" class=\"dataframe\">\n",
       "  <thead>\n",
       "    <tr style=\"text-align: right;\">\n",
       "      <th></th>\n",
       "      <th>id</th>\n",
       "      <th>name</th>\n",
       "      <th>owner</th>\n",
       "      <th>issuer</th>\n",
       "      <th>quantity</th>\n",
       "      <th>transferable</th>\n",
       "      <th>expiry</th>\n",
       "      <th>verifiable</th>\n",
       "      <th>attributes</th>\n",
       "    </tr>\n",
       "  </thead>\n",
       "  <tbody>\n",
       "    <tr>\n",
       "      <th>0</th>\n",
       "      <td>9339350b-d16e-4a94-91ac-e363902172a8</td>\n",
       "      <td>Government Bond 2024</td>\n",
       "      <td>CN=Alice, OU=Test Dept, O=R3, L=London, C=GB</td>\n",
       "      <td>CN=Authority, OU=Test Dept, O=R3, L=London, C=GB</td>\n",
       "      <td>0</td>\n",
       "      <td>True</td>\n",
       "      <td>None</td>\n",
       "      <td>True</td>\n",
       "      <td>{'payments': '['10Jun2023', '10Sep2023', '10Dec2023', '10Mar2024']'}</td>\n",
       "    </tr>\n",
       "    <tr>\n",
       "      <th>1</th>\n",
       "      <td>104ae922-d085-4b29-8e24-6014057f1a50</td>\n",
       "      <td>eRupee</td>\n",
       "      <td>CN=Alice, OU=Test Dept, O=R3, L=London, C=GB</td>\n",
       "      <td>CN=Authority, OU=Test Dept, O=R3, L=London, C=GB</td>\n",
       "      <td>100001</td>\n",
       "      <td>True</td>\n",
       "      <td>None</td>\n",
       "      <td>True</td>\n",
       "      <td>{}</td>\n",
       "    </tr>\n",
       "  </tbody>\n",
       "</table>\n",
       "</div>"
      ],
      "text/plain": [
       "                                     id                  name  \\\n",
       "0  9339350b-d16e-4a94-91ac-e363902172a8  Government Bond 2024   \n",
       "1  104ae922-d085-4b29-8e24-6014057f1a50                eRupee   \n",
       "\n",
       "                                          owner  \\\n",
       "0  CN=Alice, OU=Test Dept, O=R3, L=London, C=GB   \n",
       "1  CN=Alice, OU=Test Dept, O=R3, L=London, C=GB   \n",
       "\n",
       "                                             issuer  quantity  transferable  \\\n",
       "0  CN=Authority, OU=Test Dept, O=R3, L=London, C=GB         0          True   \n",
       "1  CN=Authority, OU=Test Dept, O=R3, L=London, C=GB    100001          True   \n",
       "\n",
       "  expiry  verifiable  \\\n",
       "0   None        True   \n",
       "1   None        True   \n",
       "\n",
       "                                                             attributes  \n",
       "0  {'payments': '['10Jun2023', '10Sep2023', '10Dec2023', '10Mar2024']'}  \n",
       "1                                                                    {}  "
      ]
     },
     "metadata": {},
     "output_type": "display_data"
    },
    {
     "name": "stderr",
     "output_type": "stream",
     "text": [
      " 10-05 11:18:42 | \u001b[30mD\u001b[0m | \u001b[30mRunning query=ListInstrument on 'Bob/83214F5048CD/CN=Bob, OU=Test Dept, O=R3, L=London, C=GB'\u001b[0m\n",
      " 10-05 11:18:42 | \u001b[30mD\u001b[0m | \u001b[30mRequest type=post to url='https://localhost:8888/api/v1/flow/83214F5048CD'\u001b[0m\n",
      " 10-05 11:18:42 | \u001b[30mD\u001b[0m | \u001b[30mOriginal Request = {'clientRequestId': '__REQUEST_NUMBER__', 'flowClassName': '__PACKAGE__.query.__QUERY__', 'requestBody': {}}\u001b[0m\n",
      " 10-05 11:18:42 | \u001b[30mD\u001b[0m | \u001b[30m{'clientRequestId': '76808.1683697722.625798', 'flowClassName': 'com.r3.developers.configurableInstrument.query.ListInstrument', 'requestBody': {}}\u001b[0m\n",
      " 10-05 11:18:42 | \u001b[30mD\u001b[0m | \u001b[30mAfter filling values = {'clientRequestId': '76808.1683697722.625798', 'flowClassName': 'com.r3.developers.configurableInstrument.query.ListInstrument', 'requestBody': {}}\u001b[0m\n",
      " 10-05 11:18:42 | \u001b[30mD\u001b[0m | \u001b[30m202\u001b[0m\n",
      " 10-05 11:18:42 | \u001b[30mD\u001b[0m | \u001b[30m{'holdingIdentityShortHash': '83214F5048CD', 'clientRequestId': '76808.1683697722.625798', 'flowId': None, 'flowStatus': 'START_REQUESTED', 'flowResult': None, 'flowError': None, 'timestamp': '2023-05-10T05:48:42.647Z'}\u001b[0m\n",
      " 10-05 11:18:46 | \u001b[30mD\u001b[0m | \u001b[30mRequest type=get to url='https://localhost:8888/api/v1/flow/83214F5048CD/76808.1683697722.625798'\u001b[0m\n",
      " 10-05 11:18:46 | \u001b[30mD\u001b[0m | \u001b[30m200\u001b[0m\n",
      " 10-05 11:18:46 | \u001b[30mD\u001b[0m | \u001b[30m{'holdingIdentityShortHash': '83214F5048CD', 'clientRequestId': '76808.1683697722.625798', 'flowId': '72c2e28e-0205-4974-9ba7-415b15d54f49', 'flowStatus': 'COMPLETED', 'flowResult': '[]', 'flowError': None, 'timestamp': '2023-05-10T05:48:45.242Z'}\u001b[0m\n",
      " 10-05 11:18:46 | \u001b[30mD\u001b[0m | \u001b[30mRequest type=get to url='https://localhost:8888/api/v1/flow/83214F5048CD/76808.1683697722.625798'\u001b[0m\n",
      " 10-05 11:18:46 | \u001b[30mD\u001b[0m | \u001b[30m200\u001b[0m\n",
      " 10-05 11:18:46 | \u001b[30mD\u001b[0m | \u001b[30m{'holdingIdentityShortHash': '83214F5048CD', 'clientRequestId': '76808.1683697722.625798', 'flowId': '72c2e28e-0205-4974-9ba7-415b15d54f49', 'flowStatus': 'COMPLETED', 'flowResult': '[]', 'flowError': None, 'timestamp': '2023-05-10T05:48:45.242Z'}\u001b[0m\n",
      " 10-05 11:18:46 | \u001b[32mI\u001b[0m | \u001b[32mResult for query=ListInstrument from 'Bob/83214F5048CD/CN=Bob, OU=Test Dept, O=R3, L=London, C=GB'\u001b[0m\n"
     ]
    },
    {
     "data": {
      "text/html": [
       "<div>\n",
       "<style scoped>\n",
       "    .dataframe tbody tr th:only-of-type {\n",
       "        vertical-align: middle;\n",
       "    }\n",
       "\n",
       "    .dataframe tbody tr th {\n",
       "        vertical-align: top;\n",
       "    }\n",
       "\n",
       "    .dataframe thead th {\n",
       "        text-align: right;\n",
       "    }\n",
       "</style>\n",
       "<table border=\"1\" class=\"dataframe\">\n",
       "  <thead>\n",
       "    <tr style=\"text-align: right;\">\n",
       "      <th></th>\n",
       "    </tr>\n",
       "  </thead>\n",
       "  <tbody>\n",
       "  </tbody>\n",
       "</table>\n",
       "</div>"
      ],
      "text/plain": [
       "Empty DataFrame\n",
       "Columns: []\n",
       "Index: []"
      ]
     },
     "metadata": {},
     "output_type": "display_data"
    },
    {
     "name": "stderr",
     "output_type": "stream",
     "text": [
      " 10-05 11:18:46 | \u001b[30mD\u001b[0m | \u001b[30mRunning query=ListInstrument on 'Charlie/D728EEE9116F/CN=Charlie, OU=Test Dept, O=R3, L=London, C=GB'\u001b[0m\n",
      " 10-05 11:18:46 | \u001b[30mD\u001b[0m | \u001b[30mRequest type=post to url='https://localhost:8888/api/v1/flow/D728EEE9116F'\u001b[0m\n",
      " 10-05 11:18:46 | \u001b[30mD\u001b[0m | \u001b[30mOriginal Request = {'clientRequestId': '__REQUEST_NUMBER__', 'flowClassName': '__PACKAGE__.query.__QUERY__', 'requestBody': {}}\u001b[0m\n",
      " 10-05 11:18:46 | \u001b[30mD\u001b[0m | \u001b[30m{'clientRequestId': '76808.1683697726.758862', 'flowClassName': 'com.r3.developers.configurableInstrument.query.ListInstrument', 'requestBody': {}}\u001b[0m\n",
      " 10-05 11:18:46 | \u001b[30mD\u001b[0m | \u001b[30mAfter filling values = {'clientRequestId': '76808.1683697726.758862', 'flowClassName': 'com.r3.developers.configurableInstrument.query.ListInstrument', 'requestBody': {}}\u001b[0m\n",
      " 10-05 11:18:46 | \u001b[30mD\u001b[0m | \u001b[30m202\u001b[0m\n",
      " 10-05 11:18:46 | \u001b[30mD\u001b[0m | \u001b[30m{'holdingIdentityShortHash': 'D728EEE9116F', 'clientRequestId': '76808.1683697726.758862', 'flowId': None, 'flowStatus': 'START_REQUESTED', 'flowResult': None, 'flowError': None, 'timestamp': '2023-05-10T05:48:46.775Z'}\u001b[0m\n",
      " 10-05 11:18:50 | \u001b[30mD\u001b[0m | \u001b[30mRequest type=get to url='https://localhost:8888/api/v1/flow/D728EEE9116F/76808.1683697726.758862'\u001b[0m\n",
      " 10-05 11:18:50 | \u001b[30mD\u001b[0m | \u001b[30m200\u001b[0m\n",
      " 10-05 11:18:50 | \u001b[30mD\u001b[0m | \u001b[30m{'holdingIdentityShortHash': 'D728EEE9116F', 'clientRequestId': '76808.1683697726.758862', 'flowId': '298112ce-9693-40e7-876f-408b034132d6', 'flowStatus': 'COMPLETED', 'flowResult': '[]', 'flowError': None, 'timestamp': '2023-05-10T05:48:49.176Z'}\u001b[0m\n",
      " 10-05 11:18:50 | \u001b[30mD\u001b[0m | \u001b[30mRequest type=get to url='https://localhost:8888/api/v1/flow/D728EEE9116F/76808.1683697726.758862'\u001b[0m\n",
      " 10-05 11:18:50 | \u001b[30mD\u001b[0m | \u001b[30m200\u001b[0m\n",
      " 10-05 11:18:50 | \u001b[30mD\u001b[0m | \u001b[30m{'holdingIdentityShortHash': 'D728EEE9116F', 'clientRequestId': '76808.1683697726.758862', 'flowId': '298112ce-9693-40e7-876f-408b034132d6', 'flowStatus': 'COMPLETED', 'flowResult': '[]', 'flowError': None, 'timestamp': '2023-05-10T05:48:49.176Z'}\u001b[0m\n",
      " 10-05 11:18:50 | \u001b[32mI\u001b[0m | \u001b[32mResult for query=ListInstrument from 'Charlie/D728EEE9116F/CN=Charlie, OU=Test Dept, O=R3, L=London, C=GB'\u001b[0m\n"
     ]
    },
    {
     "data": {
      "text/html": [
       "<div>\n",
       "<style scoped>\n",
       "    .dataframe tbody tr th:only-of-type {\n",
       "        vertical-align: middle;\n",
       "    }\n",
       "\n",
       "    .dataframe tbody tr th {\n",
       "        vertical-align: top;\n",
       "    }\n",
       "\n",
       "    .dataframe thead th {\n",
       "        text-align: right;\n",
       "    }\n",
       "</style>\n",
       "<table border=\"1\" class=\"dataframe\">\n",
       "  <thead>\n",
       "    <tr style=\"text-align: right;\">\n",
       "      <th></th>\n",
       "    </tr>\n",
       "  </thead>\n",
       "  <tbody>\n",
       "  </tbody>\n",
       "</table>\n",
       "</div>"
      ],
      "text/plain": [
       "Empty DataFrame\n",
       "Columns: []\n",
       "Index: []"
      ]
     },
     "metadata": {},
     "output_type": "display_data"
    },
    {
     "name": "stderr",
     "output_type": "stream",
     "text": [
      " 10-05 11:18:50 | \u001b[30mD\u001b[0m | \u001b[30mRunning query=ListInstrument on 'Alice/98A345A3E88B/CN=Alice, OU=Test Dept, O=R3, L=London, C=GB'\u001b[0m\n",
      " 10-05 11:18:50 | \u001b[30mD\u001b[0m | \u001b[30mRequest type=post to url='https://localhost:8888/api/v1/flow/98A345A3E88B'\u001b[0m\n",
      " 10-05 11:18:50 | \u001b[30mD\u001b[0m | \u001b[30mOriginal Request = {'clientRequestId': '__REQUEST_NUMBER__', 'flowClassName': '__PACKAGE__.query.__QUERY__', 'requestBody': {}}\u001b[0m\n",
      " 10-05 11:18:50 | \u001b[30mD\u001b[0m | \u001b[30m{'clientRequestId': '76808.1683697730.9354', 'flowClassName': 'com.r3.developers.configurableInstrument.query.ListInstrument', 'requestBody': {}}\u001b[0m\n",
      " 10-05 11:18:50 | \u001b[30mD\u001b[0m | \u001b[30mAfter filling values = {'clientRequestId': '76808.1683697730.9354', 'flowClassName': 'com.r3.developers.configurableInstrument.query.ListInstrument', 'requestBody': {}}\u001b[0m\n",
      " 10-05 11:18:50 | \u001b[30mD\u001b[0m | \u001b[30m202\u001b[0m\n",
      " 10-05 11:18:50 | \u001b[30mD\u001b[0m | \u001b[30m{'holdingIdentityShortHash': '98A345A3E88B', 'clientRequestId': '76808.1683697730.9354', 'flowId': None, 'flowStatus': 'START_REQUESTED', 'flowResult': None, 'flowError': None, 'timestamp': '2023-05-10T05:48:50.958Z'}\u001b[0m\n",
      " 10-05 11:18:54 | \u001b[30mD\u001b[0m | \u001b[30mRequest type=get to url='https://localhost:8888/api/v1/flow/98A345A3E88B/76808.1683697730.9354'\u001b[0m\n",
      " 10-05 11:18:55 | \u001b[30mD\u001b[0m | \u001b[30m200\u001b[0m\n",
      " 10-05 11:18:55 | \u001b[30mD\u001b[0m | \u001b[30m{'holdingIdentityShortHash': '98A345A3E88B', 'clientRequestId': '76808.1683697730.9354', 'flowId': '28efb3c8-1f72-4d68-9f43-f3417bd15624', 'flowStatus': 'COMPLETED', 'flowResult': '[{\"id\":\"9339350b-d16e-4a94-91ac-e363902172a8\",\"name\":\"Government Bond 2024\",\"owner\":\"CN=Alice, OU=Test Dept, O=R3, L=London, C=GB\",\"issuer\":\"CN=Authority, OU=Test Dept, O=R3, L=London, C=GB\",\"quantity\":5,\"transferable\":true,\"expiry\":null,\"verifiable\":true,\"attributes\":{\"payments\":\"[\\'10Jun2023\\', \\'10Sep2023\\', \\'10Dec2023\\', \\'10Mar2024\\']\"}},{\"id\":\"104ae922-d085-4b29-8e24-6014057f1a50\",\"name\":\"eRupee\",\"owner\":\"CN=Alice, OU=Test Dept, O=R3, L=London, C=GB\",\"issuer\":\"CN=Authority, OU=Test Dept, O=R3, L=London, C=GB\",\"quantity\":100001,\"transferable\":true,\"expiry\":null,\"verifiable\":true,\"attributes\":{}}]', 'flowError': None, 'timestamp': '2023-05-10T05:48:53.615Z'}\u001b[0m\n",
      " 10-05 11:18:55 | \u001b[30mD\u001b[0m | \u001b[30mRequest type=get to url='https://localhost:8888/api/v1/flow/98A345A3E88B/76808.1683697730.9354'\u001b[0m\n",
      " 10-05 11:18:55 | \u001b[30mD\u001b[0m | \u001b[30m200\u001b[0m\n",
      " 10-05 11:18:55 | \u001b[30mD\u001b[0m | \u001b[30m{'holdingIdentityShortHash': '98A345A3E88B', 'clientRequestId': '76808.1683697730.9354', 'flowId': '28efb3c8-1f72-4d68-9f43-f3417bd15624', 'flowStatus': 'COMPLETED', 'flowResult': '[{\"id\":\"9339350b-d16e-4a94-91ac-e363902172a8\",\"name\":\"Government Bond 2024\",\"owner\":\"CN=Alice, OU=Test Dept, O=R3, L=London, C=GB\",\"issuer\":\"CN=Authority, OU=Test Dept, O=R3, L=London, C=GB\",\"quantity\":5,\"transferable\":true,\"expiry\":null,\"verifiable\":true,\"attributes\":{\"payments\":\"[\\'10Jun2023\\', \\'10Sep2023\\', \\'10Dec2023\\', \\'10Mar2024\\']\"}},{\"id\":\"104ae922-d085-4b29-8e24-6014057f1a50\",\"name\":\"eRupee\",\"owner\":\"CN=Alice, OU=Test Dept, O=R3, L=London, C=GB\",\"issuer\":\"CN=Authority, OU=Test Dept, O=R3, L=London, C=GB\",\"quantity\":100001,\"transferable\":true,\"expiry\":null,\"verifiable\":true,\"attributes\":{}}]', 'flowError': None, 'timestamp': '2023-05-10T05:48:53.615Z'}\u001b[0m\n",
      " 10-05 11:18:55 | \u001b[32mI\u001b[0m | \u001b[32mResult for query=ListInstrument from 'Alice/98A345A3E88B/CN=Alice, OU=Test Dept, O=R3, L=London, C=GB'\u001b[0m\n"
     ]
    },
    {
     "data": {
      "text/html": [
       "<div>\n",
       "<style scoped>\n",
       "    .dataframe tbody tr th:only-of-type {\n",
       "        vertical-align: middle;\n",
       "    }\n",
       "\n",
       "    .dataframe tbody tr th {\n",
       "        vertical-align: top;\n",
       "    }\n",
       "\n",
       "    .dataframe thead th {\n",
       "        text-align: right;\n",
       "    }\n",
       "</style>\n",
       "<table border=\"1\" class=\"dataframe\">\n",
       "  <thead>\n",
       "    <tr style=\"text-align: right;\">\n",
       "      <th></th>\n",
       "      <th>id</th>\n",
       "      <th>name</th>\n",
       "      <th>owner</th>\n",
       "      <th>issuer</th>\n",
       "      <th>quantity</th>\n",
       "      <th>transferable</th>\n",
       "      <th>expiry</th>\n",
       "      <th>verifiable</th>\n",
       "      <th>attributes</th>\n",
       "    </tr>\n",
       "  </thead>\n",
       "  <tbody>\n",
       "    <tr>\n",
       "      <th>0</th>\n",
       "      <td>9339350b-d16e-4a94-91ac-e363902172a8</td>\n",
       "      <td>Government Bond 2024</td>\n",
       "      <td>CN=Alice, OU=Test Dept, O=R3, L=London, C=GB</td>\n",
       "      <td>CN=Authority, OU=Test Dept, O=R3, L=London, C=GB</td>\n",
       "      <td>5</td>\n",
       "      <td>True</td>\n",
       "      <td>None</td>\n",
       "      <td>True</td>\n",
       "      <td>{'payments': '['10Jun2023', '10Sep2023', '10Dec2023', '10Mar2024']'}</td>\n",
       "    </tr>\n",
       "    <tr>\n",
       "      <th>1</th>\n",
       "      <td>104ae922-d085-4b29-8e24-6014057f1a50</td>\n",
       "      <td>eRupee</td>\n",
       "      <td>CN=Alice, OU=Test Dept, O=R3, L=London, C=GB</td>\n",
       "      <td>CN=Authority, OU=Test Dept, O=R3, L=London, C=GB</td>\n",
       "      <td>100001</td>\n",
       "      <td>True</td>\n",
       "      <td>None</td>\n",
       "      <td>True</td>\n",
       "      <td>{}</td>\n",
       "    </tr>\n",
       "  </tbody>\n",
       "</table>\n",
       "</div>"
      ],
      "text/plain": [
       "                                     id                  name  \\\n",
       "0  9339350b-d16e-4a94-91ac-e363902172a8  Government Bond 2024   \n",
       "1  104ae922-d085-4b29-8e24-6014057f1a50                eRupee   \n",
       "\n",
       "                                          owner  \\\n",
       "0  CN=Alice, OU=Test Dept, O=R3, L=London, C=GB   \n",
       "1  CN=Alice, OU=Test Dept, O=R3, L=London, C=GB   \n",
       "\n",
       "                                             issuer  quantity  transferable  \\\n",
       "0  CN=Authority, OU=Test Dept, O=R3, L=London, C=GB         5          True   \n",
       "1  CN=Authority, OU=Test Dept, O=R3, L=London, C=GB    100001          True   \n",
       "\n",
       "  expiry  verifiable  \\\n",
       "0   None        True   \n",
       "1   None        True   \n",
       "\n",
       "                                                             attributes  \n",
       "0  {'payments': '['10Jun2023', '10Sep2023', '10Dec2023', '10Mar2024']'}  \n",
       "1                                                                    {}  "
      ]
     },
     "metadata": {},
     "output_type": "display_data"
    }
   ],
   "source": [
    "h.query_all_nodes() # calling flow = ListInstrument\n",
    "\n",
    "# for n in nodes:\n",
    "#     df = h.query(n, query, False)\n",
    "#     h.log.info(\"Result for '{}' from '{}/{}/{}'\".format(query, n, nodes[n]['x500'], nodes[n]['hash']))\n",
    "#     display(df)"
   ]
  },
  {
   "cell_type": "code",
   "execution_count": 3,
   "id": "e56b5fc9",
   "metadata": {},
   "outputs": [
    {
     "name": "stderr",
     "output_type": "stream",
     "text": [
      " 09-05 13:20:19 | \u001b[32mI\u001b[0m | \u001b[32mIssuing instrument='Government Bond 2024' to 'Alice'\u001b[0m\n",
      " 09-05 13:20:19 | \u001b[32mI\u001b[0m | \u001b[32mRunning action 'Issue' on 'Authority/069C8B8CD60D/CN=Authority, OU=Test Dept, O=R3, L=London, C=GB'\u001b[0m\n",
      " 09-05 13:21:24 | \u001b[32mI\u001b[0m | \u001b[32m9339350b-d16e-4a94-91ac-e363902172a8\u001b[0m\n"
     ]
    },
    {
     "data": {
      "text/plain": [
       "('67712.1683618619.295648',\n",
       " <Response [200]>,\n",
       " '9339350b-d16e-4a94-91ac-e363902172a8')"
      ]
     },
     "execution_count": 3,
     "metadata": {},
     "output_type": "execute_result"
    }
   ],
   "source": []
  },
  {
   "cell_type": "code",
   "execution_count": 41,
   "id": "2bcdc087",
   "metadata": {},
   "outputs": [
    {
     "name": "stderr",
     "output_type": "stream",
     "text": [
      " 11-05 19:41:42 | \u001b[32mI\u001b[0m | \u001b[32mIssuing instrument='eRupee' to 'Alice'\u001b[0m\n",
      " 11-05 19:41:42 | \u001b[32mI\u001b[0m | \u001b[32mRunning action 'Issue' on 'Authority/069C8B8CD60D/CN=Authority, OU=Test Dept, O=R3, L=London, C=GB'\u001b[0m\n",
      " 11-05 19:42:38 | \u001b[32mI\u001b[0m | \u001b[32m3d2ecb60-cdb8-4004-9c79-3cde976969fc\u001b[0m\n"
     ]
    },
    {
     "name": "stdout",
     "output_type": "stream",
     "text": [
      "13652.1683814302.192371 <Response [200]> 3d2ecb60-cdb8-4004-9c79-3cde976969fc\n"
     ]
    }
   ],
   "source": [
    "# Example 2 -- Digital currency (eRupee) -- Type 1 / Test 1 -- Transferable, Quantifiable Instrument\n",
    "\n",
    "(req_id, response, return_val_uuid) = h.issue('Authority', 'Alice', 'eRupee',\n",
    "        quantity=100001,\n",
    "        transferable=True,\n",
    "        expiry=None,\n",
    "        verifiable=True\n",
    "       )\n",
    "print(req_id, response, return_val_uuid)"
   ]
  },
  {
   "cell_type": "code",
   "execution_count": 44,
   "id": "a0ed7834",
   "metadata": {},
   "outputs": [
    {
     "name": "stderr",
     "output_type": "stream",
     "text": [
      " 11-05 20:01:26 | \u001b[32mI\u001b[0m | \u001b[32mIssuing instrument='Unique artifacts on Ledger. The Mona Lisa' to 'Alice'\u001b[0m\n",
      " 11-05 20:01:26 | \u001b[32mI\u001b[0m | \u001b[32mRunning action 'Issue' on 'Authority/069C8B8CD60D/CN=Authority, OU=Test Dept, O=R3, L=London, C=GB'\u001b[0m\n",
      " 11-05 20:02:27 | \u001b[32mI\u001b[0m | \u001b[32maae1090f-beea-4341-a342-1056d02f98ab\u001b[0m\n"
     ]
    }
   ],
   "source": [
    "# Example 3 -- Unique artifacts on Ledger -- Type 2 / Test 2 -- Transferable, non Quantifiable Instrument\n",
    "(req_id, response, return_val_uuid) = h.issue('Authority', 'Alice', 'Unique artifacts on Ledger. The Mona Lisa', \n",
    "        quantity=None,\n",
    "        transferable=True,\n",
    "        expiry=None,\n",
    "        verifiable=True,\n",
    "        attributes={'holding autority': 'The Louvre Museum, Paris'}\n",
    "       )\n",
    "print(req_id, response, return_val_uuid)"
   ]
  },
  {
   "cell_type": "code",
   "execution_count": null,
   "id": "a76c88b5",
   "metadata": {},
   "outputs": [],
   "source": [
    "# another example  -- Limited Edition Soverign -- Type 1 / Test 1 -- Transferable, Quantifiable Instrument"
   ]
  },
  {
   "cell_type": "code",
   "execution_count": 45,
   "id": "94f99dfa",
   "metadata": {},
   "outputs": [
    {
     "name": "stderr",
     "output_type": "stream",
     "text": [
      " 11-05 20:02:27 | \u001b[32mI\u001b[0m | \u001b[32mIssuing instrument='Digital Currency INR 500 Note' to 'Alice'\u001b[0m\n",
      " 11-05 20:02:27 | \u001b[32mI\u001b[0m | \u001b[32mRunning action 'Issue' on 'Authority/069C8B8CD60D/CN=Authority, OU=Test Dept, O=R3, L=London, C=GB'\u001b[0m\n",
      " 11-05 20:03:19 | \u001b[32mI\u001b[0m | \u001b[32m5819d61a-5d73-44ca-b677-7125ebc8bf97\u001b[0m\n"
     ]
    }
   ],
   "source": [
    "# Example 4 -- Fiat currency with unique number in digital form -- Type 2 / Test 2 -- Transferable, non Quantifiable Instrument\n",
    "# - Issue Instrument transferable=True, quantity=null(non aggregable, even if quantity is 1, still since id is different, it won't aggregage)\n",
    "#     example \"Digital Currency INR 500 Note\", attributes{'id': \"OMV 336048\", 'year': '', '', ''}\n",
    "(req_id, response, return_val_uuid) = h.issue('Authority', 'Alice', 'Digital Currency INR 500 Note', \n",
    "        quantity=None, # quantity is one or None its the same\n",
    "        transferable=True,\n",
    "        expiry=None,\n",
    "        verifiable=True, \n",
    "        attributes={'number': 'OMV 336048', 'year': '1981'}\n",
    "       )\n",
    "print(req_id, response, return_val_uuid)"
   ]
  },
  {
   "cell_type": "code",
   "execution_count": 46,
   "id": "a8849ce9",
   "metadata": {},
   "outputs": [
    {
     "name": "stdout",
     "output_type": "stream",
     "text": [
      "13652.1683815547.127303 <Response [200]> 5819d61a-5d73-44ca-b677-7125ebc8bf97\n"
     ]
    }
   ],
   "source": [
    "print(req_id, response, return_val_uuid)"
   ]
  },
  {
   "cell_type": "code",
   "execution_count": null,
   "id": "acfadbb8",
   "metadata": {},
   "outputs": [],
   "source": []
  },
  {
   "cell_type": "code",
   "execution_count": null,
   "id": "96cb77ef",
   "metadata": {},
   "outputs": [],
   "source": []
  },
  {
   "cell_type": "code",
   "execution_count": 28,
   "id": "248844de",
   "metadata": {},
   "outputs": [
    {
     "name": "stderr",
     "output_type": "stream",
     "text": [
      " 09-05 22:57:41 | \u001b[32mI\u001b[0m | \u001b[32mIssuing instrument='Star Alliance Travel Points' to 'Alice'\u001b[0m\n",
      " 09-05 22:57:41 | \u001b[32mI\u001b[0m | \u001b[32mRunning action 'Issue' on 'Authority/069C8B8CD60D/CN=Authority, OU=Test Dept, O=R3, L=London, C=GB'\u001b[0m\n",
      " 09-05 22:57:41 | \u001b[30mD\u001b[0m | \u001b[30mRequest type=post to url='https://localhost:8888/api/v1/flow/069C8B8CD60D'\u001b[0m\n",
      " 09-05 22:57:41 | \u001b[30mD\u001b[0m | \u001b[30mOriginal Request = {'clientRequestId': '__REQUEST_NUMBER__', 'flowClassName': '__PACKAGE__.workflows.Issue', 'requestBody': {'name': 'Star Alliance Travel Points', 'to': 'CN=Alice, OU=Test Dept, O=R3, L=London, C=GB', 'transferable': 'false', 'verifiable': 'true', 'quantity': 10}}\u001b[0m\n",
      " 09-05 22:57:41 | \u001b[30mD\u001b[0m | \u001b[30m{'clientRequestId': '76808.1683653261.445578', 'flowClassName': 'com.r3.developers.configurableInstrument.workflows.Issue', 'requestBody': {'name': 'Star Alliance Travel Points', 'to': 'CN=Alice, OU=Test Dept, O=R3, L=London, C=GB', 'transferable': 'false', 'verifiable': 'true', 'quantity': 10}}\u001b[0m\n",
      " 09-05 22:57:41 | \u001b[30mD\u001b[0m | \u001b[30mAfter filling values = {'clientRequestId': '76808.1683653261.445578', 'flowClassName': 'com.r3.developers.configurableInstrument.workflows.Issue', 'requestBody': {'name': 'Star Alliance Travel Points', 'to': 'CN=Alice, OU=Test Dept, O=R3, L=London, C=GB', 'transferable': 'false', 'verifiable': 'true', 'quantity': 10}}\u001b[0m\n",
      " 09-05 22:57:41 | \u001b[30mD\u001b[0m | \u001b[30m202\u001b[0m\n",
      " 09-05 22:57:41 | \u001b[30mD\u001b[0m | \u001b[30m{'holdingIdentityShortHash': '069C8B8CD60D', 'clientRequestId': '76808.1683653261.445578', 'flowId': None, 'flowStatus': 'START_REQUESTED', 'flowResult': None, 'flowError': None, 'timestamp': '2023-05-09T17:27:41.489Z'}\u001b[0m\n",
      " 09-05 22:57:45 | \u001b[30mD\u001b[0m | \u001b[30mRequest type=get to url='https://localhost:8888/api/v1/flow/069C8B8CD60D/76808.1683653261.445578'\u001b[0m\n",
      " 09-05 22:57:45 | \u001b[30mD\u001b[0m | \u001b[30m200\u001b[0m\n",
      " 09-05 22:57:45 | \u001b[30mD\u001b[0m | \u001b[30m{'holdingIdentityShortHash': '069C8B8CD60D', 'clientRequestId': '76808.1683653261.445578', 'flowId': '251611e4-83dd-426d-87fa-493c0358abda', 'flowStatus': 'RUNNING', 'flowResult': None, 'flowError': None, 'timestamp': '2023-05-09T17:27:41.891Z'}\u001b[0m\n",
      " 09-05 22:57:49 | \u001b[30mD\u001b[0m | \u001b[30mRequest type=get to url='https://localhost:8888/api/v1/flow/069C8B8CD60D/76808.1683653261.445578'\u001b[0m\n",
      " 09-05 22:57:49 | \u001b[30mD\u001b[0m | \u001b[30m200\u001b[0m\n",
      " 09-05 22:57:49 | \u001b[30mD\u001b[0m | \u001b[30m{'holdingIdentityShortHash': '069C8B8CD60D', 'clientRequestId': '76808.1683653261.445578', 'flowId': '251611e4-83dd-426d-87fa-493c0358abda', 'flowStatus': 'RUNNING', 'flowResult': None, 'flowError': None, 'timestamp': '2023-05-09T17:27:41.891Z'}\u001b[0m\n",
      " 09-05 22:57:53 | \u001b[30mD\u001b[0m | \u001b[30mRequest type=get to url='https://localhost:8888/api/v1/flow/069C8B8CD60D/76808.1683653261.445578'\u001b[0m\n",
      " 09-05 22:57:53 | \u001b[30mD\u001b[0m | \u001b[30m200\u001b[0m\n",
      " 09-05 22:57:53 | \u001b[30mD\u001b[0m | \u001b[30m{'holdingIdentityShortHash': '069C8B8CD60D', 'clientRequestId': '76808.1683653261.445578', 'flowId': '251611e4-83dd-426d-87fa-493c0358abda', 'flowStatus': 'RUNNING', 'flowResult': None, 'flowError': None, 'timestamp': '2023-05-09T17:27:41.891Z'}\u001b[0m\n",
      " 09-05 22:57:57 | \u001b[30mD\u001b[0m | \u001b[30mRequest type=get to url='https://localhost:8888/api/v1/flow/069C8B8CD60D/76808.1683653261.445578'\u001b[0m\n",
      " 09-05 22:57:57 | \u001b[30mD\u001b[0m | \u001b[30m200\u001b[0m\n",
      " 09-05 22:57:57 | \u001b[30mD\u001b[0m | \u001b[30m{'holdingIdentityShortHash': '069C8B8CD60D', 'clientRequestId': '76808.1683653261.445578', 'flowId': '251611e4-83dd-426d-87fa-493c0358abda', 'flowStatus': 'RUNNING', 'flowResult': None, 'flowError': None, 'timestamp': '2023-05-09T17:27:41.891Z'}\u001b[0m\n",
      " 09-05 22:58:01 | \u001b[30mD\u001b[0m | \u001b[30mRequest type=get to url='https://localhost:8888/api/v1/flow/069C8B8CD60D/76808.1683653261.445578'\u001b[0m\n",
      " 09-05 22:58:01 | \u001b[30mD\u001b[0m | \u001b[30m200\u001b[0m\n",
      " 09-05 22:58:01 | \u001b[30mD\u001b[0m | \u001b[30m{'holdingIdentityShortHash': '069C8B8CD60D', 'clientRequestId': '76808.1683653261.445578', 'flowId': '251611e4-83dd-426d-87fa-493c0358abda', 'flowStatus': 'RUNNING', 'flowResult': None, 'flowError': None, 'timestamp': '2023-05-09T17:27:41.891Z'}\u001b[0m\n",
      " 09-05 22:58:05 | \u001b[30mD\u001b[0m | \u001b[30mRequest type=get to url='https://localhost:8888/api/v1/flow/069C8B8CD60D/76808.1683653261.445578'\u001b[0m\n",
      " 09-05 22:58:05 | \u001b[30mD\u001b[0m | \u001b[30m200\u001b[0m\n",
      " 09-05 22:58:05 | \u001b[30mD\u001b[0m | \u001b[30m{'holdingIdentityShortHash': '069C8B8CD60D', 'clientRequestId': '76808.1683653261.445578', 'flowId': '251611e4-83dd-426d-87fa-493c0358abda', 'flowStatus': 'RUNNING', 'flowResult': None, 'flowError': None, 'timestamp': '2023-05-09T17:27:41.891Z'}\u001b[0m\n",
      " 09-05 22:58:09 | \u001b[30mD\u001b[0m | \u001b[30mRequest type=get to url='https://localhost:8888/api/v1/flow/069C8B8CD60D/76808.1683653261.445578'\u001b[0m\n",
      " 09-05 22:58:09 | \u001b[30mD\u001b[0m | \u001b[30m200\u001b[0m\n",
      " 09-05 22:58:09 | \u001b[30mD\u001b[0m | \u001b[30m{'holdingIdentityShortHash': '069C8B8CD60D', 'clientRequestId': '76808.1683653261.445578', 'flowId': '251611e4-83dd-426d-87fa-493c0358abda', 'flowStatus': 'RUNNING', 'flowResult': None, 'flowError': None, 'timestamp': '2023-05-09T17:27:41.891Z'}\u001b[0m\n",
      " 09-05 22:58:13 | \u001b[30mD\u001b[0m | \u001b[30mRequest type=get to url='https://localhost:8888/api/v1/flow/069C8B8CD60D/76808.1683653261.445578'\u001b[0m\n",
      " 09-05 22:58:13 | \u001b[30mD\u001b[0m | \u001b[30m200\u001b[0m\n",
      " 09-05 22:58:13 | \u001b[30mD\u001b[0m | \u001b[30m{'holdingIdentityShortHash': '069C8B8CD60D', 'clientRequestId': '76808.1683653261.445578', 'flowId': '251611e4-83dd-426d-87fa-493c0358abda', 'flowStatus': 'RUNNING', 'flowResult': None, 'flowError': None, 'timestamp': '2023-05-09T17:27:41.891Z'}\u001b[0m\n",
      " 09-05 22:58:17 | \u001b[30mD\u001b[0m | \u001b[30mRequest type=get to url='https://localhost:8888/api/v1/flow/069C8B8CD60D/76808.1683653261.445578'\u001b[0m\n",
      " 09-05 22:58:17 | \u001b[30mD\u001b[0m | \u001b[30m200\u001b[0m\n",
      " 09-05 22:58:17 | \u001b[30mD\u001b[0m | \u001b[30m{'holdingIdentityShortHash': '069C8B8CD60D', 'clientRequestId': '76808.1683653261.445578', 'flowId': '251611e4-83dd-426d-87fa-493c0358abda', 'flowStatus': 'RUNNING', 'flowResult': None, 'flowError': None, 'timestamp': '2023-05-09T17:27:41.891Z'}\u001b[0m\n",
      " 09-05 22:58:22 | \u001b[30mD\u001b[0m | \u001b[30mRequest type=get to url='https://localhost:8888/api/v1/flow/069C8B8CD60D/76808.1683653261.445578'\u001b[0m\n",
      " 09-05 22:58:22 | \u001b[30mD\u001b[0m | \u001b[30m200\u001b[0m\n",
      " 09-05 22:58:22 | \u001b[30mD\u001b[0m | \u001b[30m{'holdingIdentityShortHash': '069C8B8CD60D', 'clientRequestId': '76808.1683653261.445578', 'flowId': '251611e4-83dd-426d-87fa-493c0358abda', 'flowStatus': 'RUNNING', 'flowResult': None, 'flowError': None, 'timestamp': '2023-05-09T17:27:41.891Z'}\u001b[0m\n",
      " 09-05 22:58:26 | \u001b[30mD\u001b[0m | \u001b[30mRequest type=get to url='https://localhost:8888/api/v1/flow/069C8B8CD60D/76808.1683653261.445578'\u001b[0m\n",
      " 09-05 22:58:26 | \u001b[30mD\u001b[0m | \u001b[30m200\u001b[0m\n",
      " 09-05 22:58:26 | \u001b[30mD\u001b[0m | \u001b[30m{'holdingIdentityShortHash': '069C8B8CD60D', 'clientRequestId': '76808.1683653261.445578', 'flowId': '251611e4-83dd-426d-87fa-493c0358abda', 'flowStatus': 'RUNNING', 'flowResult': None, 'flowError': None, 'timestamp': '2023-05-09T17:27:41.891Z'}\u001b[0m\n",
      " 09-05 23:13:56 | \u001b[30mD\u001b[0m | \u001b[30mRequest type=get to url='https://localhost:8888/api/v1/flow/069C8B8CD60D/76808.1683653261.445578'\u001b[0m\n",
      " 09-05 23:13:56 | \u001b[30mD\u001b[0m | \u001b[30m200\u001b[0m\n",
      " 09-05 23:13:56 | \u001b[30mD\u001b[0m | \u001b[30m{'holdingIdentityShortHash': '069C8B8CD60D', 'clientRequestId': '76808.1683653261.445578', 'flowId': '251611e4-83dd-426d-87fa-493c0358abda', 'flowStatus': 'RUNNING', 'flowResult': None, 'flowError': None, 'timestamp': '2023-05-09T17:27:41.891Z'}\u001b[0m\n",
      " 09-05 23:28:00 | \u001b[30mD\u001b[0m | \u001b[30mRequest type=get to url='https://localhost:8888/api/v1/flow/069C8B8CD60D/76808.1683653261.445578'\u001b[0m\n",
      " 09-05 23:28:00 | \u001b[30mD\u001b[0m | \u001b[30m200\u001b[0m\n",
      " 09-05 23:28:00 | \u001b[30mD\u001b[0m | \u001b[30m{'holdingIdentityShortHash': '069C8B8CD60D', 'clientRequestId': '76808.1683653261.445578', 'flowId': '251611e4-83dd-426d-87fa-493c0358abda', 'flowStatus': 'RUNNING', 'flowResult': None, 'flowError': None, 'timestamp': '2023-05-09T17:27:41.891Z'}\u001b[0m\n",
      " 09-05 23:28:04 | \u001b[30mD\u001b[0m | \u001b[30mRequest type=get to url='https://localhost:8888/api/v1/flow/069C8B8CD60D/76808.1683653261.445578'\u001b[0m\n",
      " 09-05 23:28:04 | \u001b[30mD\u001b[0m | \u001b[30m200\u001b[0m\n",
      " 09-05 23:28:04 | \u001b[30mD\u001b[0m | \u001b[30m{'holdingIdentityShortHash': '069C8B8CD60D', 'clientRequestId': '76808.1683653261.445578', 'flowId': '251611e4-83dd-426d-87fa-493c0358abda', 'flowStatus': 'RUNNING', 'flowResult': None, 'flowError': None, 'timestamp': '2023-05-09T17:27:41.891Z'}\u001b[0m\n"
     ]
    },
    {
     "name": "stderr",
     "output_type": "stream",
     "text": [
      " 09-05 23:45:54 | \u001b[30mD\u001b[0m | \u001b[30mRequest type=get to url='https://localhost:8888/api/v1/flow/069C8B8CD60D/76808.1683653261.445578'\u001b[0m\n",
      " 09-05 23:45:54 | \u001b[30mD\u001b[0m | \u001b[30m200\u001b[0m\n",
      " 09-05 23:45:54 | \u001b[30mD\u001b[0m | \u001b[30m{'holdingIdentityShortHash': '069C8B8CD60D', 'clientRequestId': '76808.1683653261.445578', 'flowId': '251611e4-83dd-426d-87fa-493c0358abda', 'flowStatus': 'RUNNING', 'flowResult': None, 'flowError': None, 'timestamp': '2023-05-09T17:27:41.891Z'}\u001b[0m\n",
      " 10-05 00:03:28 | \u001b[30mD\u001b[0m | \u001b[30mRequest type=get to url='https://localhost:8888/api/v1/flow/069C8B8CD60D/76808.1683653261.445578'\u001b[0m\n",
      " 10-05 00:03:28 | \u001b[30mD\u001b[0m | \u001b[30m200\u001b[0m\n",
      " 10-05 00:03:28 | \u001b[30mD\u001b[0m | \u001b[30m{'holdingIdentityShortHash': '069C8B8CD60D', 'clientRequestId': '76808.1683653261.445578', 'flowId': '251611e4-83dd-426d-87fa-493c0358abda', 'flowStatus': 'RUNNING', 'flowResult': None, 'flowError': None, 'timestamp': '2023-05-09T17:27:41.891Z'}\u001b[0m\n",
      " 10-05 00:03:32 | \u001b[30mD\u001b[0m | \u001b[30mRequest type=get to url='https://localhost:8888/api/v1/flow/069C8B8CD60D/76808.1683653261.445578'\u001b[0m\n",
      " 10-05 00:03:32 | \u001b[30mD\u001b[0m | \u001b[30m200\u001b[0m\n",
      " 10-05 00:03:33 | \u001b[30mD\u001b[0m | \u001b[30m{'holdingIdentityShortHash': '069C8B8CD60D', 'clientRequestId': '76808.1683653261.445578', 'flowId': '251611e4-83dd-426d-87fa-493c0358abda', 'flowStatus': 'RUNNING', 'flowResult': None, 'flowError': None, 'timestamp': '2023-05-09T17:27:41.891Z'}\u001b[0m\n",
      " 10-05 00:20:02 | \u001b[30mD\u001b[0m | \u001b[30mRequest type=get to url='https://localhost:8888/api/v1/flow/069C8B8CD60D/76808.1683653261.445578'\u001b[0m\n",
      " 10-05 00:20:02 | \u001b[30mD\u001b[0m | \u001b[30m200\u001b[0m\n",
      " 10-05 00:20:02 | \u001b[30mD\u001b[0m | \u001b[30m{'holdingIdentityShortHash': '069C8B8CD60D', 'clientRequestId': '76808.1683653261.445578', 'flowId': '251611e4-83dd-426d-87fa-493c0358abda', 'flowStatus': 'RUNNING', 'flowResult': None, 'flowError': None, 'timestamp': '2023-05-09T17:27:41.891Z'}\u001b[0m\n",
      " 10-05 00:36:14 | \u001b[30mD\u001b[0m | \u001b[30mRequest type=get to url='https://localhost:8888/api/v1/flow/069C8B8CD60D/76808.1683653261.445578'\u001b[0m\n",
      " 10-05 00:36:14 | \u001b[30mD\u001b[0m | \u001b[30m200\u001b[0m\n",
      " 10-05 00:36:14 | \u001b[30mD\u001b[0m | \u001b[30m{'holdingIdentityShortHash': '069C8B8CD60D', 'clientRequestId': '76808.1683653261.445578', 'flowId': '251611e4-83dd-426d-87fa-493c0358abda', 'flowStatus': 'RUNNING', 'flowResult': None, 'flowError': None, 'timestamp': '2023-05-09T17:27:41.891Z'}\u001b[0m\n",
      " 10-05 00:53:08 | \u001b[30mD\u001b[0m | \u001b[30mRequest type=get to url='https://localhost:8888/api/v1/flow/069C8B8CD60D/76808.1683653261.445578'\u001b[0m\n",
      " 10-05 00:53:08 | \u001b[30mD\u001b[0m | \u001b[30m200\u001b[0m\n",
      " 10-05 00:53:08 | \u001b[30mD\u001b[0m | \u001b[30m{'holdingIdentityShortHash': '069C8B8CD60D', 'clientRequestId': '76808.1683653261.445578', 'flowId': '251611e4-83dd-426d-87fa-493c0358abda', 'flowStatus': 'RUNNING', 'flowResult': None, 'flowError': None, 'timestamp': '2023-05-09T17:27:41.891Z'}\u001b[0m\n",
      " 10-05 00:53:12 | \u001b[30mD\u001b[0m | \u001b[30mRequest type=get to url='https://localhost:8888/api/v1/flow/069C8B8CD60D/76808.1683653261.445578'\u001b[0m\n",
      " 10-05 00:53:12 | \u001b[30mD\u001b[0m | \u001b[30m200\u001b[0m\n",
      " 10-05 00:53:12 | \u001b[30mD\u001b[0m | \u001b[30m{'holdingIdentityShortHash': '069C8B8CD60D', 'clientRequestId': '76808.1683653261.445578', 'flowId': '251611e4-83dd-426d-87fa-493c0358abda', 'flowStatus': 'RUNNING', 'flowResult': None, 'flowError': None, 'timestamp': '2023-05-09T17:27:41.891Z'}\u001b[0m\n",
      " 10-05 01:08:27 | \u001b[30mD\u001b[0m | \u001b[30mRequest type=get to url='https://localhost:8888/api/v1/flow/069C8B8CD60D/76808.1683653261.445578'\u001b[0m\n",
      " 10-05 01:08:27 | \u001b[30mD\u001b[0m | \u001b[30m200\u001b[0m\n",
      " 10-05 01:08:27 | \u001b[30mD\u001b[0m | \u001b[30m{'holdingIdentityShortHash': '069C8B8CD60D', 'clientRequestId': '76808.1683653261.445578', 'flowId': '251611e4-83dd-426d-87fa-493c0358abda', 'flowStatus': 'RUNNING', 'flowResult': None, 'flowError': None, 'timestamp': '2023-05-09T17:27:41.891Z'}\u001b[0m\n",
      " 10-05 01:08:31 | \u001b[30mD\u001b[0m | \u001b[30mRequest type=get to url='https://localhost:8888/api/v1/flow/069C8B8CD60D/76808.1683653261.445578'\u001b[0m\n",
      " 10-05 01:08:31 | \u001b[30mD\u001b[0m | \u001b[30m200\u001b[0m\n",
      " 10-05 01:08:31 | \u001b[30mD\u001b[0m | \u001b[30m{'holdingIdentityShortHash': '069C8B8CD60D', 'clientRequestId': '76808.1683653261.445578', 'flowId': '251611e4-83dd-426d-87fa-493c0358abda', 'flowStatus': 'RUNNING', 'flowResult': None, 'flowError': None, 'timestamp': '2023-05-09T17:27:41.891Z'}\u001b[0m\n",
      " 10-05 01:24:33 | \u001b[30mD\u001b[0m | \u001b[30mRequest type=get to url='https://localhost:8888/api/v1/flow/069C8B8CD60D/76808.1683653261.445578'\u001b[0m\n",
      " 10-05 01:24:33 | \u001b[30mD\u001b[0m | \u001b[30m200\u001b[0m\n",
      " 10-05 01:24:33 | \u001b[30mD\u001b[0m | \u001b[30m{'holdingIdentityShortHash': '069C8B8CD60D', 'clientRequestId': '76808.1683653261.445578', 'flowId': '251611e4-83dd-426d-87fa-493c0358abda', 'flowStatus': 'RUNNING', 'flowResult': None, 'flowError': None, 'timestamp': '2023-05-09T17:27:41.891Z'}\u001b[0m\n",
      " 10-05 01:40:19 | \u001b[30mD\u001b[0m | \u001b[30mRequest type=get to url='https://localhost:8888/api/v1/flow/069C8B8CD60D/76808.1683653261.445578'\u001b[0m\n",
      " 10-05 01:40:19 | \u001b[30mD\u001b[0m | \u001b[30m200\u001b[0m\n",
      " 10-05 01:40:19 | \u001b[30mD\u001b[0m | \u001b[30m{'holdingIdentityShortHash': '069C8B8CD60D', 'clientRequestId': '76808.1683653261.445578', 'flowId': '251611e4-83dd-426d-87fa-493c0358abda', 'flowStatus': 'RUNNING', 'flowResult': None, 'flowError': None, 'timestamp': '2023-05-09T17:27:41.891Z'}\u001b[0m\n",
      " 10-05 01:58:02 | \u001b[30mD\u001b[0m | \u001b[30mRequest type=get to url='https://localhost:8888/api/v1/flow/069C8B8CD60D/76808.1683653261.445578'\u001b[0m\n",
      " 10-05 01:58:02 | \u001b[30mD\u001b[0m | \u001b[30m200\u001b[0m\n",
      " 10-05 01:58:02 | \u001b[30mD\u001b[0m | \u001b[30m{'holdingIdentityShortHash': '069C8B8CD60D', 'clientRequestId': '76808.1683653261.445578', 'flowId': '251611e4-83dd-426d-87fa-493c0358abda', 'flowStatus': 'RUNNING', 'flowResult': None, 'flowError': None, 'timestamp': '2023-05-09T17:27:41.891Z'}\u001b[0m\n",
      " 10-05 01:58:06 | \u001b[30mD\u001b[0m | \u001b[30mRequest type=get to url='https://localhost:8888/api/v1/flow/069C8B8CD60D/76808.1683653261.445578'\u001b[0m\n",
      " 10-05 01:58:06 | \u001b[30mD\u001b[0m | \u001b[30m200\u001b[0m\n",
      " 10-05 01:58:06 | \u001b[30mD\u001b[0m | \u001b[30m{'holdingIdentityShortHash': '069C8B8CD60D', 'clientRequestId': '76808.1683653261.445578', 'flowId': '251611e4-83dd-426d-87fa-493c0358abda', 'flowStatus': 'RUNNING', 'flowResult': None, 'flowError': None, 'timestamp': '2023-05-09T17:27:41.891Z'}\u001b[0m\n",
      " 10-05 02:15:31 | \u001b[30mD\u001b[0m | \u001b[30mRequest type=get to url='https://localhost:8888/api/v1/flow/069C8B8CD60D/76808.1683653261.445578'\u001b[0m\n",
      " 10-05 02:15:31 | \u001b[30mD\u001b[0m | \u001b[30m200\u001b[0m\n",
      " 10-05 02:15:31 | \u001b[30mD\u001b[0m | \u001b[30m{'holdingIdentityShortHash': '069C8B8CD60D', 'clientRequestId': '76808.1683653261.445578', 'flowId': '251611e4-83dd-426d-87fa-493c0358abda', 'flowStatus': 'RUNNING', 'flowResult': None, 'flowError': None, 'timestamp': '2023-05-09T17:27:41.891Z'}\u001b[0m\n",
      " 10-05 02:31:53 | \u001b[30mD\u001b[0m | \u001b[30mRequest type=get to url='https://localhost:8888/api/v1/flow/069C8B8CD60D/76808.1683653261.445578'\u001b[0m\n",
      " 10-05 02:31:53 | \u001b[30mD\u001b[0m | \u001b[30m200\u001b[0m\n",
      " 10-05 02:31:53 | \u001b[30mD\u001b[0m | \u001b[30m{'holdingIdentityShortHash': '069C8B8CD60D', 'clientRequestId': '76808.1683653261.445578', 'flowId': '251611e4-83dd-426d-87fa-493c0358abda', 'flowStatus': 'RUNNING', 'flowResult': None, 'flowError': None, 'timestamp': '2023-05-09T17:27:41.891Z'}\u001b[0m\n",
      " 10-05 02:49:53 | \u001b[30mD\u001b[0m | \u001b[30mRequest type=get to url='https://localhost:8888/api/v1/flow/069C8B8CD60D/76808.1683653261.445578'\u001b[0m\n",
      " 10-05 02:49:53 | \u001b[30mD\u001b[0m | \u001b[30m200\u001b[0m\n",
      " 10-05 02:49:53 | \u001b[30mD\u001b[0m | \u001b[30m{'holdingIdentityShortHash': '069C8B8CD60D', 'clientRequestId': '76808.1683653261.445578', 'flowId': '251611e4-83dd-426d-87fa-493c0358abda', 'flowStatus': 'RUNNING', 'flowResult': None, 'flowError': None, 'timestamp': '2023-05-09T17:27:41.891Z'}\u001b[0m\n",
      " 10-05 02:49:57 | \u001b[30mD\u001b[0m | \u001b[30mRequest type=get to url='https://localhost:8888/api/v1/flow/069C8B8CD60D/76808.1683653261.445578'\u001b[0m\n",
      " 10-05 02:49:57 | \u001b[30mD\u001b[0m | \u001b[30m200\u001b[0m\n",
      " 10-05 02:49:57 | \u001b[30mD\u001b[0m | \u001b[30m{'holdingIdentityShortHash': '069C8B8CD60D', 'clientRequestId': '76808.1683653261.445578', 'flowId': '251611e4-83dd-426d-87fa-493c0358abda', 'flowStatus': 'RUNNING', 'flowResult': None, 'flowError': None, 'timestamp': '2023-05-09T17:27:41.891Z'}\u001b[0m\n",
      " 10-05 03:06:54 | \u001b[30mD\u001b[0m | \u001b[30mRequest type=get to url='https://localhost:8888/api/v1/flow/069C8B8CD60D/76808.1683653261.445578'\u001b[0m\n",
      " 10-05 03:06:54 | \u001b[30mD\u001b[0m | \u001b[30m200\u001b[0m\n",
      " 10-05 03:06:54 | \u001b[30mD\u001b[0m | \u001b[30m{'holdingIdentityShortHash': '069C8B8CD60D', 'clientRequestId': '76808.1683653261.445578', 'flowId': '251611e4-83dd-426d-87fa-493c0358abda', 'flowStatus': 'RUNNING', 'flowResult': None, 'flowError': None, 'timestamp': '2023-05-09T17:27:41.891Z'}\u001b[0m\n"
     ]
    },
    {
     "name": "stderr",
     "output_type": "stream",
     "text": [
      " 10-05 03:24:17 | \u001b[30mD\u001b[0m | \u001b[30mRequest type=get to url='https://localhost:8888/api/v1/flow/069C8B8CD60D/76808.1683653261.445578'\u001b[0m\n",
      " 10-05 03:24:17 | \u001b[30mD\u001b[0m | \u001b[30m200\u001b[0m\n",
      " 10-05 03:24:17 | \u001b[30mD\u001b[0m | \u001b[30m{'holdingIdentityShortHash': '069C8B8CD60D', 'clientRequestId': '76808.1683653261.445578', 'flowId': '251611e4-83dd-426d-87fa-493c0358abda', 'flowStatus': 'RUNNING', 'flowResult': None, 'flowError': None, 'timestamp': '2023-05-09T17:27:41.891Z'}\u001b[0m\n",
      " 10-05 03:42:14 | \u001b[30mD\u001b[0m | \u001b[30mRequest type=get to url='https://localhost:8888/api/v1/flow/069C8B8CD60D/76808.1683653261.445578'\u001b[0m\n",
      " 10-05 03:42:14 | \u001b[30mD\u001b[0m | \u001b[30m200\u001b[0m\n",
      " 10-05 03:42:14 | \u001b[30mD\u001b[0m | \u001b[30m{'holdingIdentityShortHash': '069C8B8CD60D', 'clientRequestId': '76808.1683653261.445578', 'flowId': '251611e4-83dd-426d-87fa-493c0358abda', 'flowStatus': 'RUNNING', 'flowResult': None, 'flowError': None, 'timestamp': '2023-05-09T17:27:41.891Z'}\u001b[0m\n",
      " 10-05 03:42:18 | \u001b[30mD\u001b[0m | \u001b[30mRequest type=get to url='https://localhost:8888/api/v1/flow/069C8B8CD60D/76808.1683653261.445578'\u001b[0m\n",
      " 10-05 03:42:18 | \u001b[30mD\u001b[0m | \u001b[30m200\u001b[0m\n",
      " 10-05 03:42:18 | \u001b[30mD\u001b[0m | \u001b[30m{'holdingIdentityShortHash': '069C8B8CD60D', 'clientRequestId': '76808.1683653261.445578', 'flowId': '251611e4-83dd-426d-87fa-493c0358abda', 'flowStatus': 'RUNNING', 'flowResult': None, 'flowError': None, 'timestamp': '2023-05-09T17:27:41.891Z'}\u001b[0m\n",
      " 10-05 03:59:56 | \u001b[30mD\u001b[0m | \u001b[30mRequest type=get to url='https://localhost:8888/api/v1/flow/069C8B8CD60D/76808.1683653261.445578'\u001b[0m\n",
      " 10-05 03:59:56 | \u001b[30mD\u001b[0m | \u001b[30m200\u001b[0m\n",
      " 10-05 03:59:56 | \u001b[30mD\u001b[0m | \u001b[30m{'holdingIdentityShortHash': '069C8B8CD60D', 'clientRequestId': '76808.1683653261.445578', 'flowId': '251611e4-83dd-426d-87fa-493c0358abda', 'flowStatus': 'RUNNING', 'flowResult': None, 'flowError': None, 'timestamp': '2023-05-09T17:27:41.891Z'}\u001b[0m\n",
      " 10-05 04:16:46 | \u001b[30mD\u001b[0m | \u001b[30mRequest type=get to url='https://localhost:8888/api/v1/flow/069C8B8CD60D/76808.1683653261.445578'\u001b[0m\n",
      " 10-05 04:16:46 | \u001b[30mD\u001b[0m | \u001b[30m200\u001b[0m\n",
      " 10-05 04:16:46 | \u001b[30mD\u001b[0m | \u001b[30m{'holdingIdentityShortHash': '069C8B8CD60D', 'clientRequestId': '76808.1683653261.445578', 'flowId': '251611e4-83dd-426d-87fa-493c0358abda', 'flowStatus': 'RUNNING', 'flowResult': None, 'flowError': None, 'timestamp': '2023-05-09T17:27:41.891Z'}\u001b[0m\n",
      " 10-05 04:32:59 | \u001b[30mD\u001b[0m | \u001b[30mRequest type=get to url='https://localhost:8888/api/v1/flow/069C8B8CD60D/76808.1683653261.445578'\u001b[0m\n",
      " 10-05 04:32:59 | \u001b[30mD\u001b[0m | \u001b[30m200\u001b[0m\n",
      " 10-05 04:32:59 | \u001b[30mD\u001b[0m | \u001b[30m{'holdingIdentityShortHash': '069C8B8CD60D', 'clientRequestId': '76808.1683653261.445578', 'flowId': '251611e4-83dd-426d-87fa-493c0358abda', 'flowStatus': 'RUNNING', 'flowResult': None, 'flowError': None, 'timestamp': '2023-05-09T17:27:41.891Z'}\u001b[0m\n",
      " 10-05 04:33:03 | \u001b[30mD\u001b[0m | \u001b[30mRequest type=get to url='https://localhost:8888/api/v1/flow/069C8B8CD60D/76808.1683653261.445578'\u001b[0m\n",
      " 10-05 04:33:03 | \u001b[30mD\u001b[0m | \u001b[30m200\u001b[0m\n",
      " 10-05 04:33:03 | \u001b[30mD\u001b[0m | \u001b[30m{'holdingIdentityShortHash': '069C8B8CD60D', 'clientRequestId': '76808.1683653261.445578', 'flowId': '251611e4-83dd-426d-87fa-493c0358abda', 'flowStatus': 'RUNNING', 'flowResult': None, 'flowError': None, 'timestamp': '2023-05-09T17:27:41.891Z'}\u001b[0m\n",
      " 10-05 04:50:03 | \u001b[30mD\u001b[0m | \u001b[30mRequest type=get to url='https://localhost:8888/api/v1/flow/069C8B8CD60D/76808.1683653261.445578'\u001b[0m\n",
      " 10-05 04:50:03 | \u001b[30mD\u001b[0m | \u001b[30m200\u001b[0m\n",
      " 10-05 04:50:03 | \u001b[30mD\u001b[0m | \u001b[30m{'holdingIdentityShortHash': '069C8B8CD60D', 'clientRequestId': '76808.1683653261.445578', 'flowId': '251611e4-83dd-426d-87fa-493c0358abda', 'flowStatus': 'COMPLETED', 'flowResult': \"Flow failed, message: Type='PLATFORM_ERROR' Message='Failed to send: 1 of 1 sessions are invalid ['1107bd8e-c58e-4ab7-9e88-dbae20503292'=ERROR]. Please check CorDapp protocol expectations match on both sides regarding 'send' and 'receive' statements and that sessions are not closed unexpectedly on either side. Stack traces around this error originating in CorDapp code may provide a hint.'\", 'flowError': None, 'timestamp': '2023-05-09T23:20:00.128Z'}\u001b[0m\n",
      " 10-05 04:50:03 | \u001b[32mI\u001b[0m | \u001b[32mFlow failed, message: Type='PLATFORM_ERROR' Message='Failed to send: 1 of 1 sessions are invalid ['1107bd8e-c58e-4ab7-9e88-dbae20503292'=ERROR]. Please check CorDapp protocol expectations match on both sides regarding 'send' and 'receive' statements and that sessions are not closed unexpectedly on either side. Stack traces around this error originating in CorDapp code may provide a hint.'\u001b[0m\n"
     ]
    },
    {
     "data": {
      "text/plain": [
       "('76808.1683653261.445578',\n",
       " <Response [200]>,\n",
       " \"Flow failed, message: Type='PLATFORM_ERROR' Message='Failed to send: 1 of 1 sessions are invalid ['1107bd8e-c58e-4ab7-9e88-dbae20503292'=ERROR]. Please check CorDapp protocol expectations match on both sides regarding 'send' and 'receive' statements and that sessions are not closed unexpectedly on either side. Stack traces around this error originating in CorDapp code may provide a hint.'\")"
      ]
     },
     "execution_count": 28,
     "metadata": {},
     "output_type": "execute_result"
    }
   ],
   "source": [
    "# Example 5 -- Travel Points, Redeemable Tokens (Type 3 / Test 3 -- Non transferable, Quantifiable Instrument)\n",
    "h.issue('Authority', 'Alice', 'Star Alliance Travel Points', quantity=10, transferable=False, expiry=None, verifiable=True)"
   ]
  },
  {
   "cell_type": "code",
   "execution_count": 9,
   "id": "88bc9bb3",
   "metadata": {},
   "outputs": [
    {
     "name": "stderr",
     "output_type": "stream",
     "text": [
      " 09-05 11:18:48 | \u001b[32mI\u001b[0m | \u001b[32mIssuing instrument='Amazon Voucher' to 'Alice'\u001b[0m\n",
      " 09-05 11:18:48 | \u001b[32mI\u001b[0m | \u001b[32mRunning action 'Issue' on 'Authority/069C8B8CD60D/CN=Authority, OU=Test Dept, O=R3, L=London, C=GB'\u001b[0m\n",
      " 09-05 11:19:49 | \u001b[32mI\u001b[0m | \u001b[32m239ca025-092e-4b0b-a1e5-1fca6003b657\u001b[0m\n"
     ]
    },
    {
     "data": {
      "text/plain": [
       "('54796.1683611328.611851',\n",
       " <Response [200]>,\n",
       " '239ca025-092e-4b0b-a1e5-1fca6003b657')"
      ]
     },
     "execution_count": 9,
     "metadata": {},
     "output_type": "execute_result"
    }
   ],
   "source": [
    "# Example 6 -- Amazon Vouchers (# Type 3 / Test 3 -- Non transferable, Quantifiable Instrument)\n",
    "h.issue('Authority', 'Alice', 'Amazon Voucher', quantity=2000, transferable=False, expiry=None, verifiable=True, attributes={'currency': 'INR'})"
   ]
  },
  {
   "cell_type": "code",
   "execution_count": 14,
   "id": "2f6ab116",
   "metadata": {},
   "outputs": [
    {
     "name": "stderr",
     "output_type": "stream",
     "text": [
      " 09-05 11:21:37 | \u001b[32mI\u001b[0m | \u001b[32mIssuing instrument='BE Computer Engineering' to 'Charlie'\u001b[0m\n",
      " 09-05 11:21:37 | \u001b[32mI\u001b[0m | \u001b[32mRunning action 'Issue' on 'Authority/069C8B8CD60D/CN=Authority, OU=Test Dept, O=R3, L=London, C=GB'\u001b[0m\n",
      " 09-05 11:22:37 | \u001b[32mI\u001b[0m | \u001b[32m6c764908-fdb0-40f3-af53-18f0159c6897\u001b[0m\n"
     ]
    },
    {
     "data": {
      "text/plain": [
       "('54796.1683611497.236011',\n",
       " <Response [200]>,\n",
       " '6c764908-fdb0-40f3-af53-18f0159c6897')"
      ]
     },
     "execution_count": 14,
     "metadata": {},
     "output_type": "execute_result"
    }
   ],
   "source": [
    "# Example 7 - Graduation certificate (Type 4 / Test 4 -- Non transferable, Non quantifiable Instrument)\n",
    "h.issue('Authority', 'Charlie', 'BE Computer Engineering', quantity=None, transferable=False, expiry=None, verifiable=True,\n",
    "        attributes={\n",
    "            'university': 'University of Mumbai', \n",
    "            'year': '2023',\n",
    "            'score': '450/500',\n",
    "            'major subject': \"['Robotics', 'AI', 'DSP']\"})"
   ]
  },
  {
   "cell_type": "code",
   "execution_count": 16,
   "id": "6099b77e",
   "metadata": {},
   "outputs": [
    {
     "name": "stderr",
     "output_type": "stream",
     "text": [
      " 09-05 11:23:16 | \u001b[32mI\u001b[0m | \u001b[32mIssuing instrument='R3 Hackathon 2023' to 'Bob'\u001b[0m\n",
      " 09-05 11:23:16 | \u001b[32mI\u001b[0m | \u001b[32mRunning action 'Issue' on 'Authority/069C8B8CD60D/CN=Authority, OU=Test Dept, O=R3, L=London, C=GB'\u001b[0m\n",
      " 09-05 11:24:17 | \u001b[32mI\u001b[0m | \u001b[32m2af47ace-c52c-4237-b336-b2694e75494a\u001b[0m\n"
     ]
    },
    {
     "data": {
      "text/plain": [
       "('54796.1683611596.371066',\n",
       " <Response [200]>,\n",
       " '2af47ace-c52c-4237-b336-b2694e75494a')"
      ]
     },
     "execution_count": 16,
     "metadata": {},
     "output_type": "execute_result"
    }
   ],
   "source": [
    "# Example 8 - Experience/Participation certificate (Type 4 / Test 4 -- Non transferable, Non quantifiable Instrument)\n",
    "h.issue('Authority', 'Bob', 'R3 Hackathon 2023', quantity=None, transferable=False, expiry=None, verifiable=True, attributes={'Project': 'Corda 5', 'Year': '2023'})"
   ]
  },
  {
   "cell_type": "code",
   "execution_count": 17,
   "id": "419fbc5d",
   "metadata": {},
   "outputs": [
    {
     "name": "stderr",
     "output_type": "stream",
     "text": [
      " 09-05 16:08:34 | \u001b[30mD\u001b[0m | \u001b[30mRunning query=ListInstrument on 'Authority/069C8B8CD60D/CN=Authority, OU=Test Dept, O=R3, L=London, C=GB'\u001b[0m\n",
      " 09-05 16:08:34 | \u001b[30mD\u001b[0m | \u001b[30mRequest type=post to url='https://localhost:8888/api/v1/flow/069C8B8CD60D'\u001b[0m\n",
      " 09-05 16:08:34 | \u001b[30mD\u001b[0m | \u001b[30mOriginal Request = {'clientRequestId': '__REQUEST_NUMBER__', 'flowClassName': '__PACKAGE__.query.__QUERY__', 'requestBody': {}}\u001b[0m\n",
      " 09-05 16:08:34 | \u001b[30mD\u001b[0m | \u001b[30m{'clientRequestId': '76808.1683628714.729872', 'flowClassName': 'com.r3.developers.configurableInstrument.query.ListInstrument', 'requestBody': {}}\u001b[0m\n",
      " 09-05 16:08:34 | \u001b[30mD\u001b[0m | \u001b[30mAfter filling values = {'clientRequestId': '76808.1683628714.729872', 'flowClassName': 'com.r3.developers.configurableInstrument.query.ListInstrument', 'requestBody': {}}\u001b[0m\n",
      " 09-05 16:08:34 | \u001b[30mD\u001b[0m | \u001b[30m202\u001b[0m\n",
      " 09-05 16:08:34 | \u001b[30mD\u001b[0m | \u001b[30m{'holdingIdentityShortHash': '069C8B8CD60D', 'clientRequestId': '76808.1683628714.729872', 'flowId': None, 'flowStatus': 'START_REQUESTED', 'flowResult': None, 'flowError': None, 'timestamp': '2023-05-09T10:38:34.763Z'}\u001b[0m\n",
      " 09-05 16:08:38 | \u001b[30mD\u001b[0m | \u001b[30mRequest type=get to url='https://localhost:8888/api/v1/flow/069C8B8CD60D/76808.1683628714.729872'\u001b[0m\n",
      " 09-05 16:08:38 | \u001b[30mD\u001b[0m | \u001b[30m200\u001b[0m\n",
      " 09-05 16:08:38 | \u001b[30mD\u001b[0m | \u001b[30m{'holdingIdentityShortHash': '069C8B8CD60D', 'clientRequestId': '76808.1683628714.729872', 'flowId': '9c59e197-1e39-42b6-bef7-04debe84c61b', 'flowStatus': 'COMPLETED', 'flowResult': '[{\"id\":\"9339350b-d16e-4a94-91ac-e363902172a8\",\"name\":\"Government Bond 2024\",\"owner\":\"CN=Alice, OU=Test Dept, O=R3, L=London, C=GB\",\"issuer\":\"CN=Authority, OU=Test Dept, O=R3, L=London, C=GB\",\"quantity\":2,\"transferable\":true,\"expiry\":null,\"verifiable\":true,\"attributes\":{\"payments\":\"[\\'10Jun2023\\', \\'10Sep2023\\', \\'10Dec2023\\', \\'10Mar2024\\']\"}}]', 'flowError': None, 'timestamp': '2023-05-09T10:38:36.340Z'}\u001b[0m\n",
      " 09-05 16:08:38 | \u001b[30mD\u001b[0m | \u001b[30mRequest type=get to url='https://localhost:8888/api/v1/flow/069C8B8CD60D/76808.1683628714.729872'\u001b[0m\n",
      " 09-05 16:08:38 | \u001b[30mD\u001b[0m | \u001b[30m200\u001b[0m\n",
      " 09-05 16:08:38 | \u001b[30mD\u001b[0m | \u001b[30m{'holdingIdentityShortHash': '069C8B8CD60D', 'clientRequestId': '76808.1683628714.729872', 'flowId': '9c59e197-1e39-42b6-bef7-04debe84c61b', 'flowStatus': 'COMPLETED', 'flowResult': '[{\"id\":\"9339350b-d16e-4a94-91ac-e363902172a8\",\"name\":\"Government Bond 2024\",\"owner\":\"CN=Alice, OU=Test Dept, O=R3, L=London, C=GB\",\"issuer\":\"CN=Authority, OU=Test Dept, O=R3, L=London, C=GB\",\"quantity\":2,\"transferable\":true,\"expiry\":null,\"verifiable\":true,\"attributes\":{\"payments\":\"[\\'10Jun2023\\', \\'10Sep2023\\', \\'10Dec2023\\', \\'10Mar2024\\']\"}}]', 'flowError': None, 'timestamp': '2023-05-09T10:38:36.340Z'}\u001b[0m\n",
      " 09-05 16:08:38 | \u001b[32mI\u001b[0m | \u001b[32mResult for query=ListInstrument from 'Authority/069C8B8CD60D/CN=Authority, OU=Test Dept, O=R3, L=London, C=GB'\u001b[0m\n"
     ]
    },
    {
     "data": {
      "text/html": [
       "<div>\n",
       "<style scoped>\n",
       "    .dataframe tbody tr th:only-of-type {\n",
       "        vertical-align: middle;\n",
       "    }\n",
       "\n",
       "    .dataframe tbody tr th {\n",
       "        vertical-align: top;\n",
       "    }\n",
       "\n",
       "    .dataframe thead th {\n",
       "        text-align: right;\n",
       "    }\n",
       "</style>\n",
       "<table border=\"1\" class=\"dataframe\">\n",
       "  <thead>\n",
       "    <tr style=\"text-align: right;\">\n",
       "      <th></th>\n",
       "      <th>id</th>\n",
       "      <th>name</th>\n",
       "      <th>owner</th>\n",
       "      <th>issuer</th>\n",
       "      <th>quantity</th>\n",
       "      <th>transferable</th>\n",
       "      <th>expiry</th>\n",
       "      <th>verifiable</th>\n",
       "      <th>attributes</th>\n",
       "    </tr>\n",
       "  </thead>\n",
       "  <tbody>\n",
       "    <tr>\n",
       "      <th>0</th>\n",
       "      <td>9339350b-d16e-4a94-91ac-e363902172a8</td>\n",
       "      <td>Government Bond 2024</td>\n",
       "      <td>CN=Alice, OU=Test Dept, O=R3, L=London, C=GB</td>\n",
       "      <td>CN=Authority, OU=Test Dept, O=R3, L=London, C=GB</td>\n",
       "      <td>2</td>\n",
       "      <td>True</td>\n",
       "      <td>None</td>\n",
       "      <td>True</td>\n",
       "      <td>{'payments': '['10Jun2023', '10Sep2023', '10Dec2023', '10Mar2024']'}</td>\n",
       "    </tr>\n",
       "  </tbody>\n",
       "</table>\n",
       "</div>"
      ],
      "text/plain": [
       "                                     id                  name  \\\n",
       "0  9339350b-d16e-4a94-91ac-e363902172a8  Government Bond 2024   \n",
       "\n",
       "                                          owner  \\\n",
       "0  CN=Alice, OU=Test Dept, O=R3, L=London, C=GB   \n",
       "\n",
       "                                             issuer  quantity  transferable  \\\n",
       "0  CN=Authority, OU=Test Dept, O=R3, L=London, C=GB         2          True   \n",
       "\n",
       "  expiry  verifiable  \\\n",
       "0   None        True   \n",
       "\n",
       "                                                             attributes  \n",
       "0  {'payments': '['10Jun2023', '10Sep2023', '10Dec2023', '10Mar2024']'}  "
      ]
     },
     "metadata": {},
     "output_type": "display_data"
    },
    {
     "name": "stderr",
     "output_type": "stream",
     "text": [
      " 09-05 16:08:38 | \u001b[30mD\u001b[0m | \u001b[30mRunning query=ListInstrument on 'Bob/83214F5048CD/CN=Bob, OU=Test Dept, O=R3, L=London, C=GB'\u001b[0m\n",
      " 09-05 16:08:38 | \u001b[30mD\u001b[0m | \u001b[30mRequest type=post to url='https://localhost:8888/api/v1/flow/83214F5048CD'\u001b[0m\n",
      " 09-05 16:08:38 | \u001b[30mD\u001b[0m | \u001b[30mOriginal Request = {'clientRequestId': '__REQUEST_NUMBER__', 'flowClassName': '__PACKAGE__.query.__QUERY__', 'requestBody': {}}\u001b[0m\n",
      " 09-05 16:08:38 | \u001b[30mD\u001b[0m | \u001b[30m{'clientRequestId': '76808.1683628718.856797', 'flowClassName': 'com.r3.developers.configurableInstrument.query.ListInstrument', 'requestBody': {}}\u001b[0m\n",
      " 09-05 16:08:38 | \u001b[30mD\u001b[0m | \u001b[30mAfter filling values = {'clientRequestId': '76808.1683628718.856797', 'flowClassName': 'com.r3.developers.configurableInstrument.query.ListInstrument', 'requestBody': {}}\u001b[0m\n",
      " 09-05 16:08:38 | \u001b[30mD\u001b[0m | \u001b[30m202\u001b[0m\n",
      " 09-05 16:08:38 | \u001b[30mD\u001b[0m | \u001b[30m{'holdingIdentityShortHash': '83214F5048CD', 'clientRequestId': '76808.1683628718.856797', 'flowId': None, 'flowStatus': 'START_REQUESTED', 'flowResult': None, 'flowError': None, 'timestamp': '2023-05-09T10:38:38.877Z'}\u001b[0m\n",
      " 09-05 16:08:42 | \u001b[30mD\u001b[0m | \u001b[30mRequest type=get to url='https://localhost:8888/api/v1/flow/83214F5048CD/76808.1683628718.856797'\u001b[0m\n",
      " 09-05 16:08:42 | \u001b[30mD\u001b[0m | \u001b[30m200\u001b[0m\n",
      " 09-05 16:08:42 | \u001b[30mD\u001b[0m | \u001b[30m{'holdingIdentityShortHash': '83214F5048CD', 'clientRequestId': '76808.1683628718.856797', 'flowId': '22c4a65e-fc55-4c4f-b079-691733819694', 'flowStatus': 'COMPLETED', 'flowResult': '[]', 'flowError': None, 'timestamp': '2023-05-09T10:38:41.239Z'}\u001b[0m\n",
      " 09-05 16:08:42 | \u001b[30mD\u001b[0m | \u001b[30mRequest type=get to url='https://localhost:8888/api/v1/flow/83214F5048CD/76808.1683628718.856797'\u001b[0m\n",
      " 09-05 16:08:42 | \u001b[30mD\u001b[0m | \u001b[30m200\u001b[0m\n",
      " 09-05 16:08:43 | \u001b[30mD\u001b[0m | \u001b[30m{'holdingIdentityShortHash': '83214F5048CD', 'clientRequestId': '76808.1683628718.856797', 'flowId': '22c4a65e-fc55-4c4f-b079-691733819694', 'flowStatus': 'COMPLETED', 'flowResult': '[]', 'flowError': None, 'timestamp': '2023-05-09T10:38:41.239Z'}\u001b[0m\n",
      " 09-05 16:08:43 | \u001b[32mI\u001b[0m | \u001b[32mResult for query=ListInstrument from 'Bob/83214F5048CD/CN=Bob, OU=Test Dept, O=R3, L=London, C=GB'\u001b[0m\n"
     ]
    },
    {
     "data": {
      "text/html": [
       "<div>\n",
       "<style scoped>\n",
       "    .dataframe tbody tr th:only-of-type {\n",
       "        vertical-align: middle;\n",
       "    }\n",
       "\n",
       "    .dataframe tbody tr th {\n",
       "        vertical-align: top;\n",
       "    }\n",
       "\n",
       "    .dataframe thead th {\n",
       "        text-align: right;\n",
       "    }\n",
       "</style>\n",
       "<table border=\"1\" class=\"dataframe\">\n",
       "  <thead>\n",
       "    <tr style=\"text-align: right;\">\n",
       "      <th></th>\n",
       "    </tr>\n",
       "  </thead>\n",
       "  <tbody>\n",
       "  </tbody>\n",
       "</table>\n",
       "</div>"
      ],
      "text/plain": [
       "Empty DataFrame\n",
       "Columns: []\n",
       "Index: []"
      ]
     },
     "metadata": {},
     "output_type": "display_data"
    },
    {
     "name": "stderr",
     "output_type": "stream",
     "text": [
      " 09-05 16:08:43 | \u001b[30mD\u001b[0m | \u001b[30mRunning query=ListInstrument on 'Charlie/D728EEE9116F/CN=Charlie, OU=Test Dept, O=R3, L=London, C=GB'\u001b[0m\n",
      " 09-05 16:08:43 | \u001b[30mD\u001b[0m | \u001b[30mRequest type=post to url='https://localhost:8888/api/v1/flow/D728EEE9116F'\u001b[0m\n",
      " 09-05 16:08:43 | \u001b[30mD\u001b[0m | \u001b[30mOriginal Request = {'clientRequestId': '__REQUEST_NUMBER__', 'flowClassName': '__PACKAGE__.query.__QUERY__', 'requestBody': {}}\u001b[0m\n",
      " 09-05 16:08:43 | \u001b[30mD\u001b[0m | \u001b[30m{'clientRequestId': '76808.1683628723.005763', 'flowClassName': 'com.r3.developers.configurableInstrument.query.ListInstrument', 'requestBody': {}}\u001b[0m\n",
      " 09-05 16:08:43 | \u001b[30mD\u001b[0m | \u001b[30mAfter filling values = {'clientRequestId': '76808.1683628723.005763', 'flowClassName': 'com.r3.developers.configurableInstrument.query.ListInstrument', 'requestBody': {}}\u001b[0m\n",
      " 09-05 16:08:43 | \u001b[30mD\u001b[0m | \u001b[30m202\u001b[0m\n",
      " 09-05 16:08:43 | \u001b[30mD\u001b[0m | \u001b[30m{'holdingIdentityShortHash': 'D728EEE9116F', 'clientRequestId': '76808.1683628723.005763', 'flowId': None, 'flowStatus': 'START_REQUESTED', 'flowResult': None, 'flowError': None, 'timestamp': '2023-05-09T10:38:43.027Z'}\u001b[0m\n",
      " 09-05 16:08:47 | \u001b[30mD\u001b[0m | \u001b[30mRequest type=get to url='https://localhost:8888/api/v1/flow/D728EEE9116F/76808.1683628723.005763'\u001b[0m\n",
      " 09-05 16:08:47 | \u001b[30mD\u001b[0m | \u001b[30m200\u001b[0m\n",
      " 09-05 16:08:47 | \u001b[30mD\u001b[0m | \u001b[30m{'holdingIdentityShortHash': 'D728EEE9116F', 'clientRequestId': '76808.1683628723.005763', 'flowId': '9e7d3082-f02c-497a-a9a6-df198c37c2c3', 'flowStatus': 'COMPLETED', 'flowResult': '[]', 'flowError': None, 'timestamp': '2023-05-09T10:38:45.408Z'}\u001b[0m\n",
      " 09-05 16:08:47 | \u001b[30mD\u001b[0m | \u001b[30mRequest type=get to url='https://localhost:8888/api/v1/flow/D728EEE9116F/76808.1683628723.005763'\u001b[0m\n",
      " 09-05 16:08:47 | \u001b[30mD\u001b[0m | \u001b[30m200\u001b[0m\n",
      " 09-05 16:08:47 | \u001b[30mD\u001b[0m | \u001b[30m{'holdingIdentityShortHash': 'D728EEE9116F', 'clientRequestId': '76808.1683628723.005763', 'flowId': '9e7d3082-f02c-497a-a9a6-df198c37c2c3', 'flowStatus': 'COMPLETED', 'flowResult': '[]', 'flowError': None, 'timestamp': '2023-05-09T10:38:45.408Z'}\u001b[0m\n",
      " 09-05 16:08:47 | \u001b[32mI\u001b[0m | \u001b[32mResult for query=ListInstrument from 'Charlie/D728EEE9116F/CN=Charlie, OU=Test Dept, O=R3, L=London, C=GB'\u001b[0m\n"
     ]
    },
    {
     "data": {
      "text/html": [
       "<div>\n",
       "<style scoped>\n",
       "    .dataframe tbody tr th:only-of-type {\n",
       "        vertical-align: middle;\n",
       "    }\n",
       "\n",
       "    .dataframe tbody tr th {\n",
       "        vertical-align: top;\n",
       "    }\n",
       "\n",
       "    .dataframe thead th {\n",
       "        text-align: right;\n",
       "    }\n",
       "</style>\n",
       "<table border=\"1\" class=\"dataframe\">\n",
       "  <thead>\n",
       "    <tr style=\"text-align: right;\">\n",
       "      <th></th>\n",
       "    </tr>\n",
       "  </thead>\n",
       "  <tbody>\n",
       "  </tbody>\n",
       "</table>\n",
       "</div>"
      ],
      "text/plain": [
       "Empty DataFrame\n",
       "Columns: []\n",
       "Index: []"
      ]
     },
     "metadata": {},
     "output_type": "display_data"
    },
    {
     "name": "stderr",
     "output_type": "stream",
     "text": [
      " 09-05 16:08:47 | \u001b[30mD\u001b[0m | \u001b[30mRunning query=ListInstrument on 'Alice/98A345A3E88B/CN=Alice, OU=Test Dept, O=R3, L=London, C=GB'\u001b[0m\n",
      " 09-05 16:08:47 | \u001b[30mD\u001b[0m | \u001b[30mRequest type=post to url='https://localhost:8888/api/v1/flow/98A345A3E88B'\u001b[0m\n",
      " 09-05 16:08:47 | \u001b[30mD\u001b[0m | \u001b[30mOriginal Request = {'clientRequestId': '__REQUEST_NUMBER__', 'flowClassName': '__PACKAGE__.query.__QUERY__', 'requestBody': {}}\u001b[0m\n",
      " 09-05 16:08:47 | \u001b[30mD\u001b[0m | \u001b[30m{'clientRequestId': '76808.1683628727.147019', 'flowClassName': 'com.r3.developers.configurableInstrument.query.ListInstrument', 'requestBody': {}}\u001b[0m\n",
      " 09-05 16:08:47 | \u001b[30mD\u001b[0m | \u001b[30mAfter filling values = {'clientRequestId': '76808.1683628727.147019', 'flowClassName': 'com.r3.developers.configurableInstrument.query.ListInstrument', 'requestBody': {}}\u001b[0m\n",
      " 09-05 16:08:47 | \u001b[30mD\u001b[0m | \u001b[30m202\u001b[0m\n",
      " 09-05 16:08:47 | \u001b[30mD\u001b[0m | \u001b[30m{'holdingIdentityShortHash': '98A345A3E88B', 'clientRequestId': '76808.1683628727.147019', 'flowId': None, 'flowStatus': 'START_REQUESTED', 'flowResult': None, 'flowError': None, 'timestamp': '2023-05-09T10:38:47.171Z'}\u001b[0m\n",
      " 09-05 16:08:51 | \u001b[30mD\u001b[0m | \u001b[30mRequest type=get to url='https://localhost:8888/api/v1/flow/98A345A3E88B/76808.1683628727.147019'\u001b[0m\n",
      " 09-05 16:08:51 | \u001b[30mD\u001b[0m | \u001b[30m200\u001b[0m\n",
      " 09-05 16:08:51 | \u001b[30mD\u001b[0m | \u001b[30m{'holdingIdentityShortHash': '98A345A3E88B', 'clientRequestId': '76808.1683628727.147019', 'flowId': '567cc149-9e54-4085-864d-f26881786749', 'flowStatus': 'COMPLETED', 'flowResult': '[{\"id\":\"9339350b-d16e-4a94-91ac-e363902172a8\",\"name\":\"Government Bond 2024\",\"owner\":\"CN=Alice, OU=Test Dept, O=R3, L=London, C=GB\",\"issuer\":\"CN=Authority, OU=Test Dept, O=R3, L=London, C=GB\",\"quantity\":5,\"transferable\":true,\"expiry\":null,\"verifiable\":true,\"attributes\":{\"payments\":\"[\\'10Jun2023\\', \\'10Sep2023\\', \\'10Dec2023\\', \\'10Mar2024\\']\"}}]', 'flowError': None, 'timestamp': '2023-05-09T10:38:49.514Z'}\u001b[0m\n",
      " 09-05 16:08:51 | \u001b[30mD\u001b[0m | \u001b[30mRequest type=get to url='https://localhost:8888/api/v1/flow/98A345A3E88B/76808.1683628727.147019'\u001b[0m\n",
      " 09-05 16:08:51 | \u001b[30mD\u001b[0m | \u001b[30m200\u001b[0m\n",
      " 09-05 16:08:51 | \u001b[30mD\u001b[0m | \u001b[30m{'holdingIdentityShortHash': '98A345A3E88B', 'clientRequestId': '76808.1683628727.147019', 'flowId': '567cc149-9e54-4085-864d-f26881786749', 'flowStatus': 'COMPLETED', 'flowResult': '[{\"id\":\"9339350b-d16e-4a94-91ac-e363902172a8\",\"name\":\"Government Bond 2024\",\"owner\":\"CN=Alice, OU=Test Dept, O=R3, L=London, C=GB\",\"issuer\":\"CN=Authority, OU=Test Dept, O=R3, L=London, C=GB\",\"quantity\":5,\"transferable\":true,\"expiry\":null,\"verifiable\":true,\"attributes\":{\"payments\":\"[\\'10Jun2023\\', \\'10Sep2023\\', \\'10Dec2023\\', \\'10Mar2024\\']\"}}]', 'flowError': None, 'timestamp': '2023-05-09T10:38:49.514Z'}\u001b[0m\n",
      " 09-05 16:08:51 | \u001b[32mI\u001b[0m | \u001b[32mResult for query=ListInstrument from 'Alice/98A345A3E88B/CN=Alice, OU=Test Dept, O=R3, L=London, C=GB'\u001b[0m\n"
     ]
    },
    {
     "data": {
      "text/html": [
       "<div>\n",
       "<style scoped>\n",
       "    .dataframe tbody tr th:only-of-type {\n",
       "        vertical-align: middle;\n",
       "    }\n",
       "\n",
       "    .dataframe tbody tr th {\n",
       "        vertical-align: top;\n",
       "    }\n",
       "\n",
       "    .dataframe thead th {\n",
       "        text-align: right;\n",
       "    }\n",
       "</style>\n",
       "<table border=\"1\" class=\"dataframe\">\n",
       "  <thead>\n",
       "    <tr style=\"text-align: right;\">\n",
       "      <th></th>\n",
       "      <th>id</th>\n",
       "      <th>name</th>\n",
       "      <th>owner</th>\n",
       "      <th>issuer</th>\n",
       "      <th>quantity</th>\n",
       "      <th>transferable</th>\n",
       "      <th>expiry</th>\n",
       "      <th>verifiable</th>\n",
       "      <th>attributes</th>\n",
       "    </tr>\n",
       "  </thead>\n",
       "  <tbody>\n",
       "    <tr>\n",
       "      <th>0</th>\n",
       "      <td>9339350b-d16e-4a94-91ac-e363902172a8</td>\n",
       "      <td>Government Bond 2024</td>\n",
       "      <td>CN=Alice, OU=Test Dept, O=R3, L=London, C=GB</td>\n",
       "      <td>CN=Authority, OU=Test Dept, O=R3, L=London, C=GB</td>\n",
       "      <td>5</td>\n",
       "      <td>True</td>\n",
       "      <td>None</td>\n",
       "      <td>True</td>\n",
       "      <td>{'payments': '['10Jun2023', '10Sep2023', '10Dec2023', '10Mar2024']'}</td>\n",
       "    </tr>\n",
       "  </tbody>\n",
       "</table>\n",
       "</div>"
      ],
      "text/plain": [
       "                                     id                  name  \\\n",
       "0  9339350b-d16e-4a94-91ac-e363902172a8  Government Bond 2024   \n",
       "\n",
       "                                          owner  \\\n",
       "0  CN=Alice, OU=Test Dept, O=R3, L=London, C=GB   \n",
       "\n",
       "                                             issuer  quantity  transferable  \\\n",
       "0  CN=Authority, OU=Test Dept, O=R3, L=London, C=GB         5          True   \n",
       "\n",
       "  expiry  verifiable  \\\n",
       "0   None        True   \n",
       "\n",
       "                                                             attributes  \n",
       "0  {'payments': '['10Jun2023', '10Sep2023', '10Dec2023', '10Mar2024']'}  "
      ]
     },
     "metadata": {},
     "output_type": "display_data"
    }
   ],
   "source": [
    "h.query_all_nodes() # calling flow = ListInstrument"
   ]
  },
  {
   "cell_type": "code",
   "execution_count": 8,
   "id": "acd2d0fa",
   "metadata": {},
   "outputs": [],
   "source": [
    "df = h.query('Alice', 'ListInstrument')"
   ]
  },
  {
   "cell_type": "code",
   "execution_count": 22,
   "id": "62636a05",
   "metadata": {},
   "outputs": [
    {
     "name": "stderr",
     "output_type": "stream",
     "text": [
      " 09-05 22:53:46 | \u001b[30mD\u001b[0m | \u001b[30mRunning query=ListInstrument on 'Authority/069C8B8CD60D/CN=Authority, OU=Test Dept, O=R3, L=London, C=GB'\u001b[0m\n",
      " 09-05 22:53:46 | \u001b[30mD\u001b[0m | \u001b[30mRequest type=post to url='https://localhost:8888/api/v1/flow/069C8B8CD60D'\u001b[0m\n",
      " 09-05 22:53:46 | \u001b[30mD\u001b[0m | \u001b[30mOriginal Request = {'clientRequestId': '__REQUEST_NUMBER__', 'flowClassName': '__PACKAGE__.query.__QUERY__', 'requestBody': {}}\u001b[0m\n",
      " 09-05 22:53:46 | \u001b[30mD\u001b[0m | \u001b[30m{'clientRequestId': '76808.1683653026.647611', 'flowClassName': 'com.r3.developers.configurableInstrument.query.ListInstrument', 'requestBody': {}}\u001b[0m\n",
      " 09-05 22:53:46 | \u001b[30mD\u001b[0m | \u001b[30mAfter filling values = {'clientRequestId': '76808.1683653026.647611', 'flowClassName': 'com.r3.developers.configurableInstrument.query.ListInstrument', 'requestBody': {}}\u001b[0m\n",
      " 09-05 22:53:46 | \u001b[30mD\u001b[0m | \u001b[30m202\u001b[0m\n",
      " 09-05 22:53:46 | \u001b[30mD\u001b[0m | \u001b[30m{'holdingIdentityShortHash': '069C8B8CD60D', 'clientRequestId': '76808.1683653026.647611', 'flowId': None, 'flowStatus': 'START_REQUESTED', 'flowResult': None, 'flowError': None, 'timestamp': '2023-05-09T17:23:46.679Z'}\u001b[0m\n",
      " 09-05 22:53:50 | \u001b[30mD\u001b[0m | \u001b[30mRequest type=get to url='https://localhost:8888/api/v1/flow/069C8B8CD60D/76808.1683653026.647611'\u001b[0m\n",
      " 09-05 22:53:50 | \u001b[30mD\u001b[0m | \u001b[30m200\u001b[0m\n",
      " 09-05 22:53:50 | \u001b[30mD\u001b[0m | \u001b[30m{'holdingIdentityShortHash': '069C8B8CD60D', 'clientRequestId': '76808.1683653026.647611', 'flowId': '936213a2-c57e-49ab-93f9-429ee1c4feb0', 'flowStatus': 'COMPLETED', 'flowResult': '[{\"id\":\"9339350b-d16e-4a94-91ac-e363902172a8\",\"name\":\"Government Bond 2024\",\"owner\":\"CN=Alice, OU=Test Dept, O=R3, L=London, C=GB\",\"issuer\":\"CN=Authority, OU=Test Dept, O=R3, L=London, C=GB\",\"quantity\":0,\"transferable\":true,\"expiry\":null,\"verifiable\":true,\"attributes\":{\"payments\":\"[\\'10Jun2023\\', \\'10Sep2023\\', \\'10Dec2023\\', \\'10Mar2024\\']\"}}]', 'flowError': None, 'timestamp': '2023-05-09T17:23:48.361Z'}\u001b[0m\n",
      " 09-05 22:53:50 | \u001b[30mD\u001b[0m | \u001b[30mRequest type=get to url='https://localhost:8888/api/v1/flow/069C8B8CD60D/76808.1683653026.647611'\u001b[0m\n",
      " 09-05 22:53:50 | \u001b[30mD\u001b[0m | \u001b[30m200\u001b[0m\n",
      " 09-05 22:53:50 | \u001b[30mD\u001b[0m | \u001b[30m{'holdingIdentityShortHash': '069C8B8CD60D', 'clientRequestId': '76808.1683653026.647611', 'flowId': '936213a2-c57e-49ab-93f9-429ee1c4feb0', 'flowStatus': 'COMPLETED', 'flowResult': '[{\"id\":\"9339350b-d16e-4a94-91ac-e363902172a8\",\"name\":\"Government Bond 2024\",\"owner\":\"CN=Alice, OU=Test Dept, O=R3, L=London, C=GB\",\"issuer\":\"CN=Authority, OU=Test Dept, O=R3, L=London, C=GB\",\"quantity\":0,\"transferable\":true,\"expiry\":null,\"verifiable\":true,\"attributes\":{\"payments\":\"[\\'10Jun2023\\', \\'10Sep2023\\', \\'10Dec2023\\', \\'10Mar2024\\']\"}}]', 'flowError': None, 'timestamp': '2023-05-09T17:23:48.361Z'}\u001b[0m\n"
     ]
    }
   ],
   "source": [
    "df = h.query('Authority')\n",
    "# inst_id='7e7bd79d-d5d6-4c9d-954b-9a47e2dc517d'\n",
    "# tdf = df[df['id'] == inst_id]\n",
    "# tdf.transpose()\n",
    "# tdf.to_dict('records')[0]\n",
    "# del(tdf['id'])"
   ]
  },
  {
   "cell_type": "code",
   "execution_count": 9,
   "id": "2e67c070",
   "metadata": {},
   "outputs": [
    {
     "data": {
      "text/html": [
       "<div>\n",
       "<style scoped>\n",
       "    .dataframe tbody tr th:only-of-type {\n",
       "        vertical-align: middle;\n",
       "    }\n",
       "\n",
       "    .dataframe tbody tr th {\n",
       "        vertical-align: top;\n",
       "    }\n",
       "\n",
       "    .dataframe thead th {\n",
       "        text-align: right;\n",
       "    }\n",
       "</style>\n",
       "<table border=\"1\" class=\"dataframe\">\n",
       "  <thead>\n",
       "    <tr style=\"text-align: right;\">\n",
       "      <th></th>\n",
       "      <th>id</th>\n",
       "      <th>name</th>\n",
       "      <th>owner</th>\n",
       "      <th>issuer</th>\n",
       "      <th>quantity</th>\n",
       "      <th>transferable</th>\n",
       "      <th>expiry</th>\n",
       "      <th>verifiable</th>\n",
       "      <th>attributes</th>\n",
       "    </tr>\n",
       "  </thead>\n",
       "  <tbody>\n",
       "    <tr>\n",
       "      <th>0</th>\n",
       "      <td>c93b9892-7416-4ae2-9ced-681e326e241d</td>\n",
       "      <td>Government Bond 2024</td>\n",
       "      <td>CN=Alice, OU=Test Dept, O=R3, L=London, C=GB</td>\n",
       "      <td>CN=Authority, OU=Test Dept, O=R3, L=London, C=GB</td>\n",
       "      <td>10</td>\n",
       "      <td>True</td>\n",
       "      <td>None</td>\n",
       "      <td>True</td>\n",
       "      <td>{'payments': '['10Jun2023', '10Sep2023', '10Dec2023', '10Mar2024']'}</td>\n",
       "    </tr>\n",
       "    <tr>\n",
       "      <th>1</th>\n",
       "      <td>3d4c026b-7721-4f1d-97e4-5b823c61c568</td>\n",
       "      <td>Government Bond 2024</td>\n",
       "      <td>CN=Alice, OU=Test Dept, O=R3, L=London, C=GB</td>\n",
       "      <td>CN=Authority, OU=Test Dept, O=R3, L=London, C=GB</td>\n",
       "      <td>4</td>\n",
       "      <td>True</td>\n",
       "      <td>None</td>\n",
       "      <td>True</td>\n",
       "      <td>{'payments': '['10Jun2023', '10Sep2023', '10Dec2023', '10Mar2024']'}</td>\n",
       "    </tr>\n",
       "  </tbody>\n",
       "</table>\n",
       "</div>"
      ],
      "text/plain": [
       "                                     id                  name   \n",
       "0  c93b9892-7416-4ae2-9ced-681e326e241d  Government Bond 2024  \\\n",
       "1  3d4c026b-7721-4f1d-97e4-5b823c61c568  Government Bond 2024   \n",
       "\n",
       "                                          owner   \n",
       "0  CN=Alice, OU=Test Dept, O=R3, L=London, C=GB  \\\n",
       "1  CN=Alice, OU=Test Dept, O=R3, L=London, C=GB   \n",
       "\n",
       "                                             issuer  quantity  transferable   \n",
       "0  CN=Authority, OU=Test Dept, O=R3, L=London, C=GB        10          True  \\\n",
       "1  CN=Authority, OU=Test Dept, O=R3, L=London, C=GB         4          True   \n",
       "\n",
       "  expiry  verifiable   \n",
       "0   None        True  \\\n",
       "1   None        True   \n",
       "\n",
       "                                                             attributes  \n",
       "0  {'payments': '['10Jun2023', '10Sep2023', '10Dec2023', '10Mar2024']'}  \n",
       "1  {'payments': '['10Jun2023', '10Sep2023', '10Dec2023', '10Mar2024']'}  "
      ]
     },
     "execution_count": 9,
     "metadata": {},
     "output_type": "execute_result"
    }
   ],
   "source": [
    "df"
   ]
  },
  {
   "cell_type": "code",
   "execution_count": 21,
   "id": "62c2c65c",
   "metadata": {},
   "outputs": [
    {
     "name": "stderr",
     "output_type": "stream",
     "text": [
      " 09-05 22:52:19 | \u001b[32mI\u001b[0m | \u001b[32mRedeeming instrument id '9339350b-d16e-4a94-91ac-e363902172a8' quantity '2'\u001b[0m\n",
      " 09-05 22:52:19 | \u001b[32mI\u001b[0m | \u001b[32mRunning action 'Redeem' on 'Authority/069C8B8CD60D/CN=Authority, OU=Test Dept, O=R3, L=London, C=GB'\u001b[0m\n",
      " 09-05 22:52:19 | \u001b[30mD\u001b[0m | \u001b[30mRequest type=post to url='https://localhost:8888/api/v1/flow/069C8B8CD60D'\u001b[0m\n",
      " 09-05 22:52:19 | \u001b[30mD\u001b[0m | \u001b[30mOriginal Request = {'clientRequestId': '__REQUEST_NUMBER__', 'flowClassName': '__PACKAGE__.workflows.Redeem', 'requestBody': {'id': '__REDEEM_ASSET_ID__', 'quantity': 2}}\u001b[0m\n",
      " 09-05 22:52:19 | \u001b[30mD\u001b[0m | \u001b[30m{'clientRequestId': '76808.1683652939.960599', 'flowClassName': 'com.r3.developers.configurableInstrument.workflows.Redeem', 'requestBody': {'id': '9339350b-d16e-4a94-91ac-e363902172a8', 'quantity': 2}}\u001b[0m\n",
      " 09-05 22:52:19 | \u001b[30mD\u001b[0m | \u001b[30mAfter filling values = {'clientRequestId': '76808.1683652939.960599', 'flowClassName': 'com.r3.developers.configurableInstrument.workflows.Redeem', 'requestBody': {'id': '9339350b-d16e-4a94-91ac-e363902172a8', 'quantity': 2}}\u001b[0m\n",
      " 09-05 22:52:20 | \u001b[30mD\u001b[0m | \u001b[30m202\u001b[0m\n",
      " 09-05 22:52:20 | \u001b[30mD\u001b[0m | \u001b[30m{'holdingIdentityShortHash': '069C8B8CD60D', 'clientRequestId': '76808.1683652939.960599', 'flowId': None, 'flowStatus': 'START_REQUESTED', 'flowResult': None, 'flowError': None, 'timestamp': '2023-05-09T17:22:20.003Z'}\u001b[0m\n",
      " 09-05 22:52:24 | \u001b[30mD\u001b[0m | \u001b[30mRequest type=get to url='https://localhost:8888/api/v1/flow/069C8B8CD60D/76808.1683652939.960599'\u001b[0m\n",
      " 09-05 22:52:24 | \u001b[30mD\u001b[0m | \u001b[30m200\u001b[0m\n",
      " 09-05 22:52:24 | \u001b[30mD\u001b[0m | \u001b[30m{'holdingIdentityShortHash': '069C8B8CD60D', 'clientRequestId': '76808.1683652939.960599', 'flowId': '4261d86e-8cc6-4cfb-842f-5b60e218a308', 'flowStatus': 'RUNNING', 'flowResult': None, 'flowError': None, 'timestamp': '2023-05-09T17:22:20.977Z'}\u001b[0m\n",
      " 09-05 22:52:28 | \u001b[30mD\u001b[0m | \u001b[30mRequest type=get to url='https://localhost:8888/api/v1/flow/069C8B8CD60D/76808.1683652939.960599'\u001b[0m\n",
      " 09-05 22:52:28 | \u001b[30mD\u001b[0m | \u001b[30m200\u001b[0m\n",
      " 09-05 22:52:28 | \u001b[30mD\u001b[0m | \u001b[30m{'holdingIdentityShortHash': '069C8B8CD60D', 'clientRequestId': '76808.1683652939.960599', 'flowId': '4261d86e-8cc6-4cfb-842f-5b60e218a308', 'flowStatus': 'RUNNING', 'flowResult': None, 'flowError': None, 'timestamp': '2023-05-09T17:22:20.977Z'}\u001b[0m\n",
      " 09-05 22:52:32 | \u001b[30mD\u001b[0m | \u001b[30mRequest type=get to url='https://localhost:8888/api/v1/flow/069C8B8CD60D/76808.1683652939.960599'\u001b[0m\n",
      " 09-05 22:52:32 | \u001b[30mD\u001b[0m | \u001b[30m200\u001b[0m\n",
      " 09-05 22:52:32 | \u001b[30mD\u001b[0m | \u001b[30m{'holdingIdentityShortHash': '069C8B8CD60D', 'clientRequestId': '76808.1683652939.960599', 'flowId': '4261d86e-8cc6-4cfb-842f-5b60e218a308', 'flowStatus': 'RUNNING', 'flowResult': None, 'flowError': None, 'timestamp': '2023-05-09T17:22:20.977Z'}\u001b[0m\n",
      " 09-05 22:52:36 | \u001b[30mD\u001b[0m | \u001b[30mRequest type=get to url='https://localhost:8888/api/v1/flow/069C8B8CD60D/76808.1683652939.960599'\u001b[0m\n",
      " 09-05 22:52:36 | \u001b[30mD\u001b[0m | \u001b[30m200\u001b[0m\n",
      " 09-05 22:52:36 | \u001b[30mD\u001b[0m | \u001b[30m{'holdingIdentityShortHash': '069C8B8CD60D', 'clientRequestId': '76808.1683652939.960599', 'flowId': '4261d86e-8cc6-4cfb-842f-5b60e218a308', 'flowStatus': 'RUNNING', 'flowResult': None, 'flowError': None, 'timestamp': '2023-05-09T17:22:20.977Z'}\u001b[0m\n",
      " 09-05 22:52:40 | \u001b[30mD\u001b[0m | \u001b[30mRequest type=get to url='https://localhost:8888/api/v1/flow/069C8B8CD60D/76808.1683652939.960599'\u001b[0m\n",
      " 09-05 22:52:40 | \u001b[30mD\u001b[0m | \u001b[30m200\u001b[0m\n",
      " 09-05 22:52:40 | \u001b[30mD\u001b[0m | \u001b[30m{'holdingIdentityShortHash': '069C8B8CD60D', 'clientRequestId': '76808.1683652939.960599', 'flowId': '4261d86e-8cc6-4cfb-842f-5b60e218a308', 'flowStatus': 'RUNNING', 'flowResult': None, 'flowError': None, 'timestamp': '2023-05-09T17:22:20.977Z'}\u001b[0m\n",
      " 09-05 22:52:44 | \u001b[30mD\u001b[0m | \u001b[30mRequest type=get to url='https://localhost:8888/api/v1/flow/069C8B8CD60D/76808.1683652939.960599'\u001b[0m\n",
      " 09-05 22:52:44 | \u001b[30mD\u001b[0m | \u001b[30m200\u001b[0m\n",
      " 09-05 22:52:44 | \u001b[30mD\u001b[0m | \u001b[30m{'holdingIdentityShortHash': '069C8B8CD60D', 'clientRequestId': '76808.1683652939.960599', 'flowId': '4261d86e-8cc6-4cfb-842f-5b60e218a308', 'flowStatus': 'RUNNING', 'flowResult': None, 'flowError': None, 'timestamp': '2023-05-09T17:22:20.977Z'}\u001b[0m\n",
      " 09-05 22:52:48 | \u001b[30mD\u001b[0m | \u001b[30mRequest type=get to url='https://localhost:8888/api/v1/flow/069C8B8CD60D/76808.1683652939.960599'\u001b[0m\n",
      " 09-05 22:52:48 | \u001b[30mD\u001b[0m | \u001b[30m200\u001b[0m\n",
      " 09-05 22:52:48 | \u001b[30mD\u001b[0m | \u001b[30m{'holdingIdentityShortHash': '069C8B8CD60D', 'clientRequestId': '76808.1683652939.960599', 'flowId': '4261d86e-8cc6-4cfb-842f-5b60e218a308', 'flowStatus': 'RUNNING', 'flowResult': None, 'flowError': None, 'timestamp': '2023-05-09T17:22:20.977Z'}\u001b[0m\n",
      " 09-05 22:52:52 | \u001b[30mD\u001b[0m | \u001b[30mRequest type=get to url='https://localhost:8888/api/v1/flow/069C8B8CD60D/76808.1683652939.960599'\u001b[0m\n",
      " 09-05 22:52:52 | \u001b[30mD\u001b[0m | \u001b[30m200\u001b[0m\n",
      " 09-05 22:52:52 | \u001b[30mD\u001b[0m | \u001b[30m{'holdingIdentityShortHash': '069C8B8CD60D', 'clientRequestId': '76808.1683652939.960599', 'flowId': '4261d86e-8cc6-4cfb-842f-5b60e218a308', 'flowStatus': 'RUNNING', 'flowResult': None, 'flowError': None, 'timestamp': '2023-05-09T17:22:20.977Z'}\u001b[0m\n",
      " 09-05 22:52:56 | \u001b[30mD\u001b[0m | \u001b[30mRequest type=get to url='https://localhost:8888/api/v1/flow/069C8B8CD60D/76808.1683652939.960599'\u001b[0m\n",
      " 09-05 22:52:56 | \u001b[30mD\u001b[0m | \u001b[30m200\u001b[0m\n",
      " 09-05 22:52:56 | \u001b[30mD\u001b[0m | \u001b[30m{'holdingIdentityShortHash': '069C8B8CD60D', 'clientRequestId': '76808.1683652939.960599', 'flowId': '4261d86e-8cc6-4cfb-842f-5b60e218a308', 'flowStatus': 'RUNNING', 'flowResult': None, 'flowError': None, 'timestamp': '2023-05-09T17:22:20.977Z'}\u001b[0m\n",
      " 09-05 22:53:00 | \u001b[30mD\u001b[0m | \u001b[30mRequest type=get to url='https://localhost:8888/api/v1/flow/069C8B8CD60D/76808.1683652939.960599'\u001b[0m\n",
      " 09-05 22:53:00 | \u001b[30mD\u001b[0m | \u001b[30m200\u001b[0m\n",
      " 09-05 22:53:00 | \u001b[30mD\u001b[0m | \u001b[30m{'holdingIdentityShortHash': '069C8B8CD60D', 'clientRequestId': '76808.1683652939.960599', 'flowId': '4261d86e-8cc6-4cfb-842f-5b60e218a308', 'flowStatus': 'RUNNING', 'flowResult': None, 'flowError': None, 'timestamp': '2023-05-09T17:22:20.977Z'}\u001b[0m\n",
      " 09-05 22:53:04 | \u001b[30mD\u001b[0m | \u001b[30mRequest type=get to url='https://localhost:8888/api/v1/flow/069C8B8CD60D/76808.1683652939.960599'\u001b[0m\n",
      " 09-05 22:53:04 | \u001b[30mD\u001b[0m | \u001b[30m200\u001b[0m\n",
      " 09-05 22:53:04 | \u001b[30mD\u001b[0m | \u001b[30m{'holdingIdentityShortHash': '069C8B8CD60D', 'clientRequestId': '76808.1683652939.960599', 'flowId': '4261d86e-8cc6-4cfb-842f-5b60e218a308', 'flowStatus': 'RUNNING', 'flowResult': None, 'flowError': None, 'timestamp': '2023-05-09T17:22:20.977Z'}\u001b[0m\n",
      " 09-05 22:53:08 | \u001b[30mD\u001b[0m | \u001b[30mRequest type=get to url='https://localhost:8888/api/v1/flow/069C8B8CD60D/76808.1683652939.960599'\u001b[0m\n",
      " 09-05 22:53:08 | \u001b[30mD\u001b[0m | \u001b[30m200\u001b[0m\n",
      " 09-05 22:53:08 | \u001b[30mD\u001b[0m | \u001b[30m{'holdingIdentityShortHash': '069C8B8CD60D', 'clientRequestId': '76808.1683652939.960599', 'flowId': '4261d86e-8cc6-4cfb-842f-5b60e218a308', 'flowStatus': 'RUNNING', 'flowResult': None, 'flowError': None, 'timestamp': '2023-05-09T17:22:20.977Z'}\u001b[0m\n",
      " 09-05 22:53:12 | \u001b[30mD\u001b[0m | \u001b[30mRequest type=get to url='https://localhost:8888/api/v1/flow/069C8B8CD60D/76808.1683652939.960599'\u001b[0m\n",
      " 09-05 22:53:12 | \u001b[30mD\u001b[0m | \u001b[30m200\u001b[0m\n",
      " 09-05 22:53:12 | \u001b[30mD\u001b[0m | \u001b[30m{'holdingIdentityShortHash': '069C8B8CD60D', 'clientRequestId': '76808.1683652939.960599', 'flowId': '4261d86e-8cc6-4cfb-842f-5b60e218a308', 'flowStatus': 'COMPLETED', 'flowResult': 'UtxoSignedTransactionImpl(id=SHA-256D:5A97A6A78890E68C79B2EF0DA3B063B9C48A5DE039CC748E27DCB5DB5F6306A7, signatures=[DigitalSignatureAndMetadata[signature=[304502202A2AC7A2A8C5CC8EBD17C31B3C9D9A085125CF305944C695B4C5146C0CD7D4690221009CF759387E0F3F59099F5B71DE3E15473B35CA3837522FFE1928D042792E17F4], metadata=DigitalSignatureMetadata[timestamp=2023-05-09T17:22:27.505471Z, signatureSpec=SHA256withECDSA, properties={platformVersion=5000, cpiName=CPI name, cpiVersion=CPI version, cpiSignerSummaryHash=46616B652D76616C7565}], proof=null], DigitalSignatureAndMetadata[signature=[3045022100B53F29E782CB834CA9D9E35EB35E568BA60E3DE909805C7F8885CD68C9337FE70220493E393C4ADC4A3F6E6830555901B4CC04711A180D4DB89247C51C359614B687], metadata=DigitalSignatureMetadata[timestamp=2023-05-09T17:22:56.059090Z, signatureSpec=SHA256withECDSA, properties={platformVersion=5000, cpiName=CPI name, cpiVersion=CPI version, cpiSignerSummaryHash=46616B652D76616C7565, batchMerkleTreeDigestProviderName=TweakableHashDigestProvider, batchMerkleTreeDigestAlgorithmName=SHA-256D, batchMerkleTreeDigestOptionsLeafPrefixB64=YmF0Y2hMZWFm, batchMerkleTreeDigestOptionsNodePrefixB64=YmF0Y2hOb2Rl}], proof=net.corda.crypto.merkle.impl.MerkleProofImpl@535f4866]], wireTransaction=WireTransaction(id=SHA-256D:5A97A6A78890E68C79B2EF0DA3B063B9C48A5DE039CC748E27DCB5DB5F6306A7, privacySalt=[00449DCB5FA857C9F01E46CB74E19CE2688409EDB45FC2DA0E0DC82920B95ED4], metadata=net.corda.ledger.common.data.transaction.TransactionMetadataImpl@65c41269, componentGroupLists=[[(size=1278, sum=108978)], [(size=1210, sum=62812), (size=868, sum=55221)], [(size=295, sum=11163), (size=295, sum=11163)], [(size=2082, sum=123221)], [(size=556, sum=34280)], [], [(size=774, sum=41246)], [], [(size=3358, sum=197055)], [(size=790, sum=52841)]]))', 'flowError': None, 'timestamp': '2023-05-09T17:23:09.909Z'}\u001b[0m\n"
     ]
    },
    {
     "name": "stderr",
     "output_type": "stream",
     "text": [
      " 09-05 22:53:12 | \u001b[32mI\u001b[0m | \u001b[32mUtxoSignedTransactionImpl(id=SHA-256D:5A97A6A78890E68C79B2EF0DA3B063B9C48A5DE039CC748E27DCB5DB5F6306A7, signatures=[DigitalSignatureAndMetadata[signature=[304502202A2AC7A2A8C5CC8EBD17C31B3C9D9A085125CF305944C695B4C5146C0CD7D4690221009CF759387E0F3F59099F5B71DE3E15473B35CA3837522FFE1928D042792E17F4], metadata=DigitalSignatureMetadata[timestamp=2023-05-09T17:22:27.505471Z, signatureSpec=SHA256withECDSA, properties={platformVersion=5000, cpiName=CPI name, cpiVersion=CPI version, cpiSignerSummaryHash=46616B652D76616C7565}], proof=null], DigitalSignatureAndMetadata[signature=[3045022100B53F29E782CB834CA9D9E35EB35E568BA60E3DE909805C7F8885CD68C9337FE70220493E393C4ADC4A3F6E6830555901B4CC04711A180D4DB89247C51C359614B687], metadata=DigitalSignatureMetadata[timestamp=2023-05-09T17:22:56.059090Z, signatureSpec=SHA256withECDSA, properties={platformVersion=5000, cpiName=CPI name, cpiVersion=CPI version, cpiSignerSummaryHash=46616B652D76616C7565, batchMerkleTreeDigestProviderName=TweakableHashDigestProvider, batchMerkleTreeDigestAlgorithmName=SHA-256D, batchMerkleTreeDigestOptionsLeafPrefixB64=YmF0Y2hMZWFm, batchMerkleTreeDigestOptionsNodePrefixB64=YmF0Y2hOb2Rl}], proof=net.corda.crypto.merkle.impl.MerkleProofImpl@535f4866]], wireTransaction=WireTransaction(id=SHA-256D:5A97A6A78890E68C79B2EF0DA3B063B9C48A5DE039CC748E27DCB5DB5F6306A7, privacySalt=[00449DCB5FA857C9F01E46CB74E19CE2688409EDB45FC2DA0E0DC82920B95ED4], metadata=net.corda.ledger.common.data.transaction.TransactionMetadataImpl@65c41269, componentGroupLists=[[(size=1278, sum=108978)], [(size=1210, sum=62812), (size=868, sum=55221)], [(size=295, sum=11163), (size=295, sum=11163)], [(size=2082, sum=123221)], [(size=556, sum=34280)], [], [(size=774, sum=41246)], [], [(size=3358, sum=197055)], [(size=790, sum=52841)]]))\u001b[0m\n"
     ]
    },
    {
     "data": {
      "text/plain": [
       "('76808.1683652939.960599',\n",
       " <Response [200]>,\n",
       " 'UtxoSignedTransactionImpl(id=SHA-256D:5A97A6A78890E68C79B2EF0DA3B063B9C48A5DE039CC748E27DCB5DB5F6306A7, signatures=[DigitalSignatureAndMetadata[signature=[304502202A2AC7A2A8C5CC8EBD17C31B3C9D9A085125CF305944C695B4C5146C0CD7D4690221009CF759387E0F3F59099F5B71DE3E15473B35CA3837522FFE1928D042792E17F4], metadata=DigitalSignatureMetadata[timestamp=2023-05-09T17:22:27.505471Z, signatureSpec=SHA256withECDSA, properties={platformVersion=5000, cpiName=CPI name, cpiVersion=CPI version, cpiSignerSummaryHash=46616B652D76616C7565}], proof=null], DigitalSignatureAndMetadata[signature=[3045022100B53F29E782CB834CA9D9E35EB35E568BA60E3DE909805C7F8885CD68C9337FE70220493E393C4ADC4A3F6E6830555901B4CC04711A180D4DB89247C51C359614B687], metadata=DigitalSignatureMetadata[timestamp=2023-05-09T17:22:56.059090Z, signatureSpec=SHA256withECDSA, properties={platformVersion=5000, cpiName=CPI name, cpiVersion=CPI version, cpiSignerSummaryHash=46616B652D76616C7565, batchMerkleTreeDigestProviderName=TweakableHashDigestProvider, batchMerkleTreeDigestAlgorithmName=SHA-256D, batchMerkleTreeDigestOptionsLeafPrefixB64=YmF0Y2hMZWFm, batchMerkleTreeDigestOptionsNodePrefixB64=YmF0Y2hOb2Rl}], proof=net.corda.crypto.merkle.impl.MerkleProofImpl@535f4866]], wireTransaction=WireTransaction(id=SHA-256D:5A97A6A78890E68C79B2EF0DA3B063B9C48A5DE039CC748E27DCB5DB5F6306A7, privacySalt=[00449DCB5FA857C9F01E46CB74E19CE2688409EDB45FC2DA0E0DC82920B95ED4], metadata=net.corda.ledger.common.data.transaction.TransactionMetadataImpl@65c41269, componentGroupLists=[[(size=1278, sum=108978)], [(size=1210, sum=62812), (size=868, sum=55221)], [(size=295, sum=11163), (size=295, sum=11163)], [(size=2082, sum=123221)], [(size=556, sum=34280)], [], [(size=774, sum=41246)], [], [(size=3358, sum=197055)], [(size=790, sum=52841)]]))')"
      ]
     },
     "execution_count": 21,
     "metadata": {},
     "output_type": "execute_result"
    }
   ],
   "source": [
    "h.redeem('9339350b-d16e-4a94-91ac-e363902172a8', from_node='Authority', quantity=2)"
   ]
  },
  {
   "cell_type": "code",
   "execution_count": 10,
   "id": "584ecb06",
   "metadata": {},
   "outputs": [
    {
     "name": "stderr",
     "output_type": "stream",
     "text": [
      "[WDM] - Downloading: 100%|████████████████████████████████████████████| 8.06M/8.06M [00:00<00:00, 19.4MB/s]\n",
      " 17-05 14:09:25 | \u001b[32mI\u001b[0m | \u001b[32mTime taken = 0:00:09.215990\u001b[0m\n"
     ]
    },
    {
     "data": {
      "text/plain": [
       "True"
      ]
     },
     "execution_count": 10,
     "metadata": {},
     "output_type": "execute_result"
    }
   ],
   "source": [
    "pdf_report = h.print_to_pdf('Alice', '3d4c026b-7721-4f1d-97e4-5b823c61c568', show=False)\n",
    "webbrowser.open(\"file:///{}\".format(pdf_report))"
   ]
  },
  {
   "cell_type": "code",
   "execution_count": 10,
   "id": "3cabaf3f",
   "metadata": {},
   "outputs": [
    {
     "data": {
      "text/plain": [
       "True"
      ]
     },
     "execution_count": 10,
     "metadata": {},
     "output_type": "execute_result"
    }
   ],
   "source": [
    "pdf_report = h.print_to_pdf('Charlie', 'ab2a0ff2-92c4-4b73-af50-5fed62790214', show=False)\n",
    "webbrowser.open(\"file:///{}\".format(pdf_report))"
   ]
  },
  {
   "cell_type": "code",
   "execution_count": 9,
   "id": "d635dca7",
   "metadata": {},
   "outputs": [
    {
     "name": "stderr",
     "output_type": "stream",
     "text": [
      " 09-05 11:57:24 | \u001b[32mI\u001b[0m | \u001b[32mTranfering instrument id '6c764908-fdb0-40f3-af53-18f0159c6897' to 'Bob'\u001b[0m\n",
      " 09-05 11:57:24 | \u001b[32mI\u001b[0m | \u001b[32mRunning action 'Transfer' on 'Charlie/D728EEE9116F/CN=Charlie, OU=Test Dept, O=R3, L=London, C=GB'\u001b[0m\n",
      " 09-05 11:57:33 | \u001b[32mI\u001b[0m | \u001b[32m{'type': 'FLOW_FAILED', 'message': 'net.corda.v5.ledger.utxo.ContractVerificationException: Verification of ledger transaction with ID SHA-256D:A2EBCEADF36EB733619F98987E3400B42E75CA93CE2998CF63FB2779D2A303BE failed: net.corda.v5.ledger.utxo.ContractVerificationException: Ledger transaction contract verification failed for the specified transaction: SHA-256D:A2EBCEADF36EB733619F98987E3400B42E75CA93CE2998CF63FB2779D2A303BE.\\nThe following contract verification requirements were not met:\\ncom.r3.developers.configurableInstrument.contracts.InstrumentContract: Failed requirement: Instrument is not transferable.\\n'}\u001b[0m\n"
     ]
    },
    {
     "data": {
      "text/plain": [
       "('57457.1683613644.99713',\n",
       " <Response [200]>,\n",
       " {'type': 'FLOW_FAILED',\n",
       "  'message': 'net.corda.v5.ledger.utxo.ContractVerificationException: Verification of ledger transaction with ID SHA-256D:A2EBCEADF36EB733619F98987E3400B42E75CA93CE2998CF63FB2779D2A303BE failed: net.corda.v5.ledger.utxo.ContractVerificationException: Ledger transaction contract verification failed for the specified transaction: SHA-256D:A2EBCEADF36EB733619F98987E3400B42E75CA93CE2998CF63FB2779D2A303BE.\\nThe following contract verification requirements were not met:\\ncom.r3.developers.configurableInstrument.contracts.InstrumentContract: Failed requirement: Instrument is not transferable.\\n'})"
      ]
     },
     "execution_count": 9,
     "metadata": {},
     "output_type": "execute_result"
    }
   ],
   "source": [
    "h.transfer('6c764908-fdb0-40f3-af53-18f0159c6897', 'Charlie', 'Bob')"
   ]
  },
  {
   "cell_type": "code",
   "execution_count": 8,
   "id": "dfd922cc",
   "metadata": {},
   "outputs": [
    {
     "data": {
      "text/plain": [
       "{'Authority': {'x500': 'CN=Authority, OU=Test Dept, O=R3, L=London, C=GB',\n",
       "  'hash': '069C8B8CD60D'},\n",
       " 'Bob': {'x500': 'CN=Bob, OU=Test Dept, O=R3, L=London, C=GB',\n",
       "  'hash': '83214F5048CD'},\n",
       " 'Charlie': {'x500': 'CN=Charlie, OU=Test Dept, O=R3, L=London, C=GB',\n",
       "  'hash': 'D728EEE9116F'},\n",
       " 'Alice': {'x500': 'CN=Alice, OU=Test Dept, O=R3, L=London, C=GB',\n",
       "  'hash': '98A345A3E88B'}}"
      ]
     },
     "execution_count": 8,
     "metadata": {},
     "output_type": "execute_result"
    }
   ],
   "source": [
    "h.nodes"
   ]
  },
  {
   "cell_type": "code",
   "execution_count": null,
   "id": "4eefa44d",
   "metadata": {},
   "outputs": [],
   "source": []
  },
  {
   "cell_type": "code",
   "execution_count": 5,
   "id": "4223b141",
   "metadata": {
    "extensions": {
     "jupyter_dashboards": {
      "version": 1,
      "views": {
       "grid_default": {},
       "report_default": {
        "hidden": false
       }
      }
     }
    }
   },
   "outputs": [
    {
     "name": "stderr",
     "output_type": "stream",
     "text": [
      " 26-04 12:57:09 | \u001b[32mI\u001b[0m | \u001b[32mIssuing instrument='Government Bond 2025' to 'Alice'\u001b[0m\n",
      " 26-04 12:57:09 | \u001b[32mI\u001b[0m | \u001b[32mRunning action 'Issue' on 'Dave/272937EA30B2/CN=Dave, OU=Test Dept, O=R3, L=London, C=GB'\u001b[0m\n",
      " 26-04 12:58:54 | \u001b[32mI\u001b[0m | \u001b[32m4df1ef96-eeb0-44bf-935e-48cef48753e6\u001b[0m\n"
     ]
    },
    {
     "data": {
      "text/plain": [
       "('45337.1682494029.1437619',\n",
       " <Response [200]>,\n",
       " '4df1ef96-eeb0-44bf-935e-48cef48753e6')"
      ]
     },
     "execution_count": 5,
     "metadata": {},
     "output_type": "execute_result"
    }
   ],
   "source": [
    "h.issue('Dave', 'Alice', 'Government Bond 2025', quantity=10, transferable=True, expiry=None, verifiable=True, attributes={'payments': \"['10Jun2023', '10Sep2023', '10Dec2023']\"})\n",
    "# ('67461.1681894831.8281841',\n",
    "#  <Response [200]>,\n",
    "#  'fe1818dd-0a03-40dd-b367-e71813aad485')\n",
    "\n",
    "# h.issue('Dave', 'Charlie', 'BE Computers', quantity = None, transferable=False, expiry=None, verifiable=True, attributes={'Year': \"2003\", 'Name': 'Bob Gupta', 'Marks': '451/500'})"
   ]
  },
  {
   "cell_type": "code",
   "execution_count": 6,
   "id": "0e3fb811",
   "metadata": {},
   "outputs": [
    {
     "name": "stdout",
     "output_type": "stream",
     "text": [
      "Help on method transfer in module json_on_jupyter:\n",
      "\n",
      "transfer(inst_id, from_node, to_node, quantity=None) method of json_on_jupyter.JSON_ON_Jupyter instance\n",
      "\n"
     ]
    }
   ],
   "source": []
  },
  {
   "cell_type": "code",
   "execution_count": null,
   "id": "62bfa00e",
   "metadata": {},
   "outputs": [],
   "source": []
  },
  {
   "cell_type": "code",
   "execution_count": null,
   "id": "8df32670",
   "metadata": {},
   "outputs": [],
   "source": []
  },
  {
   "cell_type": "code",
   "execution_count": null,
   "id": "f771e1df",
   "metadata": {},
   "outputs": [],
   "source": []
  },
  {
   "cell_type": "code",
   "execution_count": null,
   "id": "19ad80c0",
   "metadata": {},
   "outputs": [],
   "source": []
  },
  {
   "cell_type": "code",
   "execution_count": null,
   "id": "417ec875",
   "metadata": {},
   "outputs": [],
   "source": []
  },
  {
   "cell_type": "code",
   "execution_count": null,
   "id": "64c91c1c",
   "metadata": {},
   "outputs": [],
   "source": []
  },
  {
   "cell_type": "code",
   "execution_count": 32,
   "id": "e66e76d2",
   "metadata": {},
   "outputs": [],
   "source": []
  },
  {
   "cell_type": "code",
   "execution_count": 26,
   "id": "3cf13c1e",
   "metadata": {},
   "outputs": [
    {
     "data": {
      "text/html": [
       "<div>\n",
       "<style scoped>\n",
       "    .dataframe tbody tr th:only-of-type {\n",
       "        vertical-align: middle;\n",
       "    }\n",
       "\n",
       "    .dataframe tbody tr th {\n",
       "        vertical-align: top;\n",
       "    }\n",
       "\n",
       "    .dataframe thead th {\n",
       "        text-align: right;\n",
       "    }\n",
       "</style>\n",
       "<table border=\"1\" class=\"dataframe\">\n",
       "  <thead>\n",
       "    <tr style=\"text-align: right;\">\n",
       "      <th></th>\n",
       "      <th>id</th>\n",
       "      <th>name</th>\n",
       "      <th>owner</th>\n",
       "      <th>issuer</th>\n",
       "      <th>quantity</th>\n",
       "      <th>transferable</th>\n",
       "      <th>expiry</th>\n",
       "      <th>verifiable</th>\n",
       "      <th>attributes</th>\n",
       "    </tr>\n",
       "  </thead>\n",
       "  <tbody>\n",
       "    <tr>\n",
       "      <th>0</th>\n",
       "      <td>7e7bd79d-d5d6-4c9d-954b-9a47e2dc517d</td>\n",
       "      <td>Government Bond 2025</td>\n",
       "      <td>CN=Charlie, OU=Test Dept, O=R3, L=London, C=GB</td>\n",
       "      <td>CN=Dave, OU=Test Dept, O=R3, L=London, C=GB</td>\n",
       "      <td>3</td>\n",
       "      <td>True</td>\n",
       "      <td>None</td>\n",
       "      <td>True</td>\n",
       "      <td>{'payments': '['10Jun2023', '10Sep2023', '10Dec2023']'}</td>\n",
       "    </tr>\n",
       "  </tbody>\n",
       "</table>\n",
       "</div>"
      ],
      "text/plain": [
       "                                     id                  name  \\\n",
       "0  7e7bd79d-d5d6-4c9d-954b-9a47e2dc517d  Government Bond 2025   \n",
       "\n",
       "                                            owner  \\\n",
       "0  CN=Charlie, OU=Test Dept, O=R3, L=London, C=GB   \n",
       "\n",
       "                                        issuer  quantity  transferable expiry  \\\n",
       "0  CN=Dave, OU=Test Dept, O=R3, L=London, C=GB         3          True   None   \n",
       "\n",
       "   verifiable                                               attributes  \n",
       "0        True  {'payments': '['10Jun2023', '10Sep2023', '10Dec2023']'}  "
      ]
     },
     "execution_count": 26,
     "metadata": {},
     "output_type": "execute_result"
    }
   ],
   "source": []
  },
  {
   "cell_type": "code",
   "execution_count": 19,
   "id": "03e8ba91",
   "metadata": {
    "scrolled": false
   },
   "outputs": [
    {
     "data": {
      "text/plain": [
       "128"
      ]
     },
     "execution_count": 19,
     "metadata": {},
     "output_type": "execute_result"
    }
   ],
   "source": []
  },
  {
   "cell_type": "code",
   "execution_count": 6,
   "id": "55ae01dc",
   "metadata": {
    "collapsed": true,
    "extensions": {
     "jupyter_dashboards": {
      "version": 1,
      "views": {
       "grid_default": {},
       "report_default": {
        "hidden": false
       }
      }
     }
    }
   },
   "outputs": [
    {
     "name": "stderr",
     "output_type": "stream",
     "text": [
      " 25-04 11:47:50 | \u001b[32mI\u001b[0m | \u001b[32mTranfering instrument id 'ab2a0ff2-92c4-4b73-af50-5fed62790214' to 'Charlie'\u001b[0m\n",
      " 25-04 11:47:50 | \u001b[32mI\u001b[0m | \u001b[32mRunning action 'Transfer' on 'Alice/45C63C50EA0B/CN=Alice, OU=Test Dept, O=R3, L=London, C=GB'\u001b[0m\n",
      " 25-04 11:49:28 | \u001b[32mI\u001b[0m | \u001b[32mUtxoSignedTransactionImpl(id=SHA-256D:017301B55A8F5B3FC454189BF45BCCC4F3744A23E61E16D80B6A62F83DEFB270, signatures=[DigitalSignatureAndMetadata[signature=[304402203FA9A03DB18B95EB183B7DDDB12C5A6EAF25603DB09149079869A7E1494F939102201C76857B6B47BE6C0D0F874AB66FF1BA327957129E37F6CA693C9AF5E176C711], metadata=DigitalSignatureMetadata[timestamp=2023-04-25T06:17:56.621447Z, signatureSpec=SHA256withECDSA, properties={platformVersion=5000, cpiName=CPI name, cpiVersion=CPI version, cpiSignerSummaryHash=46616B652D76616C7565}], proof=null], DigitalSignatureAndMetadata[signature=[304502204310C67DFAB3B1FEB2FE489A460AD24E5D5ADB4CBC6DFA033203FD9CDEEBFE00022100D8924D51BF688CF2D7F945D4735A650A3285FB9A5039545FBD80AC95C838325B], metadata=DigitalSignatureMetadata[timestamp=2023-04-25T06:18:51.973001Z, signatureSpec=SHA256withECDSA, properties={platformVersion=5000, cpiName=CPI name, cpiVersion=CPI version, cpiSignerSummaryHash=46616B652D76616C7565}], proof=null], DigitalSignatureAndMetadata[signature=[3046022100B9D372C348B3D5388959DF90552B29B4E55B49EACFBE776055AEECE6C87E7BEC022100B3E551CC1870A1B7F43E01EB1BF663140ADB3A2DEC7A12374F1CC2B5005A06D7], metadata=DigitalSignatureMetadata[timestamp=2023-04-25T06:19:06.702039Z, signatureSpec=SHA256withECDSA, properties={platformVersion=5000, cpiName=CPI name, cpiVersion=CPI version, cpiSignerSummaryHash=46616B652D76616C7565, batchMerkleTreeDigestProviderName=TweakableHashDigestProvider, batchMerkleTreeDigestAlgorithmName=SHA-256D, batchMerkleTreeDigestOptionsLeafPrefixB64=YmF0Y2hMZWFm, batchMerkleTreeDigestOptionsNodePrefixB64=YmF0Y2hOb2Rl}], proof=net.corda.crypto.merkle.impl.MerkleProofImpl@349c9e78]], wireTransaction=WireTransaction(id=SHA-256D:017301B55A8F5B3FC454189BF45BCCC4F3744A23E61E16D80B6A62F83DEFB270, privacySalt=[CDD748372F9DDB4D07512BD41BDD0227FCE60350625173898595433E48BF6DBE], metadata=net.corda.ledger.common.data.transaction.TransactionMetadataImpl@5ce3ab78, componentGroupLists=[[(size=1278, sum=109133)], [(size=1210, sum=62100), (size=868, sum=55065)], [(size=295, sum=10379), (size=295, sum=10684)], [(size=2082, sum=122509), (size=2082, sum=122509)], [(size=556, sum=34280)], [], [(size=774, sum=39657)], [], [(size=3340, sum=194643), (size=3342, sum=194946)], [(size=794, sum=52838)]]))\u001b[0m\n"
     ]
    },
    {
     "data": {
      "text/plain": [
       "('31099.1682403470.883976',\n",
       " <Response [200]>,\n",
       " 'UtxoSignedTransactionImpl(id=SHA-256D:017301B55A8F5B3FC454189BF45BCCC4F3744A23E61E16D80B6A62F83DEFB270, signatures=[DigitalSignatureAndMetadata[signature=[304402203FA9A03DB18B95EB183B7DDDB12C5A6EAF25603DB09149079869A7E1494F939102201C76857B6B47BE6C0D0F874AB66FF1BA327957129E37F6CA693C9AF5E176C711], metadata=DigitalSignatureMetadata[timestamp=2023-04-25T06:17:56.621447Z, signatureSpec=SHA256withECDSA, properties={platformVersion=5000, cpiName=CPI name, cpiVersion=CPI version, cpiSignerSummaryHash=46616B652D76616C7565}], proof=null], DigitalSignatureAndMetadata[signature=[304502204310C67DFAB3B1FEB2FE489A460AD24E5D5ADB4CBC6DFA033203FD9CDEEBFE00022100D8924D51BF688CF2D7F945D4735A650A3285FB9A5039545FBD80AC95C838325B], metadata=DigitalSignatureMetadata[timestamp=2023-04-25T06:18:51.973001Z, signatureSpec=SHA256withECDSA, properties={platformVersion=5000, cpiName=CPI name, cpiVersion=CPI version, cpiSignerSummaryHash=46616B652D76616C7565}], proof=null], DigitalSignatureAndMetadata[signature=[3046022100B9D372C348B3D5388959DF90552B29B4E55B49EACFBE776055AEECE6C87E7BEC022100B3E551CC1870A1B7F43E01EB1BF663140ADB3A2DEC7A12374F1CC2B5005A06D7], metadata=DigitalSignatureMetadata[timestamp=2023-04-25T06:19:06.702039Z, signatureSpec=SHA256withECDSA, properties={platformVersion=5000, cpiName=CPI name, cpiVersion=CPI version, cpiSignerSummaryHash=46616B652D76616C7565, batchMerkleTreeDigestProviderName=TweakableHashDigestProvider, batchMerkleTreeDigestAlgorithmName=SHA-256D, batchMerkleTreeDigestOptionsLeafPrefixB64=YmF0Y2hMZWFm, batchMerkleTreeDigestOptionsNodePrefixB64=YmF0Y2hOb2Rl}], proof=net.corda.crypto.merkle.impl.MerkleProofImpl@349c9e78]], wireTransaction=WireTransaction(id=SHA-256D:017301B55A8F5B3FC454189BF45BCCC4F3744A23E61E16D80B6A62F83DEFB270, privacySalt=[CDD748372F9DDB4D07512BD41BDD0227FCE60350625173898595433E48BF6DBE], metadata=net.corda.ledger.common.data.transaction.TransactionMetadataImpl@5ce3ab78, componentGroupLists=[[(size=1278, sum=109133)], [(size=1210, sum=62100), (size=868, sum=55065)], [(size=295, sum=10379), (size=295, sum=10684)], [(size=2082, sum=122509), (size=2082, sum=122509)], [(size=556, sum=34280)], [], [(size=774, sum=39657)], [], [(size=3340, sum=194643), (size=3342, sum=194946)], [(size=794, sum=52838)]]))')"
      ]
     },
     "execution_count": 6,
     "metadata": {},
     "output_type": "execute_result"
    }
   ],
   "source": [
    "# h.transfer('fdd47076-7f6a-4ea1-9d1f-c663d9daf97f', 'Alice', 'Bob') # transferable=False\n",
    "# h.transfer('0697bc47-b1f0-43f5-a37f-841fc353925e', 'Alice', 'Bob') # transferable=True\n",
    "h.transfer('ab2a0ff2-92c4-4b73-af50-5fed62790214', 'Alice', 'Charlie', 3)"
   ]
  },
  {
   "cell_type": "code",
   "execution_count": 3,
   "id": "a1b03909",
   "metadata": {
    "collapsed": true,
    "extensions": {
     "jupyter_dashboards": {
      "version": 1,
      "views": {
       "grid_default": {},
       "report_default": {
        "hidden": false
       }
      }
     }
    }
   },
   "outputs": [
    {
     "name": "stderr",
     "output_type": "stream",
     "text": [
      " 17-04 11:18:18 | \u001b[32mI\u001b[0m | \u001b[32m200\u001b[0m\n",
      " 17-04 11:18:18 | \u001b[32mI\u001b[0m | \u001b[32m{'holdingIdentityShortHash': '272937EA30B2', 'clientRequestId': '30020', 'flowId': '5af38dc7-0991-4811-86dc-b2c4239a6bf3', 'flowStatus': 'COMPLETED', 'flowResult': '[{\"id\":\"fdd47076-7f6a-4ea1-9d1f-c663d9daf97f\",\"name\":\"Certificate\",\"owner\":\"Party(name=CN=Alice, OU=Test Dept, O=R3, L=London, C=GB, owningKey=EC Public Key [ab:e4:40:46:6a:26:a1:3d:60:70:1b:1e:68:a0:81:a9:ca:0f:d2:96]\\\\n            X: f141c3b2973dce02e8cfeeb3ada735652ce78b55a348b417481c9c6857c6432c\\\\n            Y: f766dfa43075e5af7c3c89c5aad7af883e9b8e5330a65432240d6d3151daea16\\\\n)\",\"issuer\":\"Party(name=CN=Dave, OU=Test Dept, O=R3, L=London, C=GB, owningKey=EC Public Key [28:43:4d:10:b0:6a:bb:88:8a:38:8d:85:1c:81:93:62:88:be:1b:74]\\\\n            X: 588a1e2d59785a7cf3e37de91f6fbfdcd3af47f5ae62ccf1a84bb4d9365d2a37\\\\n            Y: 5443ac36886a87b17b61df56c2d18d84e15a0fcf3781ff9bea7ccf7890348cab\\\\n)\",\"transferable\":false,\"expiry\":null,\"attributes\":{\"college\":\"Apple Collage\",\"university\":\"Apple\"}},{\"id\":\"abadf72d-a7b1-43e2-a122-5749dffbee58\",\"name\":\"Certificate\",\"owner\":\"Party(name=CN=Alice, OU=Test Dept, O=R3, L=London, C=GB, owningKey=EC Public Key [ab:e4:40:46:6a:26:a1:3d:60:70:1b:1e:68:a0:81:a9:ca:0f:d2:96]\\\\n            X: f141c3b2973dce02e8cfeeb3ada735652ce78b55a348b417481c9c6857c6432c\\\\n            Y: f766dfa43075e5af7c3c89c5aad7af883e9b8e5330a65432240d6d3151daea16\\\\n)\",\"issuer\":\"Party(name=CN=Dave, OU=Test Dept, O=R3, L=London, C=GB, owningKey=EC Public Key [28:43:4d:10:b0:6a:bb:88:8a:38:8d:85:1c:81:93:62:88:be:1b:74]\\\\n            X: 588a1e2d59785a7cf3e37de91f6fbfdcd3af47f5ae62ccf1a84bb4d9365d2a37\\\\n            Y: 5443ac36886a87b17b61df56c2d18d84e15a0fcf3781ff9bea7ccf7890348cab\\\\n)\",\"transferable\":false,\"expiry\":null,\"attributes\":{\"college\":\"Apple Collage\",\"university\":\"Apple\"}}]', 'flowError': None, 'timestamp': '2023-04-15T04:41:10.956Z'}\u001b[0m\n"
     ]
    },
    {
     "data": {
      "text/plain": [
       "(30020, <Response [200]>)"
      ]
     },
     "execution_count": 3,
     "metadata": {},
     "output_type": "execute_result"
    }
   ],
   "source": [
    "h.get(\"Dave\", 30020)"
   ]
  },
  {
   "cell_type": "code",
   "execution_count": 5,
   "id": "850aa5c3",
   "metadata": {
    "collapsed": true,
    "extensions": {
     "jupyter_dashboards": {
      "version": 1,
      "views": {
       "grid_default": {},
       "report_default": {
        "hidden": true
       }
      }
     }
    }
   },
   "outputs": [
    {
     "name": "stderr",
     "output_type": "stream",
     "text": [
      " 17-04 11:03:19 | \u001b[32mI\u001b[0m | \u001b[32mapple\u001b[0m\n"
     ]
    }
   ],
   "source": [
    "h.log.info(\"apple\")"
   ]
  },
  {
   "cell_type": "code",
   "execution_count": 4,
   "id": "d8bd3547",
   "metadata": {
    "collapsed": true,
    "extensions": {
     "jupyter_dashboards": {
      "version": 1,
      "views": {
       "grid_default": {},
       "report_default": {
        "hidden": false
       }
      }
     }
    }
   },
   "outputs": [
    {
     "name": "stderr",
     "output_type": "stream",
     "text": [
      " 17-04 11:18:39 | \u001b[32mI\u001b[0m | \u001b[32m202\u001b[0m\n",
      " 17-04 11:18:39 | \u001b[32mI\u001b[0m | \u001b[32m{'holdingIdentityShortHash': '272937EA30B2', 'clientRequestId': '46048.1681710519.2324579', 'flowId': None, 'flowStatus': 'START_REQUESTED', 'flowResult': None, 'flowError': None, 'timestamp': '2023-04-17T05:48:39.270Z'}\u001b[0m\n",
      " 17-04 11:18:44 | \u001b[32mI\u001b[0m | \u001b[32m200\u001b[0m\n",
      " 17-04 11:18:44 | \u001b[32mI\u001b[0m | \u001b[32m{'holdingIdentityShortHash': '272937EA30B2', 'clientRequestId': '46048.1681710519.2324579', 'flowId': 'cc8c2422-1dc3-44a1-8421-dafc438f165c', 'flowStatus': 'COMPLETED', 'flowResult': '[{\"id\":\"fdd47076-7f6a-4ea1-9d1f-c663d9daf97f\",\"name\":\"Certificate\",\"owner\":\"Party(name=CN=Alice, OU=Test Dept, O=R3, L=London, C=GB, owningKey=EC Public Key [ab:e4:40:46:6a:26:a1:3d:60:70:1b:1e:68:a0:81:a9:ca:0f:d2:96]\\\\n            X: f141c3b2973dce02e8cfeeb3ada735652ce78b55a348b417481c9c6857c6432c\\\\n            Y: f766dfa43075e5af7c3c89c5aad7af883e9b8e5330a65432240d6d3151daea16\\\\n)\",\"issuer\":\"Party(name=CN=Dave, OU=Test Dept, O=R3, L=London, C=GB, owningKey=EC Public Key [28:43:4d:10:b0:6a:bb:88:8a:38:8d:85:1c:81:93:62:88:be:1b:74]\\\\n            X: 588a1e2d59785a7cf3e37de91f6fbfdcd3af47f5ae62ccf1a84bb4d9365d2a37\\\\n            Y: 5443ac36886a87b17b61df56c2d18d84e15a0fcf3781ff9bea7ccf7890348cab\\\\n)\",\"transferable\":false,\"expiry\":null,\"attributes\":{\"college\":\"Apple Collage\",\"university\":\"Apple\"}},{\"id\":\"abadf72d-a7b1-43e2-a122-5749dffbee58\",\"name\":\"Certificate\",\"owner\":\"Party(name=CN=Alice, OU=Test Dept, O=R3, L=London, C=GB, owningKey=EC Public Key [ab:e4:40:46:6a:26:a1:3d:60:70:1b:1e:68:a0:81:a9:ca:0f:d2:96]\\\\n            X: f141c3b2973dce02e8cfeeb3ada735652ce78b55a348b417481c9c6857c6432c\\\\n            Y: f766dfa43075e5af7c3c89c5aad7af883e9b8e5330a65432240d6d3151daea16\\\\n)\",\"issuer\":\"Party(name=CN=Dave, OU=Test Dept, O=R3, L=London, C=GB, owningKey=EC Public Key [28:43:4d:10:b0:6a:bb:88:8a:38:8d:85:1c:81:93:62:88:be:1b:74]\\\\n            X: 588a1e2d59785a7cf3e37de91f6fbfdcd3af47f5ae62ccf1a84bb4d9365d2a37\\\\n            Y: 5443ac36886a87b17b61df56c2d18d84e15a0fcf3781ff9bea7ccf7890348cab\\\\n)\",\"transferable\":false,\"expiry\":null,\"attributes\":{\"college\":\"Apple Collage\",\"university\":\"Apple\"}}]', 'flowError': None, 'timestamp': '2023-04-17T05:48:41.621Z'}\u001b[0m\n",
      " 17-04 11:18:44 | \u001b[32mI\u001b[0m | \u001b[32m200\u001b[0m\n",
      " 17-04 11:18:44 | \u001b[32mI\u001b[0m | \u001b[32m{'holdingIdentityShortHash': '272937EA30B2', 'clientRequestId': '30020', 'flowId': '5af38dc7-0991-4811-86dc-b2c4239a6bf3', 'flowStatus': 'COMPLETED', 'flowResult': '[{\"id\":\"fdd47076-7f6a-4ea1-9d1f-c663d9daf97f\",\"name\":\"Certificate\",\"owner\":\"Party(name=CN=Alice, OU=Test Dept, O=R3, L=London, C=GB, owningKey=EC Public Key [ab:e4:40:46:6a:26:a1:3d:60:70:1b:1e:68:a0:81:a9:ca:0f:d2:96]\\\\n            X: f141c3b2973dce02e8cfeeb3ada735652ce78b55a348b417481c9c6857c6432c\\\\n            Y: f766dfa43075e5af7c3c89c5aad7af883e9b8e5330a65432240d6d3151daea16\\\\n)\",\"issuer\":\"Party(name=CN=Dave, OU=Test Dept, O=R3, L=London, C=GB, owningKey=EC Public Key [28:43:4d:10:b0:6a:bb:88:8a:38:8d:85:1c:81:93:62:88:be:1b:74]\\\\n            X: 588a1e2d59785a7cf3e37de91f6fbfdcd3af47f5ae62ccf1a84bb4d9365d2a37\\\\n            Y: 5443ac36886a87b17b61df56c2d18d84e15a0fcf3781ff9bea7ccf7890348cab\\\\n)\",\"transferable\":false,\"expiry\":null,\"attributes\":{\"college\":\"Apple Collage\",\"university\":\"Apple\"}},{\"id\":\"abadf72d-a7b1-43e2-a122-5749dffbee58\",\"name\":\"Certificate\",\"owner\":\"Party(name=CN=Alice, OU=Test Dept, O=R3, L=London, C=GB, owningKey=EC Public Key [ab:e4:40:46:6a:26:a1:3d:60:70:1b:1e:68:a0:81:a9:ca:0f:d2:96]\\\\n            X: f141c3b2973dce02e8cfeeb3ada735652ce78b55a348b417481c9c6857c6432c\\\\n            Y: f766dfa43075e5af7c3c89c5aad7af883e9b8e5330a65432240d6d3151daea16\\\\n)\",\"issuer\":\"Party(name=CN=Dave, OU=Test Dept, O=R3, L=London, C=GB, owningKey=EC Public Key [28:43:4d:10:b0:6a:bb:88:8a:38:8d:85:1c:81:93:62:88:be:1b:74]\\\\n            X: 588a1e2d59785a7cf3e37de91f6fbfdcd3af47f5ae62ccf1a84bb4d9365d2a37\\\\n            Y: 5443ac36886a87b17b61df56c2d18d84e15a0fcf3781ff9bea7ccf7890348cab\\\\n)\",\"transferable\":false,\"expiry\":null,\"attributes\":{\"college\":\"Apple Collage\",\"university\":\"Apple\"}}]', 'flowError': None, 'timestamp': '2023-04-15T04:41:10.956Z'}\u001b[0m\n"
     ]
    },
    {
     "data": {
      "text/plain": [
       "(30020, <Response [200]>)"
      ]
     },
     "execution_count": 4,
     "metadata": {},
     "output_type": "execute_result"
    }
   ],
   "source": [
    "(req, res, result) = h.post('Dave', queryRequest)\n",
    "h.get(\"Dave\", 30020)"
   ]
  },
  {
   "cell_type": "code",
   "execution_count": 5,
   "id": "2c256bb5",
   "metadata": {
    "collapsed": true,
    "extensions": {
     "jupyter_dashboards": {
      "version": 1,
      "views": {
       "grid_default": {},
       "report_default": {
        "hidden": true
       }
      }
     }
    }
   },
   "outputs": [
    {
     "name": "stderr",
     "output_type": "stream",
     "text": [
      " 17-04 11:19:21 | \u001b[32mI\u001b[0m | \u001b[32m200\u001b[0m\n",
      " 17-04 11:19:21 | \u001b[32mI\u001b[0m | \u001b[32m{'holdingIdentityShortHash': '272937EA30B2', 'clientRequestId': '30020', 'flowId': '5af38dc7-0991-4811-86dc-b2c4239a6bf3', 'flowStatus': 'COMPLETED', 'flowResult': '[{\"id\":\"fdd47076-7f6a-4ea1-9d1f-c663d9daf97f\",\"name\":\"Certificate\",\"owner\":\"Party(name=CN=Alice, OU=Test Dept, O=R3, L=London, C=GB, owningKey=EC Public Key [ab:e4:40:46:6a:26:a1:3d:60:70:1b:1e:68:a0:81:a9:ca:0f:d2:96]\\\\n            X: f141c3b2973dce02e8cfeeb3ada735652ce78b55a348b417481c9c6857c6432c\\\\n            Y: f766dfa43075e5af7c3c89c5aad7af883e9b8e5330a65432240d6d3151daea16\\\\n)\",\"issuer\":\"Party(name=CN=Dave, OU=Test Dept, O=R3, L=London, C=GB, owningKey=EC Public Key [28:43:4d:10:b0:6a:bb:88:8a:38:8d:85:1c:81:93:62:88:be:1b:74]\\\\n            X: 588a1e2d59785a7cf3e37de91f6fbfdcd3af47f5ae62ccf1a84bb4d9365d2a37\\\\n            Y: 5443ac36886a87b17b61df56c2d18d84e15a0fcf3781ff9bea7ccf7890348cab\\\\n)\",\"transferable\":false,\"expiry\":null,\"attributes\":{\"college\":\"Apple Collage\",\"university\":\"Apple\"}},{\"id\":\"abadf72d-a7b1-43e2-a122-5749dffbee58\",\"name\":\"Certificate\",\"owner\":\"Party(name=CN=Alice, OU=Test Dept, O=R3, L=London, C=GB, owningKey=EC Public Key [ab:e4:40:46:6a:26:a1:3d:60:70:1b:1e:68:a0:81:a9:ca:0f:d2:96]\\\\n            X: f141c3b2973dce02e8cfeeb3ada735652ce78b55a348b417481c9c6857c6432c\\\\n            Y: f766dfa43075e5af7c3c89c5aad7af883e9b8e5330a65432240d6d3151daea16\\\\n)\",\"issuer\":\"Party(name=CN=Dave, OU=Test Dept, O=R3, L=London, C=GB, owningKey=EC Public Key [28:43:4d:10:b0:6a:bb:88:8a:38:8d:85:1c:81:93:62:88:be:1b:74]\\\\n            X: 588a1e2d59785a7cf3e37de91f6fbfdcd3af47f5ae62ccf1a84bb4d9365d2a37\\\\n            Y: 5443ac36886a87b17b61df56c2d18d84e15a0fcf3781ff9bea7ccf7890348cab\\\\n)\",\"transferable\":false,\"expiry\":null,\"attributes\":{\"college\":\"Apple Collage\",\"university\":\"Apple\"}}]', 'flowError': None, 'timestamp': '2023-04-15T04:41:10.956Z'}\u001b[0m\n"
     ]
    }
   ],
   "source": [
    "(req, res) = h.get(\"Dave\", 30020)"
   ]
  },
  {
   "cell_type": "code",
   "execution_count": 14,
   "id": "ec87af21",
   "metadata": {
    "collapsed": true,
    "extensions": {
     "jupyter_dashboards": {
      "version": 1,
      "views": {
       "grid_default": {},
       "report_default": {
        "hidden": false
       }
      }
     }
    }
   },
   "outputs": [
    {
     "data": {
      "text/html": [
       "<div>\n",
       "<style scoped>\n",
       "    .dataframe tbody tr th:only-of-type {\n",
       "        vertical-align: middle;\n",
       "    }\n",
       "\n",
       "    .dataframe tbody tr th {\n",
       "        vertical-align: top;\n",
       "    }\n",
       "\n",
       "    .dataframe thead th {\n",
       "        text-align: right;\n",
       "    }\n",
       "</style>\n",
       "<table border=\"1\" class=\"dataframe\">\n",
       "  <thead>\n",
       "    <tr style=\"text-align: right;\">\n",
       "      <th></th>\n",
       "      <th>id</th>\n",
       "      <th>name</th>\n",
       "      <th>owner</th>\n",
       "      <th>issuer</th>\n",
       "      <th>transferable</th>\n",
       "      <th>expiry</th>\n",
       "      <th>attributes</th>\n",
       "    </tr>\n",
       "  </thead>\n",
       "  <tbody>\n",
       "    <tr>\n",
       "      <th>0</th>\n",
       "      <td>fdd47076-7f6a-4ea1-9d1f-c663d9daf97f</td>\n",
       "      <td>Certificate</td>\n",
       "      <td>Party(name=CN=Alice, OU=Test Dept, O=R3, L=London, C=GB, owningKey=EC Public Key [ab:e4:40:46:6a:26:a1:3d:60:70:1b:1e:68:a0:81:a9:ca:0f:d2:96]\\n            X: f141c3b2973dce02e8cfeeb3ada735652ce78b55a348b417481c9c6857c6432c\\n            Y: f766dfa43075e5af7c3c89c5aad7af883e9b8e5330a65432240d6d3151daea16\\n)</td>\n",
       "      <td>Party(name=CN=Dave, OU=Test Dept, O=R3, L=London, C=GB, owningKey=EC Public Key [28:43:4d:10:b0:6a:bb:88:8a:38:8d:85:1c:81:93:62:88:be:1b:74]\\n            X: 588a1e2d59785a7cf3e37de91f6fbfdcd3af47f5ae62ccf1a84bb4d9365d2a37\\n            Y: 5443ac36886a87b17b61df56c2d18d84e15a0fcf3781ff9bea7ccf7890348cab\\n)</td>\n",
       "      <td>False</td>\n",
       "      <td>None</td>\n",
       "      <td>{'college': 'Apple Collage', 'university': 'Apple'}</td>\n",
       "    </tr>\n",
       "    <tr>\n",
       "      <th>1</th>\n",
       "      <td>abadf72d-a7b1-43e2-a122-5749dffbee58</td>\n",
       "      <td>Certificate</td>\n",
       "      <td>Party(name=CN=Alice, OU=Test Dept, O=R3, L=London, C=GB, owningKey=EC Public Key [ab:e4:40:46:6a:26:a1:3d:60:70:1b:1e:68:a0:81:a9:ca:0f:d2:96]\\n            X: f141c3b2973dce02e8cfeeb3ada735652ce78b55a348b417481c9c6857c6432c\\n            Y: f766dfa43075e5af7c3c89c5aad7af883e9b8e5330a65432240d6d3151daea16\\n)</td>\n",
       "      <td>Party(name=CN=Dave, OU=Test Dept, O=R3, L=London, C=GB, owningKey=EC Public Key [28:43:4d:10:b0:6a:bb:88:8a:38:8d:85:1c:81:93:62:88:be:1b:74]\\n            X: 588a1e2d59785a7cf3e37de91f6fbfdcd3af47f5ae62ccf1a84bb4d9365d2a37\\n            Y: 5443ac36886a87b17b61df56c2d18d84e15a0fcf3781ff9bea7ccf7890348cab\\n)</td>\n",
       "      <td>False</td>\n",
       "      <td>None</td>\n",
       "      <td>{'college': 'Apple Collage', 'university': 'Apple'}</td>\n",
       "    </tr>\n",
       "  </tbody>\n",
       "</table>\n",
       "</div>"
      ],
      "text/plain": [
       "                                     id         name  \\\n",
       "0  fdd47076-7f6a-4ea1-9d1f-c663d9daf97f  Certificate   \n",
       "1  abadf72d-a7b1-43e2-a122-5749dffbee58  Certificate   \n",
       "\n",
       "                                                                                                                                                                                                                                                                                                                 owner  \\\n",
       "0  Party(name=CN=Alice, OU=Test Dept, O=R3, L=London, C=GB, owningKey=EC Public Key [ab:e4:40:46:6a:26:a1:3d:60:70:1b:1e:68:a0:81:a9:ca:0f:d2:96]\\n            X: f141c3b2973dce02e8cfeeb3ada735652ce78b55a348b417481c9c6857c6432c\\n            Y: f766dfa43075e5af7c3c89c5aad7af883e9b8e5330a65432240d6d3151daea16\\n)   \n",
       "1  Party(name=CN=Alice, OU=Test Dept, O=R3, L=London, C=GB, owningKey=EC Public Key [ab:e4:40:46:6a:26:a1:3d:60:70:1b:1e:68:a0:81:a9:ca:0f:d2:96]\\n            X: f141c3b2973dce02e8cfeeb3ada735652ce78b55a348b417481c9c6857c6432c\\n            Y: f766dfa43075e5af7c3c89c5aad7af883e9b8e5330a65432240d6d3151daea16\\n)   \n",
       "\n",
       "                                                                                                                                                                                                                                                                                                               issuer  \\\n",
       "0  Party(name=CN=Dave, OU=Test Dept, O=R3, L=London, C=GB, owningKey=EC Public Key [28:43:4d:10:b0:6a:bb:88:8a:38:8d:85:1c:81:93:62:88:be:1b:74]\\n            X: 588a1e2d59785a7cf3e37de91f6fbfdcd3af47f5ae62ccf1a84bb4d9365d2a37\\n            Y: 5443ac36886a87b17b61df56c2d18d84e15a0fcf3781ff9bea7ccf7890348cab\\n)   \n",
       "1  Party(name=CN=Dave, OU=Test Dept, O=R3, L=London, C=GB, owningKey=EC Public Key [28:43:4d:10:b0:6a:bb:88:8a:38:8d:85:1c:81:93:62:88:be:1b:74]\\n            X: 588a1e2d59785a7cf3e37de91f6fbfdcd3af47f5ae62ccf1a84bb4d9365d2a37\\n            Y: 5443ac36886a87b17b61df56c2d18d84e15a0fcf3781ff9bea7ccf7890348cab\\n)   \n",
       "\n",
       "   transferable expiry                                           attributes  \n",
       "0         False   None  {'college': 'Apple Collage', 'university': 'Apple'}  \n",
       "1         False   None  {'college': 'Apple Collage', 'university': 'Apple'}  "
      ]
     },
     "execution_count": 14,
     "metadata": {},
     "output_type": "execute_result"
    }
   ],
   "source": [
    "pd.DataFrame(json.loads(res.json()['flowResult']))"
   ]
  },
  {
   "cell_type": "code",
   "execution_count": 1,
   "id": "ce4b593c",
   "metadata": {
    "extensions": {
     "jupyter_dashboards": {
      "version": 1,
      "views": {
       "grid_default": {},
       "report_default": {
        "hidden": true
       }
      }
     }
    }
   },
   "outputs": [
    {
     "ename": "NameError",
     "evalue": "name 'h' is not defined",
     "output_type": "error",
     "traceback": [
      "\u001b[0;31m---------------------------------------------------------------------------\u001b[0m",
      "\u001b[0;31mNameError\u001b[0m                                 Traceback (most recent call last)",
      "Cell \u001b[0;32mIn [1], line 3\u001b[0m\n\u001b[1;32m      1\u001b[0m \u001b[38;5;66;03m# example 1 -- Government Bond with defined coupon payments -- Type 1 / Test 1 -- Transferable, Quantifiable Instrument\u001b[39;00m\n\u001b[0;32m----> 3\u001b[0m \u001b[43mh\u001b[49m\u001b[38;5;241m.\u001b[39missue(\u001b[38;5;124m'\u001b[39m\u001b[38;5;124mDave\u001b[39m\u001b[38;5;124m'\u001b[39m, \u001b[38;5;124m'\u001b[39m\u001b[38;5;124mAlice\u001b[39m\u001b[38;5;124m'\u001b[39m, \u001b[38;5;124m'\u001b[39m\u001b[38;5;124mGovernment Bond 2024\u001b[39m\u001b[38;5;124m'\u001b[39m, \n\u001b[1;32m      4\u001b[0m         quantity\u001b[38;5;241m=\u001b[39m\u001b[38;5;241m10\u001b[39m,\n\u001b[1;32m      5\u001b[0m         transferable\u001b[38;5;241m=\u001b[39m\u001b[38;5;28;01mTrue\u001b[39;00m,\n\u001b[1;32m      6\u001b[0m         expiry\u001b[38;5;241m=\u001b[39m\u001b[38;5;28;01mNone\u001b[39;00m,\n\u001b[1;32m      7\u001b[0m         verifiable\u001b[38;5;241m=\u001b[39m\u001b[38;5;28;01mTrue\u001b[39;00m,\n\u001b[1;32m      8\u001b[0m         attributes\u001b[38;5;241m=\u001b[39m{\u001b[38;5;124m'\u001b[39m\u001b[38;5;124mpayments\u001b[39m\u001b[38;5;124m'\u001b[39m: \u001b[38;5;124m\"\u001b[39m\u001b[38;5;124m[\u001b[39m\u001b[38;5;124m'\u001b[39m\u001b[38;5;124m10Jun2023\u001b[39m\u001b[38;5;124m'\u001b[39m\u001b[38;5;124m, \u001b[39m\u001b[38;5;124m'\u001b[39m\u001b[38;5;124m10Sep2023\u001b[39m\u001b[38;5;124m'\u001b[39m\u001b[38;5;124m, \u001b[39m\u001b[38;5;124m'\u001b[39m\u001b[38;5;124m10Dec2023\u001b[39m\u001b[38;5;124m'\u001b[39m\u001b[38;5;124m, \u001b[39m\u001b[38;5;124m'\u001b[39m\u001b[38;5;124m10Mar2024\u001b[39m\u001b[38;5;124m'\u001b[39m\u001b[38;5;124m]\u001b[39m\u001b[38;5;124m\"\u001b[39m})\n",
      "\u001b[0;31mNameError\u001b[0m: name 'h' is not defined"
     ]
    }
   ],
   "source": []
  },
  {
   "cell_type": "code",
   "execution_count": null,
   "id": "e9620237",
   "metadata": {},
   "outputs": [],
   "source": []
  },
  {
   "cell_type": "code",
   "execution_count": null,
   "id": "d5d3295e",
   "metadata": {},
   "outputs": [],
   "source": []
  },
  {
   "cell_type": "code",
   "execution_count": null,
   "id": "54188b51",
   "metadata": {},
   "outputs": [],
   "source": []
  },
  {
   "cell_type": "code",
   "execution_count": null,
   "id": "f3a89961",
   "metadata": {},
   "outputs": [],
   "source": []
  },
  {
   "cell_type": "code",
   "execution_count": null,
   "id": "01d9e711",
   "metadata": {},
   "outputs": [],
   "source": []
  },
  {
   "cell_type": "code",
   "execution_count": null,
   "id": "9972c70b",
   "metadata": {},
   "outputs": [],
   "source": []
  },
  {
   "cell_type": "code",
   "execution_count": null,
   "id": "9850dc8c",
   "metadata": {},
   "outputs": [],
   "source": []
  },
  {
   "cell_type": "code",
   "execution_count": null,
   "id": "2e00f11e",
   "metadata": {},
   "outputs": [],
   "source": []
  },
  {
   "cell_type": "code",
   "execution_count": null,
   "id": "9c1c2e4c",
   "metadata": {},
   "outputs": [],
   "source": []
  },
  {
   "cell_type": "code",
   "execution_count": null,
   "id": "9a8d98a9",
   "metadata": {},
   "outputs": [],
   "source": []
  }
 ],
 "metadata": {
  "extensions": {
   "jupyter_dashboards": {
    "activeView": "grid_default",
    "version": 1,
    "views": {
     "grid_default": {
      "cellMargin": 10,
      "defaultCellHeight": 20,
      "maxColumns": 12,
      "name": "grid",
      "type": "grid"
     },
     "report_default": {
      "name": "report",
      "type": "report"
     }
    }
   }
  },
  "kernelspec": {
   "display_name": "Python 3 (ipykernel)",
   "language": "python",
   "name": "python3"
  },
  "language_info": {
   "codemirror_mode": {
    "name": "ipython",
    "version": 3
   },
   "file_extension": ".py",
   "mimetype": "text/x-python",
   "name": "python",
   "nbconvert_exporter": "python",
   "pygments_lexer": "ipython3",
   "version": "3.11.1"
  }
 },
 "nbformat": 4,
 "nbformat_minor": 5
}
