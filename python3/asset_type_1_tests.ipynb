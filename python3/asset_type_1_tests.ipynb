{
 "cells": [
  {
   "cell_type": "markdown",
   "id": "f99d1f42",
   "metadata": {},
   "source": [
    "# Asset Type 1\n",
    "\n",
    "## Examples, Samples, Use cases:\n",
    "\n",
    "* Government bond with defined coupon payments\n",
    "* Digital currency (eRupee)\n",
    "* Limited edition sovereign\n",
    "* ...\n",
    "\n",
    "## Attributes:\n",
    "\n",
    "* Transferable ✅\n",
    "* Quantifiable ✅"
   ]
  },
  {
   "cell_type": "markdown",
   "id": "6ae840c8",
   "metadata": {},
   "source": [
    "## Tests:"
   ]
  },
  {
   "cell_type": "markdown",
   "id": "68f638d0",
   "metadata": {},
   "source": [
    "### Initialisation:\n",
    "\n",
    "The initialisation is for initialise the python scripts in the notebook get it connected to CorDapp. \\\n",
    "Expected to see a _base directory_ path."
   ]
  },
  {
   "cell_type": "code",
   "execution_count": 1,
   "id": "ac731f45",
   "metadata": {
    "scrolled": false
   },
   "outputs": [
    {
     "data": {
      "text/html": [
       "<style>.container { width:98% !important; }</style>"
      ],
      "text/plain": [
       "<IPython.core.display.HTML object>"
      ]
     },
     "metadata": {},
     "output_type": "display_data"
    },
    {
     "name": "stderr",
     "output_type": "stream",
     "text": [
      " 18-05 23:28:31 | \u001b[32mI\u001b[0m | \u001b[32mBase directory /Users/zibo.wu/Desktop/configurableLedgerAsset/python3\u001b[0m\n"
     ]
    }
   ],
   "source": [
    "import os\n",
    "import sys\n",
    "import math\n",
    "import time\n",
    "import IPython\n",
    "import logging\n",
    "import warnings\n",
    "import datetime\n",
    "import pandas as pd\n",
    "import numpy  as np\n",
    "import webbrowser\n",
    "import pprint as pp\n",
    "from random   import randrange\n",
    "from notebook import notebookapp\n",
    "from IPython.display import display\n",
    "from IPython.core.display import HTML\n",
    "\n",
    "# Initialise the notebook settings\n",
    "def init_notebook():\n",
    "    sys.path.insert(1, os.path.join(sys.path[0], '{}/lib/'.format(os.environ['BaseDir'])))\n",
    "    display(HTML(\"<style>.container { width:98% !important; }</style>\"))\n",
    "    %matplotlib inline\n",
    "    \n",
    "    pd.set_option('display.max_rows', None)\n",
    "    pd.set_option('display.max_columns', None)\n",
    "    pd.set_option('display.max_colwidth', None)\n",
    "\n",
    "# Initialise the Corda nodes\n",
    "def init_cordaNodes():\n",
    "    from corda5Interface import Corda5\n",
    "    apiServer='https://localhost:8888/api/v1/flow'\n",
    "    apiServerAuth=('admin', 'admin')\n",
    "    package = 'com.r3.developers.configurableInstrument'\n",
    "    replace_maters_list = { 'API_SERVER': apiServer, 'PACKAGE': package}\n",
    "\n",
    "    nodes = {\n",
    "            'Authority' : {'x500': 'CN=Authority, OU=Test Dept, O=R3, L=London, C=GB' ,'hash': 'A9C9500BE2EA' },\n",
    "            'Bob'       : {'x500': 'CN=Bob, OU=Test Dept, O=R3, L=London, C=GB'       ,'hash': '6FBD428F57CF' },\n",
    "            'Charlie'   : {'x500': 'CN=Charlie, OU=Test Dept, O=R3, L=London, C=GB'   ,'hash': '4EE6FF9D5086' },\n",
    "            'Alice'     : {'x500': 'CN=Alice, OU=Test Dept, O=R3, L=London, C=GB'     ,'hash': '35D00CE32C92' },\n",
    "            }\n",
    "\n",
    "    h = Corda5(level=logging.INFO, nodes=nodes, apiServer=apiServer, apiServerAuth=apiServerAuth, version=2)\n",
    "\n",
    "    log = h.log\n",
    "    log.info(\"Base directory {}\".format(os.environ['BaseDir']))\n",
    "    \n",
    "    return h\n",
    "\n",
    "init_notebook()\n",
    "h = init_cordaNodes()"
   ]
  },
  {
   "cell_type": "markdown",
   "id": "3adf7766",
   "metadata": {},
   "source": [
    "### Issue:\n",
    "\n",
    "* Issuer gets to decide the name, transferable or not, expiry or not, redeemable or not, and can add multiple/additional attributes (HashMap) on the same State/Asset.\n",
    "* Applications like Government Bond, will be transferable, with maturity(some expiry), and redeemable (cash the principal on maturity), with additional attribute of coupon payment dates.\n",
    "* Applications like College University Degree, will not be transferable, no expiry, and not redeemable. Will have additional attributes like Collage Name, University Name, Education Stream etc etc along with Issuer and Owner(Holder).\n",
    "* Applications like Limited Edition Sovereign, will be transferable, no expiry but will be redeemable directly with Issuer.\n",
    "\n",
    "In Asset type 1, all the issuing should be succeed, with **Transferable** and **Quantifiable** assets."
   ]
  },
  {
   "cell_type": "code",
   "execution_count": 2,
   "id": "61aee1f1",
   "metadata": {
    "scrolled": false
   },
   "outputs": [
    {
     "name": "stderr",
     "output_type": "stream",
     "text": [
      " 18-05 23:28:36 | \u001b[32mI\u001b[0m | \u001b[32mIssuing instrument='Government Bond 2024' to 'Alice'\u001b[0m\n",
      " 18-05 23:28:36 | \u001b[32mI\u001b[0m | \u001b[32mRunning action 'Issue' on 'Authority/A9C9500BE2EA/CN=Authority, OU=Test Dept, O=R3, L=London, C=GB'\u001b[0m\n",
      " 18-05 23:29:24 | \u001b[32mI\u001b[0m | \u001b[32m19926169-bb10-40ea-a6f7-fd7029815d3f\u001b[0m\n",
      " 18-05 23:29:24 | \u001b[32mI\u001b[0m | \u001b[32mTime taken = 0:00:48.372501\u001b[0m\n"
     ]
    },
    {
     "name": "stdout",
     "output_type": "stream",
     "text": [
      "16934.1684448916.2009878<Response [200]>19926169-bb10-40ea-a6f7-fd7029815d3f"
     ]
    }
   ],
   "source": [
    "# Issue Example 1 -- Government Bond with defined coupon payments -- Transferable, Quantifiable Instrument\n",
    "# Expected -- succeed\n",
    "\n",
    "(req_id, response, return_val_uuid) = h.issue('Authority', 'Alice', 'Government Bond 2024', \n",
    "        quantity=10,\n",
    "        transferable=True,\n",
    "        expiry=None,\n",
    "        verifiable=True,\n",
    "        attributes={'payments': \"['10Jun2023', '10Sep2023', '10Dec2023', '10Mar2024']\"})\n",
    "\n",
    "h.message([req_id, response, return_val_uuid])"
   ]
  },
  {
   "cell_type": "code",
   "execution_count": 3,
   "id": "7ecb0080",
   "metadata": {
    "scrolled": true
   },
   "outputs": [
    {
     "name": "stderr",
     "output_type": "stream",
     "text": [
      " 18-05 23:29:28 | \u001b[32mI\u001b[0m | \u001b[32mIssuing instrument='eRupee' to 'Alice'\u001b[0m\n",
      " 18-05 23:29:28 | \u001b[32mI\u001b[0m | \u001b[32mRunning action 'Issue' on 'Authority/A9C9500BE2EA/CN=Authority, OU=Test Dept, O=R3, L=London, C=GB'\u001b[0m\n",
      " 18-05 23:30:12 | \u001b[32mI\u001b[0m | \u001b[32m0af2f96b-45f3-4fbd-a7e2-f43068859c5e\u001b[0m\n",
      " 18-05 23:30:12 | \u001b[32mI\u001b[0m | \u001b[32mTime taken = 0:00:44.278233\u001b[0m\n"
     ]
    },
    {
     "name": "stdout",
     "output_type": "stream",
     "text": [
      "16934.1684448968.549254<Response [200]>0af2f96b-45f3-4fbd-a7e2-f43068859c5e"
     ]
    }
   ],
   "source": [
    "# Issue Example 2 -- Digital currency (eRupee) -- Transferable, Quantifiable Instrument\n",
    "# Expected -- succeed\n",
    "\n",
    "(req_id, response, return_val_uuid) = h.issue('Authority', 'Alice', 'eRupee',\n",
    "        quantity=100001,\n",
    "        transferable=True,\n",
    "        expiry=None,\n",
    "        verifiable=True\n",
    "       )\n",
    "\n",
    "h.message([req_id, response, return_val_uuid])"
   ]
  },
  {
   "cell_type": "markdown",
   "id": "73160573",
   "metadata": {},
   "source": [
    "### Query:\n",
    "\n",
    "Query is used for query the instruments that one/all held."
   ]
  },
  {
   "cell_type": "code",
   "execution_count": 4,
   "id": "30c45050",
   "metadata": {
    "scrolled": true
   },
   "outputs": [
    {
     "name": "stderr",
     "output_type": "stream",
     "text": [
      " 18-05 23:30:45 | \u001b[32mI\u001b[0m | \u001b[32mResult for query=ListInstrument from 'Authority/A9C9500BE2EA/CN=Authority, OU=Test Dept, O=R3, L=London, C=GB'. (Time taken=0:00:04.076910)\u001b[0m\n"
     ]
    },
    {
     "data": {
      "text/html": [
       "<div>\n",
       "<style scoped>\n",
       "    .dataframe tbody tr th:only-of-type {\n",
       "        vertical-align: middle;\n",
       "    }\n",
       "\n",
       "    .dataframe tbody tr th {\n",
       "        vertical-align: top;\n",
       "    }\n",
       "\n",
       "    .dataframe thead th {\n",
       "        text-align: right;\n",
       "    }\n",
       "</style>\n",
       "<table border=\"1\" class=\"dataframe\">\n",
       "  <thead>\n",
       "    <tr style=\"text-align: right;\">\n",
       "      <th></th>\n",
       "      <th>id</th>\n",
       "      <th>name</th>\n",
       "      <th>owner</th>\n",
       "      <th>issuer</th>\n",
       "      <th>quantity</th>\n",
       "      <th>transferable</th>\n",
       "      <th>expiry</th>\n",
       "      <th>verifiable</th>\n",
       "      <th>attributes</th>\n",
       "    </tr>\n",
       "  </thead>\n",
       "  <tbody>\n",
       "    <tr>\n",
       "      <th>0</th>\n",
       "      <td>19926169-bb10-40ea-a6f7-fd7029815d3f</td>\n",
       "      <td>Government Bond 2024</td>\n",
       "      <td>CN=Alice, OU=Test Dept, O=R3, L=London, C=GB</td>\n",
       "      <td>CN=Authority, OU=Test Dept, O=R3, L=London, C=GB</td>\n",
       "      <td>10</td>\n",
       "      <td>True</td>\n",
       "      <td>None</td>\n",
       "      <td>True</td>\n",
       "      <td>{'payments': '['10Jun2023', '10Sep2023', '10Dec2023', '10Mar2024']'}</td>\n",
       "    </tr>\n",
       "    <tr>\n",
       "      <th>1</th>\n",
       "      <td>0af2f96b-45f3-4fbd-a7e2-f43068859c5e</td>\n",
       "      <td>eRupee</td>\n",
       "      <td>CN=Alice, OU=Test Dept, O=R3, L=London, C=GB</td>\n",
       "      <td>CN=Authority, OU=Test Dept, O=R3, L=London, C=GB</td>\n",
       "      <td>100001</td>\n",
       "      <td>True</td>\n",
       "      <td>None</td>\n",
       "      <td>True</td>\n",
       "      <td>{}</td>\n",
       "    </tr>\n",
       "  </tbody>\n",
       "</table>\n",
       "</div>"
      ],
      "text/plain": [
       "                                     id                  name   \n",
       "0  19926169-bb10-40ea-a6f7-fd7029815d3f  Government Bond 2024  \\\n",
       "1  0af2f96b-45f3-4fbd-a7e2-f43068859c5e                eRupee   \n",
       "\n",
       "                                          owner   \n",
       "0  CN=Alice, OU=Test Dept, O=R3, L=London, C=GB  \\\n",
       "1  CN=Alice, OU=Test Dept, O=R3, L=London, C=GB   \n",
       "\n",
       "                                             issuer  quantity  transferable   \n",
       "0  CN=Authority, OU=Test Dept, O=R3, L=London, C=GB        10          True  \\\n",
       "1  CN=Authority, OU=Test Dept, O=R3, L=London, C=GB    100001          True   \n",
       "\n",
       "  expiry  verifiable   \n",
       "0   None        True  \\\n",
       "1   None        True   \n",
       "\n",
       "                                                             attributes  \n",
       "0  {'payments': '['10Jun2023', '10Sep2023', '10Dec2023', '10Mar2024']'}  \n",
       "1                                                                    {}  "
      ]
     },
     "metadata": {},
     "output_type": "display_data"
    },
    {
     "name": "stderr",
     "output_type": "stream",
     "text": [
      " 18-05 23:30:49 | \u001b[32mI\u001b[0m | \u001b[32mResult for query=ListInstrument from 'Bob/6FBD428F57CF/CN=Bob, OU=Test Dept, O=R3, L=London, C=GB'. (Time taken=0:00:04.072193)\u001b[0m\n"
     ]
    },
    {
     "data": {
      "text/html": [
       "<div>\n",
       "<style scoped>\n",
       "    .dataframe tbody tr th:only-of-type {\n",
       "        vertical-align: middle;\n",
       "    }\n",
       "\n",
       "    .dataframe tbody tr th {\n",
       "        vertical-align: top;\n",
       "    }\n",
       "\n",
       "    .dataframe thead th {\n",
       "        text-align: right;\n",
       "    }\n",
       "</style>\n",
       "<table border=\"1\" class=\"dataframe\">\n",
       "  <thead>\n",
       "    <tr style=\"text-align: right;\">\n",
       "      <th></th>\n",
       "    </tr>\n",
       "  </thead>\n",
       "  <tbody>\n",
       "  </tbody>\n",
       "</table>\n",
       "</div>"
      ],
      "text/plain": [
       "Empty DataFrame\n",
       "Columns: []\n",
       "Index: []"
      ]
     },
     "metadata": {},
     "output_type": "display_data"
    },
    {
     "name": "stderr",
     "output_type": "stream",
     "text": [
      " 18-05 23:30:53 | \u001b[32mI\u001b[0m | \u001b[32mResult for query=ListInstrument from 'Charlie/4EE6FF9D5086/CN=Charlie, OU=Test Dept, O=R3, L=London, C=GB'. (Time taken=0:00:04.073546)\u001b[0m\n"
     ]
    },
    {
     "data": {
      "text/html": [
       "<div>\n",
       "<style scoped>\n",
       "    .dataframe tbody tr th:only-of-type {\n",
       "        vertical-align: middle;\n",
       "    }\n",
       "\n",
       "    .dataframe tbody tr th {\n",
       "        vertical-align: top;\n",
       "    }\n",
       "\n",
       "    .dataframe thead th {\n",
       "        text-align: right;\n",
       "    }\n",
       "</style>\n",
       "<table border=\"1\" class=\"dataframe\">\n",
       "  <thead>\n",
       "    <tr style=\"text-align: right;\">\n",
       "      <th></th>\n",
       "    </tr>\n",
       "  </thead>\n",
       "  <tbody>\n",
       "  </tbody>\n",
       "</table>\n",
       "</div>"
      ],
      "text/plain": [
       "Empty DataFrame\n",
       "Columns: []\n",
       "Index: []"
      ]
     },
     "metadata": {},
     "output_type": "display_data"
    },
    {
     "name": "stderr",
     "output_type": "stream",
     "text": [
      " 18-05 23:30:57 | \u001b[32mI\u001b[0m | \u001b[32mResult for query=ListInstrument from 'Alice/35D00CE32C92/CN=Alice, OU=Test Dept, O=R3, L=London, C=GB'. (Time taken=0:00:04.070701)\u001b[0m\n"
     ]
    },
    {
     "data": {
      "text/html": [
       "<div>\n",
       "<style scoped>\n",
       "    .dataframe tbody tr th:only-of-type {\n",
       "        vertical-align: middle;\n",
       "    }\n",
       "\n",
       "    .dataframe tbody tr th {\n",
       "        vertical-align: top;\n",
       "    }\n",
       "\n",
       "    .dataframe thead th {\n",
       "        text-align: right;\n",
       "    }\n",
       "</style>\n",
       "<table border=\"1\" class=\"dataframe\">\n",
       "  <thead>\n",
       "    <tr style=\"text-align: right;\">\n",
       "      <th></th>\n",
       "      <th>id</th>\n",
       "      <th>name</th>\n",
       "      <th>owner</th>\n",
       "      <th>issuer</th>\n",
       "      <th>quantity</th>\n",
       "      <th>transferable</th>\n",
       "      <th>expiry</th>\n",
       "      <th>verifiable</th>\n",
       "      <th>attributes</th>\n",
       "    </tr>\n",
       "  </thead>\n",
       "  <tbody>\n",
       "    <tr>\n",
       "      <th>0</th>\n",
       "      <td>19926169-bb10-40ea-a6f7-fd7029815d3f</td>\n",
       "      <td>Government Bond 2024</td>\n",
       "      <td>CN=Alice, OU=Test Dept, O=R3, L=London, C=GB</td>\n",
       "      <td>CN=Authority, OU=Test Dept, O=R3, L=London, C=GB</td>\n",
       "      <td>10</td>\n",
       "      <td>True</td>\n",
       "      <td>None</td>\n",
       "      <td>True</td>\n",
       "      <td>{'payments': '['10Jun2023', '10Sep2023', '10Dec2023', '10Mar2024']'}</td>\n",
       "    </tr>\n",
       "    <tr>\n",
       "      <th>1</th>\n",
       "      <td>0af2f96b-45f3-4fbd-a7e2-f43068859c5e</td>\n",
       "      <td>eRupee</td>\n",
       "      <td>CN=Alice, OU=Test Dept, O=R3, L=London, C=GB</td>\n",
       "      <td>CN=Authority, OU=Test Dept, O=R3, L=London, C=GB</td>\n",
       "      <td>100001</td>\n",
       "      <td>True</td>\n",
       "      <td>None</td>\n",
       "      <td>True</td>\n",
       "      <td>{}</td>\n",
       "    </tr>\n",
       "  </tbody>\n",
       "</table>\n",
       "</div>"
      ],
      "text/plain": [
       "                                     id                  name   \n",
       "0  19926169-bb10-40ea-a6f7-fd7029815d3f  Government Bond 2024  \\\n",
       "1  0af2f96b-45f3-4fbd-a7e2-f43068859c5e                eRupee   \n",
       "\n",
       "                                          owner   \n",
       "0  CN=Alice, OU=Test Dept, O=R3, L=London, C=GB  \\\n",
       "1  CN=Alice, OU=Test Dept, O=R3, L=London, C=GB   \n",
       "\n",
       "                                             issuer  quantity  transferable   \n",
       "0  CN=Authority, OU=Test Dept, O=R3, L=London, C=GB        10          True  \\\n",
       "1  CN=Authority, OU=Test Dept, O=R3, L=London, C=GB    100001          True   \n",
       "\n",
       "  expiry  verifiable   \n",
       "0   None        True  \\\n",
       "1   None        True   \n",
       "\n",
       "                                                             attributes  \n",
       "0  {'payments': '['10Jun2023', '10Sep2023', '10Dec2023', '10Mar2024']'}  \n",
       "1                                                                    {}  "
      ]
     },
     "metadata": {},
     "output_type": "display_data"
    }
   ],
   "source": [
    "# Query Exmaple 1 -- Query all the instruments\n",
    "\n",
    "h.query_all_nodes()"
   ]
  },
  {
   "cell_type": "code",
   "execution_count": 5,
   "id": "209a2004",
   "metadata": {
    "scrolled": false
   },
   "outputs": [
    {
     "data": {
      "text/html": [
       "<div>\n",
       "<style scoped>\n",
       "    .dataframe tbody tr th:only-of-type {\n",
       "        vertical-align: middle;\n",
       "    }\n",
       "\n",
       "    .dataframe tbody tr th {\n",
       "        vertical-align: top;\n",
       "    }\n",
       "\n",
       "    .dataframe thead th {\n",
       "        text-align: right;\n",
       "    }\n",
       "</style>\n",
       "<table border=\"1\" class=\"dataframe\">\n",
       "  <thead>\n",
       "    <tr style=\"text-align: right;\">\n",
       "      <th></th>\n",
       "      <th>id</th>\n",
       "      <th>name</th>\n",
       "      <th>owner</th>\n",
       "      <th>issuer</th>\n",
       "      <th>quantity</th>\n",
       "      <th>transferable</th>\n",
       "      <th>expiry</th>\n",
       "      <th>verifiable</th>\n",
       "      <th>attributes</th>\n",
       "    </tr>\n",
       "  </thead>\n",
       "  <tbody>\n",
       "    <tr>\n",
       "      <th>0</th>\n",
       "      <td>19926169-bb10-40ea-a6f7-fd7029815d3f</td>\n",
       "      <td>Government Bond 2024</td>\n",
       "      <td>CN=Alice, OU=Test Dept, O=R3, L=London, C=GB</td>\n",
       "      <td>CN=Authority, OU=Test Dept, O=R3, L=London, C=GB</td>\n",
       "      <td>10</td>\n",
       "      <td>True</td>\n",
       "      <td>None</td>\n",
       "      <td>True</td>\n",
       "      <td>{'payments': '['10Jun2023', '10Sep2023', '10Dec2023', '10Mar2024']'}</td>\n",
       "    </tr>\n",
       "    <tr>\n",
       "      <th>1</th>\n",
       "      <td>0af2f96b-45f3-4fbd-a7e2-f43068859c5e</td>\n",
       "      <td>eRupee</td>\n",
       "      <td>CN=Alice, OU=Test Dept, O=R3, L=London, C=GB</td>\n",
       "      <td>CN=Authority, OU=Test Dept, O=R3, L=London, C=GB</td>\n",
       "      <td>100001</td>\n",
       "      <td>True</td>\n",
       "      <td>None</td>\n",
       "      <td>True</td>\n",
       "      <td>{}</td>\n",
       "    </tr>\n",
       "  </tbody>\n",
       "</table>\n",
       "</div>"
      ],
      "text/plain": [
       "                                     id                  name   \n",
       "0  19926169-bb10-40ea-a6f7-fd7029815d3f  Government Bond 2024  \\\n",
       "1  0af2f96b-45f3-4fbd-a7e2-f43068859c5e                eRupee   \n",
       "\n",
       "                                          owner   \n",
       "0  CN=Alice, OU=Test Dept, O=R3, L=London, C=GB  \\\n",
       "1  CN=Alice, OU=Test Dept, O=R3, L=London, C=GB   \n",
       "\n",
       "                                             issuer  quantity  transferable   \n",
       "0  CN=Authority, OU=Test Dept, O=R3, L=London, C=GB        10          True  \\\n",
       "1  CN=Authority, OU=Test Dept, O=R3, L=London, C=GB    100001          True   \n",
       "\n",
       "  expiry  verifiable   \n",
       "0   None        True  \\\n",
       "1   None        True   \n",
       "\n",
       "                                                             attributes  \n",
       "0  {'payments': '['10Jun2023', '10Sep2023', '10Dec2023', '10Mar2024']'}  \n",
       "1                                                                    {}  "
      ]
     },
     "execution_count": 5,
     "metadata": {},
     "output_type": "execute_result"
    }
   ],
   "source": [
    "# Query Exmaple 2 -- Query Alice's instruments\n",
    "\n",
    "h.query('Alice')"
   ]
  },
  {
   "cell_type": "markdown",
   "id": "24693b15",
   "metadata": {},
   "source": [
    "### Transfer:\n",
    "\n",
    "* Not all instruments are transferable.\n",
    "* If transferable -- will work on the basic nature of the instrument decided right from the issue point(by the issuer).\n",
    "* Check = not expired apart from being owned. \n",
    "\n",
    "In Asset type 1:\n",
    "* **Full** transfer from a **holder** to a holder should be **succeed**.\n",
    "* **Partial** transfer from a **holder** to a holder should be **succeed**.\n",
    "* Any transfer from a **issuer** to a holder should be **failed**.\n",
    "* Any transfer from a **non holder** to a holder should be **failed**."
   ]
  },
  {
   "cell_type": "code",
   "execution_count": 6,
   "id": "d7cf4753",
   "metadata": {
    "scrolled": true
   },
   "outputs": [
    {
     "name": "stderr",
     "output_type": "stream",
     "text": [
      " 18-05 23:31:07 | \u001b[32mI\u001b[0m | \u001b[32mTranfering instrument id '0af2f96b-45f3-4fbd-a7e2-f43068859c5e' to 'Bob'\u001b[0m\n",
      " 18-05 23:31:07 | \u001b[32mI\u001b[0m | \u001b[32mRunning action 'Transfer' on 'Alice/35D00CE32C92/CN=Alice, OU=Test Dept, O=R3, L=London, C=GB'\u001b[0m\n",
      " 18-05 23:32:12 | \u001b[32mI\u001b[0m | \u001b[32mnet.corda.ledger.utxo.flow.impl.FinalizationResultImpl@5dbbd018\u001b[0m\n",
      " 18-05 23:32:12 | \u001b[32mI\u001b[0m | \u001b[32mTime taken = 0:01:04.399015\u001b[0m\n"
     ]
    },
    {
     "name": "stdout",
     "output_type": "stream",
     "text": [
      "16934.1684449067.941361<Response [200]>net.corda.ledger.utxo.flow.impl.FinalizationResultImpl@5dbbd018"
     ]
    }
   ],
   "source": [
    "# Transfer Example 1 -- Partial transfer from Alice to Bob\n",
    "# Expected -- succeed\n",
    "\n",
    "(req_id, response, return_val) = h.transfer(return_val_uuid, 'Alice', 'Bob', quantity=1000)\n",
    "\n",
    "h.message([req_id, response, return_val])"
   ]
  },
  {
   "cell_type": "code",
   "execution_count": 7,
   "id": "614f8607",
   "metadata": {
    "scrolled": true
   },
   "outputs": [
    {
     "name": "stderr",
     "output_type": "stream",
     "text": [
      " 18-05 23:32:18 | \u001b[32mI\u001b[0m | \u001b[32mTranfering instrument id '0af2f96b-45f3-4fbd-a7e2-f43068859c5e' to 'Charlie'\u001b[0m\n",
      " 18-05 23:32:18 | \u001b[32mI\u001b[0m | \u001b[32mRunning action 'Transfer' on 'Alice/35D00CE32C92/CN=Alice, OU=Test Dept, O=R3, L=London, C=GB'\u001b[0m\n",
      " 18-05 23:33:26 | \u001b[32mI\u001b[0m | \u001b[32mnet.corda.ledger.utxo.flow.impl.FinalizationResultImpl@687e2ac8\u001b[0m\n",
      " 18-05 23:33:26 | \u001b[32mI\u001b[0m | \u001b[32mTime taken = 0:01:08.410693\u001b[0m\n"
     ]
    },
    {
     "name": "stdout",
     "output_type": "stream",
     "text": [
      "16934.1684449138.349611<Response [200]>net.corda.ledger.utxo.flow.impl.FinalizationResultImpl@687e2ac8"
     ]
    }
   ],
   "source": [
    "# Transfer Example 2 -- Full transfer from Alice to Charlie\n",
    "# Expected -- succeed\n",
    "\n",
    "(req_id, response, return_val) = h.transfer(return_val_uuid, 'Alice', 'Charlie')\n",
    "\n",
    "h.message([req_id, response, return_val])"
   ]
  },
  {
   "cell_type": "code",
   "execution_count": 8,
   "id": "761c0f04",
   "metadata": {
    "scrolled": true
   },
   "outputs": [
    {
     "name": "stderr",
     "output_type": "stream",
     "text": [
      " 18-05 23:33:39 | \u001b[32mI\u001b[0m | \u001b[32mResult for query=ListInstrument from 'Authority/A9C9500BE2EA/CN=Authority, OU=Test Dept, O=R3, L=London, C=GB'. (Time taken=0:00:04.081077)\u001b[0m\n"
     ]
    },
    {
     "data": {
      "text/html": [
       "<div>\n",
       "<style scoped>\n",
       "    .dataframe tbody tr th:only-of-type {\n",
       "        vertical-align: middle;\n",
       "    }\n",
       "\n",
       "    .dataframe tbody tr th {\n",
       "        vertical-align: top;\n",
       "    }\n",
       "\n",
       "    .dataframe thead th {\n",
       "        text-align: right;\n",
       "    }\n",
       "</style>\n",
       "<table border=\"1\" class=\"dataframe\">\n",
       "  <thead>\n",
       "    <tr style=\"text-align: right;\">\n",
       "      <th></th>\n",
       "      <th>id</th>\n",
       "      <th>name</th>\n",
       "      <th>owner</th>\n",
       "      <th>issuer</th>\n",
       "      <th>quantity</th>\n",
       "      <th>transferable</th>\n",
       "      <th>expiry</th>\n",
       "      <th>verifiable</th>\n",
       "      <th>attributes</th>\n",
       "    </tr>\n",
       "  </thead>\n",
       "  <tbody>\n",
       "    <tr>\n",
       "      <th>0</th>\n",
       "      <td>19926169-bb10-40ea-a6f7-fd7029815d3f</td>\n",
       "      <td>Government Bond 2024</td>\n",
       "      <td>CN=Alice, OU=Test Dept, O=R3, L=London, C=GB</td>\n",
       "      <td>CN=Authority, OU=Test Dept, O=R3, L=London, C=GB</td>\n",
       "      <td>10</td>\n",
       "      <td>True</td>\n",
       "      <td>None</td>\n",
       "      <td>True</td>\n",
       "      <td>{'payments': '['10Jun2023', '10Sep2023', '10Dec2023', '10Mar2024']'}</td>\n",
       "    </tr>\n",
       "    <tr>\n",
       "      <th>1</th>\n",
       "      <td>0af2f96b-45f3-4fbd-a7e2-f43068859c5e</td>\n",
       "      <td>eRupee</td>\n",
       "      <td>CN=Charlie, OU=Test Dept, O=R3, L=London, C=GB</td>\n",
       "      <td>CN=Authority, OU=Test Dept, O=R3, L=London, C=GB</td>\n",
       "      <td>99001</td>\n",
       "      <td>True</td>\n",
       "      <td>None</td>\n",
       "      <td>True</td>\n",
       "      <td>{}</td>\n",
       "    </tr>\n",
       "    <tr>\n",
       "      <th>2</th>\n",
       "      <td>bf9260e7-98d7-4d97-a298-dc4777e35110</td>\n",
       "      <td>eRupee</td>\n",
       "      <td>CN=Bob, OU=Test Dept, O=R3, L=London, C=GB</td>\n",
       "      <td>CN=Authority, OU=Test Dept, O=R3, L=London, C=GB</td>\n",
       "      <td>1000</td>\n",
       "      <td>True</td>\n",
       "      <td>None</td>\n",
       "      <td>True</td>\n",
       "      <td>{}</td>\n",
       "    </tr>\n",
       "  </tbody>\n",
       "</table>\n",
       "</div>"
      ],
      "text/plain": [
       "                                     id                  name   \n",
       "0  19926169-bb10-40ea-a6f7-fd7029815d3f  Government Bond 2024  \\\n",
       "1  0af2f96b-45f3-4fbd-a7e2-f43068859c5e                eRupee   \n",
       "2  bf9260e7-98d7-4d97-a298-dc4777e35110                eRupee   \n",
       "\n",
       "                                            owner   \n",
       "0    CN=Alice, OU=Test Dept, O=R3, L=London, C=GB  \\\n",
       "1  CN=Charlie, OU=Test Dept, O=R3, L=London, C=GB   \n",
       "2      CN=Bob, OU=Test Dept, O=R3, L=London, C=GB   \n",
       "\n",
       "                                             issuer  quantity  transferable   \n",
       "0  CN=Authority, OU=Test Dept, O=R3, L=London, C=GB        10          True  \\\n",
       "1  CN=Authority, OU=Test Dept, O=R3, L=London, C=GB     99001          True   \n",
       "2  CN=Authority, OU=Test Dept, O=R3, L=London, C=GB      1000          True   \n",
       "\n",
       "  expiry  verifiable   \n",
       "0   None        True  \\\n",
       "1   None        True   \n",
       "2   None        True   \n",
       "\n",
       "                                                             attributes  \n",
       "0  {'payments': '['10Jun2023', '10Sep2023', '10Dec2023', '10Mar2024']'}  \n",
       "1                                                                    {}  \n",
       "2                                                                    {}  "
      ]
     },
     "metadata": {},
     "output_type": "display_data"
    },
    {
     "name": "stderr",
     "output_type": "stream",
     "text": [
      " 18-05 23:33:43 | \u001b[32mI\u001b[0m | \u001b[32mResult for query=ListInstrument from 'Bob/6FBD428F57CF/CN=Bob, OU=Test Dept, O=R3, L=London, C=GB'. (Time taken=0:00:04.075483)\u001b[0m\n"
     ]
    },
    {
     "data": {
      "text/html": [
       "<div>\n",
       "<style scoped>\n",
       "    .dataframe tbody tr th:only-of-type {\n",
       "        vertical-align: middle;\n",
       "    }\n",
       "\n",
       "    .dataframe tbody tr th {\n",
       "        vertical-align: top;\n",
       "    }\n",
       "\n",
       "    .dataframe thead th {\n",
       "        text-align: right;\n",
       "    }\n",
       "</style>\n",
       "<table border=\"1\" class=\"dataframe\">\n",
       "  <thead>\n",
       "    <tr style=\"text-align: right;\">\n",
       "      <th></th>\n",
       "      <th>id</th>\n",
       "      <th>name</th>\n",
       "      <th>owner</th>\n",
       "      <th>issuer</th>\n",
       "      <th>quantity</th>\n",
       "      <th>transferable</th>\n",
       "      <th>expiry</th>\n",
       "      <th>verifiable</th>\n",
       "      <th>attributes</th>\n",
       "    </tr>\n",
       "  </thead>\n",
       "  <tbody>\n",
       "    <tr>\n",
       "      <th>0</th>\n",
       "      <td>bf9260e7-98d7-4d97-a298-dc4777e35110</td>\n",
       "      <td>eRupee</td>\n",
       "      <td>CN=Bob, OU=Test Dept, O=R3, L=London, C=GB</td>\n",
       "      <td>CN=Authority, OU=Test Dept, O=R3, L=London, C=GB</td>\n",
       "      <td>1000</td>\n",
       "      <td>True</td>\n",
       "      <td>None</td>\n",
       "      <td>True</td>\n",
       "      <td>{}</td>\n",
       "    </tr>\n",
       "  </tbody>\n",
       "</table>\n",
       "</div>"
      ],
      "text/plain": [
       "                                     id    name   \n",
       "0  bf9260e7-98d7-4d97-a298-dc4777e35110  eRupee  \\\n",
       "\n",
       "                                        owner   \n",
       "0  CN=Bob, OU=Test Dept, O=R3, L=London, C=GB  \\\n",
       "\n",
       "                                             issuer  quantity  transferable   \n",
       "0  CN=Authority, OU=Test Dept, O=R3, L=London, C=GB      1000          True  \\\n",
       "\n",
       "  expiry  verifiable attributes  \n",
       "0   None        True         {}  "
      ]
     },
     "metadata": {},
     "output_type": "display_data"
    },
    {
     "name": "stderr",
     "output_type": "stream",
     "text": [
      " 18-05 23:33:47 | \u001b[32mI\u001b[0m | \u001b[32mResult for query=ListInstrument from 'Charlie/4EE6FF9D5086/CN=Charlie, OU=Test Dept, O=R3, L=London, C=GB'. (Time taken=0:00:04.073225)\u001b[0m\n"
     ]
    },
    {
     "data": {
      "text/html": [
       "<div>\n",
       "<style scoped>\n",
       "    .dataframe tbody tr th:only-of-type {\n",
       "        vertical-align: middle;\n",
       "    }\n",
       "\n",
       "    .dataframe tbody tr th {\n",
       "        vertical-align: top;\n",
       "    }\n",
       "\n",
       "    .dataframe thead th {\n",
       "        text-align: right;\n",
       "    }\n",
       "</style>\n",
       "<table border=\"1\" class=\"dataframe\">\n",
       "  <thead>\n",
       "    <tr style=\"text-align: right;\">\n",
       "      <th></th>\n",
       "      <th>id</th>\n",
       "      <th>name</th>\n",
       "      <th>owner</th>\n",
       "      <th>issuer</th>\n",
       "      <th>quantity</th>\n",
       "      <th>transferable</th>\n",
       "      <th>expiry</th>\n",
       "      <th>verifiable</th>\n",
       "      <th>attributes</th>\n",
       "    </tr>\n",
       "  </thead>\n",
       "  <tbody>\n",
       "    <tr>\n",
       "      <th>0</th>\n",
       "      <td>0af2f96b-45f3-4fbd-a7e2-f43068859c5e</td>\n",
       "      <td>eRupee</td>\n",
       "      <td>CN=Charlie, OU=Test Dept, O=R3, L=London, C=GB</td>\n",
       "      <td>CN=Authority, OU=Test Dept, O=R3, L=London, C=GB</td>\n",
       "      <td>99001</td>\n",
       "      <td>True</td>\n",
       "      <td>None</td>\n",
       "      <td>True</td>\n",
       "      <td>{}</td>\n",
       "    </tr>\n",
       "  </tbody>\n",
       "</table>\n",
       "</div>"
      ],
      "text/plain": [
       "                                     id    name   \n",
       "0  0af2f96b-45f3-4fbd-a7e2-f43068859c5e  eRupee  \\\n",
       "\n",
       "                                            owner   \n",
       "0  CN=Charlie, OU=Test Dept, O=R3, L=London, C=GB  \\\n",
       "\n",
       "                                             issuer  quantity  transferable   \n",
       "0  CN=Authority, OU=Test Dept, O=R3, L=London, C=GB     99001          True  \\\n",
       "\n",
       "  expiry  verifiable attributes  \n",
       "0   None        True         {}  "
      ]
     },
     "metadata": {},
     "output_type": "display_data"
    },
    {
     "name": "stderr",
     "output_type": "stream",
     "text": [
      " 18-05 23:33:51 | \u001b[32mI\u001b[0m | \u001b[32mResult for query=ListInstrument from 'Alice/35D00CE32C92/CN=Alice, OU=Test Dept, O=R3, L=London, C=GB'. (Time taken=0:00:04.066075)\u001b[0m\n"
     ]
    },
    {
     "data": {
      "text/html": [
       "<div>\n",
       "<style scoped>\n",
       "    .dataframe tbody tr th:only-of-type {\n",
       "        vertical-align: middle;\n",
       "    }\n",
       "\n",
       "    .dataframe tbody tr th {\n",
       "        vertical-align: top;\n",
       "    }\n",
       "\n",
       "    .dataframe thead th {\n",
       "        text-align: right;\n",
       "    }\n",
       "</style>\n",
       "<table border=\"1\" class=\"dataframe\">\n",
       "  <thead>\n",
       "    <tr style=\"text-align: right;\">\n",
       "      <th></th>\n",
       "      <th>id</th>\n",
       "      <th>name</th>\n",
       "      <th>owner</th>\n",
       "      <th>issuer</th>\n",
       "      <th>quantity</th>\n",
       "      <th>transferable</th>\n",
       "      <th>expiry</th>\n",
       "      <th>verifiable</th>\n",
       "      <th>attributes</th>\n",
       "    </tr>\n",
       "  </thead>\n",
       "  <tbody>\n",
       "    <tr>\n",
       "      <th>0</th>\n",
       "      <td>19926169-bb10-40ea-a6f7-fd7029815d3f</td>\n",
       "      <td>Government Bond 2024</td>\n",
       "      <td>CN=Alice, OU=Test Dept, O=R3, L=London, C=GB</td>\n",
       "      <td>CN=Authority, OU=Test Dept, O=R3, L=London, C=GB</td>\n",
       "      <td>10</td>\n",
       "      <td>True</td>\n",
       "      <td>None</td>\n",
       "      <td>True</td>\n",
       "      <td>{'payments': '['10Jun2023', '10Sep2023', '10Dec2023', '10Mar2024']'}</td>\n",
       "    </tr>\n",
       "  </tbody>\n",
       "</table>\n",
       "</div>"
      ],
      "text/plain": [
       "                                     id                  name   \n",
       "0  19926169-bb10-40ea-a6f7-fd7029815d3f  Government Bond 2024  \\\n",
       "\n",
       "                                          owner   \n",
       "0  CN=Alice, OU=Test Dept, O=R3, L=London, C=GB  \\\n",
       "\n",
       "                                             issuer  quantity  transferable   \n",
       "0  CN=Authority, OU=Test Dept, O=R3, L=London, C=GB        10          True  \\\n",
       "\n",
       "  expiry  verifiable   \n",
       "0   None        True  \\\n",
       "\n",
       "                                                             attributes  \n",
       "0  {'payments': '['10Jun2023', '10Sep2023', '10Dec2023', '10Mar2024']'}  "
      ]
     },
     "metadata": {},
     "output_type": "display_data"
    }
   ],
   "source": [
    "# Now, if we query all nodes\n",
    "\n",
    "h.query_all_nodes()"
   ]
  },
  {
   "cell_type": "code",
   "execution_count": 9,
   "id": "c9e637a1",
   "metadata": {
    "scrolled": true
   },
   "outputs": [
    {
     "name": "stderr",
     "output_type": "stream",
     "text": [
      " 18-05 23:33:51 | \u001b[32mI\u001b[0m | \u001b[32mTranfering instrument id '0af2f96b-45f3-4fbd-a7e2-f43068859c5e' to 'Charlie'\u001b[0m\n",
      " 18-05 23:33:51 | \u001b[32mI\u001b[0m | \u001b[32mRunning action 'Transfer' on 'Authority/A9C9500BE2EA/CN=Authority, OU=Test Dept, O=R3, L=London, C=GB'\u001b[0m\n",
      " 18-05 23:33:55 | \u001b[32mI\u001b[0m | \u001b[32m{'type': 'FLOW_FAILED', 'message': 'Not able to find a owning state with id 0af2f96b-45f3-4fbd-a7e2-f43068859c5e'}\u001b[0m\n",
      " 18-05 23:33:55 | \u001b[32mI\u001b[0m | \u001b[32mTime taken = 0:00:04.054435\u001b[0m\n"
     ]
    },
    {
     "name": "stdout",
     "output_type": "stream",
     "text": [
      "16934.1684449231.848772<Response [200]>{'type': 'FLOW_FAILED', 'message': 'Not able to find a owning state with id 0af2f96b-45f3-4fbd-a7e2-f43068859c5e'}"
     ]
    }
   ],
   "source": [
    "# Transfer Example 3 -- Transfer attempt from the Issuer\n",
    "# Expected -- failed\n",
    "\n",
    "(req_id, response, return_val) = h.transfer(return_val_uuid, 'Authority', 'Charlie', quantity=100)\n",
    "\n",
    "h.message([req_id, response, return_val])"
   ]
  },
  {
   "cell_type": "code",
   "execution_count": 10,
   "id": "5d81dca0",
   "metadata": {
    "scrolled": true
   },
   "outputs": [
    {
     "name": "stderr",
     "output_type": "stream",
     "text": [
      " 18-05 23:34:04 | \u001b[32mI\u001b[0m | \u001b[32mTranfering instrument id '0af2f96b-45f3-4fbd-a7e2-f43068859c5e' to 'Bob'\u001b[0m\n",
      " 18-05 23:34:04 | \u001b[32mI\u001b[0m | \u001b[32mRunning action 'Transfer' on 'Alice/35D00CE32C92/CN=Alice, OU=Test Dept, O=R3, L=London, C=GB'\u001b[0m\n",
      " 18-05 23:34:08 | \u001b[32mI\u001b[0m | \u001b[32m{'type': 'FLOW_FAILED', 'message': 'Not able to find a owning state with id 0af2f96b-45f3-4fbd-a7e2-f43068859c5e'}\u001b[0m\n",
      " 18-05 23:34:08 | \u001b[32mI\u001b[0m | \u001b[32mTime taken = 0:00:04.060973\u001b[0m\n"
     ]
    },
    {
     "name": "stdout",
     "output_type": "stream",
     "text": [
      "16934.1684449244.574858<Response [200]>{'type': 'FLOW_FAILED', 'message': 'Not able to find a owning state with id 0af2f96b-45f3-4fbd-a7e2-f43068859c5e'}"
     ]
    }
   ],
   "source": [
    "# Transfer Example 4 -- Transfer attempt from a non-holder Alice\n",
    "# Expected -- failed\n",
    "\n",
    "(req_id, response, return_val) = h.transfer(return_val_uuid, 'Alice', 'Bob', quantity=100)\n",
    "\n",
    "h.message([req_id, response, return_val])"
   ]
  },
  {
   "cell_type": "markdown",
   "id": "86e92b32",
   "metadata": {},
   "source": [
    "### Redeem:\n",
    "\n",
    "* Not all instruments will have expiry/maturity.\n",
    "* Redeem can be executed by either the owner (holder of the asset) or also by the issuer of the asset (present design, can be controlled)\n",
    "* If permitted, it will work on the basic nature of the instrument decided right from the issue point(by the issuer).\n",
    "\n",
    "In Asset type 1, all the redeems apart from non holders should be **succeed**"
   ]
  },
  {
   "cell_type": "code",
   "execution_count": 11,
   "id": "af56bfb0",
   "metadata": {
    "scrolled": true
   },
   "outputs": [
    {
     "name": "stderr",
     "output_type": "stream",
     "text": [
      " 18-05 23:34:12 | \u001b[32mI\u001b[0m | \u001b[32mRedeeming instrument id '0af2f96b-45f3-4fbd-a7e2-f43068859c5e' quantity '1000'\u001b[0m\n",
      " 18-05 23:34:12 | \u001b[32mI\u001b[0m | \u001b[32mRunning action 'Redeem' on 'Charlie/4EE6FF9D5086/CN=Charlie, OU=Test Dept, O=R3, L=London, C=GB'\u001b[0m\n",
      " 18-05 23:35:00 | \u001b[32mI\u001b[0m | \u001b[32mnet.corda.ledger.utxo.flow.impl.FinalizationResultImpl@40d9b254\u001b[0m\n",
      " 18-05 23:35:00 | \u001b[32mI\u001b[0m | \u001b[32mTime taken = 0:00:48.299488\u001b[0m\n"
     ]
    },
    {
     "data": {
      "text/plain": [
       "('16934.1684449252.521526',\n",
       " <Response [200]>,\n",
       " 'net.corda.ledger.utxo.flow.impl.FinalizationResultImpl@40d9b254')"
      ]
     },
     "execution_count": 11,
     "metadata": {},
     "output_type": "execute_result"
    }
   ],
   "source": [
    "# Redeem Example 1 -- Partial redeem by the holder\n",
    "# Expected -- succeed\n",
    "\n",
    "h.redeem(return_val_uuid, 'Charlie', quantity=1000)"
   ]
  },
  {
   "cell_type": "code",
   "execution_count": 12,
   "id": "241c941f",
   "metadata": {
    "scrolled": true
   },
   "outputs": [
    {
     "data": {
      "text/html": [
       "<div>\n",
       "<style scoped>\n",
       "    .dataframe tbody tr th:only-of-type {\n",
       "        vertical-align: middle;\n",
       "    }\n",
       "\n",
       "    .dataframe tbody tr th {\n",
       "        vertical-align: top;\n",
       "    }\n",
       "\n",
       "    .dataframe thead th {\n",
       "        text-align: right;\n",
       "    }\n",
       "</style>\n",
       "<table border=\"1\" class=\"dataframe\">\n",
       "  <thead>\n",
       "    <tr style=\"text-align: right;\">\n",
       "      <th></th>\n",
       "      <th>id</th>\n",
       "      <th>name</th>\n",
       "      <th>owner</th>\n",
       "      <th>issuer</th>\n",
       "      <th>quantity</th>\n",
       "      <th>transferable</th>\n",
       "      <th>expiry</th>\n",
       "      <th>verifiable</th>\n",
       "      <th>attributes</th>\n",
       "    </tr>\n",
       "  </thead>\n",
       "  <tbody>\n",
       "    <tr>\n",
       "      <th>0</th>\n",
       "      <td>0af2f96b-45f3-4fbd-a7e2-f43068859c5e</td>\n",
       "      <td>eRupee</td>\n",
       "      <td>CN=Charlie, OU=Test Dept, O=R3, L=London, C=GB</td>\n",
       "      <td>CN=Authority, OU=Test Dept, O=R3, L=London, C=GB</td>\n",
       "      <td>98001</td>\n",
       "      <td>True</td>\n",
       "      <td>None</td>\n",
       "      <td>True</td>\n",
       "      <td>{}</td>\n",
       "    </tr>\n",
       "  </tbody>\n",
       "</table>\n",
       "</div>"
      ],
      "text/plain": [
       "                                     id    name   \n",
       "0  0af2f96b-45f3-4fbd-a7e2-f43068859c5e  eRupee  \\\n",
       "\n",
       "                                            owner   \n",
       "0  CN=Charlie, OU=Test Dept, O=R3, L=London, C=GB  \\\n",
       "\n",
       "                                             issuer  quantity  transferable   \n",
       "0  CN=Authority, OU=Test Dept, O=R3, L=London, C=GB     98001          True  \\\n",
       "\n",
       "  expiry  verifiable attributes  \n",
       "0   None        True         {}  "
      ]
     },
     "execution_count": 12,
     "metadata": {},
     "output_type": "execute_result"
    }
   ],
   "source": [
    "# Now, if we query Charlie again\n",
    "\n",
    "h.query('Charlie')"
   ]
  },
  {
   "cell_type": "code",
   "execution_count": 13,
   "id": "09bad09d",
   "metadata": {
    "scrolled": false
   },
   "outputs": [
    {
     "name": "stderr",
     "output_type": "stream",
     "text": [
      " 18-05 23:35:39 | \u001b[32mI\u001b[0m | \u001b[32mRedeeming instrument id '0af2f96b-45f3-4fbd-a7e2-f43068859c5e' quantity 'None'\u001b[0m\n",
      " 18-05 23:35:39 | \u001b[32mI\u001b[0m | \u001b[32mRunning action 'Redeem' on 'Charlie/4EE6FF9D5086/CN=Charlie, OU=Test Dept, O=R3, L=London, C=GB'\u001b[0m\n",
      " 18-05 23:36:27 | \u001b[32mI\u001b[0m | \u001b[32mnet.corda.ledger.utxo.flow.impl.FinalizationResultImpl@6a795b70\u001b[0m\n",
      " 18-05 23:36:27 | \u001b[32mI\u001b[0m | \u001b[32mTime taken = 0:00:48.274717\u001b[0m\n"
     ]
    },
    {
     "data": {
      "text/plain": [
       "('16934.1684449339.1107452',\n",
       " <Response [200]>,\n",
       " 'net.corda.ledger.utxo.flow.impl.FinalizationResultImpl@6a795b70')"
      ]
     },
     "execution_count": 13,
     "metadata": {},
     "output_type": "execute_result"
    }
   ],
   "source": [
    "# Redeem Example 2 -- Full redeem by the holder\n",
    "# Expected -- succeed\n",
    "\n",
    "h.redeem(return_val_uuid, 'Charlie')"
   ]
  },
  {
   "cell_type": "code",
   "execution_count": 14,
   "id": "1fe04e5c",
   "metadata": {
    "scrolled": false
   },
   "outputs": [
    {
     "data": {
      "text/html": [
       "<div>\n",
       "<style scoped>\n",
       "    .dataframe tbody tr th:only-of-type {\n",
       "        vertical-align: middle;\n",
       "    }\n",
       "\n",
       "    .dataframe tbody tr th {\n",
       "        vertical-align: top;\n",
       "    }\n",
       "\n",
       "    .dataframe thead th {\n",
       "        text-align: right;\n",
       "    }\n",
       "</style>\n",
       "<table border=\"1\" class=\"dataframe\">\n",
       "  <thead>\n",
       "    <tr style=\"text-align: right;\">\n",
       "      <th></th>\n",
       "    </tr>\n",
       "  </thead>\n",
       "  <tbody>\n",
       "  </tbody>\n",
       "</table>\n",
       "</div>"
      ],
      "text/plain": [
       "Empty DataFrame\n",
       "Columns: []\n",
       "Index: []"
      ]
     },
     "execution_count": 14,
     "metadata": {},
     "output_type": "execute_result"
    }
   ],
   "source": [
    "# Now, if we query Charlie again\n",
    "\n",
    "h.query('Charlie')"
   ]
  },
  {
   "cell_type": "code",
   "execution_count": 14,
   "id": "7a38d311",
   "metadata": {
    "scrolled": false
   },
   "outputs": [
    {
     "name": "stderr",
     "output_type": "stream",
     "text": [
      " 18-05 23:36:59 | \u001b[32mI\u001b[0m | \u001b[32mRedeeming instrument id 'bf9260e7-98d7-4d97-a298-dc4777e35110' quantity '500'\u001b[0m\n",
      " 18-05 23:36:59 | \u001b[32mI\u001b[0m | \u001b[32mRunning action 'Redeem' on 'Authority/A9C9500BE2EA/CN=Authority, OU=Test Dept, O=R3, L=London, C=GB'\u001b[0m\n",
      " 18-05 23:37:43 | \u001b[32mI\u001b[0m | \u001b[32mnet.corda.ledger.utxo.flow.impl.FinalizationResultImpl@6183909a\u001b[0m\n",
      " 18-05 23:37:43 | \u001b[32mI\u001b[0m | \u001b[32mTime taken = 0:00:44.320398\u001b[0m\n"
     ]
    },
    {
     "data": {
      "text/plain": [
       "('16934.1684449419.211481',\n",
       " <Response [200]>,\n",
       " 'net.corda.ledger.utxo.flow.impl.FinalizationResultImpl@6183909a')"
      ]
     },
     "execution_count": 14,
     "metadata": {},
     "output_type": "execute_result"
    }
   ],
   "source": [
    "# Redeem Example 3 -- Partial redeem from Bob by the Issuer\n",
    "# Expected -- succeed\n",
    "\n",
    "h.redeem('bf9260e7-98d7-4d97-a298-dc4777e35110', 'Authority', quantity=500)"
   ]
  },
  {
   "cell_type": "code",
   "execution_count": 15,
   "id": "c71ef80d",
   "metadata": {},
   "outputs": [
    {
     "data": {
      "text/html": [
       "<div>\n",
       "<style scoped>\n",
       "    .dataframe tbody tr th:only-of-type {\n",
       "        vertical-align: middle;\n",
       "    }\n",
       "\n",
       "    .dataframe tbody tr th {\n",
       "        vertical-align: top;\n",
       "    }\n",
       "\n",
       "    .dataframe thead th {\n",
       "        text-align: right;\n",
       "    }\n",
       "</style>\n",
       "<table border=\"1\" class=\"dataframe\">\n",
       "  <thead>\n",
       "    <tr style=\"text-align: right;\">\n",
       "      <th></th>\n",
       "      <th>id</th>\n",
       "      <th>name</th>\n",
       "      <th>owner</th>\n",
       "      <th>issuer</th>\n",
       "      <th>quantity</th>\n",
       "      <th>transferable</th>\n",
       "      <th>expiry</th>\n",
       "      <th>verifiable</th>\n",
       "      <th>attributes</th>\n",
       "    </tr>\n",
       "  </thead>\n",
       "  <tbody>\n",
       "    <tr>\n",
       "      <th>0</th>\n",
       "      <td>bf9260e7-98d7-4d97-a298-dc4777e35110</td>\n",
       "      <td>eRupee</td>\n",
       "      <td>CN=Bob, OU=Test Dept, O=R3, L=London, C=GB</td>\n",
       "      <td>CN=Authority, OU=Test Dept, O=R3, L=London, C=GB</td>\n",
       "      <td>500</td>\n",
       "      <td>True</td>\n",
       "      <td>None</td>\n",
       "      <td>True</td>\n",
       "      <td>{}</td>\n",
       "    </tr>\n",
       "  </tbody>\n",
       "</table>\n",
       "</div>"
      ],
      "text/plain": [
       "                                     id    name   \n",
       "0  bf9260e7-98d7-4d97-a298-dc4777e35110  eRupee  \\\n",
       "\n",
       "                                        owner   \n",
       "0  CN=Bob, OU=Test Dept, O=R3, L=London, C=GB  \\\n",
       "\n",
       "                                             issuer  quantity  transferable   \n",
       "0  CN=Authority, OU=Test Dept, O=R3, L=London, C=GB       500          True  \\\n",
       "\n",
       "  expiry  verifiable attributes  \n",
       "0   None        True         {}  "
      ]
     },
     "execution_count": 15,
     "metadata": {},
     "output_type": "execute_result"
    }
   ],
   "source": [
    "# Now, if we query Bob\n",
    "\n",
    "h.query('Bob')"
   ]
  },
  {
   "cell_type": "code",
   "execution_count": 16,
   "id": "bc59b976",
   "metadata": {},
   "outputs": [
    {
     "name": "stderr",
     "output_type": "stream",
     "text": [
      " 18-05 23:38:15 | \u001b[32mI\u001b[0m | \u001b[32mRedeeming instrument id 'bf9260e7-98d7-4d97-a298-dc4777e35110' quantity 'None'\u001b[0m\n",
      " 18-05 23:38:15 | \u001b[32mI\u001b[0m | \u001b[32mRunning action 'Redeem' on 'Authority/A9C9500BE2EA/CN=Authority, OU=Test Dept, O=R3, L=London, C=GB'\u001b[0m\n",
      " 18-05 23:38:56 | \u001b[32mI\u001b[0m | \u001b[32mnet.corda.ledger.utxo.flow.impl.FinalizationResultImpl@7e40328a\u001b[0m\n",
      " 18-05 23:38:56 | \u001b[32mI\u001b[0m | \u001b[32mTime taken = 0:00:40.255724\u001b[0m\n"
     ]
    },
    {
     "data": {
      "text/plain": [
       "('16934.1684449495.988829',\n",
       " <Response [200]>,\n",
       " 'net.corda.ledger.utxo.flow.impl.FinalizationResultImpl@7e40328a')"
      ]
     },
     "execution_count": 16,
     "metadata": {},
     "output_type": "execute_result"
    }
   ],
   "source": [
    "# Redeem Example 4 -- Full redeem from Bob by the Issuer\n",
    "# Expected -- succeed\n",
    "\n",
    "h.redeem('bf9260e7-98d7-4d97-a298-dc4777e35110', 'Authority')"
   ]
  },
  {
   "cell_type": "code",
   "execution_count": 17,
   "id": "0c57801e",
   "metadata": {},
   "outputs": [
    {
     "data": {
      "text/html": [
       "<div>\n",
       "<style scoped>\n",
       "    .dataframe tbody tr th:only-of-type {\n",
       "        vertical-align: middle;\n",
       "    }\n",
       "\n",
       "    .dataframe tbody tr th {\n",
       "        vertical-align: top;\n",
       "    }\n",
       "\n",
       "    .dataframe thead th {\n",
       "        text-align: right;\n",
       "    }\n",
       "</style>\n",
       "<table border=\"1\" class=\"dataframe\">\n",
       "  <thead>\n",
       "    <tr style=\"text-align: right;\">\n",
       "      <th></th>\n",
       "    </tr>\n",
       "  </thead>\n",
       "  <tbody>\n",
       "  </tbody>\n",
       "</table>\n",
       "</div>"
      ],
      "text/plain": [
       "Empty DataFrame\n",
       "Columns: []\n",
       "Index: []"
      ]
     },
     "execution_count": 17,
     "metadata": {},
     "output_type": "execute_result"
    }
   ],
   "source": [
    "# Now, if we query Bob again\n",
    "\n",
    "h.query('Bob')"
   ]
  },
  {
   "cell_type": "code",
   "execution_count": 18,
   "id": "fd81545d",
   "metadata": {
    "scrolled": true
   },
   "outputs": [
    {
     "name": "stderr",
     "output_type": "stream",
     "text": [
      " 18-05 23:39:12 | \u001b[32mI\u001b[0m | \u001b[32mResult for query=ListInstrument from 'Authority/A9C9500BE2EA/CN=Authority, OU=Test Dept, O=R3, L=London, C=GB'. (Time taken=0:00:04.073291)\u001b[0m\n"
     ]
    },
    {
     "data": {
      "text/html": [
       "<div>\n",
       "<style scoped>\n",
       "    .dataframe tbody tr th:only-of-type {\n",
       "        vertical-align: middle;\n",
       "    }\n",
       "\n",
       "    .dataframe tbody tr th {\n",
       "        vertical-align: top;\n",
       "    }\n",
       "\n",
       "    .dataframe thead th {\n",
       "        text-align: right;\n",
       "    }\n",
       "</style>\n",
       "<table border=\"1\" class=\"dataframe\">\n",
       "  <thead>\n",
       "    <tr style=\"text-align: right;\">\n",
       "      <th></th>\n",
       "      <th>id</th>\n",
       "      <th>name</th>\n",
       "      <th>owner</th>\n",
       "      <th>issuer</th>\n",
       "      <th>quantity</th>\n",
       "      <th>transferable</th>\n",
       "      <th>expiry</th>\n",
       "      <th>verifiable</th>\n",
       "      <th>attributes</th>\n",
       "    </tr>\n",
       "  </thead>\n",
       "  <tbody>\n",
       "    <tr>\n",
       "      <th>0</th>\n",
       "      <td>19926169-bb10-40ea-a6f7-fd7029815d3f</td>\n",
       "      <td>Government Bond 2024</td>\n",
       "      <td>CN=Alice, OU=Test Dept, O=R3, L=London, C=GB</td>\n",
       "      <td>CN=Authority, OU=Test Dept, O=R3, L=London, C=GB</td>\n",
       "      <td>10</td>\n",
       "      <td>True</td>\n",
       "      <td>None</td>\n",
       "      <td>True</td>\n",
       "      <td>{'payments': '['10Jun2023', '10Sep2023', '10Dec2023', '10Mar2024']'}</td>\n",
       "    </tr>\n",
       "  </tbody>\n",
       "</table>\n",
       "</div>"
      ],
      "text/plain": [
       "                                     id                  name   \n",
       "0  19926169-bb10-40ea-a6f7-fd7029815d3f  Government Bond 2024  \\\n",
       "\n",
       "                                          owner   \n",
       "0  CN=Alice, OU=Test Dept, O=R3, L=London, C=GB  \\\n",
       "\n",
       "                                             issuer  quantity  transferable   \n",
       "0  CN=Authority, OU=Test Dept, O=R3, L=London, C=GB        10          True  \\\n",
       "\n",
       "  expiry  verifiable   \n",
       "0   None        True  \\\n",
       "\n",
       "                                                             attributes  \n",
       "0  {'payments': '['10Jun2023', '10Sep2023', '10Dec2023', '10Mar2024']'}  "
      ]
     },
     "metadata": {},
     "output_type": "display_data"
    },
    {
     "name": "stderr",
     "output_type": "stream",
     "text": [
      " 18-05 23:39:16 | \u001b[32mI\u001b[0m | \u001b[32mResult for query=ListInstrument from 'Bob/6FBD428F57CF/CN=Bob, OU=Test Dept, O=R3, L=London, C=GB'. (Time taken=0:00:04.067306)\u001b[0m\n"
     ]
    },
    {
     "data": {
      "text/html": [
       "<div>\n",
       "<style scoped>\n",
       "    .dataframe tbody tr th:only-of-type {\n",
       "        vertical-align: middle;\n",
       "    }\n",
       "\n",
       "    .dataframe tbody tr th {\n",
       "        vertical-align: top;\n",
       "    }\n",
       "\n",
       "    .dataframe thead th {\n",
       "        text-align: right;\n",
       "    }\n",
       "</style>\n",
       "<table border=\"1\" class=\"dataframe\">\n",
       "  <thead>\n",
       "    <tr style=\"text-align: right;\">\n",
       "      <th></th>\n",
       "    </tr>\n",
       "  </thead>\n",
       "  <tbody>\n",
       "  </tbody>\n",
       "</table>\n",
       "</div>"
      ],
      "text/plain": [
       "Empty DataFrame\n",
       "Columns: []\n",
       "Index: []"
      ]
     },
     "metadata": {},
     "output_type": "display_data"
    },
    {
     "name": "stderr",
     "output_type": "stream",
     "text": [
      " 18-05 23:39:20 | \u001b[32mI\u001b[0m | \u001b[32mResult for query=ListInstrument from 'Charlie/4EE6FF9D5086/CN=Charlie, OU=Test Dept, O=R3, L=London, C=GB'. (Time taken=0:00:04.065281)\u001b[0m\n"
     ]
    },
    {
     "data": {
      "text/html": [
       "<div>\n",
       "<style scoped>\n",
       "    .dataframe tbody tr th:only-of-type {\n",
       "        vertical-align: middle;\n",
       "    }\n",
       "\n",
       "    .dataframe tbody tr th {\n",
       "        vertical-align: top;\n",
       "    }\n",
       "\n",
       "    .dataframe thead th {\n",
       "        text-align: right;\n",
       "    }\n",
       "</style>\n",
       "<table border=\"1\" class=\"dataframe\">\n",
       "  <thead>\n",
       "    <tr style=\"text-align: right;\">\n",
       "      <th></th>\n",
       "    </tr>\n",
       "  </thead>\n",
       "  <tbody>\n",
       "  </tbody>\n",
       "</table>\n",
       "</div>"
      ],
      "text/plain": [
       "Empty DataFrame\n",
       "Columns: []\n",
       "Index: []"
      ]
     },
     "metadata": {},
     "output_type": "display_data"
    },
    {
     "name": "stderr",
     "output_type": "stream",
     "text": [
      " 18-05 23:39:24 | \u001b[32mI\u001b[0m | \u001b[32mResult for query=ListInstrument from 'Alice/35D00CE32C92/CN=Alice, OU=Test Dept, O=R3, L=London, C=GB'. (Time taken=0:00:04.064416)\u001b[0m\n"
     ]
    },
    {
     "data": {
      "text/html": [
       "<div>\n",
       "<style scoped>\n",
       "    .dataframe tbody tr th:only-of-type {\n",
       "        vertical-align: middle;\n",
       "    }\n",
       "\n",
       "    .dataframe tbody tr th {\n",
       "        vertical-align: top;\n",
       "    }\n",
       "\n",
       "    .dataframe thead th {\n",
       "        text-align: right;\n",
       "    }\n",
       "</style>\n",
       "<table border=\"1\" class=\"dataframe\">\n",
       "  <thead>\n",
       "    <tr style=\"text-align: right;\">\n",
       "      <th></th>\n",
       "      <th>id</th>\n",
       "      <th>name</th>\n",
       "      <th>owner</th>\n",
       "      <th>issuer</th>\n",
       "      <th>quantity</th>\n",
       "      <th>transferable</th>\n",
       "      <th>expiry</th>\n",
       "      <th>verifiable</th>\n",
       "      <th>attributes</th>\n",
       "    </tr>\n",
       "  </thead>\n",
       "  <tbody>\n",
       "    <tr>\n",
       "      <th>0</th>\n",
       "      <td>19926169-bb10-40ea-a6f7-fd7029815d3f</td>\n",
       "      <td>Government Bond 2024</td>\n",
       "      <td>CN=Alice, OU=Test Dept, O=R3, L=London, C=GB</td>\n",
       "      <td>CN=Authority, OU=Test Dept, O=R3, L=London, C=GB</td>\n",
       "      <td>10</td>\n",
       "      <td>True</td>\n",
       "      <td>None</td>\n",
       "      <td>True</td>\n",
       "      <td>{'payments': '['10Jun2023', '10Sep2023', '10Dec2023', '10Mar2024']'}</td>\n",
       "    </tr>\n",
       "  </tbody>\n",
       "</table>\n",
       "</div>"
      ],
      "text/plain": [
       "                                     id                  name   \n",
       "0  19926169-bb10-40ea-a6f7-fd7029815d3f  Government Bond 2024  \\\n",
       "\n",
       "                                          owner   \n",
       "0  CN=Alice, OU=Test Dept, O=R3, L=London, C=GB  \\\n",
       "\n",
       "                                             issuer  quantity  transferable   \n",
       "0  CN=Authority, OU=Test Dept, O=R3, L=London, C=GB        10          True  \\\n",
       "\n",
       "  expiry  verifiable   \n",
       "0   None        True  \\\n",
       "\n",
       "                                                             attributes  \n",
       "0  {'payments': '['10Jun2023', '10Sep2023', '10Dec2023', '10Mar2024']'}  "
      ]
     },
     "metadata": {},
     "output_type": "display_data"
    }
   ],
   "source": [
    "# Now, if we query all nodes\n",
    "\n",
    "h.query_all_nodes()"
   ]
  },
  {
   "cell_type": "code",
   "execution_count": 19,
   "id": "5f47ad6e",
   "metadata": {
    "scrolled": true
   },
   "outputs": [
    {
     "name": "stderr",
     "output_type": "stream",
     "text": [
      " 18-05 23:39:33 | \u001b[32mI\u001b[0m | \u001b[32mRedeeming instrument id '19926169-bb10-40ea-a6f7-fd7029815d3f' quantity 'None'\u001b[0m\n",
      " 18-05 23:39:33 | \u001b[32mI\u001b[0m | \u001b[32mRunning action 'Redeem' on 'Bob/6FBD428F57CF/CN=Bob, OU=Test Dept, O=R3, L=London, C=GB'\u001b[0m\n",
      " 18-05 23:39:38 | \u001b[32mI\u001b[0m | \u001b[32m{'type': 'FLOW_FAILED', 'message': 'Not able to find a owning state with id 19926169-bb10-40ea-a6f7-fd7029815d3f'}\u001b[0m\n",
      " 18-05 23:39:38 | \u001b[32mI\u001b[0m | \u001b[32mTime taken = 0:00:04.052630\u001b[0m\n"
     ]
    },
    {
     "data": {
      "text/plain": [
       "('16934.1684449573.9691641',\n",
       " <Response [200]>,\n",
       " {'type': 'FLOW_FAILED',\n",
       "  'message': 'Not able to find a owning state with id 19926169-bb10-40ea-a6f7-fd7029815d3f'})"
      ]
     },
     "execution_count": 19,
     "metadata": {},
     "output_type": "execute_result"
    }
   ],
   "source": [
    "# Redeem Example 5 -- Redeem from non holder\n",
    "## Expected -- failed\n",
    "\n",
    "h.redeem('19926169-bb10-40ea-a6f7-fd7029815d3f', 'Bob')"
   ]
  },
  {
   "cell_type": "markdown",
   "id": "1230224c",
   "metadata": {},
   "source": [
    "### Print to PDF:\n",
    "\n",
    "\"Print to PDF\" is used for printing any instrument with a specific format."
   ]
  },
  {
   "cell_type": "code",
   "execution_count": 20,
   "id": "e2991d13",
   "metadata": {},
   "outputs": [
    {
     "name": "stderr",
     "output_type": "stream",
     "text": [
      " 18-05 23:40:35 | \u001b[32mI\u001b[0m | \u001b[32mTime taken = 0:00:08.337942\u001b[0m\n"
     ]
    },
    {
     "data": {
      "text/plain": [
       "True"
      ]
     },
     "execution_count": 20,
     "metadata": {},
     "output_type": "execute_result"
    }
   ],
   "source": [
    "# Print to PDF Example 1 -- Print the Government Bond holding by Alice\n",
    "## Expected -- succeed\n",
    "\n",
    "pdf_report = h.print_to_pdf('Alice', '19926169-bb10-40ea-a6f7-fd7029815d3f', show=False)\n",
    "webbrowser.open(\"file:///{}\".format(pdf_report))"
   ]
  },
  {
   "cell_type": "code",
   "execution_count": 21,
   "id": "67ead975",
   "metadata": {},
   "outputs": [
    {
     "name": "stderr",
     "output_type": "stream",
     "text": [
      " 18-05 23:40:58 | \u001b[32mI\u001b[0m | \u001b[32mTime taken = 0:00:07.512451\u001b[0m\n"
     ]
    },
    {
     "data": {
      "text/plain": [
       "True"
      ]
     },
     "execution_count": 21,
     "metadata": {},
     "output_type": "execute_result"
    }
   ],
   "source": [
    "# Print to PDF Example 2 -- Print the Government Bond holding by Issuer\n",
    "## Expected -- succeed\n",
    "\n",
    "pdf_report = h.print_to_pdf('Authority', '19926169-bb10-40ea-a6f7-fd7029815d3f', show=False)\n",
    "webbrowser.open(\"file:///{}\".format(pdf_report))"
   ]
  },
  {
   "cell_type": "code",
   "execution_count": 22,
   "id": "90654d78",
   "metadata": {},
   "outputs": [
    {
     "ename": "KeyError",
     "evalue": "'id'",
     "output_type": "error",
     "traceback": [
      "\u001b[0;31m---------------------------------------------------------------------------\u001b[0m",
      "\u001b[0;31mKeyError\u001b[0m                                  Traceback (most recent call last)",
      "Cell \u001b[0;32mIn[22], line 4\u001b[0m\n\u001b[1;32m      1\u001b[0m \u001b[38;5;66;03m# Print to PDF Example 3 -- Print the Government Bond holding by non holder\u001b[39;00m\n\u001b[1;32m      2\u001b[0m \u001b[38;5;66;03m## Expected -- failed\u001b[39;00m\n\u001b[0;32m----> 4\u001b[0m pdf_report \u001b[38;5;241m=\u001b[39m \u001b[43mh\u001b[49m\u001b[38;5;241;43m.\u001b[39;49m\u001b[43mprint_to_pdf\u001b[49m\u001b[43m(\u001b[49m\u001b[38;5;124;43m'\u001b[39;49m\u001b[38;5;124;43mCharlie\u001b[39;49m\u001b[38;5;124;43m'\u001b[39;49m\u001b[43m,\u001b[49m\u001b[43m \u001b[49m\u001b[38;5;124;43m'\u001b[39;49m\u001b[38;5;124;43m19926169-bb10-40ea-a6f7-fd7029815d3f\u001b[39;49m\u001b[38;5;124;43m'\u001b[39;49m\u001b[43m,\u001b[49m\u001b[43m \u001b[49m\u001b[43mshow\u001b[49m\u001b[38;5;241;43m=\u001b[39;49m\u001b[38;5;28;43;01mFalse\u001b[39;49;00m\u001b[43m)\u001b[49m\n\u001b[1;32m      5\u001b[0m webbrowser\u001b[38;5;241m.\u001b[39mopen(\u001b[38;5;124m\"\u001b[39m\u001b[38;5;124mfile:///\u001b[39m\u001b[38;5;132;01m{}\u001b[39;00m\u001b[38;5;124m\"\u001b[39m\u001b[38;5;241m.\u001b[39mformat(pdf_report))\n",
      "File \u001b[0;32m~/Desktop/configurableLedgerAsset/python3/lib/corda5Interface.py:420\u001b[0m, in \u001b[0;36mCorda5.print_to_pdf\u001b[0;34m(s, owner, inst_id, query, show)\u001b[0m\n\u001b[1;32m    418\u001b[0m query \u001b[38;5;241m=\u001b[39m query \u001b[38;5;28;01mif\u001b[39;00m query \u001b[38;5;28;01melse\u001b[39;00m s\u001b[38;5;241m.\u001b[39mqueryFlow\n\u001b[1;32m    419\u001b[0m df \u001b[38;5;241m=\u001b[39m s\u001b[38;5;241m.\u001b[39mquery(owner, query)\n\u001b[0;32m--> 420\u001b[0m tdf \u001b[38;5;241m=\u001b[39m df[\u001b[43mdf\u001b[49m\u001b[43m[\u001b[49m\u001b[38;5;124;43m'\u001b[39;49m\u001b[38;5;124;43mid\u001b[39;49m\u001b[38;5;124;43m'\u001b[39;49m\u001b[43m]\u001b[49m \u001b[38;5;241m==\u001b[39m inst_id]\n\u001b[1;32m    421\u001b[0m \u001b[38;5;28;01mif\u001b[39;00m \u001b[38;5;28mlen\u001b[39m(tdf) \u001b[38;5;241m!=\u001b[39m \u001b[38;5;241m1\u001b[39m:\n\u001b[1;32m    422\u001b[0m   s\u001b[38;5;241m.\u001b[39mlog\u001b[38;5;241m.\u001b[39merror(\u001b[38;5;124m\"\u001b[39m\u001b[38;5;124mdata matching id=\u001b[39m\u001b[38;5;124m'\u001b[39m\u001b[38;5;132;01m{}\u001b[39;00m\u001b[38;5;124m'\u001b[39m\u001b[38;5;124m in \u001b[39m\u001b[38;5;124m'\u001b[39m\u001b[38;5;132;01m{}\u001b[39;00m\u001b[38;5;124m'\u001b[39m\u001b[38;5;124m is of length=\u001b[39m\u001b[38;5;124m'\u001b[39m\u001b[38;5;132;01m{}\u001b[39;00m\u001b[38;5;124m'\u001b[39m\u001b[38;5;124m. Expected length is exactly 1.\u001b[39m\u001b[38;5;124m\"\u001b[39m\u001b[38;5;241m.\u001b[39mformat(inst_id, owner, \u001b[38;5;28mlen\u001b[39m(tdf)))\n",
      "File \u001b[0;32m/usr/local/lib/python3.11/site-packages/pandas/core/frame.py:3761\u001b[0m, in \u001b[0;36mDataFrame.__getitem__\u001b[0;34m(self, key)\u001b[0m\n\u001b[1;32m   3759\u001b[0m \u001b[38;5;28;01mif\u001b[39;00m \u001b[38;5;28mself\u001b[39m\u001b[38;5;241m.\u001b[39mcolumns\u001b[38;5;241m.\u001b[39mnlevels \u001b[38;5;241m>\u001b[39m \u001b[38;5;241m1\u001b[39m:\n\u001b[1;32m   3760\u001b[0m     \u001b[38;5;28;01mreturn\u001b[39;00m \u001b[38;5;28mself\u001b[39m\u001b[38;5;241m.\u001b[39m_getitem_multilevel(key)\n\u001b[0;32m-> 3761\u001b[0m indexer \u001b[38;5;241m=\u001b[39m \u001b[38;5;28;43mself\u001b[39;49m\u001b[38;5;241;43m.\u001b[39;49m\u001b[43mcolumns\u001b[49m\u001b[38;5;241;43m.\u001b[39;49m\u001b[43mget_loc\u001b[49m\u001b[43m(\u001b[49m\u001b[43mkey\u001b[49m\u001b[43m)\u001b[49m\n\u001b[1;32m   3762\u001b[0m \u001b[38;5;28;01mif\u001b[39;00m is_integer(indexer):\n\u001b[1;32m   3763\u001b[0m     indexer \u001b[38;5;241m=\u001b[39m [indexer]\n",
      "File \u001b[0;32m/usr/local/lib/python3.11/site-packages/pandas/core/indexes/range.py:349\u001b[0m, in \u001b[0;36mRangeIndex.get_loc\u001b[0;34m(self, key)\u001b[0m\n\u001b[1;32m    347\u001b[0m         \u001b[38;5;28;01mraise\u001b[39;00m \u001b[38;5;167;01mKeyError\u001b[39;00m(key) \u001b[38;5;28;01mfrom\u001b[39;00m \u001b[38;5;21;01merr\u001b[39;00m\n\u001b[1;32m    348\u001b[0m \u001b[38;5;28;01mif\u001b[39;00m \u001b[38;5;28misinstance\u001b[39m(key, Hashable):\n\u001b[0;32m--> 349\u001b[0m     \u001b[38;5;28;01mraise\u001b[39;00m \u001b[38;5;167;01mKeyError\u001b[39;00m(key)\n\u001b[1;32m    350\u001b[0m \u001b[38;5;28mself\u001b[39m\u001b[38;5;241m.\u001b[39m_check_indexing_error(key)\n\u001b[1;32m    351\u001b[0m \u001b[38;5;28;01mraise\u001b[39;00m \u001b[38;5;167;01mKeyError\u001b[39;00m(key)\n",
      "\u001b[0;31mKeyError\u001b[0m: 'id'"
     ]
    }
   ],
   "source": [
    "# Print to PDF Example 3 -- Print the Government Bond holding by non holder\n",
    "## Expected -- failed\n",
    "\n",
    "pdf_report = h.print_to_pdf('Charlie', '19926169-bb10-40ea-a6f7-fd7029815d3f', show=False)\n",
    "webbrowser.open(\"file:///{}\".format(pdf_report))"
   ]
  }
 ],
 "metadata": {
  "kernelspec": {
   "display_name": "Python 3 (ipykernel)",
   "language": "python",
   "name": "python3"
  },
  "language_info": {
   "codemirror_mode": {
    "name": "ipython",
    "version": 3
   },
   "file_extension": ".py",
   "mimetype": "text/x-python",
   "name": "python",
   "nbconvert_exporter": "python",
   "pygments_lexer": "ipython3",
   "version": "3.10.9"
  }
 },
 "nbformat": 4,
 "nbformat_minor": 5
}
