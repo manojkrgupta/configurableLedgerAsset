{
 "cells": [
  {
   "cell_type": "markdown",
   "id": "fc95041b",
   "metadata": {},
   "source": [
    "## Asset Type 4\n",
    "* Use Case Matrix:\n",
    "\n",
    "| Type   | Transferable   | Quantifiable   | Examples, Samples, Use Cases                               |\n",
    "|--------|----------------|----------------|------------------------------------------------------------|\n",
    "| 4      | N              | N              | Graduation certificate                                     |\n",
    "|        |                |                | Experience/Participation certificate (Credentials)         |"
   ]
  },
  {
   "cell_type": "markdown",
   "id": "393cf1c8",
   "metadata": {},
   "source": [
    "#### Initialisation:\n",
    "* The initialisation is for initialise the python scripts in the notebook get it connected to CorDapp.\n",
    "* Expected to see a base directory path."
   ]
  },
  {
   "cell_type": "code",
   "execution_count": 70,
   "id": "770ad544",
   "metadata": {
    "extensions": {
     "jupyter_dashboards": {
      "version": 1,
      "views": {
       "grid_default": {},
       "report_default": {
        "hidden": false
       }
      }
     }
    }
   },
   "outputs": [
    {
     "data": {
      "text/html": [
       "<style>.container { width:98% !important; }</style>"
      ],
      "text/plain": [
       "<IPython.core.display.HTML object>"
      ]
     },
     "metadata": {},
     "output_type": "display_data"
    },
    {
     "name": "stderr",
     "output_type": "stream",
     "text": [
      " 19-05 12:51:02 | \u001b[32mI\u001b[0m | \u001b[32mBase directory /Users/bo.yang/Documents/github/configurableLedgerAsset/python3\u001b[0m\n"
     ]
    }
   ],
   "source": [
    "import os\n",
    "import sys\n",
    "import math\n",
    "import time\n",
    "import IPython\n",
    "import logging\n",
    "import warnings\n",
    "import datetime\n",
    "import pandas as pd\n",
    "import numpy  as np\n",
    "import webbrowser\n",
    "import pprint as pp\n",
    "from random   import randrange\n",
    "from notebook import notebookapp\n",
    "from IPython.display import display\n",
    "from IPython.core.display import HTML\n",
    "\n",
    "# Initialise the notebook settings\n",
    "def init_notebook():\n",
    "    sys.path.insert(1, os.path.join(sys.path[0], '{}/lib/'.format(os.environ['BaseDir'])))\n",
    "    display(HTML(\"<style>.container { width:98% !important; }</style>\"))\n",
    "    %matplotlib inline\n",
    "    \n",
    "    pd.set_option('display.max_rows', None)\n",
    "    pd.set_option('display.max_columns', None)\n",
    "    pd.set_option('display.max_colwidth', None)\n",
    "\n",
    "# Initialise the Corda nodes\n",
    "def init_cordaNodes():\n",
    "    from corda5Interface import Corda5\n",
    "    apiServer='https://localhost:8888/api/v1/flow'\n",
    "    apiServerAuth=('admin', 'admin')\n",
    "    package = 'com.r3.developers.configurableInstrument'\n",
    "    replace_maters_list = { 'API_SERVER': apiServer, 'PACKAGE': package}\n",
    "\n",
    "    nodes = {\n",
    "            'Authority' : {'x500': 'CN=Authority, OU=Test Dept, O=R3, L=London, C=GB' ,'hash': 'F0E569C4765C' },\n",
    "            'Bob'       : {'x500': 'CN=Bob, OU=Test Dept, O=R3, L=London, C=GB'       ,'hash': '972B13CEE093' },\n",
    "            'Charlie'   : {'x500': 'CN=Charlie, OU=Test Dept, O=R3, L=London, C=GB'   ,'hash': 'AD4AA4F0D9B1' },\n",
    "            'Alice'     : {'x500': 'CN=Alice, OU=Test Dept, O=R3, L=London, C=GB'     ,'hash': 'F07CC621F1DF' },\n",
    "            }\n",
    "\n",
    "    h = Corda5(level=logging.INFO, nodes=nodes, apiServer=apiServer, apiServerAuth=apiServerAuth, version=2)\n",
    "\n",
    "    log = h.log\n",
    "    log.info(\"Base directory {}\".format(os.environ['BaseDir']))\n",
    "    \n",
    "    return h\n",
    "\n",
    "init_notebook()\n",
    "h = init_cordaNodes()"
   ]
  },
  {
   "cell_type": "markdown",
   "id": "c3982e50",
   "metadata": {},
   "source": [
    "### Issue -- Type 4, Transferable = N, Quantifiable = N\n",
    "* Issuer gets to decide the name, transferable or not, expiry or not, redeemable or not, and can add multiple/additional attributes (HashMap) on the same State/Asset.\n",
    "* Applications like Government Bond, will be transferable, with maturity(some expiry), and redeemable (cash the principal on maturity), with additional attribute of coupon payment dates.\n",
    "* Applications like College University Degree, will not be transferable, no expiry, and not redeemable. Will have additional attributes like Collage Name, University Name, Education Stream etc etc along with Issuer and Owner(Holder).\n",
    "* Applications like Limited Edition Sovereign, will be transferable, no expiry but will be redeemable directly with Issuer.\n",
    "\n",
    "In Asset type 4, all the issuing should be succeed, with **Non-Transferable** and **Non-Quantifiable** assets."
   ]
  },
  {
   "cell_type": "code",
   "execution_count": 71,
   "id": "91c37f78",
   "metadata": {},
   "outputs": [
    {
     "name": "stderr",
     "output_type": "stream",
     "text": [
      " 19-05 12:51:34 | \u001b[32mI\u001b[0m | \u001b[32mIssuing instrument='BE Computer Engineering' to 'Charlie'\u001b[0m\n",
      " 19-05 12:51:34 | \u001b[32mI\u001b[0m | \u001b[32mRunning action 'Issue' on 'Authority/F0E569C4765C/CN=Authority, OU=Test Dept, O=R3, L=London, C=GB'\u001b[0m\n",
      " 19-05 12:52:22 | \u001b[32mI\u001b[0m | \u001b[32m5fbd1967-a466-4ec2-a3b5-d16342b939fb\u001b[0m\n",
      " 19-05 12:52:22 | \u001b[32mI\u001b[0m | \u001b[32mTime taken = 0:00:48.449843\u001b[0m\n"
     ]
    },
    {
     "name": "stdout",
     "output_type": "stream",
     "text": [
      "51611.1684471894.148511<Response [200]>5fbd1967-a466-4ec2-a3b5-d16342b939fb"
     ]
    }
   ],
   "source": [
    "# Issue Test 1 -- Issue Graduation certificate (Type 4 -- Non transferable, Non quantifiable Instrument)\n",
    "# Expected -- Succeed\n",
    "(req_id, response, return_val_uuid) = h.issue('Authority', 'Charlie', 'BE Computer Engineering', \n",
    "        quantity=None, \n",
    "        transferable=False, \n",
    "        expiry=None, \n",
    "        verifiable=True,\n",
    "        attributes={\n",
    "            'university': 'University of Mumbai', \n",
    "            'year': '2023',\n",
    "            'score': '450/500',\n",
    "            'major subject': \"['Robotics', 'AI', 'DSP']\"})\n",
    "h.message([req_id, response, return_val_uuid])"
   ]
  },
  {
   "cell_type": "code",
   "execution_count": 72,
   "id": "2af236f1",
   "metadata": {
    "scrolled": true
   },
   "outputs": [
    {
     "name": "stderr",
     "output_type": "stream",
     "text": [
      " 19-05 12:52:37 | \u001b[32mI\u001b[0m | \u001b[32mIssuing instrument='BE Electric Engineering' to 'Charlie'\u001b[0m\n",
      " 19-05 12:52:37 | \u001b[32mI\u001b[0m | \u001b[32mRunning action 'Issue' on 'Authority/F0E569C4765C/CN=Authority, OU=Test Dept, O=R3, L=London, C=GB'\u001b[0m\n",
      " 19-05 12:53:22 | \u001b[32mI\u001b[0m | \u001b[32m344af4c4-9ae9-4710-951e-8a50ee3c1bbd\u001b[0m\n",
      " 19-05 12:53:22 | \u001b[32mI\u001b[0m | \u001b[32mTime taken = 0:00:44.436462\u001b[0m\n"
     ]
    },
    {
     "name": "stdout",
     "output_type": "stream",
     "text": [
      "51611.1684471957.661206<Response [200]>344af4c4-9ae9-4710-951e-8a50ee3c1bbd"
     ]
    }
   ],
   "source": [
    "# Issue Test 2 -- Issue another graduation certificate with different attributes to the same person Charlie\n",
    "# Expected -- Succeed\n",
    "(req_id, response, return_val_uuid) = h.issue('Authority', 'Charlie', 'BE Electric Engineering', \n",
    "        quantity=None, \n",
    "        transferable=False, \n",
    "        expiry=None, \n",
    "        verifiable=True,\n",
    "        attributes={\n",
    "            'university': 'University of Singapore', \n",
    "            'year': '2022',\n",
    "            'score': '480/500',\n",
    "            'major subject': \"['Electronics', 'Power Systems', 'Energy Systems']\"})\n",
    "h.message([req_id, response, return_val_uuid])"
   ]
  },
  {
   "cell_type": "code",
   "execution_count": 73,
   "id": "8d4ecb79",
   "metadata": {},
   "outputs": [
    {
     "name": "stderr",
     "output_type": "stream",
     "text": [
      " 19-05 12:53:36 | \u001b[32mI\u001b[0m | \u001b[32mIssuing instrument='R3 Hackathon 2023' to 'Bob'\u001b[0m\n",
      " 19-05 12:53:36 | \u001b[32mI\u001b[0m | \u001b[32mRunning action 'Issue' on 'Authority/F0E569C4765C/CN=Authority, OU=Test Dept, O=R3, L=London, C=GB'\u001b[0m\n",
      " 19-05 12:54:21 | \u001b[32mI\u001b[0m | \u001b[32m26323a27-e1ac-447d-accb-2c6490aedb11\u001b[0m\n",
      " 19-05 12:54:21 | \u001b[32mI\u001b[0m | \u001b[32mTime taken = 0:00:44.439271\u001b[0m\n"
     ]
    },
    {
     "name": "stdout",
     "output_type": "stream",
     "text": [
      "51611.1684472016.843123<Response [200]>26323a27-e1ac-447d-accb-2c6490aedb11"
     ]
    }
   ],
   "source": [
    "# Issue Test 3 -- Issue Experience/Participation certificate (Type 4 / Test 4 -- Non transferable, Non quantifiable Instrument)\n",
    "# Expected -- Succeed\n",
    "(req_id, response, return_val_uuid) = h.issue('Authority', 'Bob', 'R3 Hackathon 2023', \n",
    "        quantity=None, \n",
    "        transferable=False, \n",
    "        expiry=None, \n",
    "        verifiable=True, \n",
    "        attributes={'Project': 'Corda 5', 'Year': '2023'})\n",
    "h.message([req_id, response, return_val_uuid])"
   ]
  },
  {
   "cell_type": "code",
   "execution_count": 76,
   "id": "838a99b0",
   "metadata": {},
   "outputs": [
    {
     "name": "stderr",
     "output_type": "stream",
     "text": [
      " 19-05 12:56:06 | \u001b[32mI\u001b[0m | \u001b[32mIssuing instrument='R3 Hackathon 2022' to 'Bob'\u001b[0m\n",
      " 19-05 12:56:06 | \u001b[32mI\u001b[0m | \u001b[32mRunning action 'Issue' on 'Authority/F0E569C4765C/CN=Authority, OU=Test Dept, O=R3, L=London, C=GB'\u001b[0m\n",
      " 19-05 12:56:54 | \u001b[32mI\u001b[0m | \u001b[32m1648be37-1645-456d-8ead-2298f69a57a4\u001b[0m\n",
      " 19-05 12:56:54 | \u001b[32mI\u001b[0m | \u001b[32mTime taken = 0:00:48.413038\u001b[0m\n"
     ]
    },
    {
     "name": "stdout",
     "output_type": "stream",
     "text": [
      "51611.1684472166.475776<Response [200]>1648be37-1645-456d-8ead-2298f69a57a4"
     ]
    }
   ],
   "source": [
    "# Issue Test 4 -- Issue another Experience/Participation certificate to Bob again\n",
    "# Expected -- Succeed\n",
    "(req_id, response, return_val_uuid) = h.issue('Authority', 'Bob', 'R3 Hackathon 2022', \n",
    "        quantity=None, \n",
    "        transferable=False, \n",
    "        expiry=None, \n",
    "        verifiable=True, \n",
    "        attributes={'Project': 'Corda 4', 'Year': '2022'})\n",
    "h.message([req_id, response, return_val_uuid])"
   ]
  },
  {
   "cell_type": "markdown",
   "id": "918c5857",
   "metadata": {},
   "source": [
    "### Query:\n",
    "* Query is used for query the instruments that one/all held."
   ]
  },
  {
   "cell_type": "code",
   "execution_count": 77,
   "id": "965e8aaf",
   "metadata": {
    "scrolled": true
   },
   "outputs": [
    {
     "name": "stderr",
     "output_type": "stream",
     "text": [
      " 19-05 12:57:03 | \u001b[32mI\u001b[0m | \u001b[32mResult for query=ListInstrument from 'Authority/F0E569C4765C/CN=Authority, OU=Test Dept, O=R3, L=London, C=GB'. (Time taken=0:00:04.089454)\u001b[0m\n"
     ]
    },
    {
     "data": {
      "text/html": [
       "<div>\n",
       "<style scoped>\n",
       "    .dataframe tbody tr th:only-of-type {\n",
       "        vertical-align: middle;\n",
       "    }\n",
       "\n",
       "    .dataframe tbody tr th {\n",
       "        vertical-align: top;\n",
       "    }\n",
       "\n",
       "    .dataframe thead th {\n",
       "        text-align: right;\n",
       "    }\n",
       "</style>\n",
       "<table border=\"1\" class=\"dataframe\">\n",
       "  <thead>\n",
       "    <tr style=\"text-align: right;\">\n",
       "      <th></th>\n",
       "      <th>id</th>\n",
       "      <th>name</th>\n",
       "      <th>owner</th>\n",
       "      <th>issuer</th>\n",
       "      <th>quantity</th>\n",
       "      <th>transferable</th>\n",
       "      <th>expiry</th>\n",
       "      <th>verifiable</th>\n",
       "      <th>attributes</th>\n",
       "    </tr>\n",
       "  </thead>\n",
       "  <tbody>\n",
       "    <tr>\n",
       "      <th>0</th>\n",
       "      <td>1648be37-1645-456d-8ead-2298f69a57a4</td>\n",
       "      <td>R3 Hackathon 2022</td>\n",
       "      <td>CN=Bob, OU=Test Dept, O=R3, L=London, C=GB</td>\n",
       "      <td>CN=Authority, OU=Test Dept, O=R3, L=London, C=GB</td>\n",
       "      <td>NaN</td>\n",
       "      <td>False</td>\n",
       "      <td>None</td>\n",
       "      <td>True</td>\n",
       "      <td>{'Project': 'Corda 4', 'Year': '2022'}</td>\n",
       "    </tr>\n",
       "    <tr>\n",
       "      <th>1</th>\n",
       "      <td>d4ea67e0-9945-4fe5-b0da-c3ef0d457e32</td>\n",
       "      <td>Star Alliance Travel Points</td>\n",
       "      <td>CN=Alice, OU=Test Dept, O=R3, L=London, C=GB</td>\n",
       "      <td>CN=Authority, OU=Test Dept, O=R3, L=London, C=GB</td>\n",
       "      <td>8.0</td>\n",
       "      <td>False</td>\n",
       "      <td>None</td>\n",
       "      <td>True</td>\n",
       "      <td>{}</td>\n",
       "    </tr>\n",
       "    <tr>\n",
       "      <th>2</th>\n",
       "      <td>5fbd1967-a466-4ec2-a3b5-d16342b939fb</td>\n",
       "      <td>BE Computer Engineering</td>\n",
       "      <td>CN=Charlie, OU=Test Dept, O=R3, L=London, C=GB</td>\n",
       "      <td>CN=Authority, OU=Test Dept, O=R3, L=London, C=GB</td>\n",
       "      <td>NaN</td>\n",
       "      <td>False</td>\n",
       "      <td>None</td>\n",
       "      <td>True</td>\n",
       "      <td>{'university': 'University of Mumbai', 'year': '2023', 'score': '450/500', 'major subject': '['Robotics', 'AI', 'DSP']'}</td>\n",
       "    </tr>\n",
       "    <tr>\n",
       "      <th>3</th>\n",
       "      <td>344af4c4-9ae9-4710-951e-8a50ee3c1bbd</td>\n",
       "      <td>BE Electric Engineering</td>\n",
       "      <td>CN=Charlie, OU=Test Dept, O=R3, L=London, C=GB</td>\n",
       "      <td>CN=Authority, OU=Test Dept, O=R3, L=London, C=GB</td>\n",
       "      <td>NaN</td>\n",
       "      <td>False</td>\n",
       "      <td>None</td>\n",
       "      <td>True</td>\n",
       "      <td>{'university': 'University of Singapore', 'year': '2022', 'score': '480/500', 'major subject': '['Electronics', 'Power Systems', 'Energy Systems']'}</td>\n",
       "    </tr>\n",
       "    <tr>\n",
       "      <th>4</th>\n",
       "      <td>26323a27-e1ac-447d-accb-2c6490aedb11</td>\n",
       "      <td>R3 Hackathon 2023</td>\n",
       "      <td>CN=Bob, OU=Test Dept, O=R3, L=London, C=GB</td>\n",
       "      <td>CN=Authority, OU=Test Dept, O=R3, L=London, C=GB</td>\n",
       "      <td>NaN</td>\n",
       "      <td>False</td>\n",
       "      <td>None</td>\n",
       "      <td>True</td>\n",
       "      <td>{'Project': 'Corda 5', 'Year': '2023'}</td>\n",
       "    </tr>\n",
       "  </tbody>\n",
       "</table>\n",
       "</div>"
      ],
      "text/plain": [
       "                                     id                         name   \n",
       "0  1648be37-1645-456d-8ead-2298f69a57a4            R3 Hackathon 2022  \\\n",
       "1  d4ea67e0-9945-4fe5-b0da-c3ef0d457e32  Star Alliance Travel Points   \n",
       "2  5fbd1967-a466-4ec2-a3b5-d16342b939fb      BE Computer Engineering   \n",
       "3  344af4c4-9ae9-4710-951e-8a50ee3c1bbd      BE Electric Engineering   \n",
       "4  26323a27-e1ac-447d-accb-2c6490aedb11            R3 Hackathon 2023   \n",
       "\n",
       "                                            owner   \n",
       "0      CN=Bob, OU=Test Dept, O=R3, L=London, C=GB  \\\n",
       "1    CN=Alice, OU=Test Dept, O=R3, L=London, C=GB   \n",
       "2  CN=Charlie, OU=Test Dept, O=R3, L=London, C=GB   \n",
       "3  CN=Charlie, OU=Test Dept, O=R3, L=London, C=GB   \n",
       "4      CN=Bob, OU=Test Dept, O=R3, L=London, C=GB   \n",
       "\n",
       "                                             issuer  quantity  transferable   \n",
       "0  CN=Authority, OU=Test Dept, O=R3, L=London, C=GB       NaN         False  \\\n",
       "1  CN=Authority, OU=Test Dept, O=R3, L=London, C=GB       8.0         False   \n",
       "2  CN=Authority, OU=Test Dept, O=R3, L=London, C=GB       NaN         False   \n",
       "3  CN=Authority, OU=Test Dept, O=R3, L=London, C=GB       NaN         False   \n",
       "4  CN=Authority, OU=Test Dept, O=R3, L=London, C=GB       NaN         False   \n",
       "\n",
       "  expiry  verifiable   \n",
       "0   None        True  \\\n",
       "1   None        True   \n",
       "2   None        True   \n",
       "3   None        True   \n",
       "4   None        True   \n",
       "\n",
       "                                                                                                                                             attributes  \n",
       "0                                                                                                                {'Project': 'Corda 4', 'Year': '2022'}  \n",
       "1                                                                                                                                                    {}  \n",
       "2                              {'university': 'University of Mumbai', 'year': '2023', 'score': '450/500', 'major subject': '['Robotics', 'AI', 'DSP']'}  \n",
       "3  {'university': 'University of Singapore', 'year': '2022', 'score': '480/500', 'major subject': '['Electronics', 'Power Systems', 'Energy Systems']'}  \n",
       "4                                                                                                                {'Project': 'Corda 5', 'Year': '2023'}  "
      ]
     },
     "metadata": {},
     "output_type": "display_data"
    },
    {
     "name": "stderr",
     "output_type": "stream",
     "text": [
      " 19-05 12:57:08 | \u001b[32mI\u001b[0m | \u001b[32mResult for query=ListInstrument from 'Bob/972B13CEE093/CN=Bob, OU=Test Dept, O=R3, L=London, C=GB'. (Time taken=0:00:04.064987)\u001b[0m\n"
     ]
    },
    {
     "data": {
      "text/html": [
       "<div>\n",
       "<style scoped>\n",
       "    .dataframe tbody tr th:only-of-type {\n",
       "        vertical-align: middle;\n",
       "    }\n",
       "\n",
       "    .dataframe tbody tr th {\n",
       "        vertical-align: top;\n",
       "    }\n",
       "\n",
       "    .dataframe thead th {\n",
       "        text-align: right;\n",
       "    }\n",
       "</style>\n",
       "<table border=\"1\" class=\"dataframe\">\n",
       "  <thead>\n",
       "    <tr style=\"text-align: right;\">\n",
       "      <th></th>\n",
       "      <th>id</th>\n",
       "      <th>name</th>\n",
       "      <th>owner</th>\n",
       "      <th>issuer</th>\n",
       "      <th>quantity</th>\n",
       "      <th>transferable</th>\n",
       "      <th>expiry</th>\n",
       "      <th>verifiable</th>\n",
       "      <th>attributes</th>\n",
       "    </tr>\n",
       "  </thead>\n",
       "  <tbody>\n",
       "    <tr>\n",
       "      <th>0</th>\n",
       "      <td>26323a27-e1ac-447d-accb-2c6490aedb11</td>\n",
       "      <td>R3 Hackathon 2023</td>\n",
       "      <td>CN=Bob, OU=Test Dept, O=R3, L=London, C=GB</td>\n",
       "      <td>CN=Authority, OU=Test Dept, O=R3, L=London, C=GB</td>\n",
       "      <td>None</td>\n",
       "      <td>False</td>\n",
       "      <td>None</td>\n",
       "      <td>True</td>\n",
       "      <td>{'Project': 'Corda 5', 'Year': '2023'}</td>\n",
       "    </tr>\n",
       "    <tr>\n",
       "      <th>1</th>\n",
       "      <td>1648be37-1645-456d-8ead-2298f69a57a4</td>\n",
       "      <td>R3 Hackathon 2022</td>\n",
       "      <td>CN=Bob, OU=Test Dept, O=R3, L=London, C=GB</td>\n",
       "      <td>CN=Authority, OU=Test Dept, O=R3, L=London, C=GB</td>\n",
       "      <td>None</td>\n",
       "      <td>False</td>\n",
       "      <td>None</td>\n",
       "      <td>True</td>\n",
       "      <td>{'Project': 'Corda 4', 'Year': '2022'}</td>\n",
       "    </tr>\n",
       "  </tbody>\n",
       "</table>\n",
       "</div>"
      ],
      "text/plain": [
       "                                     id               name   \n",
       "0  26323a27-e1ac-447d-accb-2c6490aedb11  R3 Hackathon 2023  \\\n",
       "1  1648be37-1645-456d-8ead-2298f69a57a4  R3 Hackathon 2022   \n",
       "\n",
       "                                        owner   \n",
       "0  CN=Bob, OU=Test Dept, O=R3, L=London, C=GB  \\\n",
       "1  CN=Bob, OU=Test Dept, O=R3, L=London, C=GB   \n",
       "\n",
       "                                             issuer quantity  transferable   \n",
       "0  CN=Authority, OU=Test Dept, O=R3, L=London, C=GB     None         False  \\\n",
       "1  CN=Authority, OU=Test Dept, O=R3, L=London, C=GB     None         False   \n",
       "\n",
       "  expiry  verifiable                              attributes  \n",
       "0   None        True  {'Project': 'Corda 5', 'Year': '2023'}  \n",
       "1   None        True  {'Project': 'Corda 4', 'Year': '2022'}  "
      ]
     },
     "metadata": {},
     "output_type": "display_data"
    },
    {
     "name": "stderr",
     "output_type": "stream",
     "text": [
      " 19-05 12:57:12 | \u001b[32mI\u001b[0m | \u001b[32mResult for query=ListInstrument from 'Charlie/AD4AA4F0D9B1/CN=Charlie, OU=Test Dept, O=R3, L=London, C=GB'. (Time taken=0:00:04.069753)\u001b[0m\n"
     ]
    },
    {
     "data": {
      "text/html": [
       "<div>\n",
       "<style scoped>\n",
       "    .dataframe tbody tr th:only-of-type {\n",
       "        vertical-align: middle;\n",
       "    }\n",
       "\n",
       "    .dataframe tbody tr th {\n",
       "        vertical-align: top;\n",
       "    }\n",
       "\n",
       "    .dataframe thead th {\n",
       "        text-align: right;\n",
       "    }\n",
       "</style>\n",
       "<table border=\"1\" class=\"dataframe\">\n",
       "  <thead>\n",
       "    <tr style=\"text-align: right;\">\n",
       "      <th></th>\n",
       "      <th>id</th>\n",
       "      <th>name</th>\n",
       "      <th>owner</th>\n",
       "      <th>issuer</th>\n",
       "      <th>quantity</th>\n",
       "      <th>transferable</th>\n",
       "      <th>expiry</th>\n",
       "      <th>verifiable</th>\n",
       "      <th>attributes</th>\n",
       "    </tr>\n",
       "  </thead>\n",
       "  <tbody>\n",
       "    <tr>\n",
       "      <th>0</th>\n",
       "      <td>5fbd1967-a466-4ec2-a3b5-d16342b939fb</td>\n",
       "      <td>BE Computer Engineering</td>\n",
       "      <td>CN=Charlie, OU=Test Dept, O=R3, L=London, C=GB</td>\n",
       "      <td>CN=Authority, OU=Test Dept, O=R3, L=London, C=GB</td>\n",
       "      <td>None</td>\n",
       "      <td>False</td>\n",
       "      <td>None</td>\n",
       "      <td>True</td>\n",
       "      <td>{'university': 'University of Mumbai', 'year': '2023', 'score': '450/500', 'major subject': '['Robotics', 'AI', 'DSP']'}</td>\n",
       "    </tr>\n",
       "    <tr>\n",
       "      <th>1</th>\n",
       "      <td>344af4c4-9ae9-4710-951e-8a50ee3c1bbd</td>\n",
       "      <td>BE Electric Engineering</td>\n",
       "      <td>CN=Charlie, OU=Test Dept, O=R3, L=London, C=GB</td>\n",
       "      <td>CN=Authority, OU=Test Dept, O=R3, L=London, C=GB</td>\n",
       "      <td>None</td>\n",
       "      <td>False</td>\n",
       "      <td>None</td>\n",
       "      <td>True</td>\n",
       "      <td>{'university': 'University of Singapore', 'year': '2022', 'score': '480/500', 'major subject': '['Electronics', 'Power Systems', 'Energy Systems']'}</td>\n",
       "    </tr>\n",
       "  </tbody>\n",
       "</table>\n",
       "</div>"
      ],
      "text/plain": [
       "                                     id                     name   \n",
       "0  5fbd1967-a466-4ec2-a3b5-d16342b939fb  BE Computer Engineering  \\\n",
       "1  344af4c4-9ae9-4710-951e-8a50ee3c1bbd  BE Electric Engineering   \n",
       "\n",
       "                                            owner   \n",
       "0  CN=Charlie, OU=Test Dept, O=R3, L=London, C=GB  \\\n",
       "1  CN=Charlie, OU=Test Dept, O=R3, L=London, C=GB   \n",
       "\n",
       "                                             issuer quantity  transferable   \n",
       "0  CN=Authority, OU=Test Dept, O=R3, L=London, C=GB     None         False  \\\n",
       "1  CN=Authority, OU=Test Dept, O=R3, L=London, C=GB     None         False   \n",
       "\n",
       "  expiry  verifiable   \n",
       "0   None        True  \\\n",
       "1   None        True   \n",
       "\n",
       "                                                                                                                                             attributes  \n",
       "0                              {'university': 'University of Mumbai', 'year': '2023', 'score': '450/500', 'major subject': '['Robotics', 'AI', 'DSP']'}  \n",
       "1  {'university': 'University of Singapore', 'year': '2022', 'score': '480/500', 'major subject': '['Electronics', 'Power Systems', 'Energy Systems']'}  "
      ]
     },
     "metadata": {},
     "output_type": "display_data"
    },
    {
     "name": "stderr",
     "output_type": "stream",
     "text": [
      " 19-05 12:57:16 | \u001b[32mI\u001b[0m | \u001b[32mResult for query=ListInstrument from 'Alice/F07CC621F1DF/CN=Alice, OU=Test Dept, O=R3, L=London, C=GB'. (Time taken=0:00:04.078562)\u001b[0m\n"
     ]
    },
    {
     "data": {
      "text/html": [
       "<div>\n",
       "<style scoped>\n",
       "    .dataframe tbody tr th:only-of-type {\n",
       "        vertical-align: middle;\n",
       "    }\n",
       "\n",
       "    .dataframe tbody tr th {\n",
       "        vertical-align: top;\n",
       "    }\n",
       "\n",
       "    .dataframe thead th {\n",
       "        text-align: right;\n",
       "    }\n",
       "</style>\n",
       "<table border=\"1\" class=\"dataframe\">\n",
       "  <thead>\n",
       "    <tr style=\"text-align: right;\">\n",
       "      <th></th>\n",
       "      <th>id</th>\n",
       "      <th>name</th>\n",
       "      <th>owner</th>\n",
       "      <th>issuer</th>\n",
       "      <th>quantity</th>\n",
       "      <th>transferable</th>\n",
       "      <th>expiry</th>\n",
       "      <th>verifiable</th>\n",
       "      <th>attributes</th>\n",
       "    </tr>\n",
       "  </thead>\n",
       "  <tbody>\n",
       "    <tr>\n",
       "      <th>0</th>\n",
       "      <td>d4ea67e0-9945-4fe5-b0da-c3ef0d457e32</td>\n",
       "      <td>Star Alliance Travel Points</td>\n",
       "      <td>CN=Alice, OU=Test Dept, O=R3, L=London, C=GB</td>\n",
       "      <td>CN=Authority, OU=Test Dept, O=R3, L=London, C=GB</td>\n",
       "      <td>8</td>\n",
       "      <td>False</td>\n",
       "      <td>None</td>\n",
       "      <td>True</td>\n",
       "      <td>{}</td>\n",
       "    </tr>\n",
       "  </tbody>\n",
       "</table>\n",
       "</div>"
      ],
      "text/plain": [
       "                                     id                         name   \n",
       "0  d4ea67e0-9945-4fe5-b0da-c3ef0d457e32  Star Alliance Travel Points  \\\n",
       "\n",
       "                                          owner   \n",
       "0  CN=Alice, OU=Test Dept, O=R3, L=London, C=GB  \\\n",
       "\n",
       "                                             issuer  quantity  transferable   \n",
       "0  CN=Authority, OU=Test Dept, O=R3, L=London, C=GB         8         False  \\\n",
       "\n",
       "  expiry  verifiable attributes  \n",
       "0   None        True         {}  "
      ]
     },
     "metadata": {},
     "output_type": "display_data"
    }
   ],
   "source": [
    "# Query Test 1 -- Query all the instruments\n",
    "h.query_all_nodes()"
   ]
  },
  {
   "cell_type": "code",
   "execution_count": 78,
   "id": "4fd3e0b9",
   "metadata": {},
   "outputs": [
    {
     "data": {
      "text/html": [
       "<div>\n",
       "<style scoped>\n",
       "    .dataframe tbody tr th:only-of-type {\n",
       "        vertical-align: middle;\n",
       "    }\n",
       "\n",
       "    .dataframe tbody tr th {\n",
       "        vertical-align: top;\n",
       "    }\n",
       "\n",
       "    .dataframe thead th {\n",
       "        text-align: right;\n",
       "    }\n",
       "</style>\n",
       "<table border=\"1\" class=\"dataframe\">\n",
       "  <thead>\n",
       "    <tr style=\"text-align: right;\">\n",
       "      <th></th>\n",
       "      <th>id</th>\n",
       "      <th>name</th>\n",
       "      <th>owner</th>\n",
       "      <th>issuer</th>\n",
       "      <th>quantity</th>\n",
       "      <th>transferable</th>\n",
       "      <th>expiry</th>\n",
       "      <th>verifiable</th>\n",
       "      <th>attributes</th>\n",
       "    </tr>\n",
       "  </thead>\n",
       "  <tbody>\n",
       "    <tr>\n",
       "      <th>0</th>\n",
       "      <td>5fbd1967-a466-4ec2-a3b5-d16342b939fb</td>\n",
       "      <td>BE Computer Engineering</td>\n",
       "      <td>CN=Charlie, OU=Test Dept, O=R3, L=London, C=GB</td>\n",
       "      <td>CN=Authority, OU=Test Dept, O=R3, L=London, C=GB</td>\n",
       "      <td>None</td>\n",
       "      <td>False</td>\n",
       "      <td>None</td>\n",
       "      <td>True</td>\n",
       "      <td>{'university': 'University of Mumbai', 'year': '2023', 'score': '450/500', 'major subject': '['Robotics', 'AI', 'DSP']'}</td>\n",
       "    </tr>\n",
       "    <tr>\n",
       "      <th>1</th>\n",
       "      <td>344af4c4-9ae9-4710-951e-8a50ee3c1bbd</td>\n",
       "      <td>BE Electric Engineering</td>\n",
       "      <td>CN=Charlie, OU=Test Dept, O=R3, L=London, C=GB</td>\n",
       "      <td>CN=Authority, OU=Test Dept, O=R3, L=London, C=GB</td>\n",
       "      <td>None</td>\n",
       "      <td>False</td>\n",
       "      <td>None</td>\n",
       "      <td>True</td>\n",
       "      <td>{'university': 'University of Singapore', 'year': '2022', 'score': '480/500', 'major subject': '['Electronics', 'Power Systems', 'Energy Systems']'}</td>\n",
       "    </tr>\n",
       "  </tbody>\n",
       "</table>\n",
       "</div>"
      ],
      "text/plain": [
       "                                     id                     name   \n",
       "0  5fbd1967-a466-4ec2-a3b5-d16342b939fb  BE Computer Engineering  \\\n",
       "1  344af4c4-9ae9-4710-951e-8a50ee3c1bbd  BE Electric Engineering   \n",
       "\n",
       "                                            owner   \n",
       "0  CN=Charlie, OU=Test Dept, O=R3, L=London, C=GB  \\\n",
       "1  CN=Charlie, OU=Test Dept, O=R3, L=London, C=GB   \n",
       "\n",
       "                                             issuer quantity  transferable   \n",
       "0  CN=Authority, OU=Test Dept, O=R3, L=London, C=GB     None         False  \\\n",
       "1  CN=Authority, OU=Test Dept, O=R3, L=London, C=GB     None         False   \n",
       "\n",
       "  expiry  verifiable   \n",
       "0   None        True  \\\n",
       "1   None        True   \n",
       "\n",
       "                                                                                                                                             attributes  \n",
       "0                              {'university': 'University of Mumbai', 'year': '2023', 'score': '450/500', 'major subject': '['Robotics', 'AI', 'DSP']'}  \n",
       "1  {'university': 'University of Singapore', 'year': '2022', 'score': '480/500', 'major subject': '['Electronics', 'Power Systems', 'Energy Systems']'}  "
      ]
     },
     "execution_count": 78,
     "metadata": {},
     "output_type": "execute_result"
    }
   ],
   "source": [
    "# Query Test 2 -- Query Charlie's instruments\n",
    "h.query('Charlie')"
   ]
  },
  {
   "cell_type": "code",
   "execution_count": 79,
   "id": "ab4388c3",
   "metadata": {
    "scrolled": true
   },
   "outputs": [
    {
     "data": {
      "text/html": [
       "<div>\n",
       "<style scoped>\n",
       "    .dataframe tbody tr th:only-of-type {\n",
       "        vertical-align: middle;\n",
       "    }\n",
       "\n",
       "    .dataframe tbody tr th {\n",
       "        vertical-align: top;\n",
       "    }\n",
       "\n",
       "    .dataframe thead th {\n",
       "        text-align: right;\n",
       "    }\n",
       "</style>\n",
       "<table border=\"1\" class=\"dataframe\">\n",
       "  <thead>\n",
       "    <tr style=\"text-align: right;\">\n",
       "      <th></th>\n",
       "      <th>id</th>\n",
       "      <th>name</th>\n",
       "      <th>owner</th>\n",
       "      <th>issuer</th>\n",
       "      <th>quantity</th>\n",
       "      <th>transferable</th>\n",
       "      <th>expiry</th>\n",
       "      <th>verifiable</th>\n",
       "      <th>attributes</th>\n",
       "    </tr>\n",
       "  </thead>\n",
       "  <tbody>\n",
       "    <tr>\n",
       "      <th>0</th>\n",
       "      <td>26323a27-e1ac-447d-accb-2c6490aedb11</td>\n",
       "      <td>R3 Hackathon 2023</td>\n",
       "      <td>CN=Bob, OU=Test Dept, O=R3, L=London, C=GB</td>\n",
       "      <td>CN=Authority, OU=Test Dept, O=R3, L=London, C=GB</td>\n",
       "      <td>None</td>\n",
       "      <td>False</td>\n",
       "      <td>None</td>\n",
       "      <td>True</td>\n",
       "      <td>{'Project': 'Corda 5', 'Year': '2023'}</td>\n",
       "    </tr>\n",
       "    <tr>\n",
       "      <th>1</th>\n",
       "      <td>1648be37-1645-456d-8ead-2298f69a57a4</td>\n",
       "      <td>R3 Hackathon 2022</td>\n",
       "      <td>CN=Bob, OU=Test Dept, O=R3, L=London, C=GB</td>\n",
       "      <td>CN=Authority, OU=Test Dept, O=R3, L=London, C=GB</td>\n",
       "      <td>None</td>\n",
       "      <td>False</td>\n",
       "      <td>None</td>\n",
       "      <td>True</td>\n",
       "      <td>{'Project': 'Corda 4', 'Year': '2022'}</td>\n",
       "    </tr>\n",
       "  </tbody>\n",
       "</table>\n",
       "</div>"
      ],
      "text/plain": [
       "                                     id               name   \n",
       "0  26323a27-e1ac-447d-accb-2c6490aedb11  R3 Hackathon 2023  \\\n",
       "1  1648be37-1645-456d-8ead-2298f69a57a4  R3 Hackathon 2022   \n",
       "\n",
       "                                        owner   \n",
       "0  CN=Bob, OU=Test Dept, O=R3, L=London, C=GB  \\\n",
       "1  CN=Bob, OU=Test Dept, O=R3, L=London, C=GB   \n",
       "\n",
       "                                             issuer quantity  transferable   \n",
       "0  CN=Authority, OU=Test Dept, O=R3, L=London, C=GB     None         False  \\\n",
       "1  CN=Authority, OU=Test Dept, O=R3, L=London, C=GB     None         False   \n",
       "\n",
       "  expiry  verifiable                              attributes  \n",
       "0   None        True  {'Project': 'Corda 5', 'Year': '2023'}  \n",
       "1   None        True  {'Project': 'Corda 4', 'Year': '2022'}  "
      ]
     },
     "execution_count": 79,
     "metadata": {},
     "output_type": "execute_result"
    }
   ],
   "source": [
    "# Query Test 3 -- Query Bob's instruments\n",
    "h.query('Bob')"
   ]
  },
  {
   "cell_type": "markdown",
   "id": "a4d2761b",
   "metadata": {},
   "source": [
    "### Transfer:\n",
    "* Not all instruments are transferable.\n",
    "* If transferable -- will work on the basic nature of the instrument decided right from the issue point(by the issuer).\n",
    "* Check = not expired apart from being owned.\n",
    "\n",
    "For Asset Type 4, as it's non tranferable, all the transfer should be **failure**."
   ]
  },
  {
   "cell_type": "code",
   "execution_count": 81,
   "id": "f6d8a134",
   "metadata": {},
   "outputs": [
    {
     "name": "stderr",
     "output_type": "stream",
     "text": [
      " 19-05 12:58:50 | \u001b[32mI\u001b[0m | \u001b[32mTranfering instrument id '1648be37-1645-456d-8ead-2298f69a57a4' to 'Alice'\u001b[0m\n",
      " 19-05 12:58:50 | \u001b[32mI\u001b[0m | \u001b[32mRunning action 'Transfer' on 'Bob/972B13CEE093/CN=Bob, OU=Test Dept, O=R3, L=London, C=GB'\u001b[0m\n",
      " 19-05 12:58:54 | \u001b[32mI\u001b[0m | \u001b[32m{'type': 'FLOW_FAILED', 'message': 'java.lang.NullPointerException'}\u001b[0m\n",
      " 19-05 12:58:54 | \u001b[32mI\u001b[0m | \u001b[32mTime taken = 0:00:04.065927\u001b[0m\n"
     ]
    },
    {
     "name": "stdout",
     "output_type": "stream",
     "text": [
      "51611.1684472330.922407<Response [200]>{'type': 'FLOW_FAILED', 'message': 'java.lang.NullPointerException'}"
     ]
    }
   ],
   "source": [
    "# Transfer Test 1 -- Transfer from Holder with quantity (Type 4, Transferable = N, Quantifiable = N)\n",
    "# Expected -- Failure\n",
    "(req_id, response, return_val) = h.transfer(return_val_uuid, 'Bob', 'Alice', quantity=2)\n",
    "h.message([req_id, response, return_val])"
   ]
  },
  {
   "cell_type": "code",
   "execution_count": 82,
   "id": "df9049cc",
   "metadata": {},
   "outputs": [
    {
     "name": "stderr",
     "output_type": "stream",
     "text": [
      " 19-05 12:59:01 | \u001b[32mI\u001b[0m | \u001b[32mTranfering instrument id '1648be37-1645-456d-8ead-2298f69a57a4' to 'Alice'\u001b[0m\n",
      " 19-05 12:59:01 | \u001b[32mI\u001b[0m | \u001b[32mRunning action 'Transfer' on 'Bob/972B13CEE093/CN=Bob, OU=Test Dept, O=R3, L=London, C=GB'\u001b[0m\n",
      " 19-05 12:59:05 | \u001b[32mI\u001b[0m | \u001b[32m{'type': 'FLOW_FAILED', 'message': 'net.corda.v5.ledger.utxo.ContractVerificationException: Verification of ledger transaction with ID SHA-256D:7A8F81A6723B36B41AEF42D0CA2DB92BF337366FF28AC78DBB3F53784CF8C2FE failed: net.corda.v5.ledger.utxo.ContractVerificationException: Ledger transaction contract verification failed for the specified transaction: SHA-256D:7A8F81A6723B36B41AEF42D0CA2DB92BF337366FF28AC78DBB3F53784CF8C2FE.\\nThe following contract verification requirements were not met:\\ncom.r3.developers.configurableInstrument.contracts.InstrumentContract: Failed requirement: Instrument is not transferable.\\n'}\u001b[0m\n",
      " 19-05 12:59:05 | \u001b[32mI\u001b[0m | \u001b[32mTime taken = 0:00:04.064760\u001b[0m\n"
     ]
    },
    {
     "name": "stdout",
     "output_type": "stream",
     "text": [
      "51611.1684472341.407778<Response [200]>{'type': 'FLOW_FAILED', 'message': 'net.corda.v5.ledger.utxo.ContractVerificationException: Verification of ledger transaction with ID SHA-256D:7A8F81A6723B36B41AEF42D0CA2DB92BF337366FF28AC78DBB3F53784CF8C2FE failed: net.corda.v5.ledger.utxo.ContractVerificationException: Ledger transaction contract verification failed for the specified transaction: SHA-256D:7A8F81A6723B36B41AEF42D0CA2DB92BF337366FF28AC78DBB3F53784CF8C2FE.\\nThe following contract verification requirements were not met:\\ncom.r3.developers.configurableInstrument.contracts.InstrumentContract: Failed requirement: Instrument is not transferable.\\n'}"
     ]
    }
   ],
   "source": [
    "# Transfer Test 2 -- Transfer from Holder without quantity\n",
    "# Expected -- Failure\n",
    "(req_id, response, return_val) = h.transfer(return_val_uuid, 'Bob', 'Alice')\n",
    "h.message([req_id, response, return_val])"
   ]
  },
  {
   "cell_type": "code",
   "execution_count": 83,
   "id": "ae5dd3a2",
   "metadata": {},
   "outputs": [
    {
     "name": "stderr",
     "output_type": "stream",
     "text": [
      " 19-05 12:59:17 | \u001b[32mI\u001b[0m | \u001b[32mTranfering instrument id '1648be37-1645-456d-8ead-2298f69a57a4' to 'Alice'\u001b[0m\n",
      " 19-05 12:59:17 | \u001b[32mI\u001b[0m | \u001b[32mRunning action 'Transfer' on 'Authority/F0E569C4765C/CN=Authority, OU=Test Dept, O=R3, L=London, C=GB'\u001b[0m\n",
      " 19-05 12:59:22 | \u001b[32mI\u001b[0m | \u001b[32m{'type': 'FLOW_FAILED', 'message': 'Not able to find a owning state with id 1648be37-1645-456d-8ead-2298f69a57a4'}\u001b[0m\n",
      " 19-05 12:59:22 | \u001b[32mI\u001b[0m | \u001b[32mTime taken = 0:00:04.062412\u001b[0m\n"
     ]
    },
    {
     "name": "stdout",
     "output_type": "stream",
     "text": [
      "51611.1684472357.970811<Response [200]>{'type': 'FLOW_FAILED', 'message': 'Not able to find a owning state with id 1648be37-1645-456d-8ead-2298f69a57a4'}"
     ]
    }
   ],
   "source": [
    "# Transfer Test 3 -- Transfer from Issuer\n",
    "# Expected -- Failure\n",
    "(req_id, response, return_val) = h.transfer(return_val_uuid, 'Authority', 'Alice')\n",
    "h.message([req_id, response, return_val])"
   ]
  },
  {
   "cell_type": "code",
   "execution_count": 84,
   "id": "5648517d",
   "metadata": {},
   "outputs": [
    {
     "name": "stderr",
     "output_type": "stream",
     "text": [
      " 19-05 12:59:24 | \u001b[32mI\u001b[0m | \u001b[32mTranfering instrument id '1648be37-1645-456d-8ead-2298f69a57a4' to 'Charlie'\u001b[0m\n",
      " 19-05 12:59:24 | \u001b[32mI\u001b[0m | \u001b[32mRunning action 'Transfer' on 'Alice/F07CC621F1DF/CN=Alice, OU=Test Dept, O=R3, L=London, C=GB'\u001b[0m\n",
      " 19-05 12:59:28 | \u001b[32mI\u001b[0m | \u001b[32m{'type': 'FLOW_FAILED', 'message': 'Not able to find a owning state with id 1648be37-1645-456d-8ead-2298f69a57a4'}\u001b[0m\n",
      " 19-05 12:59:28 | \u001b[32mI\u001b[0m | \u001b[32mTime taken = 0:00:04.054180\u001b[0m\n"
     ]
    },
    {
     "name": "stdout",
     "output_type": "stream",
     "text": [
      "51611.1684472364.044714<Response [200]>{'type': 'FLOW_FAILED', 'message': 'Not able to find a owning state with id 1648be37-1645-456d-8ead-2298f69a57a4'}"
     ]
    }
   ],
   "source": [
    "# Transfer Test 4 -- Transfer from Non Holder \n",
    "# Expected -- Failure\n",
    "(req_id, response, return_val) = h.transfer(return_val_uuid, 'Alice', 'Charlie')\n",
    "h.message([req_id, response, return_val])"
   ]
  },
  {
   "cell_type": "markdown",
   "id": "ef904de2",
   "metadata": {},
   "source": [
    "### Redeem:\n",
    "* Not all instruments will have expiry/maturity.\n",
    "* Redeem can be executed by either the owner (holder of the asset) or also by the issuer of the asset (present design, can be controlled)\n",
    "* If permitted, it will work on the basic nature of the instrument decided right from the issue point(by the issuer).\n",
    "* In Asset type 1, all the redeems apart from non holders should be succeed\n",
    "\n",
    "For Asset type 4, all the redeems apart from non holders should be **succeed*."
   ]
  },
  {
   "cell_type": "code",
   "execution_count": 86,
   "id": "d64fe7db",
   "metadata": {},
   "outputs": [
    {
     "name": "stderr",
     "output_type": "stream",
     "text": [
      " 19-05 13:00:50 | \u001b[32mI\u001b[0m | \u001b[32mRedeeming instrument id '5fbd1967-a466-4ec2-a3b5-d16342b939fb' quantity '1'\u001b[0m\n",
      " 19-05 13:00:50 | \u001b[32mI\u001b[0m | \u001b[32mRunning action 'Redeem' on 'Charlie/AD4AA4F0D9B1/CN=Charlie, OU=Test Dept, O=R3, L=London, C=GB'\u001b[0m\n",
      " 19-05 13:00:54 | \u001b[32mI\u001b[0m | \u001b[32m{'type': 'FLOW_FAILED', 'message': 'Redeem quantity requested is 1, whereas quantity in instrument id 5fbd1967-a466-4ec2-a3b5-d16342b939fb is null'}\u001b[0m\n",
      " 19-05 13:00:54 | \u001b[32mI\u001b[0m | \u001b[32mTime taken = 0:00:04.136916\u001b[0m\n"
     ]
    },
    {
     "name": "stdout",
     "output_type": "stream",
     "text": [
      "51611.1684472450.79387<Response [200]>{'type': 'FLOW_FAILED', 'message': 'Redeem quantity requested is 1, whereas quantity in instrument id 5fbd1967-a466-4ec2-a3b5-d16342b939fb is null'}"
     ]
    }
   ],
   "source": [
    "# Redeem Test1 -- Redeem by Holder Charlie with quantity\n",
    "# Exepected -- Failure\n",
    "\n",
    "(req_id, response, return_val) = h.redeem('5fbd1967-a466-4ec2-a3b5-d16342b939fb', 'Charlie',quantity=1)\n",
    "h.message([req_id, response, return_val])"
   ]
  },
  {
   "cell_type": "code",
   "execution_count": 87,
   "id": "7b5c10cf",
   "metadata": {},
   "outputs": [
    {
     "name": "stderr",
     "output_type": "stream",
     "text": [
      " 19-05 13:01:13 | \u001b[32mI\u001b[0m | \u001b[32mRedeeming instrument id '5fbd1967-a466-4ec2-a3b5-d16342b939fb' quantity 'None'\u001b[0m\n",
      " 19-05 13:01:13 | \u001b[32mI\u001b[0m | \u001b[32mRunning action 'Redeem' on 'Charlie/AD4AA4F0D9B1/CN=Charlie, OU=Test Dept, O=R3, L=London, C=GB'\u001b[0m\n",
      " 19-05 13:01:57 | \u001b[32mI\u001b[0m | \u001b[32mnet.corda.ledger.utxo.flow.impl.FinalizationResultImpl@3d7971bd\u001b[0m\n",
      " 19-05 13:01:57 | \u001b[32mI\u001b[0m | \u001b[32mTime taken = 0:00:44.340410\u001b[0m\n"
     ]
    },
    {
     "name": "stdout",
     "output_type": "stream",
     "text": [
      "51611.1684472473.1302881<Response [200]>net.corda.ledger.utxo.flow.impl.FinalizationResultImpl@3d7971bd"
     ]
    }
   ],
   "source": [
    "# Redeem Test2 -- Redeem by Holder Charlie without quantity\n",
    "# Exepected -- Succeed\n",
    "\n",
    "(req_id, response, return_val) = h.redeem('5fbd1967-a466-4ec2-a3b5-d16342b939fb', 'Charlie')\n",
    "h.message([req_id, response, return_val])"
   ]
  },
  {
   "cell_type": "code",
   "execution_count": 88,
   "id": "59f2d405",
   "metadata": {},
   "outputs": [
    {
     "data": {
      "text/html": [
       "<div>\n",
       "<style scoped>\n",
       "    .dataframe tbody tr th:only-of-type {\n",
       "        vertical-align: middle;\n",
       "    }\n",
       "\n",
       "    .dataframe tbody tr th {\n",
       "        vertical-align: top;\n",
       "    }\n",
       "\n",
       "    .dataframe thead th {\n",
       "        text-align: right;\n",
       "    }\n",
       "</style>\n",
       "<table border=\"1\" class=\"dataframe\">\n",
       "  <thead>\n",
       "    <tr style=\"text-align: right;\">\n",
       "      <th></th>\n",
       "      <th>id</th>\n",
       "      <th>name</th>\n",
       "      <th>owner</th>\n",
       "      <th>issuer</th>\n",
       "      <th>quantity</th>\n",
       "      <th>transferable</th>\n",
       "      <th>expiry</th>\n",
       "      <th>verifiable</th>\n",
       "      <th>attributes</th>\n",
       "    </tr>\n",
       "  </thead>\n",
       "  <tbody>\n",
       "    <tr>\n",
       "      <th>0</th>\n",
       "      <td>344af4c4-9ae9-4710-951e-8a50ee3c1bbd</td>\n",
       "      <td>BE Electric Engineering</td>\n",
       "      <td>CN=Charlie, OU=Test Dept, O=R3, L=London, C=GB</td>\n",
       "      <td>CN=Authority, OU=Test Dept, O=R3, L=London, C=GB</td>\n",
       "      <td>None</td>\n",
       "      <td>False</td>\n",
       "      <td>None</td>\n",
       "      <td>True</td>\n",
       "      <td>{'university': 'University of Singapore', 'year': '2022', 'score': '480/500', 'major subject': '['Electronics', 'Power Systems', 'Energy Systems']'}</td>\n",
       "    </tr>\n",
       "  </tbody>\n",
       "</table>\n",
       "</div>"
      ],
      "text/plain": [
       "                                     id                     name   \n",
       "0  344af4c4-9ae9-4710-951e-8a50ee3c1bbd  BE Electric Engineering  \\\n",
       "\n",
       "                                            owner   \n",
       "0  CN=Charlie, OU=Test Dept, O=R3, L=London, C=GB  \\\n",
       "\n",
       "                                             issuer quantity  transferable   \n",
       "0  CN=Authority, OU=Test Dept, O=R3, L=London, C=GB     None         False  \\\n",
       "\n",
       "  expiry  verifiable   \n",
       "0   None        True  \\\n",
       "\n",
       "                                                                                                                                             attributes  \n",
       "0  {'university': 'University of Singapore', 'year': '2022', 'score': '480/500', 'major subject': '['Electronics', 'Power Systems', 'Energy Systems']'}  "
      ]
     },
     "execution_count": 88,
     "metadata": {},
     "output_type": "execute_result"
    }
   ],
   "source": [
    "# Now, query Charlie\n",
    "h.query('Charlie')"
   ]
  },
  {
   "cell_type": "code",
   "execution_count": 90,
   "id": "2d24443e",
   "metadata": {},
   "outputs": [
    {
     "name": "stderr",
     "output_type": "stream",
     "text": [
      " 19-05 13:04:11 | \u001b[32mI\u001b[0m | \u001b[32mRedeeming instrument id '26323a27-e1ac-447d-accb-2c6490aedb11' quantity '2'\u001b[0m\n",
      " 19-05 13:04:11 | \u001b[32mI\u001b[0m | \u001b[32mRunning action 'Redeem' on 'Authority/F0E569C4765C/CN=Authority, OU=Test Dept, O=R3, L=London, C=GB'\u001b[0m\n",
      " 19-05 13:04:15 | \u001b[32mI\u001b[0m | \u001b[32m{'type': 'FLOW_FAILED', 'message': 'Redeem quantity requested is 2, whereas quantity in instrument id 26323a27-e1ac-447d-accb-2c6490aedb11 is null'}\u001b[0m\n",
      " 19-05 13:04:15 | \u001b[32mI\u001b[0m | \u001b[32mTime taken = 0:00:04.053449\u001b[0m\n"
     ]
    },
    {
     "name": "stdout",
     "output_type": "stream",
     "text": [
      "51611.1684472651.8188689<Response [200]>{'type': 'FLOW_FAILED', 'message': 'Redeem quantity requested is 2, whereas quantity in instrument id 26323a27-e1ac-447d-accb-2c6490aedb11 is null'}"
     ]
    }
   ],
   "source": [
    "# Redeem Test 3 -- Redeem Bob's asset by Issuer with quantity\n",
    "# Exepected -- Failure\n",
    "(req_id, response, return_val) = h.redeem('26323a27-e1ac-447d-accb-2c6490aedb11', 'Authority', quantity=2)\n",
    "h.message([req_id, response, return_val])"
   ]
  },
  {
   "cell_type": "code",
   "execution_count": 91,
   "id": "9a9781e2",
   "metadata": {},
   "outputs": [
    {
     "name": "stderr",
     "output_type": "stream",
     "text": [
      " 19-05 13:04:23 | \u001b[32mI\u001b[0m | \u001b[32mRedeeming instrument id '26323a27-e1ac-447d-accb-2c6490aedb11' quantity 'None'\u001b[0m\n",
      " 19-05 13:04:23 | \u001b[32mI\u001b[0m | \u001b[32mRunning action 'Redeem' on 'Authority/F0E569C4765C/CN=Authority, OU=Test Dept, O=R3, L=London, C=GB'\u001b[0m\n",
      " 19-05 13:05:08 | \u001b[32mI\u001b[0m | \u001b[32mnet.corda.ledger.utxo.flow.impl.FinalizationResultImpl@7d23f0a5\u001b[0m\n",
      " 19-05 13:05:08 | \u001b[32mI\u001b[0m | \u001b[32mTime taken = 0:00:44.321505\u001b[0m\n"
     ]
    },
    {
     "name": "stdout",
     "output_type": "stream",
     "text": [
      "51611.1684472663.773203<Response [200]>net.corda.ledger.utxo.flow.impl.FinalizationResultImpl@7d23f0a5"
     ]
    }
   ],
   "source": [
    "# Redeem Test 4 -- Redeem Bob's asset by Issuer without quantity\n",
    "# Exepected -- Succeed\n",
    "(req_id, response, return_val) = h.redeem('26323a27-e1ac-447d-accb-2c6490aedb11', 'Authority')\n",
    "h.message([req_id, response, return_val])"
   ]
  },
  {
   "cell_type": "code",
   "execution_count": 92,
   "id": "68c87ee8",
   "metadata": {},
   "outputs": [
    {
     "data": {
      "text/html": [
       "<div>\n",
       "<style scoped>\n",
       "    .dataframe tbody tr th:only-of-type {\n",
       "        vertical-align: middle;\n",
       "    }\n",
       "\n",
       "    .dataframe tbody tr th {\n",
       "        vertical-align: top;\n",
       "    }\n",
       "\n",
       "    .dataframe thead th {\n",
       "        text-align: right;\n",
       "    }\n",
       "</style>\n",
       "<table border=\"1\" class=\"dataframe\">\n",
       "  <thead>\n",
       "    <tr style=\"text-align: right;\">\n",
       "      <th></th>\n",
       "      <th>id</th>\n",
       "      <th>name</th>\n",
       "      <th>owner</th>\n",
       "      <th>issuer</th>\n",
       "      <th>quantity</th>\n",
       "      <th>transferable</th>\n",
       "      <th>expiry</th>\n",
       "      <th>verifiable</th>\n",
       "      <th>attributes</th>\n",
       "    </tr>\n",
       "  </thead>\n",
       "  <tbody>\n",
       "    <tr>\n",
       "      <th>0</th>\n",
       "      <td>1648be37-1645-456d-8ead-2298f69a57a4</td>\n",
       "      <td>R3 Hackathon 2022</td>\n",
       "      <td>CN=Bob, OU=Test Dept, O=R3, L=London, C=GB</td>\n",
       "      <td>CN=Authority, OU=Test Dept, O=R3, L=London, C=GB</td>\n",
       "      <td>None</td>\n",
       "      <td>False</td>\n",
       "      <td>None</td>\n",
       "      <td>True</td>\n",
       "      <td>{'Project': 'Corda 4', 'Year': '2022'}</td>\n",
       "    </tr>\n",
       "  </tbody>\n",
       "</table>\n",
       "</div>"
      ],
      "text/plain": [
       "                                     id               name   \n",
       "0  1648be37-1645-456d-8ead-2298f69a57a4  R3 Hackathon 2022  \\\n",
       "\n",
       "                                        owner   \n",
       "0  CN=Bob, OU=Test Dept, O=R3, L=London, C=GB  \\\n",
       "\n",
       "                                             issuer quantity  transferable   \n",
       "0  CN=Authority, OU=Test Dept, O=R3, L=London, C=GB     None         False  \\\n",
       "\n",
       "  expiry  verifiable                              attributes  \n",
       "0   None        True  {'Project': 'Corda 4', 'Year': '2022'}  "
      ]
     },
     "execution_count": 92,
     "metadata": {},
     "output_type": "execute_result"
    }
   ],
   "source": [
    "# Now, query Bob\n",
    "h.query('Bob')"
   ]
  },
  {
   "cell_type": "code",
   "execution_count": 93,
   "id": "78fdd703",
   "metadata": {},
   "outputs": [
    {
     "name": "stderr",
     "output_type": "stream",
     "text": [
      " 19-05 13:06:04 | \u001b[32mI\u001b[0m | \u001b[32mRedeeming instrument id '1648be37-1645-456d-8ead-2298f69a57a4' quantity 'None'\u001b[0m\n",
      " 19-05 13:06:04 | \u001b[32mI\u001b[0m | \u001b[32mRunning action 'Redeem' on 'Alice/F07CC621F1DF/CN=Alice, OU=Test Dept, O=R3, L=London, C=GB'\u001b[0m\n",
      " 19-05 13:06:08 | \u001b[32mI\u001b[0m | \u001b[32m{'type': 'FLOW_FAILED', 'message': 'Not able to find a owning state with id 1648be37-1645-456d-8ead-2298f69a57a4'}\u001b[0m\n",
      " 19-05 13:06:08 | \u001b[32mI\u001b[0m | \u001b[32mTime taken = 0:00:04.059568\u001b[0m\n"
     ]
    },
    {
     "name": "stdout",
     "output_type": "stream",
     "text": [
      "51611.1684472764.261621<Response [200]>{'type': 'FLOW_FAILED', 'message': 'Not able to find a owning state with id 1648be37-1645-456d-8ead-2298f69a57a4'}"
     ]
    }
   ],
   "source": [
    "# Redeem Test 5 -- Redeem Bob's asset by Non Holder Alice\n",
    "# Exepected -- Failure\n",
    "(req_id, response, return_val) = h.redeem('1648be37-1645-456d-8ead-2298f69a57a4', 'Alice')\n",
    "h.message([req_id, response, return_val])"
   ]
  },
  {
   "cell_type": "code",
   "execution_count": 94,
   "id": "a05afaab",
   "metadata": {
    "scrolled": true
   },
   "outputs": [
    {
     "name": "stderr",
     "output_type": "stream",
     "text": [
      " 19-05 13:07:06 | \u001b[32mI\u001b[0m | \u001b[32mResult for query=ListInstrument from 'Authority/F0E569C4765C/CN=Authority, OU=Test Dept, O=R3, L=London, C=GB'. (Time taken=0:00:04.081699)\u001b[0m\n"
     ]
    },
    {
     "data": {
      "text/html": [
       "<div>\n",
       "<style scoped>\n",
       "    .dataframe tbody tr th:only-of-type {\n",
       "        vertical-align: middle;\n",
       "    }\n",
       "\n",
       "    .dataframe tbody tr th {\n",
       "        vertical-align: top;\n",
       "    }\n",
       "\n",
       "    .dataframe thead th {\n",
       "        text-align: right;\n",
       "    }\n",
       "</style>\n",
       "<table border=\"1\" class=\"dataframe\">\n",
       "  <thead>\n",
       "    <tr style=\"text-align: right;\">\n",
       "      <th></th>\n",
       "      <th>id</th>\n",
       "      <th>name</th>\n",
       "      <th>owner</th>\n",
       "      <th>issuer</th>\n",
       "      <th>quantity</th>\n",
       "      <th>transferable</th>\n",
       "      <th>expiry</th>\n",
       "      <th>verifiable</th>\n",
       "      <th>attributes</th>\n",
       "    </tr>\n",
       "  </thead>\n",
       "  <tbody>\n",
       "    <tr>\n",
       "      <th>0</th>\n",
       "      <td>d4ea67e0-9945-4fe5-b0da-c3ef0d457e32</td>\n",
       "      <td>Star Alliance Travel Points</td>\n",
       "      <td>CN=Alice, OU=Test Dept, O=R3, L=London, C=GB</td>\n",
       "      <td>CN=Authority, OU=Test Dept, O=R3, L=London, C=GB</td>\n",
       "      <td>8.0</td>\n",
       "      <td>False</td>\n",
       "      <td>None</td>\n",
       "      <td>True</td>\n",
       "      <td>{}</td>\n",
       "    </tr>\n",
       "    <tr>\n",
       "      <th>1</th>\n",
       "      <td>344af4c4-9ae9-4710-951e-8a50ee3c1bbd</td>\n",
       "      <td>BE Electric Engineering</td>\n",
       "      <td>CN=Charlie, OU=Test Dept, O=R3, L=London, C=GB</td>\n",
       "      <td>CN=Authority, OU=Test Dept, O=R3, L=London, C=GB</td>\n",
       "      <td>NaN</td>\n",
       "      <td>False</td>\n",
       "      <td>None</td>\n",
       "      <td>True</td>\n",
       "      <td>{'university': 'University of Singapore', 'year': '2022', 'score': '480/500', 'major subject': '['Electronics', 'Power Systems', 'Energy Systems']'}</td>\n",
       "    </tr>\n",
       "    <tr>\n",
       "      <th>2</th>\n",
       "      <td>1648be37-1645-456d-8ead-2298f69a57a4</td>\n",
       "      <td>R3 Hackathon 2022</td>\n",
       "      <td>CN=Bob, OU=Test Dept, O=R3, L=London, C=GB</td>\n",
       "      <td>CN=Authority, OU=Test Dept, O=R3, L=London, C=GB</td>\n",
       "      <td>NaN</td>\n",
       "      <td>False</td>\n",
       "      <td>None</td>\n",
       "      <td>True</td>\n",
       "      <td>{'Project': 'Corda 4', 'Year': '2022'}</td>\n",
       "    </tr>\n",
       "  </tbody>\n",
       "</table>\n",
       "</div>"
      ],
      "text/plain": [
       "                                     id                         name   \n",
       "0  d4ea67e0-9945-4fe5-b0da-c3ef0d457e32  Star Alliance Travel Points  \\\n",
       "1  344af4c4-9ae9-4710-951e-8a50ee3c1bbd      BE Electric Engineering   \n",
       "2  1648be37-1645-456d-8ead-2298f69a57a4            R3 Hackathon 2022   \n",
       "\n",
       "                                            owner   \n",
       "0    CN=Alice, OU=Test Dept, O=R3, L=London, C=GB  \\\n",
       "1  CN=Charlie, OU=Test Dept, O=R3, L=London, C=GB   \n",
       "2      CN=Bob, OU=Test Dept, O=R3, L=London, C=GB   \n",
       "\n",
       "                                             issuer  quantity  transferable   \n",
       "0  CN=Authority, OU=Test Dept, O=R3, L=London, C=GB       8.0         False  \\\n",
       "1  CN=Authority, OU=Test Dept, O=R3, L=London, C=GB       NaN         False   \n",
       "2  CN=Authority, OU=Test Dept, O=R3, L=London, C=GB       NaN         False   \n",
       "\n",
       "  expiry  verifiable   \n",
       "0   None        True  \\\n",
       "1   None        True   \n",
       "2   None        True   \n",
       "\n",
       "                                                                                                                                             attributes  \n",
       "0                                                                                                                                                    {}  \n",
       "1  {'university': 'University of Singapore', 'year': '2022', 'score': '480/500', 'major subject': '['Electronics', 'Power Systems', 'Energy Systems']'}  \n",
       "2                                                                                                                {'Project': 'Corda 4', 'Year': '2022'}  "
      ]
     },
     "metadata": {},
     "output_type": "display_data"
    },
    {
     "name": "stderr",
     "output_type": "stream",
     "text": [
      " 19-05 13:07:11 | \u001b[32mI\u001b[0m | \u001b[32mResult for query=ListInstrument from 'Bob/972B13CEE093/CN=Bob, OU=Test Dept, O=R3, L=London, C=GB'. (Time taken=0:00:04.077927)\u001b[0m\n"
     ]
    },
    {
     "data": {
      "text/html": [
       "<div>\n",
       "<style scoped>\n",
       "    .dataframe tbody tr th:only-of-type {\n",
       "        vertical-align: middle;\n",
       "    }\n",
       "\n",
       "    .dataframe tbody tr th {\n",
       "        vertical-align: top;\n",
       "    }\n",
       "\n",
       "    .dataframe thead th {\n",
       "        text-align: right;\n",
       "    }\n",
       "</style>\n",
       "<table border=\"1\" class=\"dataframe\">\n",
       "  <thead>\n",
       "    <tr style=\"text-align: right;\">\n",
       "      <th></th>\n",
       "      <th>id</th>\n",
       "      <th>name</th>\n",
       "      <th>owner</th>\n",
       "      <th>issuer</th>\n",
       "      <th>quantity</th>\n",
       "      <th>transferable</th>\n",
       "      <th>expiry</th>\n",
       "      <th>verifiable</th>\n",
       "      <th>attributes</th>\n",
       "    </tr>\n",
       "  </thead>\n",
       "  <tbody>\n",
       "    <tr>\n",
       "      <th>0</th>\n",
       "      <td>1648be37-1645-456d-8ead-2298f69a57a4</td>\n",
       "      <td>R3 Hackathon 2022</td>\n",
       "      <td>CN=Bob, OU=Test Dept, O=R3, L=London, C=GB</td>\n",
       "      <td>CN=Authority, OU=Test Dept, O=R3, L=London, C=GB</td>\n",
       "      <td>None</td>\n",
       "      <td>False</td>\n",
       "      <td>None</td>\n",
       "      <td>True</td>\n",
       "      <td>{'Project': 'Corda 4', 'Year': '2022'}</td>\n",
       "    </tr>\n",
       "  </tbody>\n",
       "</table>\n",
       "</div>"
      ],
      "text/plain": [
       "                                     id               name   \n",
       "0  1648be37-1645-456d-8ead-2298f69a57a4  R3 Hackathon 2022  \\\n",
       "\n",
       "                                        owner   \n",
       "0  CN=Bob, OU=Test Dept, O=R3, L=London, C=GB  \\\n",
       "\n",
       "                                             issuer quantity  transferable   \n",
       "0  CN=Authority, OU=Test Dept, O=R3, L=London, C=GB     None         False  \\\n",
       "\n",
       "  expiry  verifiable                              attributes  \n",
       "0   None        True  {'Project': 'Corda 4', 'Year': '2022'}  "
      ]
     },
     "metadata": {},
     "output_type": "display_data"
    },
    {
     "name": "stderr",
     "output_type": "stream",
     "text": [
      " 19-05 13:07:15 | \u001b[32mI\u001b[0m | \u001b[32mResult for query=ListInstrument from 'Charlie/AD4AA4F0D9B1/CN=Charlie, OU=Test Dept, O=R3, L=London, C=GB'. (Time taken=0:00:04.079431)\u001b[0m\n"
     ]
    },
    {
     "data": {
      "text/html": [
       "<div>\n",
       "<style scoped>\n",
       "    .dataframe tbody tr th:only-of-type {\n",
       "        vertical-align: middle;\n",
       "    }\n",
       "\n",
       "    .dataframe tbody tr th {\n",
       "        vertical-align: top;\n",
       "    }\n",
       "\n",
       "    .dataframe thead th {\n",
       "        text-align: right;\n",
       "    }\n",
       "</style>\n",
       "<table border=\"1\" class=\"dataframe\">\n",
       "  <thead>\n",
       "    <tr style=\"text-align: right;\">\n",
       "      <th></th>\n",
       "      <th>id</th>\n",
       "      <th>name</th>\n",
       "      <th>owner</th>\n",
       "      <th>issuer</th>\n",
       "      <th>quantity</th>\n",
       "      <th>transferable</th>\n",
       "      <th>expiry</th>\n",
       "      <th>verifiable</th>\n",
       "      <th>attributes</th>\n",
       "    </tr>\n",
       "  </thead>\n",
       "  <tbody>\n",
       "    <tr>\n",
       "      <th>0</th>\n",
       "      <td>344af4c4-9ae9-4710-951e-8a50ee3c1bbd</td>\n",
       "      <td>BE Electric Engineering</td>\n",
       "      <td>CN=Charlie, OU=Test Dept, O=R3, L=London, C=GB</td>\n",
       "      <td>CN=Authority, OU=Test Dept, O=R3, L=London, C=GB</td>\n",
       "      <td>None</td>\n",
       "      <td>False</td>\n",
       "      <td>None</td>\n",
       "      <td>True</td>\n",
       "      <td>{'university': 'University of Singapore', 'year': '2022', 'score': '480/500', 'major subject': '['Electronics', 'Power Systems', 'Energy Systems']'}</td>\n",
       "    </tr>\n",
       "  </tbody>\n",
       "</table>\n",
       "</div>"
      ],
      "text/plain": [
       "                                     id                     name   \n",
       "0  344af4c4-9ae9-4710-951e-8a50ee3c1bbd  BE Electric Engineering  \\\n",
       "\n",
       "                                            owner   \n",
       "0  CN=Charlie, OU=Test Dept, O=R3, L=London, C=GB  \\\n",
       "\n",
       "                                             issuer quantity  transferable   \n",
       "0  CN=Authority, OU=Test Dept, O=R3, L=London, C=GB     None         False  \\\n",
       "\n",
       "  expiry  verifiable   \n",
       "0   None        True  \\\n",
       "\n",
       "                                                                                                                                             attributes  \n",
       "0  {'university': 'University of Singapore', 'year': '2022', 'score': '480/500', 'major subject': '['Electronics', 'Power Systems', 'Energy Systems']'}  "
      ]
     },
     "metadata": {},
     "output_type": "display_data"
    },
    {
     "name": "stderr",
     "output_type": "stream",
     "text": [
      " 19-05 13:07:19 | \u001b[32mI\u001b[0m | \u001b[32mResult for query=ListInstrument from 'Alice/F07CC621F1DF/CN=Alice, OU=Test Dept, O=R3, L=London, C=GB'. (Time taken=0:00:04.078491)\u001b[0m\n"
     ]
    },
    {
     "data": {
      "text/html": [
       "<div>\n",
       "<style scoped>\n",
       "    .dataframe tbody tr th:only-of-type {\n",
       "        vertical-align: middle;\n",
       "    }\n",
       "\n",
       "    .dataframe tbody tr th {\n",
       "        vertical-align: top;\n",
       "    }\n",
       "\n",
       "    .dataframe thead th {\n",
       "        text-align: right;\n",
       "    }\n",
       "</style>\n",
       "<table border=\"1\" class=\"dataframe\">\n",
       "  <thead>\n",
       "    <tr style=\"text-align: right;\">\n",
       "      <th></th>\n",
       "      <th>id</th>\n",
       "      <th>name</th>\n",
       "      <th>owner</th>\n",
       "      <th>issuer</th>\n",
       "      <th>quantity</th>\n",
       "      <th>transferable</th>\n",
       "      <th>expiry</th>\n",
       "      <th>verifiable</th>\n",
       "      <th>attributes</th>\n",
       "    </tr>\n",
       "  </thead>\n",
       "  <tbody>\n",
       "    <tr>\n",
       "      <th>0</th>\n",
       "      <td>d4ea67e0-9945-4fe5-b0da-c3ef0d457e32</td>\n",
       "      <td>Star Alliance Travel Points</td>\n",
       "      <td>CN=Alice, OU=Test Dept, O=R3, L=London, C=GB</td>\n",
       "      <td>CN=Authority, OU=Test Dept, O=R3, L=London, C=GB</td>\n",
       "      <td>8</td>\n",
       "      <td>False</td>\n",
       "      <td>None</td>\n",
       "      <td>True</td>\n",
       "      <td>{}</td>\n",
       "    </tr>\n",
       "  </tbody>\n",
       "</table>\n",
       "</div>"
      ],
      "text/plain": [
       "                                     id                         name   \n",
       "0  d4ea67e0-9945-4fe5-b0da-c3ef0d457e32  Star Alliance Travel Points  \\\n",
       "\n",
       "                                          owner   \n",
       "0  CN=Alice, OU=Test Dept, O=R3, L=London, C=GB  \\\n",
       "\n",
       "                                             issuer  quantity  transferable   \n",
       "0  CN=Authority, OU=Test Dept, O=R3, L=London, C=GB         8         False  \\\n",
       "\n",
       "  expiry  verifiable attributes  \n",
       "0   None        True         {}  "
      ]
     },
     "metadata": {},
     "output_type": "display_data"
    }
   ],
   "source": [
    "# Now, query all\n",
    "h.query_all_nodes(0)"
   ]
  },
  {
   "cell_type": "markdown",
   "id": "2314ff4f",
   "metadata": {},
   "source": [
    "### Print to PDF:\n",
    "* \"Print to PDF\" is used for printing any instrument with a specific format."
   ]
  },
  {
   "cell_type": "code",
   "execution_count": 95,
   "id": "3f111b04",
   "metadata": {},
   "outputs": [
    {
     "name": "stderr",
     "output_type": "stream",
     "text": [
      " 19-05 13:08:24 | \u001b[32mI\u001b[0m | \u001b[32mhttp://localhost:9009?data={\"name\": \"R3 Hackathon 2022\", \"owner\": \"CN=Bob, OU=Test Dept, O=R3, L=London, C=GB\", \"issuer\": \"CN=Authority, OU=Test Dept, O=R3, L=London, C=GB\", \"quantity\": null, \"transferable\": false, \"expiry\": null, \"verifiable\": true, \"attributes\": {\"Project\": \"Corda 4\", \"Year\": \"2022\"}}\u001b[0m\n",
      " 19-05 13:08:27 | \u001b[32mI\u001b[0m | \u001b[32mTime taken = 0:00:07.470930\u001b[0m\n"
     ]
    },
    {
     "data": {
      "text/plain": [
       "'/tmp/report_1648be37-1645-456d-8ead-2298f69a57a4.pdf'"
      ]
     },
     "execution_count": 95,
     "metadata": {},
     "output_type": "execute_result"
    }
   ],
   "source": [
    "# Print to PDF Test 1 -- Print by Holder\n",
    "# Expected -- Succeed\n",
    "h.print_to_pdf('Bob', '1648be37-1645-456d-8ead-2298f69a57a4', query=None, show=False)"
   ]
  },
  {
   "cell_type": "code",
   "execution_count": 96,
   "id": "f7b372b1",
   "metadata": {},
   "outputs": [
    {
     "name": "stderr",
     "output_type": "stream",
     "text": [
      " 19-05 13:08:46 | \u001b[32mI\u001b[0m | \u001b[32mhttp://localhost:9009?data={\"name\": \"R3 Hackathon 2022\", \"owner\": \"CN=Bob, OU=Test Dept, O=R3, L=London, C=GB\", \"issuer\": \"CN=Authority, OU=Test Dept, O=R3, L=London, C=GB\", \"quantity\": NaN, \"transferable\": false, \"expiry\": null, \"verifiable\": true, \"attributes\": {\"Project\": \"Corda 4\", \"Year\": \"2022\"}}\u001b[0m\n",
      " 19-05 13:08:49 | \u001b[32mI\u001b[0m | \u001b[32mTime taken = 0:00:07.287028\u001b[0m\n"
     ]
    },
    {
     "data": {
      "text/plain": [
       "'/tmp/report_1648be37-1645-456d-8ead-2298f69a57a4.pdf'"
      ]
     },
     "execution_count": 96,
     "metadata": {},
     "output_type": "execute_result"
    }
   ],
   "source": [
    "# Print to PDF Test 2 -- Print by Issuer\n",
    "# Expected -- Succeed\n",
    "h.print_to_pdf('Authority', '1648be37-1645-456d-8ead-2298f69a57a4', query=None, show=False)"
   ]
  },
  {
   "cell_type": "code",
   "execution_count": 97,
   "id": "9cee1201",
   "metadata": {},
   "outputs": [
    {
     "name": "stderr",
     "output_type": "stream",
     "text": [
      " 19-05 13:09:04 | \u001b[31mE\u001b[0m | \u001b[31mdata matching id='1648be37-1645-456d-8ead-2298f69a57a4' in 'Alice' is of length='0'. Expected length is exactly 1.\u001b[0m\n"
     ]
    }
   ],
   "source": [
    "# Print to PDF Test 3 -- Print by Non Holder\n",
    "# Expected -- Failure\n",
    "h.print_to_pdf('Alice', '1648be37-1645-456d-8ead-2298f69a57a4', query=None, show=False)"
   ]
  },
  {
   "cell_type": "code",
   "execution_count": null,
   "id": "9972c70b",
   "metadata": {},
   "outputs": [],
   "source": []
  },
  {
   "cell_type": "code",
   "execution_count": null,
   "id": "9850dc8c",
   "metadata": {},
   "outputs": [],
   "source": []
  },
  {
   "cell_type": "code",
   "execution_count": null,
   "id": "2e00f11e",
   "metadata": {},
   "outputs": [],
   "source": []
  },
  {
   "cell_type": "code",
   "execution_count": null,
   "id": "9c1c2e4c",
   "metadata": {},
   "outputs": [],
   "source": []
  },
  {
   "cell_type": "code",
   "execution_count": null,
   "id": "9a8d98a9",
   "metadata": {},
   "outputs": [],
   "source": []
  }
 ],
 "metadata": {
  "celltoolbar": "Edit Metadata",
  "extensions": {
   "jupyter_dashboards": {
    "activeView": "grid_default",
    "version": 1,
    "views": {
     "grid_default": {
      "cellMargin": 10,
      "defaultCellHeight": 20,
      "maxColumns": 12,
      "name": "grid",
      "type": "grid"
     },
     "report_default": {
      "name": "report",
      "type": "report"
     }
    }
   }
  },
  "kernelspec": {
   "display_name": "Python 3 (ipykernel)",
   "language": "python",
   "name": "python3"
  },
  "language_info": {
   "codemirror_mode": {
    "name": "ipython",
    "version": 3
   },
   "file_extension": ".py",
   "mimetype": "text/x-python",
   "name": "python",
   "nbconvert_exporter": "python",
   "pygments_lexer": "ipython3",
   "version": "3.10.9"
  }
 },
 "nbformat": 4,
 "nbformat_minor": 5
}
